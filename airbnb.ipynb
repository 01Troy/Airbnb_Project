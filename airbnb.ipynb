{
  "nbformat": 4,
  "nbformat_minor": 0,
  "metadata": {
    "colab": {
      "provenance": [],
      "collapsed_sections": [],
      "include_colab_link": true
    },
    "kernelspec": {
      "name": "python3",
      "display_name": "Python 3"
    },
    "language_info": {
      "name": "python"
    }
  },
  "cells": [
    {
      "cell_type": "markdown",
      "metadata": {
        "id": "view-in-github",
        "colab_type": "text"
      },
      "source": [
        "<a href=\"https://colab.research.google.com/github/Nickimani/Airbnb_Project/blob/davis-eda/airbnb.ipynb\" target=\"_parent\"><img src=\"https://colab.research.google.com/assets/colab-badge.svg\" alt=\"Open In Colab\"/></a>"
      ]
    },
    {
      "cell_type": "code",
      "source": [
        "from google.colab import drive\n",
        "drive.mount('/content/drive')"
      ],
      "metadata": {
        "colab": {
          "base_uri": "https://localhost:8080/"
        },
        "id": "J-f17zv8O17l",
        "outputId": "db2ee4ff-3143-43c7-f466-1ec30ac76ab7"
      },
      "execution_count": 2,
      "outputs": [
        {
          "output_type": "stream",
          "name": "stdout",
          "text": [
            "Mounted at /content/drive\n"
          ]
        }
      ]
    },
    {
      "cell_type": "code",
      "execution_count": 3,
      "metadata": {
        "id": "Y_1um1JfK6CJ"
      },
      "outputs": [],
      "source": [
        "import pandas as pd\n",
        "import numpy as np\n",
        "import seaborn as sns\n",
        "import matplotlib.pyplot as plt\n",
        "\n",
        "# Reverse geoencoder\n",
        "!pip install reverse_geocoder\n",
        "import reverse_geocoder as rg\n",
        "\n",
        "\n",
        "%matplotlib inline"
      ]
    },
    {
      "cell_type": "code",
      "source": [
        "listings_df = pd.read_csv('/content/drive/Shareddrives/CapStone/Data/listings.csv')\n",
        "reviews_df = pd.read_csv('/content/drive/Shareddrives/CapStone/Data/reviews.csv')\n",
        "metadata_df = pd.read_csv('/content/drive/Shareddrives/CapStone/Data/data_dictionary.csv')"
      ],
      "metadata": {
        "id": "WnbKzUxZQPPH"
      },
      "execution_count": 4,
      "outputs": []
    },
    {
      "cell_type": "code",
      "source": [
        "# listings df\n",
        "\n",
        "print('Listings dataframe shape: ',listings_df.shape)\n",
        "print('-'*100)\n",
        "print(listings_df.info())"
      ],
      "metadata": {
        "colab": {
          "base_uri": "https://localhost:8080/"
        },
        "id": "3Ttlb-ZoS3Fg",
        "outputId": "9c6f6d45-00a3-453b-ea7e-f7c9dc07d706"
      },
      "execution_count": 5,
      "outputs": [
        {
          "output_type": "stream",
          "name": "stdout",
          "text": [
            "Listings dataframe shape:  (18903, 74)\n",
            "----------------------------------------------------------------------------------------------------\n",
            "<class 'pandas.core.frame.DataFrame'>\n",
            "RangeIndex: 18903 entries, 0 to 18902\n",
            "Data columns (total 74 columns):\n",
            " #   Column                                        Non-Null Count  Dtype  \n",
            "---  ------                                        --------------  -----  \n",
            " 0   id                                            18903 non-null  int64  \n",
            " 1   listing_url                                   18903 non-null  object \n",
            " 2   scrape_id                                     18903 non-null  int64  \n",
            " 3   last_scraped                                  18903 non-null  object \n",
            " 4   name                                          18903 non-null  object \n",
            " 5   description                                   18560 non-null  object \n",
            " 6   neighborhood_overview                         11610 non-null  object \n",
            " 7   picture_url                                   18903 non-null  object \n",
            " 8   host_id                                       18903 non-null  int64  \n",
            " 9   host_url                                      18903 non-null  object \n",
            " 10  host_name                                     18902 non-null  object \n",
            " 11  host_since                                    18902 non-null  object \n",
            " 12  host_location                                 18812 non-null  object \n",
            " 13  host_about                                    10329 non-null  object \n",
            " 14  host_response_time                            14710 non-null  object \n",
            " 15  host_response_rate                            14710 non-null  object \n",
            " 16  host_acceptance_rate                          16542 non-null  object \n",
            " 17  host_is_superhost                             18902 non-null  object \n",
            " 18  host_thumbnail_url                            18902 non-null  object \n",
            " 19  host_picture_url                              18902 non-null  object \n",
            " 20  host_neighbourhood                            515 non-null    object \n",
            " 21  host_listings_count                           18902 non-null  float64\n",
            " 22  host_total_listings_count                     18902 non-null  float64\n",
            " 23  host_verifications                            18903 non-null  object \n",
            " 24  host_has_profile_pic                          18902 non-null  object \n",
            " 25  host_identity_verified                        18902 non-null  object \n",
            " 26  neighbourhood                                 11610 non-null  object \n",
            " 27  neighbourhood_cleansed                        18903 non-null  object \n",
            " 28  neighbourhood_group_cleansed                  0 non-null      float64\n",
            " 29  latitude                                      18903 non-null  float64\n",
            " 30  longitude                                     18903 non-null  float64\n",
            " 31  property_type                                 18903 non-null  object \n",
            " 32  room_type                                     18903 non-null  object \n",
            " 33  accommodates                                  18903 non-null  int64  \n",
            " 34  bathrooms                                     0 non-null      float64\n",
            " 35  bathrooms_text                                18862 non-null  object \n",
            " 36  bedrooms                                      17714 non-null  float64\n",
            " 37  beds                                          18619 non-null  float64\n",
            " 38  amenities                                     18903 non-null  object \n",
            " 39  price                                         18903 non-null  object \n",
            " 40  minimum_nights                                18903 non-null  int64  \n",
            " 41  maximum_nights                                18903 non-null  int64  \n",
            " 42  minimum_minimum_nights                        18903 non-null  int64  \n",
            " 43  maximum_minimum_nights                        18903 non-null  int64  \n",
            " 44  minimum_maximum_nights                        18903 non-null  int64  \n",
            " 45  maximum_maximum_nights                        18903 non-null  int64  \n",
            " 46  minimum_nights_avg_ntm                        18903 non-null  float64\n",
            " 47  maximum_nights_avg_ntm                        18903 non-null  float64\n",
            " 48  calendar_updated                              0 non-null      float64\n",
            " 49  has_availability                              18903 non-null  object \n",
            " 50  availability_30                               18903 non-null  int64  \n",
            " 51  availability_60                               18903 non-null  int64  \n",
            " 52  availability_90                               18903 non-null  int64  \n",
            " 53  availability_365                              18903 non-null  int64  \n",
            " 54  calendar_last_scraped                         18903 non-null  object \n",
            " 55  number_of_reviews                             18903 non-null  int64  \n",
            " 56  number_of_reviews_ltm                         18903 non-null  int64  \n",
            " 57  number_of_reviews_l30d                        18903 non-null  int64  \n",
            " 58  first_review                                  13760 non-null  object \n",
            " 59  last_review                                   13760 non-null  object \n",
            " 60  review_scores_rating                          13760 non-null  float64\n",
            " 61  review_scores_accuracy                        13607 non-null  float64\n",
            " 62  review_scores_cleanliness                     13608 non-null  float64\n",
            " 63  review_scores_checkin                         13604 non-null  float64\n",
            " 64  review_scores_communication                   13607 non-null  float64\n",
            " 65  review_scores_location                        13604 non-null  float64\n",
            " 66  review_scores_value                           13604 non-null  float64\n",
            " 67  license                                       0 non-null      float64\n",
            " 68  instant_bookable                              18903 non-null  object \n",
            " 69  calculated_host_listings_count                18903 non-null  int64  \n",
            " 70  calculated_host_listings_count_entire_homes   18903 non-null  int64  \n",
            " 71  calculated_host_listings_count_private_rooms  18903 non-null  int64  \n",
            " 72  calculated_host_listings_count_shared_rooms   18903 non-null  int64  \n",
            " 73  reviews_per_month                             13760 non-null  float64\n",
            "dtypes: float64(20), int64(21), object(33)\n",
            "memory usage: 10.7+ MB\n",
            "None\n"
          ]
        }
      ]
    },
    {
      "cell_type": "code",
      "source": [
        "null_counts = (listings_df.isna().sum() / len(listings_df)) * 100\n",
        "null_counts[null_counts > .1]"
      ],
      "metadata": {
        "colab": {
          "base_uri": "https://localhost:8080/"
        },
        "id": "Ww2wRP58TWlY",
        "outputId": "726b7d9a-0e11-4cc9-be08-cac45f604bb6"
      },
      "execution_count": 6,
      "outputs": [
        {
          "output_type": "execute_result",
          "data": {
            "text/plain": [
              "description                       1.814527\n",
              "neighborhood_overview            38.581178\n",
              "host_location                     0.481405\n",
              "host_about                       45.357880\n",
              "host_response_time               22.181664\n",
              "host_response_rate               22.181664\n",
              "host_acceptance_rate             12.490081\n",
              "host_neighbourhood               97.275565\n",
              "neighbourhood                    38.581178\n",
              "neighbourhood_group_cleansed    100.000000\n",
              "bathrooms                       100.000000\n",
              "bathrooms_text                    0.216897\n",
              "bedrooms                          6.290007\n",
              "beds                              1.502407\n",
              "calendar_updated                100.000000\n",
              "first_review                     27.207322\n",
              "last_review                      27.207322\n",
              "review_scores_rating             27.207322\n",
              "review_scores_accuracy           28.016717\n",
              "review_scores_cleanliness        28.011427\n",
              "review_scores_checkin            28.032587\n",
              "review_scores_communication      28.016717\n",
              "review_scores_location           28.032587\n",
              "review_scores_value              28.032587\n",
              "license                         100.000000\n",
              "reviews_per_month                27.207322\n",
              "dtype: float64"
            ]
          },
          "metadata": {},
          "execution_count": 6
        }
      ]
    },
    {
      "cell_type": "code",
      "source": [
        "listings_df.head()"
      ],
      "metadata": {
        "colab": {
          "base_uri": "https://localhost:8080/",
          "height": 629
        },
        "id": "Qvol966IR9vl",
        "outputId": "31033524-73a8-42c2-dfdd-fbd271970cab"
      },
      "execution_count": 7,
      "outputs": [
        {
          "output_type": "execute_result",
          "data": {
            "text/plain": [
              "         id                            listing_url       scrape_id  \\\n",
              "0  30332317  https://www.airbnb.com/rooms/30332317  20220622004134   \n",
              "1   9126484   https://www.airbnb.com/rooms/9126484  20220622004134   \n",
              "2  44482125  https://www.airbnb.com/rooms/44482125  20220622004134   \n",
              "3  12105523  https://www.airbnb.com/rooms/12105523  20220622004134   \n",
              "4  14921766  https://www.airbnb.com/rooms/14921766  20220622004134   \n",
              "\n",
              "  last_scraped                                            name  \\\n",
              "0   2022-06-22                               Riverside cottage   \n",
              "1   2022-06-22                        Jubilee Square Apartment   \n",
              "2   2022-06-22                                  Willow Cottage   \n",
              "3   2022-06-22                                       Bush Room   \n",
              "4   2022-06-22  Seabiscuit Farm Cottage with spectacular views   \n",
              "\n",
              "                                         description  \\\n",
              "0  Riverside cottage is a comfortable unit with v...   \n",
              "1  Comfortably furnished 1st floor 2 bedroom apar...   \n",
              "2  Willow cottage overlooks our rose gardens and ...   \n",
              "3  This room is our biggest value for money room....   \n",
              "4  My place is close to the beach, the airport, f...   \n",
              "\n",
              "                               neighborhood_overview  \\\n",
              "0                                                NaN   \n",
              "1  The apartment is situated on the main street d...   \n",
              "2                                                NaN   \n",
              "3                                                NaN   \n",
              "4                                                NaN   \n",
              "\n",
              "                                         picture_url   host_id  \\\n",
              "0  https://a0.muscache.com/pictures/miso/Hosting-...  98554302   \n",
              "1  https://a0.muscache.com/pictures/59939b2c-967a...   3410651   \n",
              "2  https://a0.muscache.com/pictures/miso/Hosting-...  98554302   \n",
              "3  https://a0.muscache.com/pictures/939c54ec-4869...  58287766   \n",
              "4  https://a0.muscache.com/pictures/0c24410a-c3d8...  58287766   \n",
              "\n",
              "                                     host_url  ...  \\\n",
              "0  https://www.airbnb.com/users/show/98554302  ...   \n",
              "1   https://www.airbnb.com/users/show/3410651  ...   \n",
              "2  https://www.airbnb.com/users/show/98554302  ...   \n",
              "3  https://www.airbnb.com/users/show/58287766  ...   \n",
              "4  https://www.airbnb.com/users/show/58287766  ...   \n",
              "\n",
              "  review_scores_communication review_scores_location review_scores_value  \\\n",
              "0                         5.0                   5.00                 5.0   \n",
              "1                         5.0                   4.93                 5.0   \n",
              "2                         NaN                    NaN                 NaN   \n",
              "3                         NaN                    NaN                 NaN   \n",
              "4                         5.0                   5.00                 5.0   \n",
              "\n",
              "  license instant_bookable calculated_host_listings_count  \\\n",
              "0     NaN                t                              7   \n",
              "1     NaN                f                              1   \n",
              "2     NaN                t                              7   \n",
              "3     NaN                t                              5   \n",
              "4     NaN                t                              5   \n",
              "\n",
              "  calculated_host_listings_count_entire_homes  \\\n",
              "0                                           7   \n",
              "1                                           1   \n",
              "2                                           7   \n",
              "3                                           5   \n",
              "4                                           5   \n",
              "\n",
              "  calculated_host_listings_count_private_rooms  \\\n",
              "0                                            0   \n",
              "1                                            0   \n",
              "2                                            0   \n",
              "3                                            0   \n",
              "4                                            0   \n",
              "\n",
              "  calculated_host_listings_count_shared_rooms reviews_per_month  \n",
              "0                                           0              0.07  \n",
              "1                                           0              0.19  \n",
              "2                                           0               NaN  \n",
              "3                                           0               NaN  \n",
              "4                                           0              0.02  \n",
              "\n",
              "[5 rows x 74 columns]"
            ],
            "text/html": [
              "\n",
              "  <div id=\"df-0fe19b65-893c-4a5e-b531-752afeceaa12\">\n",
              "    <div class=\"colab-df-container\">\n",
              "      <div>\n",
              "<style scoped>\n",
              "    .dataframe tbody tr th:only-of-type {\n",
              "        vertical-align: middle;\n",
              "    }\n",
              "\n",
              "    .dataframe tbody tr th {\n",
              "        vertical-align: top;\n",
              "    }\n",
              "\n",
              "    .dataframe thead th {\n",
              "        text-align: right;\n",
              "    }\n",
              "</style>\n",
              "<table border=\"1\" class=\"dataframe\">\n",
              "  <thead>\n",
              "    <tr style=\"text-align: right;\">\n",
              "      <th></th>\n",
              "      <th>id</th>\n",
              "      <th>listing_url</th>\n",
              "      <th>scrape_id</th>\n",
              "      <th>last_scraped</th>\n",
              "      <th>name</th>\n",
              "      <th>description</th>\n",
              "      <th>neighborhood_overview</th>\n",
              "      <th>picture_url</th>\n",
              "      <th>host_id</th>\n",
              "      <th>host_url</th>\n",
              "      <th>...</th>\n",
              "      <th>review_scores_communication</th>\n",
              "      <th>review_scores_location</th>\n",
              "      <th>review_scores_value</th>\n",
              "      <th>license</th>\n",
              "      <th>instant_bookable</th>\n",
              "      <th>calculated_host_listings_count</th>\n",
              "      <th>calculated_host_listings_count_entire_homes</th>\n",
              "      <th>calculated_host_listings_count_private_rooms</th>\n",
              "      <th>calculated_host_listings_count_shared_rooms</th>\n",
              "      <th>reviews_per_month</th>\n",
              "    </tr>\n",
              "  </thead>\n",
              "  <tbody>\n",
              "    <tr>\n",
              "      <th>0</th>\n",
              "      <td>30332317</td>\n",
              "      <td>https://www.airbnb.com/rooms/30332317</td>\n",
              "      <td>20220622004134</td>\n",
              "      <td>2022-06-22</td>\n",
              "      <td>Riverside cottage</td>\n",
              "      <td>Riverside cottage is a comfortable unit with v...</td>\n",
              "      <td>NaN</td>\n",
              "      <td>https://a0.muscache.com/pictures/miso/Hosting-...</td>\n",
              "      <td>98554302</td>\n",
              "      <td>https://www.airbnb.com/users/show/98554302</td>\n",
              "      <td>...</td>\n",
              "      <td>5.0</td>\n",
              "      <td>5.00</td>\n",
              "      <td>5.0</td>\n",
              "      <td>NaN</td>\n",
              "      <td>t</td>\n",
              "      <td>7</td>\n",
              "      <td>7</td>\n",
              "      <td>0</td>\n",
              "      <td>0</td>\n",
              "      <td>0.07</td>\n",
              "    </tr>\n",
              "    <tr>\n",
              "      <th>1</th>\n",
              "      <td>9126484</td>\n",
              "      <td>https://www.airbnb.com/rooms/9126484</td>\n",
              "      <td>20220622004134</td>\n",
              "      <td>2022-06-22</td>\n",
              "      <td>Jubilee Square Apartment</td>\n",
              "      <td>Comfortably furnished 1st floor 2 bedroom apar...</td>\n",
              "      <td>The apartment is situated on the main street d...</td>\n",
              "      <td>https://a0.muscache.com/pictures/59939b2c-967a...</td>\n",
              "      <td>3410651</td>\n",
              "      <td>https://www.airbnb.com/users/show/3410651</td>\n",
              "      <td>...</td>\n",
              "      <td>5.0</td>\n",
              "      <td>4.93</td>\n",
              "      <td>5.0</td>\n",
              "      <td>NaN</td>\n",
              "      <td>f</td>\n",
              "      <td>1</td>\n",
              "      <td>1</td>\n",
              "      <td>0</td>\n",
              "      <td>0</td>\n",
              "      <td>0.19</td>\n",
              "    </tr>\n",
              "    <tr>\n",
              "      <th>2</th>\n",
              "      <td>44482125</td>\n",
              "      <td>https://www.airbnb.com/rooms/44482125</td>\n",
              "      <td>20220622004134</td>\n",
              "      <td>2022-06-22</td>\n",
              "      <td>Willow Cottage</td>\n",
              "      <td>Willow cottage overlooks our rose gardens and ...</td>\n",
              "      <td>NaN</td>\n",
              "      <td>https://a0.muscache.com/pictures/miso/Hosting-...</td>\n",
              "      <td>98554302</td>\n",
              "      <td>https://www.airbnb.com/users/show/98554302</td>\n",
              "      <td>...</td>\n",
              "      <td>NaN</td>\n",
              "      <td>NaN</td>\n",
              "      <td>NaN</td>\n",
              "      <td>NaN</td>\n",
              "      <td>t</td>\n",
              "      <td>7</td>\n",
              "      <td>7</td>\n",
              "      <td>0</td>\n",
              "      <td>0</td>\n",
              "      <td>NaN</td>\n",
              "    </tr>\n",
              "    <tr>\n",
              "      <th>3</th>\n",
              "      <td>12105523</td>\n",
              "      <td>https://www.airbnb.com/rooms/12105523</td>\n",
              "      <td>20220622004134</td>\n",
              "      <td>2022-06-22</td>\n",
              "      <td>Bush Room</td>\n",
              "      <td>This room is our biggest value for money room....</td>\n",
              "      <td>NaN</td>\n",
              "      <td>https://a0.muscache.com/pictures/939c54ec-4869...</td>\n",
              "      <td>58287766</td>\n",
              "      <td>https://www.airbnb.com/users/show/58287766</td>\n",
              "      <td>...</td>\n",
              "      <td>NaN</td>\n",
              "      <td>NaN</td>\n",
              "      <td>NaN</td>\n",
              "      <td>NaN</td>\n",
              "      <td>t</td>\n",
              "      <td>5</td>\n",
              "      <td>5</td>\n",
              "      <td>0</td>\n",
              "      <td>0</td>\n",
              "      <td>NaN</td>\n",
              "    </tr>\n",
              "    <tr>\n",
              "      <th>4</th>\n",
              "      <td>14921766</td>\n",
              "      <td>https://www.airbnb.com/rooms/14921766</td>\n",
              "      <td>20220622004134</td>\n",
              "      <td>2022-06-22</td>\n",
              "      <td>Seabiscuit Farm Cottage with spectacular views</td>\n",
              "      <td>My place is close to the beach, the airport, f...</td>\n",
              "      <td>NaN</td>\n",
              "      <td>https://a0.muscache.com/pictures/0c24410a-c3d8...</td>\n",
              "      <td>58287766</td>\n",
              "      <td>https://www.airbnb.com/users/show/58287766</td>\n",
              "      <td>...</td>\n",
              "      <td>5.0</td>\n",
              "      <td>5.00</td>\n",
              "      <td>5.0</td>\n",
              "      <td>NaN</td>\n",
              "      <td>t</td>\n",
              "      <td>5</td>\n",
              "      <td>5</td>\n",
              "      <td>0</td>\n",
              "      <td>0</td>\n",
              "      <td>0.02</td>\n",
              "    </tr>\n",
              "  </tbody>\n",
              "</table>\n",
              "<p>5 rows × 74 columns</p>\n",
              "</div>\n",
              "      <button class=\"colab-df-convert\" onclick=\"convertToInteractive('df-0fe19b65-893c-4a5e-b531-752afeceaa12')\"\n",
              "              title=\"Convert this dataframe to an interactive table.\"\n",
              "              style=\"display:none;\">\n",
              "        \n",
              "  <svg xmlns=\"http://www.w3.org/2000/svg\" height=\"24px\"viewBox=\"0 0 24 24\"\n",
              "       width=\"24px\">\n",
              "    <path d=\"M0 0h24v24H0V0z\" fill=\"none\"/>\n",
              "    <path d=\"M18.56 5.44l.94 2.06.94-2.06 2.06-.94-2.06-.94-.94-2.06-.94 2.06-2.06.94zm-11 1L8.5 8.5l.94-2.06 2.06-.94-2.06-.94L8.5 2.5l-.94 2.06-2.06.94zm10 10l.94 2.06.94-2.06 2.06-.94-2.06-.94-.94-2.06-.94 2.06-2.06.94z\"/><path d=\"M17.41 7.96l-1.37-1.37c-.4-.4-.92-.59-1.43-.59-.52 0-1.04.2-1.43.59L10.3 9.45l-7.72 7.72c-.78.78-.78 2.05 0 2.83L4 21.41c.39.39.9.59 1.41.59.51 0 1.02-.2 1.41-.59l7.78-7.78 2.81-2.81c.8-.78.8-2.07 0-2.86zM5.41 20L4 18.59l7.72-7.72 1.47 1.35L5.41 20z\"/>\n",
              "  </svg>\n",
              "      </button>\n",
              "      \n",
              "  <style>\n",
              "    .colab-df-container {\n",
              "      display:flex;\n",
              "      flex-wrap:wrap;\n",
              "      gap: 12px;\n",
              "    }\n",
              "\n",
              "    .colab-df-convert {\n",
              "      background-color: #E8F0FE;\n",
              "      border: none;\n",
              "      border-radius: 50%;\n",
              "      cursor: pointer;\n",
              "      display: none;\n",
              "      fill: #1967D2;\n",
              "      height: 32px;\n",
              "      padding: 0 0 0 0;\n",
              "      width: 32px;\n",
              "    }\n",
              "\n",
              "    .colab-df-convert:hover {\n",
              "      background-color: #E2EBFA;\n",
              "      box-shadow: 0px 1px 2px rgba(60, 64, 67, 0.3), 0px 1px 3px 1px rgba(60, 64, 67, 0.15);\n",
              "      fill: #174EA6;\n",
              "    }\n",
              "\n",
              "    [theme=dark] .colab-df-convert {\n",
              "      background-color: #3B4455;\n",
              "      fill: #D2E3FC;\n",
              "    }\n",
              "\n",
              "    [theme=dark] .colab-df-convert:hover {\n",
              "      background-color: #434B5C;\n",
              "      box-shadow: 0px 1px 3px 1px rgba(0, 0, 0, 0.15);\n",
              "      filter: drop-shadow(0px 1px 2px rgba(0, 0, 0, 0.3));\n",
              "      fill: #FFFFFF;\n",
              "    }\n",
              "  </style>\n",
              "\n",
              "      <script>\n",
              "        const buttonEl =\n",
              "          document.querySelector('#df-0fe19b65-893c-4a5e-b531-752afeceaa12 button.colab-df-convert');\n",
              "        buttonEl.style.display =\n",
              "          google.colab.kernel.accessAllowed ? 'block' : 'none';\n",
              "\n",
              "        async function convertToInteractive(key) {\n",
              "          const element = document.querySelector('#df-0fe19b65-893c-4a5e-b531-752afeceaa12');\n",
              "          const dataTable =\n",
              "            await google.colab.kernel.invokeFunction('convertToInteractive',\n",
              "                                                     [key], {});\n",
              "          if (!dataTable) return;\n",
              "\n",
              "          const docLinkHtml = 'Like what you see? Visit the ' +\n",
              "            '<a target=\"_blank\" href=https://colab.research.google.com/notebooks/data_table.ipynb>data table notebook</a>'\n",
              "            + ' to learn more about interactive tables.';\n",
              "          element.innerHTML = '';\n",
              "          dataTable['output_type'] = 'display_data';\n",
              "          await google.colab.output.renderOutput(dataTable, element);\n",
              "          const docLink = document.createElement('div');\n",
              "          docLink.innerHTML = docLinkHtml;\n",
              "          element.appendChild(docLink);\n",
              "        }\n",
              "      </script>\n",
              "    </div>\n",
              "  </div>\n",
              "  "
            ]
          },
          "metadata": {},
          "execution_count": 7
        }
      ]
    },
    {
      "cell_type": "code",
      "source": [],
      "metadata": {
        "id": "7ORTiM7cSrel"
      },
      "execution_count": 7,
      "outputs": []
    },
    {
      "cell_type": "code",
      "source": [
        "# reviews df\n",
        "print('Reviews dataframe shape: ', reviews_df.shape)\n",
        "print('')\n",
        "reviews_df.info()"
      ],
      "metadata": {
        "colab": {
          "base_uri": "https://localhost:8080/"
        },
        "id": "EZ7rvxZzSrTX",
        "outputId": "faa98158-14a2-4c5c-ea60-01601ea70395"
      },
      "execution_count": 8,
      "outputs": [
        {
          "output_type": "stream",
          "name": "stdout",
          "text": [
            "Reviews dataframe shape:  (363065, 6)\n",
            "\n",
            "<class 'pandas.core.frame.DataFrame'>\n",
            "RangeIndex: 363065 entries, 0 to 363064\n",
            "Data columns (total 6 columns):\n",
            " #   Column         Non-Null Count   Dtype \n",
            "---  ------         --------------   ----- \n",
            " 0   listing_id     363065 non-null  int64 \n",
            " 1   id             363065 non-null  int64 \n",
            " 2   date           363065 non-null  object\n",
            " 3   reviewer_id    363065 non-null  int64 \n",
            " 4   reviewer_name  363065 non-null  object\n",
            " 5   comments       363018 non-null  object\n",
            "dtypes: int64(3), object(3)\n",
            "memory usage: 16.6+ MB\n"
          ]
        }
      ]
    },
    {
      "cell_type": "code",
      "source": [
        "reviews_df.isna().sum()"
      ],
      "metadata": {
        "colab": {
          "base_uri": "https://localhost:8080/"
        },
        "id": "XAMwEezUSrOu",
        "outputId": "9cd25c63-43db-43a5-ea86-3d90f0db235a"
      },
      "execution_count": 9,
      "outputs": [
        {
          "output_type": "execute_result",
          "data": {
            "text/plain": [
              "listing_id        0\n",
              "id                0\n",
              "date              0\n",
              "reviewer_id       0\n",
              "reviewer_name     0\n",
              "comments         47\n",
              "dtype: int64"
            ]
          },
          "metadata": {},
          "execution_count": 9
        }
      ]
    },
    {
      "cell_type": "code",
      "source": [
        "reviews_df.head()"
      ],
      "metadata": {
        "colab": {
          "base_uri": "https://localhost:8080/",
          "height": 206
        },
        "id": "dA5JhGD5jKOt",
        "outputId": "53260da4-4ec7-4364-c540-db68414fc391"
      },
      "execution_count": 10,
      "outputs": [
        {
          "output_type": "execute_result",
          "data": {
            "text/plain": [
              "   listing_id                  id        date  reviewer_id reviewer_name  \\\n",
              "0    30332317           597314314  2020-01-25      7812767          Alan   \n",
              "1    30332317  532436007654450454  2022-01-04    367340518      Courtney   \n",
              "2     9126484            63063726  2016-02-20     50272994         Carla   \n",
              "3     9126484            67195563  2016-03-27     59937103           Gau   \n",
              "4     9126484            68077701  2016-04-02     19226497          Imke   \n",
              "\n",
              "                                            comments  \n",
              "0  Lovely rustic accommodation in a picturesque r...  \n",
              "1  The hosts are friendly and takes good care of ...  \n",
              "2  6 St Georges Building was lovely in every way....  \n",
              "3  Our host Bruce was great. Responsive, helpful ...  \n",
              "4  Bruce was incredibly welcoming and very flexib...  "
            ],
            "text/html": [
              "\n",
              "  <div id=\"df-9885a61e-411b-4775-9b79-6921986d60be\">\n",
              "    <div class=\"colab-df-container\">\n",
              "      <div>\n",
              "<style scoped>\n",
              "    .dataframe tbody tr th:only-of-type {\n",
              "        vertical-align: middle;\n",
              "    }\n",
              "\n",
              "    .dataframe tbody tr th {\n",
              "        vertical-align: top;\n",
              "    }\n",
              "\n",
              "    .dataframe thead th {\n",
              "        text-align: right;\n",
              "    }\n",
              "</style>\n",
              "<table border=\"1\" class=\"dataframe\">\n",
              "  <thead>\n",
              "    <tr style=\"text-align: right;\">\n",
              "      <th></th>\n",
              "      <th>listing_id</th>\n",
              "      <th>id</th>\n",
              "      <th>date</th>\n",
              "      <th>reviewer_id</th>\n",
              "      <th>reviewer_name</th>\n",
              "      <th>comments</th>\n",
              "    </tr>\n",
              "  </thead>\n",
              "  <tbody>\n",
              "    <tr>\n",
              "      <th>0</th>\n",
              "      <td>30332317</td>\n",
              "      <td>597314314</td>\n",
              "      <td>2020-01-25</td>\n",
              "      <td>7812767</td>\n",
              "      <td>Alan</td>\n",
              "      <td>Lovely rustic accommodation in a picturesque r...</td>\n",
              "    </tr>\n",
              "    <tr>\n",
              "      <th>1</th>\n",
              "      <td>30332317</td>\n",
              "      <td>532436007654450454</td>\n",
              "      <td>2022-01-04</td>\n",
              "      <td>367340518</td>\n",
              "      <td>Courtney</td>\n",
              "      <td>The hosts are friendly and takes good care of ...</td>\n",
              "    </tr>\n",
              "    <tr>\n",
              "      <th>2</th>\n",
              "      <td>9126484</td>\n",
              "      <td>63063726</td>\n",
              "      <td>2016-02-20</td>\n",
              "      <td>50272994</td>\n",
              "      <td>Carla</td>\n",
              "      <td>6 St Georges Building was lovely in every way....</td>\n",
              "    </tr>\n",
              "    <tr>\n",
              "      <th>3</th>\n",
              "      <td>9126484</td>\n",
              "      <td>67195563</td>\n",
              "      <td>2016-03-27</td>\n",
              "      <td>59937103</td>\n",
              "      <td>Gau</td>\n",
              "      <td>Our host Bruce was great. Responsive, helpful ...</td>\n",
              "    </tr>\n",
              "    <tr>\n",
              "      <th>4</th>\n",
              "      <td>9126484</td>\n",
              "      <td>68077701</td>\n",
              "      <td>2016-04-02</td>\n",
              "      <td>19226497</td>\n",
              "      <td>Imke</td>\n",
              "      <td>Bruce was incredibly welcoming and very flexib...</td>\n",
              "    </tr>\n",
              "  </tbody>\n",
              "</table>\n",
              "</div>\n",
              "      <button class=\"colab-df-convert\" onclick=\"convertToInteractive('df-9885a61e-411b-4775-9b79-6921986d60be')\"\n",
              "              title=\"Convert this dataframe to an interactive table.\"\n",
              "              style=\"display:none;\">\n",
              "        \n",
              "  <svg xmlns=\"http://www.w3.org/2000/svg\" height=\"24px\"viewBox=\"0 0 24 24\"\n",
              "       width=\"24px\">\n",
              "    <path d=\"M0 0h24v24H0V0z\" fill=\"none\"/>\n",
              "    <path d=\"M18.56 5.44l.94 2.06.94-2.06 2.06-.94-2.06-.94-.94-2.06-.94 2.06-2.06.94zm-11 1L8.5 8.5l.94-2.06 2.06-.94-2.06-.94L8.5 2.5l-.94 2.06-2.06.94zm10 10l.94 2.06.94-2.06 2.06-.94-2.06-.94-.94-2.06-.94 2.06-2.06.94z\"/><path d=\"M17.41 7.96l-1.37-1.37c-.4-.4-.92-.59-1.43-.59-.52 0-1.04.2-1.43.59L10.3 9.45l-7.72 7.72c-.78.78-.78 2.05 0 2.83L4 21.41c.39.39.9.59 1.41.59.51 0 1.02-.2 1.41-.59l7.78-7.78 2.81-2.81c.8-.78.8-2.07 0-2.86zM5.41 20L4 18.59l7.72-7.72 1.47 1.35L5.41 20z\"/>\n",
              "  </svg>\n",
              "      </button>\n",
              "      \n",
              "  <style>\n",
              "    .colab-df-container {\n",
              "      display:flex;\n",
              "      flex-wrap:wrap;\n",
              "      gap: 12px;\n",
              "    }\n",
              "\n",
              "    .colab-df-convert {\n",
              "      background-color: #E8F0FE;\n",
              "      border: none;\n",
              "      border-radius: 50%;\n",
              "      cursor: pointer;\n",
              "      display: none;\n",
              "      fill: #1967D2;\n",
              "      height: 32px;\n",
              "      padding: 0 0 0 0;\n",
              "      width: 32px;\n",
              "    }\n",
              "\n",
              "    .colab-df-convert:hover {\n",
              "      background-color: #E2EBFA;\n",
              "      box-shadow: 0px 1px 2px rgba(60, 64, 67, 0.3), 0px 1px 3px 1px rgba(60, 64, 67, 0.15);\n",
              "      fill: #174EA6;\n",
              "    }\n",
              "\n",
              "    [theme=dark] .colab-df-convert {\n",
              "      background-color: #3B4455;\n",
              "      fill: #D2E3FC;\n",
              "    }\n",
              "\n",
              "    [theme=dark] .colab-df-convert:hover {\n",
              "      background-color: #434B5C;\n",
              "      box-shadow: 0px 1px 3px 1px rgba(0, 0, 0, 0.15);\n",
              "      filter: drop-shadow(0px 1px 2px rgba(0, 0, 0, 0.3));\n",
              "      fill: #FFFFFF;\n",
              "    }\n",
              "  </style>\n",
              "\n",
              "      <script>\n",
              "        const buttonEl =\n",
              "          document.querySelector('#df-9885a61e-411b-4775-9b79-6921986d60be button.colab-df-convert');\n",
              "        buttonEl.style.display =\n",
              "          google.colab.kernel.accessAllowed ? 'block' : 'none';\n",
              "\n",
              "        async function convertToInteractive(key) {\n",
              "          const element = document.querySelector('#df-9885a61e-411b-4775-9b79-6921986d60be');\n",
              "          const dataTable =\n",
              "            await google.colab.kernel.invokeFunction('convertToInteractive',\n",
              "                                                     [key], {});\n",
              "          if (!dataTable) return;\n",
              "\n",
              "          const docLinkHtml = 'Like what you see? Visit the ' +\n",
              "            '<a target=\"_blank\" href=https://colab.research.google.com/notebooks/data_table.ipynb>data table notebook</a>'\n",
              "            + ' to learn more about interactive tables.';\n",
              "          element.innerHTML = '';\n",
              "          dataTable['output_type'] = 'display_data';\n",
              "          await google.colab.output.renderOutput(dataTable, element);\n",
              "          const docLink = document.createElement('div');\n",
              "          docLink.innerHTML = docLinkHtml;\n",
              "          element.appendChild(docLink);\n",
              "        }\n",
              "      </script>\n",
              "    </div>\n",
              "  </div>\n",
              "  "
            ]
          },
          "metadata": {},
          "execution_count": 10
        }
      ]
    },
    {
      "cell_type": "code",
      "source": [
        "# id column is the id of the review"
      ],
      "metadata": {
        "id": "uE3lYX8UosyV"
      },
      "execution_count": null,
      "outputs": []
    },
    {
      "cell_type": "code",
      "source": [
        "# price and adjusted price seem to be the same entries"
      ],
      "metadata": {
        "id": "KDYt1fTlxNln"
      },
      "execution_count": null,
      "outputs": []
    },
    {
      "cell_type": "code",
      "source": [],
      "metadata": {
        "id": "pL3aSZa47UhY"
      },
      "execution_count": null,
      "outputs": []
    },
    {
      "cell_type": "markdown",
      "source": [
        "# EDA"
      ],
      "metadata": {
        "id": "80y8n49I9JhI"
      }
    },
    {
      "cell_type": "markdown",
      "source": [
        "## 1. Listings Dataframe"
      ],
      "metadata": {
        "id": "bNJ6kdcd9OG_"
      }
    },
    {
      "cell_type": "code",
      "source": [
        "print('Listings dataFrame shape: ', listings_df.shape)\n",
        "print('')\n",
        "listings_df.info()"
      ],
      "metadata": {
        "colab": {
          "base_uri": "https://localhost:8080/"
        },
        "id": "THqUYnUA7UZF",
        "outputId": "c7a9f16a-7b0e-4c3a-fc3a-96f1f41d8ef0"
      },
      "execution_count": 11,
      "outputs": [
        {
          "output_type": "stream",
          "name": "stdout",
          "text": [
            "Listings dataFrame shape:  (18903, 74)\n",
            "\n",
            "<class 'pandas.core.frame.DataFrame'>\n",
            "RangeIndex: 18903 entries, 0 to 18902\n",
            "Data columns (total 74 columns):\n",
            " #   Column                                        Non-Null Count  Dtype  \n",
            "---  ------                                        --------------  -----  \n",
            " 0   id                                            18903 non-null  int64  \n",
            " 1   listing_url                                   18903 non-null  object \n",
            " 2   scrape_id                                     18903 non-null  int64  \n",
            " 3   last_scraped                                  18903 non-null  object \n",
            " 4   name                                          18903 non-null  object \n",
            " 5   description                                   18560 non-null  object \n",
            " 6   neighborhood_overview                         11610 non-null  object \n",
            " 7   picture_url                                   18903 non-null  object \n",
            " 8   host_id                                       18903 non-null  int64  \n",
            " 9   host_url                                      18903 non-null  object \n",
            " 10  host_name                                     18902 non-null  object \n",
            " 11  host_since                                    18902 non-null  object \n",
            " 12  host_location                                 18812 non-null  object \n",
            " 13  host_about                                    10329 non-null  object \n",
            " 14  host_response_time                            14710 non-null  object \n",
            " 15  host_response_rate                            14710 non-null  object \n",
            " 16  host_acceptance_rate                          16542 non-null  object \n",
            " 17  host_is_superhost                             18902 non-null  object \n",
            " 18  host_thumbnail_url                            18902 non-null  object \n",
            " 19  host_picture_url                              18902 non-null  object \n",
            " 20  host_neighbourhood                            515 non-null    object \n",
            " 21  host_listings_count                           18902 non-null  float64\n",
            " 22  host_total_listings_count                     18902 non-null  float64\n",
            " 23  host_verifications                            18903 non-null  object \n",
            " 24  host_has_profile_pic                          18902 non-null  object \n",
            " 25  host_identity_verified                        18902 non-null  object \n",
            " 26  neighbourhood                                 11610 non-null  object \n",
            " 27  neighbourhood_cleansed                        18903 non-null  object \n",
            " 28  neighbourhood_group_cleansed                  0 non-null      float64\n",
            " 29  latitude                                      18903 non-null  float64\n",
            " 30  longitude                                     18903 non-null  float64\n",
            " 31  property_type                                 18903 non-null  object \n",
            " 32  room_type                                     18903 non-null  object \n",
            " 33  accommodates                                  18903 non-null  int64  \n",
            " 34  bathrooms                                     0 non-null      float64\n",
            " 35  bathrooms_text                                18862 non-null  object \n",
            " 36  bedrooms                                      17714 non-null  float64\n",
            " 37  beds                                          18619 non-null  float64\n",
            " 38  amenities                                     18903 non-null  object \n",
            " 39  price                                         18903 non-null  object \n",
            " 40  minimum_nights                                18903 non-null  int64  \n",
            " 41  maximum_nights                                18903 non-null  int64  \n",
            " 42  minimum_minimum_nights                        18903 non-null  int64  \n",
            " 43  maximum_minimum_nights                        18903 non-null  int64  \n",
            " 44  minimum_maximum_nights                        18903 non-null  int64  \n",
            " 45  maximum_maximum_nights                        18903 non-null  int64  \n",
            " 46  minimum_nights_avg_ntm                        18903 non-null  float64\n",
            " 47  maximum_nights_avg_ntm                        18903 non-null  float64\n",
            " 48  calendar_updated                              0 non-null      float64\n",
            " 49  has_availability                              18903 non-null  object \n",
            " 50  availability_30                               18903 non-null  int64  \n",
            " 51  availability_60                               18903 non-null  int64  \n",
            " 52  availability_90                               18903 non-null  int64  \n",
            " 53  availability_365                              18903 non-null  int64  \n",
            " 54  calendar_last_scraped                         18903 non-null  object \n",
            " 55  number_of_reviews                             18903 non-null  int64  \n",
            " 56  number_of_reviews_ltm                         18903 non-null  int64  \n",
            " 57  number_of_reviews_l30d                        18903 non-null  int64  \n",
            " 58  first_review                                  13760 non-null  object \n",
            " 59  last_review                                   13760 non-null  object \n",
            " 60  review_scores_rating                          13760 non-null  float64\n",
            " 61  review_scores_accuracy                        13607 non-null  float64\n",
            " 62  review_scores_cleanliness                     13608 non-null  float64\n",
            " 63  review_scores_checkin                         13604 non-null  float64\n",
            " 64  review_scores_communication                   13607 non-null  float64\n",
            " 65  review_scores_location                        13604 non-null  float64\n",
            " 66  review_scores_value                           13604 non-null  float64\n",
            " 67  license                                       0 non-null      float64\n",
            " 68  instant_bookable                              18903 non-null  object \n",
            " 69  calculated_host_listings_count                18903 non-null  int64  \n",
            " 70  calculated_host_listings_count_entire_homes   18903 non-null  int64  \n",
            " 71  calculated_host_listings_count_private_rooms  18903 non-null  int64  \n",
            " 72  calculated_host_listings_count_shared_rooms   18903 non-null  int64  \n",
            " 73  reviews_per_month                             13760 non-null  float64\n",
            "dtypes: float64(20), int64(21), object(33)\n",
            "memory usage: 10.7+ MB\n"
          ]
        }
      ]
    },
    {
      "cell_type": "code",
      "source": [
        "listings_df.select_dtypes(include= [\"int64\", \"float64\"]).shape[1]"
      ],
      "metadata": {
        "colab": {
          "base_uri": "https://localhost:8080/"
        },
        "id": "9uver3ox-wfO",
        "outputId": "ef71816b-56eb-4560-b4fa-9ea80091353e"
      },
      "execution_count": 12,
      "outputs": [
        {
          "output_type": "execute_result",
          "data": {
            "text/plain": [
              "41"
            ]
          },
          "metadata": {},
          "execution_count": 12
        }
      ]
    },
    {
      "cell_type": "code",
      "source": [
        "listings_df.select_dtypes(include= \"object\").shape[1]"
      ],
      "metadata": {
        "colab": {
          "base_uri": "https://localhost:8080/"
        },
        "id": "VvQuxVDE_iOx",
        "outputId": "8a4b2d05-d1ee-4344-ef7c-12929517a618"
      },
      "execution_count": 13,
      "outputs": [
        {
          "output_type": "execute_result",
          "data": {
            "text/plain": [
              "33"
            ]
          },
          "metadata": {},
          "execution_count": 13
        }
      ]
    },
    {
      "cell_type": "markdown",
      "source": [
        "The dataFrame has 18903 rows with 74 columns. 41 of the columns are of numeric type and The remaining 33 are of object type."
      ],
      "metadata": {
        "id": "68IGVlk494IJ"
      }
    },
    {
      "cell_type": "code",
      "source": [
        "null_counts[null_counts > 0].sort_values(ascending= False)"
      ],
      "metadata": {
        "colab": {
          "base_uri": "https://localhost:8080/"
        },
        "id": "zM3qVcsfGOgZ",
        "outputId": "d42694da-8536-434f-e709-ac13a7eb19a0"
      },
      "execution_count": 14,
      "outputs": [
        {
          "output_type": "execute_result",
          "data": {
            "text/plain": [
              "neighbourhood_group_cleansed    100.000000\n",
              "license                         100.000000\n",
              "bathrooms                       100.000000\n",
              "calendar_updated                100.000000\n",
              "host_neighbourhood               97.275565\n",
              "host_about                       45.357880\n",
              "neighborhood_overview            38.581178\n",
              "neighbourhood                    38.581178\n",
              "review_scores_checkin            28.032587\n",
              "review_scores_location           28.032587\n",
              "review_scores_value              28.032587\n",
              "review_scores_accuracy           28.016717\n",
              "review_scores_communication      28.016717\n",
              "review_scores_cleanliness        28.011427\n",
              "review_scores_rating             27.207322\n",
              "last_review                      27.207322\n",
              "first_review                     27.207322\n",
              "reviews_per_month                27.207322\n",
              "host_response_time               22.181664\n",
              "host_response_rate               22.181664\n",
              "host_acceptance_rate             12.490081\n",
              "bedrooms                          6.290007\n",
              "description                       1.814527\n",
              "beds                              1.502407\n",
              "host_location                     0.481405\n",
              "bathrooms_text                    0.216897\n",
              "host_name                         0.005290\n",
              "host_since                        0.005290\n",
              "host_identity_verified            0.005290\n",
              "host_is_superhost                 0.005290\n",
              "host_has_profile_pic              0.005290\n",
              "host_picture_url                  0.005290\n",
              "host_listings_count               0.005290\n",
              "host_total_listings_count         0.005290\n",
              "host_thumbnail_url                0.005290\n",
              "dtype: float64"
            ]
          },
          "metadata": {},
          "execution_count": 14
        }
      ]
    },
    {
      "cell_type": "code",
      "source": [
        "print('The number of columns with missing values are: ', len(null_counts[null_counts > 0]))"
      ],
      "metadata": {
        "colab": {
          "base_uri": "https://localhost:8080/"
        },
        "id": "IQ1CtHVx7USy",
        "outputId": "f049f9ed-5e67-4144-b0d3-451209b478b8"
      },
      "execution_count": 15,
      "outputs": [
        {
          "output_type": "stream",
          "name": "stdout",
          "text": [
            "The number of columns with missing values are:  35\n"
          ]
        }
      ]
    },
    {
      "cell_type": "markdown",
      "source": [
        "The columns neighbourhood_group_cleansed, license, bathrooms, calendar_updated and host_neighbourhood have the highest number of missing values with over 95% of the data missing. We don't think there is much we can do with this columns and we will look to drop them."
      ],
      "metadata": {
        "id": "b5rZ6qLjKW3_"
      }
    },
    {
      "cell_type": "markdown",
      "source": [
        "### host_neigbourhood"
      ],
      "metadata": {
        "id": "WLjM1PWTLuS1"
      }
    },
    {
      "cell_type": "code",
      "source": [
        "listings_df['host_neighbourhood'].value_counts()"
      ],
      "metadata": {
        "colab": {
          "base_uri": "https://localhost:8080/"
        },
        "id": "rvGU2PxGwSgQ",
        "outputId": "a47afe49-dbe5-4d8e-9603-e464dfce87fd"
      },
      "execution_count": 16,
      "outputs": [
        {
          "output_type": "execute_result",
          "data": {
            "text/plain": [
              "Gwarinpa                        445\n",
              "Bedford-Stuyvesant               10\n",
              "Quaid Block                       6\n",
              "Wandsworth                        6\n",
              "Al-Wathba North                   4\n",
              "Downtown Vancouver                3\n",
              "Shepherd's Bush                   3\n",
              "Mitte                             2\n",
              "High Riding Estate                2\n",
              "Eastside                          2\n",
              "Chelsea                           2\n",
              "Old Jaffa                         2\n",
              "The West End                      2\n",
              "Knightsbridge                     2\n",
              "Central LA                        1\n",
              "Hackney                           1\n",
              "Westwood Terrace                  1\n",
              "Forest Glade                      1\n",
              "Nice                              1\n",
              "Moabit                            1\n",
              "Stratland Estates                 1\n",
              "Portruan                          1\n",
              "Marylebone                        1\n",
              "Chinatown                         1\n",
              "LB of Barnet                      1\n",
              "Flamingo Vlei                     1\n",
              "Greenwich                         1\n",
              "Jumeirah 3                        1\n",
              "Maxvorstadt                       1\n",
              "Tempelhof                         1\n",
              "Tremé / Lafitte                   1\n",
              "Friedrichshain                    1\n",
              "Dilworth                          1\n",
              "St. Pauli                         1\n",
              "Bethnal Green                     1\n",
              "Józsefváros - District VIII.      1\n",
              "Richmond                          1\n",
              "داماك هيلز                        1\n",
              "Name: host_neighbourhood, dtype: int64"
            ]
          },
          "metadata": {},
          "execution_count": 16
        }
      ]
    },
    {
      "cell_type": "code",
      "source": [
        "dropped = ['neighbourhood_group_cleansed', 'license', 'bathrooms', 'calendar_updated']\n",
        "listings_df.drop(columns= dropped, inplace= True)\n",
        "# host_neigbourhood could be filled using or find musipality reverse_geocording"
      ],
      "metadata": {
        "id": "-UJ-j5WaJ_bq"
      },
      "execution_count": 58,
      "outputs": []
    },
    {
      "cell_type": "code",
      "source": [
        "# filling nan in the host column with Unavailable\n",
        "listings_df['host_about'] = listings_df['host_about'].fillna('unavailable')"
      ],
      "metadata": {
        "id": "XrbupKM_OSvR"
      },
      "execution_count": null,
      "outputs": []
    },
    {
      "cell_type": "code",
      "source": [
        "listings_df['host_about'].unique()"
      ],
      "metadata": {
        "colab": {
          "base_uri": "https://localhost:8080/"
        },
        "id": "p3VZaPRPPToJ",
        "outputId": "23ee15e2-19df-4a99-9d0f-9d144131303c"
      },
      "execution_count": null,
      "outputs": [
        {
          "output_type": "execute_result",
          "data": {
            "text/plain": [
              "array(['unavailable',\n",
              "       \"Hi there, I was born and still live in Cape Town, arguably the most beautiful city in the world. I grew up in Kalk Bay, a small fishing village on the False Bay coast. Simon's Town is only a 15 minute drive away. I enjoy travelling and exploring new places. Looking forward to meeting you soon!\\nCheers Bruce\",\n",
              "       'Hi, I am an American lady who has lived in Zimbabwe and South Africa for the last 22 years. I live in a large home on a flower farm with 2 full time staff,  my 3 English Bull Terrier dogs and 20 chickens.  My 20 year old son is attending college in the USA. I am retired and love the bucolic area where I live. I always have the radio on the a local classical and jazz station and  often entertain friends on my stoop. ',\n",
              "       ...,\n",
              "       \"I'm a Cape Town doctor lucky to live right on the world's best beach( not just my opinion) in one of the vibiest cities in the world\\nWe travel a lot and when we're away our apartment is available(we in turn are probably in an Airbnb apartment)\",\n",
              "       'Roof of Africa Hotel Windhoek is a rustic cozy hotel in the center of Windhoek. We offer a full licensed Restaurant, own Micro Brewery, Whisky Bar, Large swimming pool. \\r\\nFree WIFI throughout the property. 28 Rooms in total. All ensuite bathrooms. Work desk, coffee and tea station. Office facilities at the reception. This hotel has 24 hours service (night time is limit services, but can be arranged). Shuttle service to and from the airport, city center and lodges transfers offered on request.  We also offer City tour & Township tours, Game drives ect,. ',\n",
              "       'I love travelling and new experiences. To be healthy and fit is an important part of my life.'],\n",
              "      dtype=object)"
            ]
          },
          "metadata": {},
          "execution_count": 23
        }
      ]
    },
    {
      "cell_type": "markdown",
      "source": [
        "Testing location filler"
      ],
      "metadata": {
        "id": "ufhTTkIqMM8A"
      }
    },
    {
      "cell_type": "code",
      "source": [
        "listings_df[[\"longitude\", \"latitude\"]].head()"
      ],
      "metadata": {
        "id": "V0ieQdteTFTv",
        "colab": {
          "base_uri": "https://localhost:8080/",
          "height": 206
        },
        "outputId": "2bcc8f93-7539-4d08-9806-b6c3893e513f"
      },
      "execution_count": 17,
      "outputs": [
        {
          "output_type": "execute_result",
          "data": {
            "text/plain": [
              "   longitude  latitude\n",
              "0   18.82662 -34.03002\n",
              "1   18.43270 -34.19248\n",
              "2   18.82758 -34.02830\n",
              "3   18.82689 -34.03149\n",
              "4   18.82356 -34.03003"
            ],
            "text/html": [
              "\n",
              "  <div id=\"df-93f1d2e9-f511-4066-899f-79efbbeff87d\">\n",
              "    <div class=\"colab-df-container\">\n",
              "      <div>\n",
              "<style scoped>\n",
              "    .dataframe tbody tr th:only-of-type {\n",
              "        vertical-align: middle;\n",
              "    }\n",
              "\n",
              "    .dataframe tbody tr th {\n",
              "        vertical-align: top;\n",
              "    }\n",
              "\n",
              "    .dataframe thead th {\n",
              "        text-align: right;\n",
              "    }\n",
              "</style>\n",
              "<table border=\"1\" class=\"dataframe\">\n",
              "  <thead>\n",
              "    <tr style=\"text-align: right;\">\n",
              "      <th></th>\n",
              "      <th>longitude</th>\n",
              "      <th>latitude</th>\n",
              "    </tr>\n",
              "  </thead>\n",
              "  <tbody>\n",
              "    <tr>\n",
              "      <th>0</th>\n",
              "      <td>18.82662</td>\n",
              "      <td>-34.03002</td>\n",
              "    </tr>\n",
              "    <tr>\n",
              "      <th>1</th>\n",
              "      <td>18.43270</td>\n",
              "      <td>-34.19248</td>\n",
              "    </tr>\n",
              "    <tr>\n",
              "      <th>2</th>\n",
              "      <td>18.82758</td>\n",
              "      <td>-34.02830</td>\n",
              "    </tr>\n",
              "    <tr>\n",
              "      <th>3</th>\n",
              "      <td>18.82689</td>\n",
              "      <td>-34.03149</td>\n",
              "    </tr>\n",
              "    <tr>\n",
              "      <th>4</th>\n",
              "      <td>18.82356</td>\n",
              "      <td>-34.03003</td>\n",
              "    </tr>\n",
              "  </tbody>\n",
              "</table>\n",
              "</div>\n",
              "      <button class=\"colab-df-convert\" onclick=\"convertToInteractive('df-93f1d2e9-f511-4066-899f-79efbbeff87d')\"\n",
              "              title=\"Convert this dataframe to an interactive table.\"\n",
              "              style=\"display:none;\">\n",
              "        \n",
              "  <svg xmlns=\"http://www.w3.org/2000/svg\" height=\"24px\"viewBox=\"0 0 24 24\"\n",
              "       width=\"24px\">\n",
              "    <path d=\"M0 0h24v24H0V0z\" fill=\"none\"/>\n",
              "    <path d=\"M18.56 5.44l.94 2.06.94-2.06 2.06-.94-2.06-.94-.94-2.06-.94 2.06-2.06.94zm-11 1L8.5 8.5l.94-2.06 2.06-.94-2.06-.94L8.5 2.5l-.94 2.06-2.06.94zm10 10l.94 2.06.94-2.06 2.06-.94-2.06-.94-.94-2.06-.94 2.06-2.06.94z\"/><path d=\"M17.41 7.96l-1.37-1.37c-.4-.4-.92-.59-1.43-.59-.52 0-1.04.2-1.43.59L10.3 9.45l-7.72 7.72c-.78.78-.78 2.05 0 2.83L4 21.41c.39.39.9.59 1.41.59.51 0 1.02-.2 1.41-.59l7.78-7.78 2.81-2.81c.8-.78.8-2.07 0-2.86zM5.41 20L4 18.59l7.72-7.72 1.47 1.35L5.41 20z\"/>\n",
              "  </svg>\n",
              "      </button>\n",
              "      \n",
              "  <style>\n",
              "    .colab-df-container {\n",
              "      display:flex;\n",
              "      flex-wrap:wrap;\n",
              "      gap: 12px;\n",
              "    }\n",
              "\n",
              "    .colab-df-convert {\n",
              "      background-color: #E8F0FE;\n",
              "      border: none;\n",
              "      border-radius: 50%;\n",
              "      cursor: pointer;\n",
              "      display: none;\n",
              "      fill: #1967D2;\n",
              "      height: 32px;\n",
              "      padding: 0 0 0 0;\n",
              "      width: 32px;\n",
              "    }\n",
              "\n",
              "    .colab-df-convert:hover {\n",
              "      background-color: #E2EBFA;\n",
              "      box-shadow: 0px 1px 2px rgba(60, 64, 67, 0.3), 0px 1px 3px 1px rgba(60, 64, 67, 0.15);\n",
              "      fill: #174EA6;\n",
              "    }\n",
              "\n",
              "    [theme=dark] .colab-df-convert {\n",
              "      background-color: #3B4455;\n",
              "      fill: #D2E3FC;\n",
              "    }\n",
              "\n",
              "    [theme=dark] .colab-df-convert:hover {\n",
              "      background-color: #434B5C;\n",
              "      box-shadow: 0px 1px 3px 1px rgba(0, 0, 0, 0.15);\n",
              "      filter: drop-shadow(0px 1px 2px rgba(0, 0, 0, 0.3));\n",
              "      fill: #FFFFFF;\n",
              "    }\n",
              "  </style>\n",
              "\n",
              "      <script>\n",
              "        const buttonEl =\n",
              "          document.querySelector('#df-93f1d2e9-f511-4066-899f-79efbbeff87d button.colab-df-convert');\n",
              "        buttonEl.style.display =\n",
              "          google.colab.kernel.accessAllowed ? 'block' : 'none';\n",
              "\n",
              "        async function convertToInteractive(key) {\n",
              "          const element = document.querySelector('#df-93f1d2e9-f511-4066-899f-79efbbeff87d');\n",
              "          const dataTable =\n",
              "            await google.colab.kernel.invokeFunction('convertToInteractive',\n",
              "                                                     [key], {});\n",
              "          if (!dataTable) return;\n",
              "\n",
              "          const docLinkHtml = 'Like what you see? Visit the ' +\n",
              "            '<a target=\"_blank\" href=https://colab.research.google.com/notebooks/data_table.ipynb>data table notebook</a>'\n",
              "            + ' to learn more about interactive tables.';\n",
              "          element.innerHTML = '';\n",
              "          dataTable['output_type'] = 'display_data';\n",
              "          await google.colab.output.renderOutput(dataTable, element);\n",
              "          const docLink = document.createElement('div');\n",
              "          docLink.innerHTML = docLinkHtml;\n",
              "          element.appendChild(docLink);\n",
              "        }\n",
              "      </script>\n",
              "    </div>\n",
              "  </div>\n",
              "  "
            ]
          },
          "metadata": {},
          "execution_count": 17
        }
      ]
    },
    {
      "cell_type": "code",
      "source": [],
      "metadata": {
        "id": "jF2KvZSACC6b"
      },
      "execution_count": null,
      "outputs": []
    },
    {
      "cell_type": "code",
      "source": [
        "v= rg.search((-34.03149, 18.82689))"
      ],
      "metadata": {
        "id": "qWcsumT6CSaN"
      },
      "execution_count": 52,
      "outputs": []
    },
    {
      "cell_type": "code",
      "source": [
        "type(v)"
      ],
      "metadata": {
        "colab": {
          "base_uri": "https://localhost:8080/"
        },
        "id": "pVlThYx1CxIG",
        "outputId": "8c2e976c-1dcc-43f6-afb0-ce94344cd904"
      },
      "execution_count": 34,
      "outputs": [
        {
          "output_type": "execute_result",
          "data": {
            "text/plain": [
              "list"
            ]
          },
          "metadata": {},
          "execution_count": 34
        }
      ]
    },
    {
      "cell_type": "code",
      "source": [
        "v[0][\"admin2\"]"
      ],
      "metadata": {
        "colab": {
          "base_uri": "https://localhost:8080/",
          "height": 35
        },
        "id": "ypUScOwTFwZs",
        "outputId": "298a07d1-7d71-4eb2-941e-276ebc1fc934"
      },
      "execution_count": 53,
      "outputs": [
        {
          "output_type": "execute_result",
          "data": {
            "text/plain": [
              "'Cape Winelands District Municipality'"
            ],
            "application/vnd.google.colaboratory.intrinsic+json": {
              "type": "string"
            }
          },
          "metadata": {},
          "execution_count": 53
        }
      ]
    },
    {
      "cell_type": "code",
      "source": [
        "test = listings_df[[\"host_neighbourhood\", \"latitude\", \"longitude\"]]\n",
        "\n",
        "# def locate(test, \"latitude\", \"longitude\"):\n",
        "#   location = rg.search((test[\"latitude\"][0], test[\"longitude\"][0]))\n",
        "#   return location[0][\"admin2\"]\n",
        "test.head()"
      ],
      "metadata": {
        "colab": {
          "base_uri": "https://localhost:8080/",
          "height": 206
        },
        "id": "lU_H7tpJFy2c",
        "outputId": "8e7d1718-4f06-45c2-f482-741869afa87d"
      },
      "execution_count": 49,
      "outputs": [
        {
          "output_type": "execute_result",
          "data": {
            "text/plain": [
              "  host_neighbourhood  latitude  longitude\n",
              "0                NaN -34.03002   18.82662\n",
              "1                NaN -34.19248   18.43270\n",
              "2                NaN -34.02830   18.82758\n",
              "3                NaN -34.03149   18.82689\n",
              "4                NaN -34.03003   18.82356"
            ],
            "text/html": [
              "\n",
              "  <div id=\"df-e190e35f-3af3-4cc2-8c56-04777f400edc\">\n",
              "    <div class=\"colab-df-container\">\n",
              "      <div>\n",
              "<style scoped>\n",
              "    .dataframe tbody tr th:only-of-type {\n",
              "        vertical-align: middle;\n",
              "    }\n",
              "\n",
              "    .dataframe tbody tr th {\n",
              "        vertical-align: top;\n",
              "    }\n",
              "\n",
              "    .dataframe thead th {\n",
              "        text-align: right;\n",
              "    }\n",
              "</style>\n",
              "<table border=\"1\" class=\"dataframe\">\n",
              "  <thead>\n",
              "    <tr style=\"text-align: right;\">\n",
              "      <th></th>\n",
              "      <th>host_neighbourhood</th>\n",
              "      <th>latitude</th>\n",
              "      <th>longitude</th>\n",
              "    </tr>\n",
              "  </thead>\n",
              "  <tbody>\n",
              "    <tr>\n",
              "      <th>0</th>\n",
              "      <td>NaN</td>\n",
              "      <td>-34.03002</td>\n",
              "      <td>18.82662</td>\n",
              "    </tr>\n",
              "    <tr>\n",
              "      <th>1</th>\n",
              "      <td>NaN</td>\n",
              "      <td>-34.19248</td>\n",
              "      <td>18.43270</td>\n",
              "    </tr>\n",
              "    <tr>\n",
              "      <th>2</th>\n",
              "      <td>NaN</td>\n",
              "      <td>-34.02830</td>\n",
              "      <td>18.82758</td>\n",
              "    </tr>\n",
              "    <tr>\n",
              "      <th>3</th>\n",
              "      <td>NaN</td>\n",
              "      <td>-34.03149</td>\n",
              "      <td>18.82689</td>\n",
              "    </tr>\n",
              "    <tr>\n",
              "      <th>4</th>\n",
              "      <td>NaN</td>\n",
              "      <td>-34.03003</td>\n",
              "      <td>18.82356</td>\n",
              "    </tr>\n",
              "  </tbody>\n",
              "</table>\n",
              "</div>\n",
              "      <button class=\"colab-df-convert\" onclick=\"convertToInteractive('df-e190e35f-3af3-4cc2-8c56-04777f400edc')\"\n",
              "              title=\"Convert this dataframe to an interactive table.\"\n",
              "              style=\"display:none;\">\n",
              "        \n",
              "  <svg xmlns=\"http://www.w3.org/2000/svg\" height=\"24px\"viewBox=\"0 0 24 24\"\n",
              "       width=\"24px\">\n",
              "    <path d=\"M0 0h24v24H0V0z\" fill=\"none\"/>\n",
              "    <path d=\"M18.56 5.44l.94 2.06.94-2.06 2.06-.94-2.06-.94-.94-2.06-.94 2.06-2.06.94zm-11 1L8.5 8.5l.94-2.06 2.06-.94-2.06-.94L8.5 2.5l-.94 2.06-2.06.94zm10 10l.94 2.06.94-2.06 2.06-.94-2.06-.94-.94-2.06-.94 2.06-2.06.94z\"/><path d=\"M17.41 7.96l-1.37-1.37c-.4-.4-.92-.59-1.43-.59-.52 0-1.04.2-1.43.59L10.3 9.45l-7.72 7.72c-.78.78-.78 2.05 0 2.83L4 21.41c.39.39.9.59 1.41.59.51 0 1.02-.2 1.41-.59l7.78-7.78 2.81-2.81c.8-.78.8-2.07 0-2.86zM5.41 20L4 18.59l7.72-7.72 1.47 1.35L5.41 20z\"/>\n",
              "  </svg>\n",
              "      </button>\n",
              "      \n",
              "  <style>\n",
              "    .colab-df-container {\n",
              "      display:flex;\n",
              "      flex-wrap:wrap;\n",
              "      gap: 12px;\n",
              "    }\n",
              "\n",
              "    .colab-df-convert {\n",
              "      background-color: #E8F0FE;\n",
              "      border: none;\n",
              "      border-radius: 50%;\n",
              "      cursor: pointer;\n",
              "      display: none;\n",
              "      fill: #1967D2;\n",
              "      height: 32px;\n",
              "      padding: 0 0 0 0;\n",
              "      width: 32px;\n",
              "    }\n",
              "\n",
              "    .colab-df-convert:hover {\n",
              "      background-color: #E2EBFA;\n",
              "      box-shadow: 0px 1px 2px rgba(60, 64, 67, 0.3), 0px 1px 3px 1px rgba(60, 64, 67, 0.15);\n",
              "      fill: #174EA6;\n",
              "    }\n",
              "\n",
              "    [theme=dark] .colab-df-convert {\n",
              "      background-color: #3B4455;\n",
              "      fill: #D2E3FC;\n",
              "    }\n",
              "\n",
              "    [theme=dark] .colab-df-convert:hover {\n",
              "      background-color: #434B5C;\n",
              "      box-shadow: 0px 1px 3px 1px rgba(0, 0, 0, 0.15);\n",
              "      filter: drop-shadow(0px 1px 2px rgba(0, 0, 0, 0.3));\n",
              "      fill: #FFFFFF;\n",
              "    }\n",
              "  </style>\n",
              "\n",
              "      <script>\n",
              "        const buttonEl =\n",
              "          document.querySelector('#df-e190e35f-3af3-4cc2-8c56-04777f400edc button.colab-df-convert');\n",
              "        buttonEl.style.display =\n",
              "          google.colab.kernel.accessAllowed ? 'block' : 'none';\n",
              "\n",
              "        async function convertToInteractive(key) {\n",
              "          const element = document.querySelector('#df-e190e35f-3af3-4cc2-8c56-04777f400edc');\n",
              "          const dataTable =\n",
              "            await google.colab.kernel.invokeFunction('convertToInteractive',\n",
              "                                                     [key], {});\n",
              "          if (!dataTable) return;\n",
              "\n",
              "          const docLinkHtml = 'Like what you see? Visit the ' +\n",
              "            '<a target=\"_blank\" href=https://colab.research.google.com/notebooks/data_table.ipynb>data table notebook</a>'\n",
              "            + ' to learn more about interactive tables.';\n",
              "          element.innerHTML = '';\n",
              "          dataTable['output_type'] = 'display_data';\n",
              "          await google.colab.output.renderOutput(dataTable, element);\n",
              "          const docLink = document.createElement('div');\n",
              "          docLink.innerHTML = docLinkHtml;\n",
              "          element.appendChild(docLink);\n",
              "        }\n",
              "      </script>\n",
              "    </div>\n",
              "  </div>\n",
              "  "
            ]
          },
          "metadata": {},
          "execution_count": 49
        }
      ]
    },
    {
      "cell_type": "code",
      "source": [
        "# test[\"municipal\"] = rg.search((test.latitude, test.longitude))\n",
        "# test.head()"
      ],
      "metadata": {
        "id": "dMp9LG1QHQLC"
      },
      "execution_count": 57,
      "outputs": []
    },
    {
      "cell_type": "code",
      "source": [],
      "metadata": {
        "id": "XTSfTcSnHzJS"
      },
      "execution_count": null,
      "outputs": []
    },
    {
      "cell_type": "markdown",
      "source": [
        "### neighbourhood_overview & neigbourhood"
      ],
      "metadata": {
        "id": "8W4RZcx7MdPw"
      }
    },
    {
      "cell_type": "code",
      "source": [
        "listings_df['neighborhood_overview'].isna().sum()"
      ],
      "metadata": {
        "colab": {
          "base_uri": "https://localhost:8080/"
        },
        "id": "dE5xR9W7Mla7",
        "outputId": "ab4465dd-ee64-4144-ff2e-0c0bb4002283"
      },
      "execution_count": 66,
      "outputs": [
        {
          "output_type": "execute_result",
          "data": {
            "text/plain": [
              "7293"
            ]
          },
          "metadata": {},
          "execution_count": 66
        }
      ]
    },
    {
      "cell_type": "code",
      "source": [
        "listings_df['neighborhood_overview'].head()"
      ],
      "metadata": {
        "colab": {
          "base_uri": "https://localhost:8080/"
        },
        "id": "oQE17S53MlXu",
        "outputId": "903e2c86-17bb-4ae6-bfe2-6d8521c560a3"
      },
      "execution_count": 67,
      "outputs": [
        {
          "output_type": "execute_result",
          "data": {
            "text/plain": [
              "0                                                  NaN\n",
              "1    The apartment is situated on the main street d...\n",
              "2                                                  NaN\n",
              "3                                                  NaN\n",
              "4                                                  NaN\n",
              "Name: neighborhood_overview, dtype: object"
            ]
          },
          "metadata": {},
          "execution_count": 67
        }
      ]
    },
    {
      "cell_type": "code",
      "source": [
        "listings_df['neighbourhood'].isna().sum()"
      ],
      "metadata": {
        "colab": {
          "base_uri": "https://localhost:8080/"
        },
        "id": "XW_6BQoOPqUj",
        "outputId": "80c5c79d-7a00-4f6d-c767-8c6eee3f96c4"
      },
      "execution_count": 68,
      "outputs": [
        {
          "output_type": "execute_result",
          "data": {
            "text/plain": [
              "7293"
            ]
          },
          "metadata": {},
          "execution_count": 68
        }
      ]
    },
    {
      "cell_type": "code",
      "source": [
        "listings_df['neighbourhood'].head()"
      ],
      "metadata": {
        "colab": {
          "base_uri": "https://localhost:8080/"
        },
        "id": "BdJTHPDgPqOw",
        "outputId": "112fd882-3aff-4dc0-9490-fedb9cdbda4a"
      },
      "execution_count": 69,
      "outputs": [
        {
          "output_type": "execute_result",
          "data": {
            "text/plain": [
              "0                                      NaN\n",
              "1    Cape Town, Western Cape, South Africa\n",
              "2                                      NaN\n",
              "3                                      NaN\n",
              "4                                      NaN\n",
              "Name: neighbourhood, dtype: object"
            ]
          },
          "metadata": {},
          "execution_count": 69
        }
      ]
    },
    {
      "cell_type": "markdown",
      "source": [
        "From above, we can see that the column containsinformation about the general location of the airbnb listing. We could use NLP to identify key words which are unique to a particular location. For the neighboorhood column, we could come up with a column which contains the local municipalities in Cape Town and use this column to try and identify significant locations."
      ],
      "metadata": {
        "id": "2dVmA8X7PU6G"
      }
    },
    {
      "cell_type": "markdown",
      "source": [
        "### review_scores_checkin, review_scores_location, review_scores_value, review_scores_accuracy, review_scores_communication, review_scores_cleanliness & review_scores_ratings"
      ],
      "metadata": {
        "id": "2K3wIG6AQccU"
      }
    },
    {
      "cell_type": "code",
      "source": [
        "# Creating a list of the reviews\n",
        "review_list = list(null_counts[null_counts > 0].sort_values(ascending= False).index[8:18])\n",
        "review_list"
      ],
      "metadata": {
        "colab": {
          "base_uri": "https://localhost:8080/"
        },
        "id": "UwEgF7EePLVw",
        "outputId": "aca0d438-f45f-46de-ad18-56c45fdbd777"
      },
      "execution_count": 97,
      "outputs": [
        {
          "output_type": "execute_result",
          "data": {
            "text/plain": [
              "['review_scores_checkin',\n",
              " 'review_scores_location',\n",
              " 'review_scores_value',\n",
              " 'review_scores_accuracy',\n",
              " 'review_scores_communication',\n",
              " 'review_scores_cleanliness',\n",
              " 'review_scores_rating',\n",
              " 'last_review',\n",
              " 'first_review',\n",
              " 'reviews_per_month']"
            ]
          },
          "metadata": {},
          "execution_count": 97
        }
      ]
    },
    {
      "cell_type": "code",
      "source": [
        "listings_df[review_list].isna().sum()"
      ],
      "metadata": {
        "colab": {
          "base_uri": "https://localhost:8080/"
        },
        "id": "wy7jgxwRPLfN",
        "outputId": "1eab561d-097f-419f-f689-19fe915fe747"
      },
      "execution_count": 85,
      "outputs": [
        {
          "output_type": "execute_result",
          "data": {
            "text/plain": [
              "review_scores_checkin          5299\n",
              "review_scores_location         5299\n",
              "review_scores_value            5299\n",
              "review_scores_accuracy         5296\n",
              "review_scores_communication    5296\n",
              "review_scores_cleanliness      5295\n",
              "review_scores_rating           5143\n",
              "last_review                    5143\n",
              "first_review                   5143\n",
              "reviews_per_month              5143\n",
              "dtype: int64"
            ]
          },
          "metadata": {},
          "execution_count": 85
        }
      ]
    },
    {
      "cell_type": "code",
      "source": [
        "listings_df[review_list].head()"
      ],
      "metadata": {
        "colab": {
          "base_uri": "https://localhost:8080/",
          "height": 270
        },
        "id": "mZ9Rg7rVMlQL",
        "outputId": "33a72a3e-f58a-4d3b-ab03-1051be2e97ff"
      },
      "execution_count": 87,
      "outputs": [
        {
          "output_type": "execute_result",
          "data": {
            "text/plain": [
              "   review_scores_checkin  review_scores_location  review_scores_value  \\\n",
              "0                    5.0                    5.00                  5.0   \n",
              "1                    5.0                    4.93                  5.0   \n",
              "2                    NaN                     NaN                  NaN   \n",
              "3                    NaN                     NaN                  NaN   \n",
              "4                    5.0                    5.00                  5.0   \n",
              "\n",
              "   review_scores_accuracy  review_scores_communication  \\\n",
              "0                     5.0                          5.0   \n",
              "1                     5.0                          5.0   \n",
              "2                     NaN                          NaN   \n",
              "3                     NaN                          NaN   \n",
              "4                     5.0                          5.0   \n",
              "\n",
              "   review_scores_cleanliness  review_scores_rating last_review first_review  \\\n",
              "0                        5.0                  5.00  2022-01-04   2020-01-25   \n",
              "1                        5.0                  4.87  2022-04-09   2016-02-20   \n",
              "2                        NaN                   NaN         NaN          NaN   \n",
              "3                        NaN                   NaN         NaN          NaN   \n",
              "4                        5.0                  5.00  2018-03-25   2018-03-25   \n",
              "\n",
              "   reviews_per_month  \n",
              "0               0.07  \n",
              "1               0.19  \n",
              "2                NaN  \n",
              "3                NaN  \n",
              "4               0.02  "
            ],
            "text/html": [
              "\n",
              "  <div id=\"df-6be8e1f4-e4ef-4a4b-a80e-b7e8b8955a7a\">\n",
              "    <div class=\"colab-df-container\">\n",
              "      <div>\n",
              "<style scoped>\n",
              "    .dataframe tbody tr th:only-of-type {\n",
              "        vertical-align: middle;\n",
              "    }\n",
              "\n",
              "    .dataframe tbody tr th {\n",
              "        vertical-align: top;\n",
              "    }\n",
              "\n",
              "    .dataframe thead th {\n",
              "        text-align: right;\n",
              "    }\n",
              "</style>\n",
              "<table border=\"1\" class=\"dataframe\">\n",
              "  <thead>\n",
              "    <tr style=\"text-align: right;\">\n",
              "      <th></th>\n",
              "      <th>review_scores_checkin</th>\n",
              "      <th>review_scores_location</th>\n",
              "      <th>review_scores_value</th>\n",
              "      <th>review_scores_accuracy</th>\n",
              "      <th>review_scores_communication</th>\n",
              "      <th>review_scores_cleanliness</th>\n",
              "      <th>review_scores_rating</th>\n",
              "      <th>last_review</th>\n",
              "      <th>first_review</th>\n",
              "      <th>reviews_per_month</th>\n",
              "    </tr>\n",
              "  </thead>\n",
              "  <tbody>\n",
              "    <tr>\n",
              "      <th>0</th>\n",
              "      <td>5.0</td>\n",
              "      <td>5.00</td>\n",
              "      <td>5.0</td>\n",
              "      <td>5.0</td>\n",
              "      <td>5.0</td>\n",
              "      <td>5.0</td>\n",
              "      <td>5.00</td>\n",
              "      <td>2022-01-04</td>\n",
              "      <td>2020-01-25</td>\n",
              "      <td>0.07</td>\n",
              "    </tr>\n",
              "    <tr>\n",
              "      <th>1</th>\n",
              "      <td>5.0</td>\n",
              "      <td>4.93</td>\n",
              "      <td>5.0</td>\n",
              "      <td>5.0</td>\n",
              "      <td>5.0</td>\n",
              "      <td>5.0</td>\n",
              "      <td>4.87</td>\n",
              "      <td>2022-04-09</td>\n",
              "      <td>2016-02-20</td>\n",
              "      <td>0.19</td>\n",
              "    </tr>\n",
              "    <tr>\n",
              "      <th>2</th>\n",
              "      <td>NaN</td>\n",
              "      <td>NaN</td>\n",
              "      <td>NaN</td>\n",
              "      <td>NaN</td>\n",
              "      <td>NaN</td>\n",
              "      <td>NaN</td>\n",
              "      <td>NaN</td>\n",
              "      <td>NaN</td>\n",
              "      <td>NaN</td>\n",
              "      <td>NaN</td>\n",
              "    </tr>\n",
              "    <tr>\n",
              "      <th>3</th>\n",
              "      <td>NaN</td>\n",
              "      <td>NaN</td>\n",
              "      <td>NaN</td>\n",
              "      <td>NaN</td>\n",
              "      <td>NaN</td>\n",
              "      <td>NaN</td>\n",
              "      <td>NaN</td>\n",
              "      <td>NaN</td>\n",
              "      <td>NaN</td>\n",
              "      <td>NaN</td>\n",
              "    </tr>\n",
              "    <tr>\n",
              "      <th>4</th>\n",
              "      <td>5.0</td>\n",
              "      <td>5.00</td>\n",
              "      <td>5.0</td>\n",
              "      <td>5.0</td>\n",
              "      <td>5.0</td>\n",
              "      <td>5.0</td>\n",
              "      <td>5.00</td>\n",
              "      <td>2018-03-25</td>\n",
              "      <td>2018-03-25</td>\n",
              "      <td>0.02</td>\n",
              "    </tr>\n",
              "  </tbody>\n",
              "</table>\n",
              "</div>\n",
              "      <button class=\"colab-df-convert\" onclick=\"convertToInteractive('df-6be8e1f4-e4ef-4a4b-a80e-b7e8b8955a7a')\"\n",
              "              title=\"Convert this dataframe to an interactive table.\"\n",
              "              style=\"display:none;\">\n",
              "        \n",
              "  <svg xmlns=\"http://www.w3.org/2000/svg\" height=\"24px\"viewBox=\"0 0 24 24\"\n",
              "       width=\"24px\">\n",
              "    <path d=\"M0 0h24v24H0V0z\" fill=\"none\"/>\n",
              "    <path d=\"M18.56 5.44l.94 2.06.94-2.06 2.06-.94-2.06-.94-.94-2.06-.94 2.06-2.06.94zm-11 1L8.5 8.5l.94-2.06 2.06-.94-2.06-.94L8.5 2.5l-.94 2.06-2.06.94zm10 10l.94 2.06.94-2.06 2.06-.94-2.06-.94-.94-2.06-.94 2.06-2.06.94z\"/><path d=\"M17.41 7.96l-1.37-1.37c-.4-.4-.92-.59-1.43-.59-.52 0-1.04.2-1.43.59L10.3 9.45l-7.72 7.72c-.78.78-.78 2.05 0 2.83L4 21.41c.39.39.9.59 1.41.59.51 0 1.02-.2 1.41-.59l7.78-7.78 2.81-2.81c.8-.78.8-2.07 0-2.86zM5.41 20L4 18.59l7.72-7.72 1.47 1.35L5.41 20z\"/>\n",
              "  </svg>\n",
              "      </button>\n",
              "      \n",
              "  <style>\n",
              "    .colab-df-container {\n",
              "      display:flex;\n",
              "      flex-wrap:wrap;\n",
              "      gap: 12px;\n",
              "    }\n",
              "\n",
              "    .colab-df-convert {\n",
              "      background-color: #E8F0FE;\n",
              "      border: none;\n",
              "      border-radius: 50%;\n",
              "      cursor: pointer;\n",
              "      display: none;\n",
              "      fill: #1967D2;\n",
              "      height: 32px;\n",
              "      padding: 0 0 0 0;\n",
              "      width: 32px;\n",
              "    }\n",
              "\n",
              "    .colab-df-convert:hover {\n",
              "      background-color: #E2EBFA;\n",
              "      box-shadow: 0px 1px 2px rgba(60, 64, 67, 0.3), 0px 1px 3px 1px rgba(60, 64, 67, 0.15);\n",
              "      fill: #174EA6;\n",
              "    }\n",
              "\n",
              "    [theme=dark] .colab-df-convert {\n",
              "      background-color: #3B4455;\n",
              "      fill: #D2E3FC;\n",
              "    }\n",
              "\n",
              "    [theme=dark] .colab-df-convert:hover {\n",
              "      background-color: #434B5C;\n",
              "      box-shadow: 0px 1px 3px 1px rgba(0, 0, 0, 0.15);\n",
              "      filter: drop-shadow(0px 1px 2px rgba(0, 0, 0, 0.3));\n",
              "      fill: #FFFFFF;\n",
              "    }\n",
              "  </style>\n",
              "\n",
              "      <script>\n",
              "        const buttonEl =\n",
              "          document.querySelector('#df-6be8e1f4-e4ef-4a4b-a80e-b7e8b8955a7a button.colab-df-convert');\n",
              "        buttonEl.style.display =\n",
              "          google.colab.kernel.accessAllowed ? 'block' : 'none';\n",
              "\n",
              "        async function convertToInteractive(key) {\n",
              "          const element = document.querySelector('#df-6be8e1f4-e4ef-4a4b-a80e-b7e8b8955a7a');\n",
              "          const dataTable =\n",
              "            await google.colab.kernel.invokeFunction('convertToInteractive',\n",
              "                                                     [key], {});\n",
              "          if (!dataTable) return;\n",
              "\n",
              "          const docLinkHtml = 'Like what you see? Visit the ' +\n",
              "            '<a target=\"_blank\" href=https://colab.research.google.com/notebooks/data_table.ipynb>data table notebook</a>'\n",
              "            + ' to learn more about interactive tables.';\n",
              "          element.innerHTML = '';\n",
              "          dataTable['output_type'] = 'display_data';\n",
              "          await google.colab.output.renderOutput(dataTable, element);\n",
              "          const docLink = document.createElement('div');\n",
              "          docLink.innerHTML = docLinkHtml;\n",
              "          element.appendChild(docLink);\n",
              "        }\n",
              "      </script>\n",
              "    </div>\n",
              "  </div>\n",
              "  "
            ]
          },
          "metadata": {},
          "execution_count": 87
        }
      ]
    },
    {
      "cell_type": "code",
      "source": [],
      "metadata": {
        "id": "4bVjuPN4TAhI"
      },
      "execution_count": null,
      "outputs": []
    },
    {
      "cell_type": "code",
      "source": [
        "listings_df[review_list].tail()"
      ],
      "metadata": {
        "colab": {
          "base_uri": "https://localhost:8080/",
          "height": 270
        },
        "id": "1hg1f1R_UHGE",
        "outputId": "783210d9-dc44-4c21-b94f-78f32ddc6ca5"
      },
      "execution_count": 88,
      "outputs": [
        {
          "output_type": "execute_result",
          "data": {
            "text/plain": [
              "       review_scores_checkin  review_scores_location  review_scores_value  \\\n",
              "18898                   4.89                    5.00                 4.79   \n",
              "18899                   5.00                    5.00                 4.00   \n",
              "18900                   4.80                    4.40                 4.50   \n",
              "18901                   5.00                    5.00                 5.00   \n",
              "18902                   4.55                    4.95                 4.59   \n",
              "\n",
              "       review_scores_accuracy  review_scores_communication  \\\n",
              "18898                    4.95                         4.89   \n",
              "18899                    5.00                         4.00   \n",
              "18900                    4.80                         4.70   \n",
              "18901                    5.00                         5.00   \n",
              "18902                    4.77                         4.73   \n",
              "\n",
              "       review_scores_cleanliness  review_scores_rating last_review  \\\n",
              "18898                       4.95                  4.79  2022-06-06   \n",
              "18899                       5.00                  5.00  2022-04-12   \n",
              "18900                       4.70                  4.80  2022-04-18   \n",
              "18901                       5.00                  5.00  2022-03-12   \n",
              "18902                       4.77                  4.59  2021-04-30   \n",
              "\n",
              "      first_review  reviews_per_month  \n",
              "18898   2021-08-18               1.84  \n",
              "18899   2022-04-12               0.42  \n",
              "18900   2021-10-04               1.15  \n",
              "18901   2022-03-12               0.29  \n",
              "18902   2017-12-05               0.40  "
            ],
            "text/html": [
              "\n",
              "  <div id=\"df-95983ed6-3502-4d7e-8494-63b0b093204f\">\n",
              "    <div class=\"colab-df-container\">\n",
              "      <div>\n",
              "<style scoped>\n",
              "    .dataframe tbody tr th:only-of-type {\n",
              "        vertical-align: middle;\n",
              "    }\n",
              "\n",
              "    .dataframe tbody tr th {\n",
              "        vertical-align: top;\n",
              "    }\n",
              "\n",
              "    .dataframe thead th {\n",
              "        text-align: right;\n",
              "    }\n",
              "</style>\n",
              "<table border=\"1\" class=\"dataframe\">\n",
              "  <thead>\n",
              "    <tr style=\"text-align: right;\">\n",
              "      <th></th>\n",
              "      <th>review_scores_checkin</th>\n",
              "      <th>review_scores_location</th>\n",
              "      <th>review_scores_value</th>\n",
              "      <th>review_scores_accuracy</th>\n",
              "      <th>review_scores_communication</th>\n",
              "      <th>review_scores_cleanliness</th>\n",
              "      <th>review_scores_rating</th>\n",
              "      <th>last_review</th>\n",
              "      <th>first_review</th>\n",
              "      <th>reviews_per_month</th>\n",
              "    </tr>\n",
              "  </thead>\n",
              "  <tbody>\n",
              "    <tr>\n",
              "      <th>18898</th>\n",
              "      <td>4.89</td>\n",
              "      <td>5.00</td>\n",
              "      <td>4.79</td>\n",
              "      <td>4.95</td>\n",
              "      <td>4.89</td>\n",
              "      <td>4.95</td>\n",
              "      <td>4.79</td>\n",
              "      <td>2022-06-06</td>\n",
              "      <td>2021-08-18</td>\n",
              "      <td>1.84</td>\n",
              "    </tr>\n",
              "    <tr>\n",
              "      <th>18899</th>\n",
              "      <td>5.00</td>\n",
              "      <td>5.00</td>\n",
              "      <td>4.00</td>\n",
              "      <td>5.00</td>\n",
              "      <td>4.00</td>\n",
              "      <td>5.00</td>\n",
              "      <td>5.00</td>\n",
              "      <td>2022-04-12</td>\n",
              "      <td>2022-04-12</td>\n",
              "      <td>0.42</td>\n",
              "    </tr>\n",
              "    <tr>\n",
              "      <th>18900</th>\n",
              "      <td>4.80</td>\n",
              "      <td>4.40</td>\n",
              "      <td>4.50</td>\n",
              "      <td>4.80</td>\n",
              "      <td>4.70</td>\n",
              "      <td>4.70</td>\n",
              "      <td>4.80</td>\n",
              "      <td>2022-04-18</td>\n",
              "      <td>2021-10-04</td>\n",
              "      <td>1.15</td>\n",
              "    </tr>\n",
              "    <tr>\n",
              "      <th>18901</th>\n",
              "      <td>5.00</td>\n",
              "      <td>5.00</td>\n",
              "      <td>5.00</td>\n",
              "      <td>5.00</td>\n",
              "      <td>5.00</td>\n",
              "      <td>5.00</td>\n",
              "      <td>5.00</td>\n",
              "      <td>2022-03-12</td>\n",
              "      <td>2022-03-12</td>\n",
              "      <td>0.29</td>\n",
              "    </tr>\n",
              "    <tr>\n",
              "      <th>18902</th>\n",
              "      <td>4.55</td>\n",
              "      <td>4.95</td>\n",
              "      <td>4.59</td>\n",
              "      <td>4.77</td>\n",
              "      <td>4.73</td>\n",
              "      <td>4.77</td>\n",
              "      <td>4.59</td>\n",
              "      <td>2021-04-30</td>\n",
              "      <td>2017-12-05</td>\n",
              "      <td>0.40</td>\n",
              "    </tr>\n",
              "  </tbody>\n",
              "</table>\n",
              "</div>\n",
              "      <button class=\"colab-df-convert\" onclick=\"convertToInteractive('df-95983ed6-3502-4d7e-8494-63b0b093204f')\"\n",
              "              title=\"Convert this dataframe to an interactive table.\"\n",
              "              style=\"display:none;\">\n",
              "        \n",
              "  <svg xmlns=\"http://www.w3.org/2000/svg\" height=\"24px\"viewBox=\"0 0 24 24\"\n",
              "       width=\"24px\">\n",
              "    <path d=\"M0 0h24v24H0V0z\" fill=\"none\"/>\n",
              "    <path d=\"M18.56 5.44l.94 2.06.94-2.06 2.06-.94-2.06-.94-.94-2.06-.94 2.06-2.06.94zm-11 1L8.5 8.5l.94-2.06 2.06-.94-2.06-.94L8.5 2.5l-.94 2.06-2.06.94zm10 10l.94 2.06.94-2.06 2.06-.94-2.06-.94-.94-2.06-.94 2.06-2.06.94z\"/><path d=\"M17.41 7.96l-1.37-1.37c-.4-.4-.92-.59-1.43-.59-.52 0-1.04.2-1.43.59L10.3 9.45l-7.72 7.72c-.78.78-.78 2.05 0 2.83L4 21.41c.39.39.9.59 1.41.59.51 0 1.02-.2 1.41-.59l7.78-7.78 2.81-2.81c.8-.78.8-2.07 0-2.86zM5.41 20L4 18.59l7.72-7.72 1.47 1.35L5.41 20z\"/>\n",
              "  </svg>\n",
              "      </button>\n",
              "      \n",
              "  <style>\n",
              "    .colab-df-container {\n",
              "      display:flex;\n",
              "      flex-wrap:wrap;\n",
              "      gap: 12px;\n",
              "    }\n",
              "\n",
              "    .colab-df-convert {\n",
              "      background-color: #E8F0FE;\n",
              "      border: none;\n",
              "      border-radius: 50%;\n",
              "      cursor: pointer;\n",
              "      display: none;\n",
              "      fill: #1967D2;\n",
              "      height: 32px;\n",
              "      padding: 0 0 0 0;\n",
              "      width: 32px;\n",
              "    }\n",
              "\n",
              "    .colab-df-convert:hover {\n",
              "      background-color: #E2EBFA;\n",
              "      box-shadow: 0px 1px 2px rgba(60, 64, 67, 0.3), 0px 1px 3px 1px rgba(60, 64, 67, 0.15);\n",
              "      fill: #174EA6;\n",
              "    }\n",
              "\n",
              "    [theme=dark] .colab-df-convert {\n",
              "      background-color: #3B4455;\n",
              "      fill: #D2E3FC;\n",
              "    }\n",
              "\n",
              "    [theme=dark] .colab-df-convert:hover {\n",
              "      background-color: #434B5C;\n",
              "      box-shadow: 0px 1px 3px 1px rgba(0, 0, 0, 0.15);\n",
              "      filter: drop-shadow(0px 1px 2px rgba(0, 0, 0, 0.3));\n",
              "      fill: #FFFFFF;\n",
              "    }\n",
              "  </style>\n",
              "\n",
              "      <script>\n",
              "        const buttonEl =\n",
              "          document.querySelector('#df-95983ed6-3502-4d7e-8494-63b0b093204f button.colab-df-convert');\n",
              "        buttonEl.style.display =\n",
              "          google.colab.kernel.accessAllowed ? 'block' : 'none';\n",
              "\n",
              "        async function convertToInteractive(key) {\n",
              "          const element = document.querySelector('#df-95983ed6-3502-4d7e-8494-63b0b093204f');\n",
              "          const dataTable =\n",
              "            await google.colab.kernel.invokeFunction('convertToInteractive',\n",
              "                                                     [key], {});\n",
              "          if (!dataTable) return;\n",
              "\n",
              "          const docLinkHtml = 'Like what you see? Visit the ' +\n",
              "            '<a target=\"_blank\" href=https://colab.research.google.com/notebooks/data_table.ipynb>data table notebook</a>'\n",
              "            + ' to learn more about interactive tables.';\n",
              "          element.innerHTML = '';\n",
              "          dataTable['output_type'] = 'display_data';\n",
              "          await google.colab.output.renderOutput(dataTable, element);\n",
              "          const docLink = document.createElement('div');\n",
              "          docLink.innerHTML = docLinkHtml;\n",
              "          element.appendChild(docLink);\n",
              "        }\n",
              "      </script>\n",
              "    </div>\n",
              "  </div>\n",
              "  "
            ]
          },
          "metadata": {},
          "execution_count": 88
        }
      ]
    },
    {
      "cell_type": "markdown",
      "source": [
        "All columns are of numeric type exept for the last_review and first_review columns which are of date type. We feel this columns wont be of much help in our objectives therefore we will look to drop these columns."
      ],
      "metadata": {
        "id": "Xaz1WtenXAZr"
      }
    },
    {
      "cell_type": "code",
      "source": [
        "listings_df[review_list].describe().T"
      ],
      "metadata": {
        "colab": {
          "base_uri": "https://localhost:8080/",
          "height": 300
        },
        "id": "Ecxsez7lTAeA",
        "outputId": "5cc86680-9520-4135-d2d3-6dadb1aeeefd"
      },
      "execution_count": 94,
      "outputs": [
        {
          "output_type": "execute_result",
          "data": {
            "text/plain": [
              "                               count      mean       std   min   25%   50%  \\\n",
              "review_scores_checkin        13604.0  4.808905  0.462444  0.00  4.81  4.97   \n",
              "review_scores_location       13604.0  4.803673  0.414366  0.00  4.78  4.93   \n",
              "review_scores_value          13604.0  4.692829  0.504996  0.00  4.63  4.83   \n",
              "review_scores_accuracy       13607.0  4.757262  0.490736  0.00  4.73  4.91   \n",
              "review_scores_communication  13607.0  4.802807  0.479074  0.00  4.81  4.97   \n",
              "review_scores_cleanliness    13608.0  4.730264  0.492878  0.00  4.67  4.89   \n",
              "review_scores_rating         13760.0  4.666231  0.684017  0.00  4.64  4.86   \n",
              "reviews_per_month            13760.0  0.830200  1.084783  0.01  0.15  0.45   \n",
              "\n",
              "                              75%    max  \n",
              "review_scores_checkin        5.00   5.00  \n",
              "review_scores_location       5.00   5.00  \n",
              "review_scores_value          5.00   5.00  \n",
              "review_scores_accuracy       5.00   5.00  \n",
              "review_scores_communication  5.00   5.00  \n",
              "review_scores_cleanliness    5.00   5.00  \n",
              "review_scores_rating         5.00   5.00  \n",
              "reviews_per_month            1.09  18.86  "
            ],
            "text/html": [
              "\n",
              "  <div id=\"df-b58742cd-0f21-48e9-a5d5-fd2358bda3c7\">\n",
              "    <div class=\"colab-df-container\">\n",
              "      <div>\n",
              "<style scoped>\n",
              "    .dataframe tbody tr th:only-of-type {\n",
              "        vertical-align: middle;\n",
              "    }\n",
              "\n",
              "    .dataframe tbody tr th {\n",
              "        vertical-align: top;\n",
              "    }\n",
              "\n",
              "    .dataframe thead th {\n",
              "        text-align: right;\n",
              "    }\n",
              "</style>\n",
              "<table border=\"1\" class=\"dataframe\">\n",
              "  <thead>\n",
              "    <tr style=\"text-align: right;\">\n",
              "      <th></th>\n",
              "      <th>count</th>\n",
              "      <th>mean</th>\n",
              "      <th>std</th>\n",
              "      <th>min</th>\n",
              "      <th>25%</th>\n",
              "      <th>50%</th>\n",
              "      <th>75%</th>\n",
              "      <th>max</th>\n",
              "    </tr>\n",
              "  </thead>\n",
              "  <tbody>\n",
              "    <tr>\n",
              "      <th>review_scores_checkin</th>\n",
              "      <td>13604.0</td>\n",
              "      <td>4.808905</td>\n",
              "      <td>0.462444</td>\n",
              "      <td>0.00</td>\n",
              "      <td>4.81</td>\n",
              "      <td>4.97</td>\n",
              "      <td>5.00</td>\n",
              "      <td>5.00</td>\n",
              "    </tr>\n",
              "    <tr>\n",
              "      <th>review_scores_location</th>\n",
              "      <td>13604.0</td>\n",
              "      <td>4.803673</td>\n",
              "      <td>0.414366</td>\n",
              "      <td>0.00</td>\n",
              "      <td>4.78</td>\n",
              "      <td>4.93</td>\n",
              "      <td>5.00</td>\n",
              "      <td>5.00</td>\n",
              "    </tr>\n",
              "    <tr>\n",
              "      <th>review_scores_value</th>\n",
              "      <td>13604.0</td>\n",
              "      <td>4.692829</td>\n",
              "      <td>0.504996</td>\n",
              "      <td>0.00</td>\n",
              "      <td>4.63</td>\n",
              "      <td>4.83</td>\n",
              "      <td>5.00</td>\n",
              "      <td>5.00</td>\n",
              "    </tr>\n",
              "    <tr>\n",
              "      <th>review_scores_accuracy</th>\n",
              "      <td>13607.0</td>\n",
              "      <td>4.757262</td>\n",
              "      <td>0.490736</td>\n",
              "      <td>0.00</td>\n",
              "      <td>4.73</td>\n",
              "      <td>4.91</td>\n",
              "      <td>5.00</td>\n",
              "      <td>5.00</td>\n",
              "    </tr>\n",
              "    <tr>\n",
              "      <th>review_scores_communication</th>\n",
              "      <td>13607.0</td>\n",
              "      <td>4.802807</td>\n",
              "      <td>0.479074</td>\n",
              "      <td>0.00</td>\n",
              "      <td>4.81</td>\n",
              "      <td>4.97</td>\n",
              "      <td>5.00</td>\n",
              "      <td>5.00</td>\n",
              "    </tr>\n",
              "    <tr>\n",
              "      <th>review_scores_cleanliness</th>\n",
              "      <td>13608.0</td>\n",
              "      <td>4.730264</td>\n",
              "      <td>0.492878</td>\n",
              "      <td>0.00</td>\n",
              "      <td>4.67</td>\n",
              "      <td>4.89</td>\n",
              "      <td>5.00</td>\n",
              "      <td>5.00</td>\n",
              "    </tr>\n",
              "    <tr>\n",
              "      <th>review_scores_rating</th>\n",
              "      <td>13760.0</td>\n",
              "      <td>4.666231</td>\n",
              "      <td>0.684017</td>\n",
              "      <td>0.00</td>\n",
              "      <td>4.64</td>\n",
              "      <td>4.86</td>\n",
              "      <td>5.00</td>\n",
              "      <td>5.00</td>\n",
              "    </tr>\n",
              "    <tr>\n",
              "      <th>reviews_per_month</th>\n",
              "      <td>13760.0</td>\n",
              "      <td>0.830200</td>\n",
              "      <td>1.084783</td>\n",
              "      <td>0.01</td>\n",
              "      <td>0.15</td>\n",
              "      <td>0.45</td>\n",
              "      <td>1.09</td>\n",
              "      <td>18.86</td>\n",
              "    </tr>\n",
              "  </tbody>\n",
              "</table>\n",
              "</div>\n",
              "      <button class=\"colab-df-convert\" onclick=\"convertToInteractive('df-b58742cd-0f21-48e9-a5d5-fd2358bda3c7')\"\n",
              "              title=\"Convert this dataframe to an interactive table.\"\n",
              "              style=\"display:none;\">\n",
              "        \n",
              "  <svg xmlns=\"http://www.w3.org/2000/svg\" height=\"24px\"viewBox=\"0 0 24 24\"\n",
              "       width=\"24px\">\n",
              "    <path d=\"M0 0h24v24H0V0z\" fill=\"none\"/>\n",
              "    <path d=\"M18.56 5.44l.94 2.06.94-2.06 2.06-.94-2.06-.94-.94-2.06-.94 2.06-2.06.94zm-11 1L8.5 8.5l.94-2.06 2.06-.94-2.06-.94L8.5 2.5l-.94 2.06-2.06.94zm10 10l.94 2.06.94-2.06 2.06-.94-2.06-.94-.94-2.06-.94 2.06-2.06.94z\"/><path d=\"M17.41 7.96l-1.37-1.37c-.4-.4-.92-.59-1.43-.59-.52 0-1.04.2-1.43.59L10.3 9.45l-7.72 7.72c-.78.78-.78 2.05 0 2.83L4 21.41c.39.39.9.59 1.41.59.51 0 1.02-.2 1.41-.59l7.78-7.78 2.81-2.81c.8-.78.8-2.07 0-2.86zM5.41 20L4 18.59l7.72-7.72 1.47 1.35L5.41 20z\"/>\n",
              "  </svg>\n",
              "      </button>\n",
              "      \n",
              "  <style>\n",
              "    .colab-df-container {\n",
              "      display:flex;\n",
              "      flex-wrap:wrap;\n",
              "      gap: 12px;\n",
              "    }\n",
              "\n",
              "    .colab-df-convert {\n",
              "      background-color: #E8F0FE;\n",
              "      border: none;\n",
              "      border-radius: 50%;\n",
              "      cursor: pointer;\n",
              "      display: none;\n",
              "      fill: #1967D2;\n",
              "      height: 32px;\n",
              "      padding: 0 0 0 0;\n",
              "      width: 32px;\n",
              "    }\n",
              "\n",
              "    .colab-df-convert:hover {\n",
              "      background-color: #E2EBFA;\n",
              "      box-shadow: 0px 1px 2px rgba(60, 64, 67, 0.3), 0px 1px 3px 1px rgba(60, 64, 67, 0.15);\n",
              "      fill: #174EA6;\n",
              "    }\n",
              "\n",
              "    [theme=dark] .colab-df-convert {\n",
              "      background-color: #3B4455;\n",
              "      fill: #D2E3FC;\n",
              "    }\n",
              "\n",
              "    [theme=dark] .colab-df-convert:hover {\n",
              "      background-color: #434B5C;\n",
              "      box-shadow: 0px 1px 3px 1px rgba(0, 0, 0, 0.15);\n",
              "      filter: drop-shadow(0px 1px 2px rgba(0, 0, 0, 0.3));\n",
              "      fill: #FFFFFF;\n",
              "    }\n",
              "  </style>\n",
              "\n",
              "      <script>\n",
              "        const buttonEl =\n",
              "          document.querySelector('#df-b58742cd-0f21-48e9-a5d5-fd2358bda3c7 button.colab-df-convert');\n",
              "        buttonEl.style.display =\n",
              "          google.colab.kernel.accessAllowed ? 'block' : 'none';\n",
              "\n",
              "        async function convertToInteractive(key) {\n",
              "          const element = document.querySelector('#df-b58742cd-0f21-48e9-a5d5-fd2358bda3c7');\n",
              "          const dataTable =\n",
              "            await google.colab.kernel.invokeFunction('convertToInteractive',\n",
              "                                                     [key], {});\n",
              "          if (!dataTable) return;\n",
              "\n",
              "          const docLinkHtml = 'Like what you see? Visit the ' +\n",
              "            '<a target=\"_blank\" href=https://colab.research.google.com/notebooks/data_table.ipynb>data table notebook</a>'\n",
              "            + ' to learn more about interactive tables.';\n",
              "          element.innerHTML = '';\n",
              "          dataTable['output_type'] = 'display_data';\n",
              "          await google.colab.output.renderOutput(dataTable, element);\n",
              "          const docLink = document.createElement('div');\n",
              "          docLink.innerHTML = docLinkHtml;\n",
              "          element.appendChild(docLink);\n",
              "        }\n",
              "      </script>\n",
              "    </div>\n",
              "  </div>\n",
              "  "
            ]
          },
          "metadata": {},
          "execution_count": 94
        }
      ]
    },
    {
      "cell_type": "markdown",
      "source": [
        "We have significant percentage of missing values in some of the columns, We will impute the median of these columns into the missing values. We do that below:"
      ],
      "metadata": {
        "id": "WIjht-nbVd8_"
      }
    },
    {
      "cell_type": "code",
      "source": [
        "# imputing missing values\n",
        "listings_df[review_list] = listings_df[review_list].fillna(listings_df[review_list].median())"
      ],
      "metadata": {
        "colab": {
          "base_uri": "https://localhost:8080/"
        },
        "id": "mDp7laNoUVvp",
        "outputId": "4ef55ae9-daed-4711-f943-da8585d7e032"
      },
      "execution_count": 95,
      "outputs": [
        {
          "output_type": "stream",
          "name": "stderr",
          "text": [
            "/usr/local/lib/python3.7/dist-packages/ipykernel_launcher.py:2: FutureWarning: Dropping of nuisance columns in DataFrame reductions (with 'numeric_only=None') is deprecated; in a future version this will raise TypeError.  Select only valid columns before calling the reduction.\n",
            "  \n"
          ]
        }
      ]
    },
    {
      "cell_type": "code",
      "source": [
        "listings_df[review_list].isna().sum()"
      ],
      "metadata": {
        "colab": {
          "base_uri": "https://localhost:8080/"
        },
        "id": "ItfAsTRmUVsR",
        "outputId": "2428fb3b-0ae0-41f9-cbd0-7a84b5a3ebd7"
      },
      "execution_count": 96,
      "outputs": [
        {
          "output_type": "execute_result",
          "data": {
            "text/plain": [
              "review_scores_checkin             0\n",
              "review_scores_location            0\n",
              "review_scores_value               0\n",
              "review_scores_accuracy            0\n",
              "review_scores_communication       0\n",
              "review_scores_cleanliness         0\n",
              "review_scores_rating              0\n",
              "last_review                    5143\n",
              "first_review                   5143\n",
              "reviews_per_month                 0\n",
              "dtype: int64"
            ]
          },
          "metadata": {},
          "execution_count": 96
        }
      ]
    },
    {
      "cell_type": "code",
      "source": [
        "# Dropping the columns below\n",
        "listings_df.drop(columns= review_list[-3:-1], inplace= True)"
      ],
      "metadata": {
        "id": "R-ZTERAeUVpE"
      },
      "execution_count": 100,
      "outputs": []
    },
    {
      "cell_type": "markdown",
      "source": [
        "#### Questions?\n",
        "1. What is the distribution of review scores?\n",
        "2. what is the relationship between review scores and superhosts?"
      ],
      "metadata": {
        "id": "bTvHi59WX9lG"
      }
    },
    {
      "cell_type": "code",
      "source": [],
      "metadata": {
        "id": "xhv8S1xPWmOC"
      },
      "execution_count": null,
      "outputs": []
    },
    {
      "cell_type": "code",
      "source": [],
      "metadata": {
        "id": "qHDf7xdsWmGz"
      },
      "execution_count": null,
      "outputs": []
    },
    {
      "cell_type": "code",
      "source": [],
      "metadata": {
        "id": "4-Tsy9hUWl-D"
      },
      "execution_count": null,
      "outputs": []
    },
    {
      "cell_type": "code",
      "source": [
        "null_counts[null_counts > 0].sort_values(ascending= False)"
      ],
      "metadata": {
        "colab": {
          "base_uri": "https://localhost:8080/"
        },
        "id": "Gmke_0tTMlNZ",
        "outputId": "7a4deb15-dddd-4ec4-e0aa-1f8a8cc29f61"
      },
      "execution_count": 84,
      "outputs": [
        {
          "output_type": "execute_result",
          "data": {
            "text/plain": [
              "neighbourhood_group_cleansed    100.000000\n",
              "license                         100.000000\n",
              "bathrooms                       100.000000\n",
              "calendar_updated                100.000000\n",
              "host_neighbourhood               97.275565\n",
              "host_about                       45.357880\n",
              "neighborhood_overview            38.581178\n",
              "neighbourhood                    38.581178\n",
              "review_scores_checkin            28.032587\n",
              "review_scores_location           28.032587\n",
              "review_scores_value              28.032587\n",
              "review_scores_accuracy           28.016717\n",
              "review_scores_communication      28.016717\n",
              "review_scores_cleanliness        28.011427\n",
              "review_scores_rating             27.207322\n",
              "last_review                      27.207322\n",
              "first_review                     27.207322\n",
              "reviews_per_month                27.207322\n",
              "host_response_time               22.181664\n",
              "host_response_rate               22.181664\n",
              "host_acceptance_rate             12.490081\n",
              "bedrooms                          6.290007\n",
              "description                       1.814527\n",
              "beds                              1.502407\n",
              "host_location                     0.481405\n",
              "bathrooms_text                    0.216897\n",
              "host_name                         0.005290\n",
              "host_since                        0.005290\n",
              "host_identity_verified            0.005290\n",
              "host_is_superhost                 0.005290\n",
              "host_has_profile_pic              0.005290\n",
              "host_picture_url                  0.005290\n",
              "host_listings_count               0.005290\n",
              "host_total_listings_count         0.005290\n",
              "host_thumbnail_url                0.005290\n",
              "dtype: float64"
            ]
          },
          "metadata": {},
          "execution_count": 84
        }
      ]
    },
    {
      "cell_type": "code",
      "source": [
        "listings_df.info()"
      ],
      "metadata": {
        "colab": {
          "base_uri": "https://localhost:8080/"
        },
        "id": "eZ4q3xKoMnMq",
        "outputId": "42f00785-2900-4321-ea31-53631b46bb37"
      },
      "execution_count": 64,
      "outputs": [
        {
          "output_type": "stream",
          "name": "stdout",
          "text": [
            "<class 'pandas.core.frame.DataFrame'>\n",
            "RangeIndex: 18903 entries, 0 to 18902\n",
            "Data columns (total 70 columns):\n",
            " #   Column                                        Non-Null Count  Dtype  \n",
            "---  ------                                        --------------  -----  \n",
            " 0   id                                            18903 non-null  int64  \n",
            " 1   listing_url                                   18903 non-null  object \n",
            " 2   scrape_id                                     18903 non-null  int64  \n",
            " 3   last_scraped                                  18903 non-null  object \n",
            " 4   name                                          18903 non-null  object \n",
            " 5   description                                   18560 non-null  object \n",
            " 6   neighborhood_overview                         11610 non-null  object \n",
            " 7   picture_url                                   18903 non-null  object \n",
            " 8   host_id                                       18903 non-null  int64  \n",
            " 9   host_url                                      18903 non-null  object \n",
            " 10  host_name                                     18902 non-null  object \n",
            " 11  host_since                                    18902 non-null  object \n",
            " 12  host_location                                 18812 non-null  object \n",
            " 13  host_about                                    10329 non-null  object \n",
            " 14  host_response_time                            14710 non-null  object \n",
            " 15  host_response_rate                            14710 non-null  object \n",
            " 16  host_acceptance_rate                          16542 non-null  object \n",
            " 17  host_is_superhost                             18902 non-null  object \n",
            " 18  host_thumbnail_url                            18902 non-null  object \n",
            " 19  host_picture_url                              18902 non-null  object \n",
            " 20  host_neighbourhood                            515 non-null    object \n",
            " 21  host_listings_count                           18902 non-null  float64\n",
            " 22  host_total_listings_count                     18902 non-null  float64\n",
            " 23  host_verifications                            18903 non-null  object \n",
            " 24  host_has_profile_pic                          18902 non-null  object \n",
            " 25  host_identity_verified                        18902 non-null  object \n",
            " 26  neighbourhood                                 11610 non-null  object \n",
            " 27  neighbourhood_cleansed                        18903 non-null  object \n",
            " 28  latitude                                      18903 non-null  float64\n",
            " 29  longitude                                     18903 non-null  float64\n",
            " 30  property_type                                 18903 non-null  object \n",
            " 31  room_type                                     18903 non-null  object \n",
            " 32  accommodates                                  18903 non-null  int64  \n",
            " 33  bathrooms_text                                18862 non-null  object \n",
            " 34  bedrooms                                      17714 non-null  float64\n",
            " 35  beds                                          18619 non-null  float64\n",
            " 36  amenities                                     18903 non-null  object \n",
            " 37  price                                         18903 non-null  object \n",
            " 38  minimum_nights                                18903 non-null  int64  \n",
            " 39  maximum_nights                                18903 non-null  int64  \n",
            " 40  minimum_minimum_nights                        18903 non-null  int64  \n",
            " 41  maximum_minimum_nights                        18903 non-null  int64  \n",
            " 42  minimum_maximum_nights                        18903 non-null  int64  \n",
            " 43  maximum_maximum_nights                        18903 non-null  int64  \n",
            " 44  minimum_nights_avg_ntm                        18903 non-null  float64\n",
            " 45  maximum_nights_avg_ntm                        18903 non-null  float64\n",
            " 46  has_availability                              18903 non-null  object \n",
            " 47  availability_30                               18903 non-null  int64  \n",
            " 48  availability_60                               18903 non-null  int64  \n",
            " 49  availability_90                               18903 non-null  int64  \n",
            " 50  availability_365                              18903 non-null  int64  \n",
            " 51  calendar_last_scraped                         18903 non-null  object \n",
            " 52  number_of_reviews                             18903 non-null  int64  \n",
            " 53  number_of_reviews_ltm                         18903 non-null  int64  \n",
            " 54  number_of_reviews_l30d                        18903 non-null  int64  \n",
            " 55  first_review                                  13760 non-null  object \n",
            " 56  last_review                                   13760 non-null  object \n",
            " 57  review_scores_rating                          13760 non-null  float64\n",
            " 58  review_scores_accuracy                        13607 non-null  float64\n",
            " 59  review_scores_cleanliness                     13608 non-null  float64\n",
            " 60  review_scores_checkin                         13604 non-null  float64\n",
            " 61  review_scores_communication                   13607 non-null  float64\n",
            " 62  review_scores_location                        13604 non-null  float64\n",
            " 63  review_scores_value                           13604 non-null  float64\n",
            " 64  instant_bookable                              18903 non-null  object \n",
            " 65  calculated_host_listings_count                18903 non-null  int64  \n",
            " 66  calculated_host_listings_count_entire_homes   18903 non-null  int64  \n",
            " 67  calculated_host_listings_count_private_rooms  18903 non-null  int64  \n",
            " 68  calculated_host_listings_count_shared_rooms   18903 non-null  int64  \n",
            " 69  reviews_per_month                             13760 non-null  float64\n",
            "dtypes: float64(16), int64(21), object(33)\n",
            "memory usage: 10.1+ MB\n"
          ]
        }
      ]
    },
    {
      "cell_type": "code",
      "source": [],
      "metadata": {
        "id": "fuoBxpsQNn_N"
      },
      "execution_count": null,
      "outputs": []
    }
  ]
}