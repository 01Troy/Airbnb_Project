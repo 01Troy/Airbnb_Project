{
  "nbformat": 4,
  "nbformat_minor": 0,
  "metadata": {
    "colab": {
      "provenance": [],
      "collapsed_sections": [],
      "toc_visible": true,
      "include_colab_link": true
    },
    "kernelspec": {
      "name": "python3",
      "display_name": "Python 3"
    },
    "language_info": {
      "name": "python"
    },
    "accelerator": "GPU",
    "gpuClass": "standard"
  },
  "cells": [
    {
      "cell_type": "markdown",
      "metadata": {
        "id": "view-in-github",
        "colab_type": "text"
      },
      "source": [
        "<a href=\"https://colab.research.google.com/github/Nickimani/Airbnb_Project/blob/master/Airbnb_Notebook.ipynb\" target=\"_parent\"><img src=\"https://colab.research.google.com/assets/colab-badge.svg\" alt=\"Open In Colab\"/></a>"
      ]
    },
    {
      "cell_type": "markdown",
      "source": [
        "# Airbnb Project"
      ],
      "metadata": {
        "id": "Ij50iGmRqp-j"
      }
    },
    {
      "cell_type": "markdown",
      "source": [
        "# 1. Business Understanding "
      ],
      "metadata": {
        "id": "DaXGDxsYqsPu"
      }
    },
    {
      "cell_type": "markdown",
      "source": [
        "# 2. Data Understanding"
      ],
      "metadata": {
        "id": "cQelEUY0q3sY"
      }
    },
    {
      "cell_type": "markdown",
      "source": [
        "# 3. Loading Data"
      ],
      "metadata": {
        "id": "aaKNPkdRriNQ"
      }
    },
    {
      "cell_type": "markdown",
      "source": [
        "## 3.1 Importing Libraries"
      ],
      "metadata": {
        "id": "oyVywQ4GtME7"
      }
    },
    {
      "cell_type": "code",
      "source": [
        "# connecting to drive\n",
        "from google.colab import drive\n",
        "drive.mount('/content/drive', timeout_ms=900000) # timeout = 15 min"
      ],
      "metadata": {
        "colab": {
          "base_uri": "https://localhost:8080/"
        },
        "id": "J-f17zv8O17l",
        "outputId": "7982c3da-c5b6-4e2b-b7c2-24591893900b"
      },
      "execution_count": null,
      "outputs": [
        {
          "output_type": "stream",
          "name": "stdout",
          "text": [
            "Mounted at /content/drive\n"
          ]
        }
      ]
    },
    {
      "cell_type": "code",
      "source": [
        "# installing necessary libraries\n",
        "# Reverse geoencoder\n",
        "!pip install reverse_geocoder \n",
        "# pandas profiling\n",
        "!pip install pandas_profiling"
      ],
      "metadata": {
        "colab": {
          "base_uri": "https://localhost:8080/"
        },
        "id": "BXJgSQ2a6Em4",
        "outputId": "ba214fb9-c775-4d5b-ae27-ecd121c25040"
      },
      "execution_count": null,
      "outputs": [
        {
          "output_type": "stream",
          "name": "stdout",
          "text": [
            "Looking in indexes: https://pypi.org/simple, https://us-python.pkg.dev/colab-wheels/public/simple/\n",
            "Collecting reverse_geocoder\n",
            "  Downloading reverse_geocoder-1.5.1.tar.gz (2.2 MB)\n",
            "\u001b[K     |████████████████████████████████| 2.2 MB 5.2 MB/s \n",
            "\u001b[?25hRequirement already satisfied: numpy>=1.11.0 in /usr/local/lib/python3.7/dist-packages (from reverse_geocoder) (1.21.6)\n",
            "Requirement already satisfied: scipy>=0.17.1 in /usr/local/lib/python3.7/dist-packages (from reverse_geocoder) (1.7.3)\n",
            "Building wheels for collected packages: reverse-geocoder\n",
            "  Building wheel for reverse-geocoder (setup.py) ... \u001b[?25l\u001b[?25hdone\n",
            "  Created wheel for reverse-geocoder: filename=reverse_geocoder-1.5.1-py3-none-any.whl size=2268088 sha256=c3f19d215619297473d077faf4fc811f5da3f489e594d352bb7062024f4a65a5\n",
            "  Stored in directory: /root/.cache/pip/wheels/34/6e/70/5423639428a2cac8ea7eb467214a4254b549b381f306a9c790\n",
            "Successfully built reverse-geocoder\n",
            "Installing collected packages: reverse-geocoder\n",
            "Successfully installed reverse-geocoder-1.5.1\n",
            "Looking in indexes: https://pypi.org/simple, https://us-python.pkg.dev/colab-wheels/public/simple/\n",
            "Requirement already satisfied: pandas_profiling in /usr/local/lib/python3.7/dist-packages (1.4.1)\n",
            "Requirement already satisfied: matplotlib>=1.4 in /usr/local/lib/python3.7/dist-packages (from pandas_profiling) (3.2.2)\n",
            "Requirement already satisfied: pandas>=0.19 in /usr/local/lib/python3.7/dist-packages (from pandas_profiling) (1.3.5)\n",
            "Requirement already satisfied: six>=1.9 in /usr/local/lib/python3.7/dist-packages (from pandas_profiling) (1.15.0)\n",
            "Requirement already satisfied: jinja2>=2.8 in /usr/local/lib/python3.7/dist-packages (from pandas_profiling) (2.11.3)\n",
            "Requirement already satisfied: MarkupSafe>=0.23 in /usr/local/lib/python3.7/dist-packages (from jinja2>=2.8->pandas_profiling) (2.0.1)\n",
            "Requirement already satisfied: numpy>=1.11 in /usr/local/lib/python3.7/dist-packages (from matplotlib>=1.4->pandas_profiling) (1.21.6)\n",
            "Requirement already satisfied: pyparsing!=2.0.4,!=2.1.2,!=2.1.6,>=2.0.1 in /usr/local/lib/python3.7/dist-packages (from matplotlib>=1.4->pandas_profiling) (3.0.9)\n",
            "Requirement already satisfied: cycler>=0.10 in /usr/local/lib/python3.7/dist-packages (from matplotlib>=1.4->pandas_profiling) (0.11.0)\n",
            "Requirement already satisfied: kiwisolver>=1.0.1 in /usr/local/lib/python3.7/dist-packages (from matplotlib>=1.4->pandas_profiling) (1.4.4)\n",
            "Requirement already satisfied: python-dateutil>=2.1 in /usr/local/lib/python3.7/dist-packages (from matplotlib>=1.4->pandas_profiling) (2.8.2)\n",
            "Requirement already satisfied: typing-extensions in /usr/local/lib/python3.7/dist-packages (from kiwisolver>=1.0.1->matplotlib>=1.4->pandas_profiling) (4.1.1)\n",
            "Requirement already satisfied: pytz>=2017.3 in /usr/local/lib/python3.7/dist-packages (from pandas>=0.19->pandas_profiling) (2022.2.1)\n"
          ]
        }
      ]
    },
    {
      "cell_type": "code",
      "execution_count": null,
      "metadata": {
        "id": "Y_1um1JfK6CJ"
      },
      "outputs": [],
      "source": [
        "# importing libraries\n",
        "\n",
        "import string\n",
        "import re\n",
        "import pandas as pd\n",
        "import pandas_profiling as pp\n",
        "import numpy as np\n",
        "import seaborn as sns\n",
        "import matplotlib.pyplot as plt\n",
        "%matplotlib inline\n",
        "\n",
        "import reverse_geocoder as rg"
      ]
    },
    {
      "cell_type": "markdown",
      "source": [
        "## 3.2 Loading The DataFrames"
      ],
      "metadata": {
        "id": "t-v0y1u8tWId"
      }
    },
    {
      "cell_type": "code",
      "source": [
        "# loading the DataFrames\n",
        "listings_df = pd.read_csv('/content/drive/Shareddrives/CapStone/Data/listings.csv')\n",
        "reviews_df = pd.read_csv('/content/drive/Shareddrives/CapStone/Data/reviews.csv')\n",
        "metadata_df = pd.read_csv('/content/drive/Shareddrives/CapStone/Data/data_dictionary.csv')"
      ],
      "metadata": {
        "id": "WnbKzUxZQPPH"
      },
      "execution_count": null,
      "outputs": []
    },
    {
      "cell_type": "code",
      "source": [
        "# a function returning the datastructure of a the input dataframe\n",
        "def data_structure(dataframe, data_name):\n",
        "    \"\"\" \n",
        "    Returns datashape and data info. \n",
        "    \"\"\"\n",
        "    print(f'{data_name} dataframe shape:', dataframe.shape)\n",
        "    print('-'*120)\n",
        "    print(dataframe.info())\n",
        "\n",
        "# a function returning a dataframe of the completeness of the features in the input dataframe\n",
        "def percentage_completeness(dataframe):\n",
        "    \"\"\"\n",
        "    Returns a dataframe showcasing the percentage completeness of the columns in a dataframe    \n",
        "    \"\"\"\n",
        "    # length of dataframe\n",
        "    tot_entries = len(dataframe) \n",
        "    # name of columns list\n",
        "    columns = list(dataframe.columns) \n",
        "    perc_completeness = [] \n",
        "\n",
        "    for column in columns:\n",
        "        # taking number of missing records\n",
        "        missing = dataframe[column].isna().sum() \n",
        "        # calculating percentage of completeness in column\n",
        "        perc_null_counts = (1 - (missing / tot_entries)) * 100 \n",
        "        perc_completeness.append(round(perc_null_counts, 2)) \n",
        "    # creating dataframe of column and completeness\n",
        "    output = pd.DataFrame(list(zip(columns, perc_completeness)), \n",
        "                          columns=['Feature', '%_completeness']) \n",
        "    # sorting the values\n",
        "    output = output.sort_values(by='%_completeness', ascending=True) \n",
        "    output.reset_index(inplace=True, drop=True)\n",
        "\n",
        "    return output\n",
        "\n",
        "# a function that pulls valuecounts from a column\n",
        "def value_count(dataframe, column):\n",
        "    \"\"\"\n",
        "    Returns the value counts for unique value in the column specified\n",
        "    \"\"\"\n",
        "    # getting the value counts\n",
        "    val_count = dataframe[column].value_counts() \n",
        "    # converting list output to dataframe\n",
        "    result = val_count.to_frame(name='Count(s)') \n",
        "\n",
        "    return result\n",
        "\n",
        "# a funtion for removing the % sign from the strings    \n",
        "def strip_signs(dataframe, column):\n",
        "    \"\"\"\n",
        "    Takes in a dataframe and the column to be cleaned. \n",
        "    The column should have a prefix of suffix that if removed,would make the column convertible to a numeric datatype\n",
        "    Returns a replacement of the input column cleaned and converted to float dtype.\n",
        "    \"\"\"\n",
        "    # making sure its a series\n",
        "    feature = pd.Series(dataframe[column]) \n",
        "    # striping % sign from string\n",
        "    feature = feature.str.strip(to_strip='%') \n",
        "    # converting datatype\n",
        "    final_feature = feature.astype('float') \n",
        "\n",
        "    return final_feature\n",
        "\n",
        "\n",
        "# a function for plotting a boxplot for a series\n",
        "def box_plot(series):\n",
        "    \"\"\"\n",
        "    Returns a boxplot of the column specified    \n",
        "    \"\"\"\n",
        "    fig, ax = plt.subplots(figsize=(20,10))\n",
        "    # creating the boxplot\n",
        "    ax = sns.boxplot(x=series, linewidth=1, palette='Set2') \n",
        "    # Give the plot a main title\n",
        "    ax.set_title(f'{series.name}, Airbnb Cape town', fontsize=30,pad=30) \n",
        "    # Set text for the x axis,\n",
        "    ax.set_xlabel(series.name, fontsize=20, labelpad=15)\n",
        "    sns.despine(offset=5, left=True);\n",
        "\n",
        "# Build a function for regex stripping maybe linked to strip signs"
      ],
      "metadata": {
        "id": "Fy8YE2R3t9xR"
      },
      "execution_count": null,
      "outputs": []
    },
    {
      "cell_type": "markdown",
      "source": [
        "### Data Structure"
      ],
      "metadata": {
        "id": "ibu663NGyq9f"
      }
    },
    {
      "cell_type": "code",
      "source": [
        "# data_structure(listings_df, 'listing_df') # listings df structure"
      ],
      "metadata": {
        "id": "3Ttlb-ZoS3Fg"
      },
      "execution_count": null,
      "outputs": []
    },
    {
      "cell_type": "markdown",
      "source": [
        "The listings dataFrame has 18903 rows with 74 columns. 41 of the columns are of numeric type and The remaining 33 are of object type."
      ],
      "metadata": {
        "id": "CxcLu9pF24XI"
      }
    },
    {
      "cell_type": "code",
      "source": [
        "# selecting important columns as per the business problem\n",
        "relevant_cols = ['id', 'listing_url', 'host_url', 'last_scraped', 'host_since', 'neighbourhood_cleansed', \n",
        "                 'host_response_time', 'host_response_rate', 'host_acceptance_rate', 'host_is_superhost', \n",
        "                 'latitude', 'longitude', 'room_type', 'accommodates', 'bathrooms_text', 'bedrooms', 'beds',\n",
        "                 'amenities', 'price', 'number_of_reviews', 'review_scores_rating', 'review_scores_accuracy',\n",
        "                 'review_scores_cleanliness', 'review_scores_checkin', 'review_scores_communication', 'review_scores_location',\n",
        "                 'instant_bookable', 'calculated_host_listings_count'\n",
        "                 ]\n",
        "# subsetting a dataframe of the relevant columns\n",
        "listings_df = listings_df[relevant_cols]"
      ],
      "metadata": {
        "id": "9WyFb2Lzy7rO"
      },
      "execution_count": null,
      "outputs": []
    },
    {
      "cell_type": "code",
      "source": [
        "# new_listings df structure\n",
        "data_structure(listings_df, 'listing_df') "
      ],
      "metadata": {
        "colab": {
          "base_uri": "https://localhost:8080/"
        },
        "id": "EBnnlRAv3nLu",
        "outputId": "f9c588b0-d679-4948-ddbc-c498ac7672b3"
      },
      "execution_count": null,
      "outputs": [
        {
          "output_type": "stream",
          "name": "stdout",
          "text": [
            "listing_df dataframe shape: (18903, 29)\n",
            "------------------------------------------------------------------------------------------------------------------------\n",
            "<class 'pandas.core.frame.DataFrame'>\n",
            "RangeIndex: 18903 entries, 0 to 18902\n",
            "Data columns (total 29 columns):\n",
            " #   Column                          Non-Null Count  Dtype  \n",
            "---  ------                          --------------  -----  \n",
            " 0   id                              18903 non-null  int64  \n",
            " 1   listing_url                     18903 non-null  object \n",
            " 2   host_url                        18903 non-null  object \n",
            " 3   last_scraped                    18903 non-null  object \n",
            " 4   host_since                      18902 non-null  object \n",
            " 5   host_location                   18812 non-null  object \n",
            " 6   neighbourhood_cleansed          18903 non-null  object \n",
            " 7   host_response_time              14710 non-null  object \n",
            " 8   host_response_rate              14710 non-null  object \n",
            " 9   host_acceptance_rate            16542 non-null  object \n",
            " 10  host_is_superhost               18902 non-null  object \n",
            " 11  latitude                        18903 non-null  float64\n",
            " 12  longitude                       18903 non-null  float64\n",
            " 13  room_type                       18903 non-null  object \n",
            " 14  accommodates                    18903 non-null  int64  \n",
            " 15  bathrooms_text                  18862 non-null  object \n",
            " 16  bedrooms                        17714 non-null  float64\n",
            " 17  beds                            18619 non-null  float64\n",
            " 18  amenities                       18903 non-null  object \n",
            " 19  price                           18903 non-null  object \n",
            " 20  number_of_reviews               18903 non-null  int64  \n",
            " 21  review_scores_rating            13760 non-null  float64\n",
            " 22  review_scores_accuracy          13607 non-null  float64\n",
            " 23  review_scores_cleanliness       13608 non-null  float64\n",
            " 24  review_scores_checkin           13604 non-null  float64\n",
            " 25  review_scores_communication     13607 non-null  float64\n",
            " 26  review_scores_location          13604 non-null  float64\n",
            " 27  instant_bookable                18903 non-null  object \n",
            " 28  calculated_host_listings_count  18903 non-null  int64  \n",
            "dtypes: float64(10), int64(4), object(15)\n",
            "memory usage: 4.2+ MB\n",
            "None\n"
          ]
        }
      ]
    },
    {
      "cell_type": "code",
      "source": [
        "# viewing listings df\n",
        "listings_df.head(3) "
      ],
      "metadata": {
        "id": "yOnUsIrhB4P6",
        "colab": {
          "base_uri": "https://localhost:8080/",
          "height": 341
        },
        "outputId": "3c0ffaf7-268d-49da-c328-b8609a1b61db"
      },
      "execution_count": null,
      "outputs": [
        {
          "output_type": "execute_result",
          "data": {
            "text/plain": [
              "         id                            listing_url  \\\n",
              "0  30332317  https://www.airbnb.com/rooms/30332317   \n",
              "1   9126484   https://www.airbnb.com/rooms/9126484   \n",
              "2  44482125  https://www.airbnb.com/rooms/44482125   \n",
              "\n",
              "                                     host_url last_scraped  host_since  \\\n",
              "0  https://www.airbnb.com/users/show/98554302   2022-06-22  2016-10-07   \n",
              "1   https://www.airbnb.com/users/show/3410651   2022-06-22  2012-08-29   \n",
              "2  https://www.airbnb.com/users/show/98554302   2022-06-22  2016-10-07   \n",
              "\n",
              "                           host_location neighbourhood_cleansed  \\\n",
              "0  Cape Town, Western Cape, South Africa                Ward 15   \n",
              "1  Cape Town, Western Cape, South Africa                Ward 61   \n",
              "2  Cape Town, Western Cape, South Africa                Ward 15   \n",
              "\n",
              "   host_response_time host_response_rate host_acceptance_rate  ...      price  \\\n",
              "0      within an hour               100%                 100%  ...  $1,350.00   \n",
              "1  within a few hours               100%                  50%  ...  $1,750.00   \n",
              "2      within an hour               100%                 100%  ...  $1,350.00   \n",
              "\n",
              "   number_of_reviews  review_scores_rating review_scores_accuracy  \\\n",
              "0                  2                  5.00                    5.0   \n",
              "1                 15                  4.87                    5.0   \n",
              "2                  0                   NaN                    NaN   \n",
              "\n",
              "   review_scores_cleanliness review_scores_checkin  \\\n",
              "0                        5.0                   5.0   \n",
              "1                        5.0                   5.0   \n",
              "2                        NaN                   NaN   \n",
              "\n",
              "   review_scores_communication  review_scores_location instant_bookable  \\\n",
              "0                          5.0                    5.00                t   \n",
              "1                          5.0                    4.93                f   \n",
              "2                          NaN                     NaN                t   \n",
              "\n",
              "  calculated_host_listings_count  \n",
              "0                              7  \n",
              "1                              1  \n",
              "2                              7  \n",
              "\n",
              "[3 rows x 29 columns]"
            ],
            "text/html": [
              "\n",
              "  <div id=\"df-8481c421-88e2-456c-ba61-7c499553c221\">\n",
              "    <div class=\"colab-df-container\">\n",
              "      <div>\n",
              "<style scoped>\n",
              "    .dataframe tbody tr th:only-of-type {\n",
              "        vertical-align: middle;\n",
              "    }\n",
              "\n",
              "    .dataframe tbody tr th {\n",
              "        vertical-align: top;\n",
              "    }\n",
              "\n",
              "    .dataframe thead th {\n",
              "        text-align: right;\n",
              "    }\n",
              "</style>\n",
              "<table border=\"1\" class=\"dataframe\">\n",
              "  <thead>\n",
              "    <tr style=\"text-align: right;\">\n",
              "      <th></th>\n",
              "      <th>id</th>\n",
              "      <th>listing_url</th>\n",
              "      <th>host_url</th>\n",
              "      <th>last_scraped</th>\n",
              "      <th>host_since</th>\n",
              "      <th>host_location</th>\n",
              "      <th>neighbourhood_cleansed</th>\n",
              "      <th>host_response_time</th>\n",
              "      <th>host_response_rate</th>\n",
              "      <th>host_acceptance_rate</th>\n",
              "      <th>...</th>\n",
              "      <th>price</th>\n",
              "      <th>number_of_reviews</th>\n",
              "      <th>review_scores_rating</th>\n",
              "      <th>review_scores_accuracy</th>\n",
              "      <th>review_scores_cleanliness</th>\n",
              "      <th>review_scores_checkin</th>\n",
              "      <th>review_scores_communication</th>\n",
              "      <th>review_scores_location</th>\n",
              "      <th>instant_bookable</th>\n",
              "      <th>calculated_host_listings_count</th>\n",
              "    </tr>\n",
              "  </thead>\n",
              "  <tbody>\n",
              "    <tr>\n",
              "      <th>0</th>\n",
              "      <td>30332317</td>\n",
              "      <td>https://www.airbnb.com/rooms/30332317</td>\n",
              "      <td>https://www.airbnb.com/users/show/98554302</td>\n",
              "      <td>2022-06-22</td>\n",
              "      <td>2016-10-07</td>\n",
              "      <td>Cape Town, Western Cape, South Africa</td>\n",
              "      <td>Ward 15</td>\n",
              "      <td>within an hour</td>\n",
              "      <td>100%</td>\n",
              "      <td>100%</td>\n",
              "      <td>...</td>\n",
              "      <td>$1,350.00</td>\n",
              "      <td>2</td>\n",
              "      <td>5.00</td>\n",
              "      <td>5.0</td>\n",
              "      <td>5.0</td>\n",
              "      <td>5.0</td>\n",
              "      <td>5.0</td>\n",
              "      <td>5.00</td>\n",
              "      <td>t</td>\n",
              "      <td>7</td>\n",
              "    </tr>\n",
              "    <tr>\n",
              "      <th>1</th>\n",
              "      <td>9126484</td>\n",
              "      <td>https://www.airbnb.com/rooms/9126484</td>\n",
              "      <td>https://www.airbnb.com/users/show/3410651</td>\n",
              "      <td>2022-06-22</td>\n",
              "      <td>2012-08-29</td>\n",
              "      <td>Cape Town, Western Cape, South Africa</td>\n",
              "      <td>Ward 61</td>\n",
              "      <td>within a few hours</td>\n",
              "      <td>100%</td>\n",
              "      <td>50%</td>\n",
              "      <td>...</td>\n",
              "      <td>$1,750.00</td>\n",
              "      <td>15</td>\n",
              "      <td>4.87</td>\n",
              "      <td>5.0</td>\n",
              "      <td>5.0</td>\n",
              "      <td>5.0</td>\n",
              "      <td>5.0</td>\n",
              "      <td>4.93</td>\n",
              "      <td>f</td>\n",
              "      <td>1</td>\n",
              "    </tr>\n",
              "    <tr>\n",
              "      <th>2</th>\n",
              "      <td>44482125</td>\n",
              "      <td>https://www.airbnb.com/rooms/44482125</td>\n",
              "      <td>https://www.airbnb.com/users/show/98554302</td>\n",
              "      <td>2022-06-22</td>\n",
              "      <td>2016-10-07</td>\n",
              "      <td>Cape Town, Western Cape, South Africa</td>\n",
              "      <td>Ward 15</td>\n",
              "      <td>within an hour</td>\n",
              "      <td>100%</td>\n",
              "      <td>100%</td>\n",
              "      <td>...</td>\n",
              "      <td>$1,350.00</td>\n",
              "      <td>0</td>\n",
              "      <td>NaN</td>\n",
              "      <td>NaN</td>\n",
              "      <td>NaN</td>\n",
              "      <td>NaN</td>\n",
              "      <td>NaN</td>\n",
              "      <td>NaN</td>\n",
              "      <td>t</td>\n",
              "      <td>7</td>\n",
              "    </tr>\n",
              "  </tbody>\n",
              "</table>\n",
              "<p>3 rows × 29 columns</p>\n",
              "</div>\n",
              "      <button class=\"colab-df-convert\" onclick=\"convertToInteractive('df-8481c421-88e2-456c-ba61-7c499553c221')\"\n",
              "              title=\"Convert this dataframe to an interactive table.\"\n",
              "              style=\"display:none;\">\n",
              "        \n",
              "  <svg xmlns=\"http://www.w3.org/2000/svg\" height=\"24px\"viewBox=\"0 0 24 24\"\n",
              "       width=\"24px\">\n",
              "    <path d=\"M0 0h24v24H0V0z\" fill=\"none\"/>\n",
              "    <path d=\"M18.56 5.44l.94 2.06.94-2.06 2.06-.94-2.06-.94-.94-2.06-.94 2.06-2.06.94zm-11 1L8.5 8.5l.94-2.06 2.06-.94-2.06-.94L8.5 2.5l-.94 2.06-2.06.94zm10 10l.94 2.06.94-2.06 2.06-.94-2.06-.94-.94-2.06-.94 2.06-2.06.94z\"/><path d=\"M17.41 7.96l-1.37-1.37c-.4-.4-.92-.59-1.43-.59-.52 0-1.04.2-1.43.59L10.3 9.45l-7.72 7.72c-.78.78-.78 2.05 0 2.83L4 21.41c.39.39.9.59 1.41.59.51 0 1.02-.2 1.41-.59l7.78-7.78 2.81-2.81c.8-.78.8-2.07 0-2.86zM5.41 20L4 18.59l7.72-7.72 1.47 1.35L5.41 20z\"/>\n",
              "  </svg>\n",
              "      </button>\n",
              "      \n",
              "  <style>\n",
              "    .colab-df-container {\n",
              "      display:flex;\n",
              "      flex-wrap:wrap;\n",
              "      gap: 12px;\n",
              "    }\n",
              "\n",
              "    .colab-df-convert {\n",
              "      background-color: #E8F0FE;\n",
              "      border: none;\n",
              "      border-radius: 50%;\n",
              "      cursor: pointer;\n",
              "      display: none;\n",
              "      fill: #1967D2;\n",
              "      height: 32px;\n",
              "      padding: 0 0 0 0;\n",
              "      width: 32px;\n",
              "    }\n",
              "\n",
              "    .colab-df-convert:hover {\n",
              "      background-color: #E2EBFA;\n",
              "      box-shadow: 0px 1px 2px rgba(60, 64, 67, 0.3), 0px 1px 3px 1px rgba(60, 64, 67, 0.15);\n",
              "      fill: #174EA6;\n",
              "    }\n",
              "\n",
              "    [theme=dark] .colab-df-convert {\n",
              "      background-color: #3B4455;\n",
              "      fill: #D2E3FC;\n",
              "    }\n",
              "\n",
              "    [theme=dark] .colab-df-convert:hover {\n",
              "      background-color: #434B5C;\n",
              "      box-shadow: 0px 1px 3px 1px rgba(0, 0, 0, 0.15);\n",
              "      filter: drop-shadow(0px 1px 2px rgba(0, 0, 0, 0.3));\n",
              "      fill: #FFFFFF;\n",
              "    }\n",
              "  </style>\n",
              "\n",
              "      <script>\n",
              "        const buttonEl =\n",
              "          document.querySelector('#df-8481c421-88e2-456c-ba61-7c499553c221 button.colab-df-convert');\n",
              "        buttonEl.style.display =\n",
              "          google.colab.kernel.accessAllowed ? 'block' : 'none';\n",
              "\n",
              "        async function convertToInteractive(key) {\n",
              "          const element = document.querySelector('#df-8481c421-88e2-456c-ba61-7c499553c221');\n",
              "          const dataTable =\n",
              "            await google.colab.kernel.invokeFunction('convertToInteractive',\n",
              "                                                     [key], {});\n",
              "          if (!dataTable) return;\n",
              "\n",
              "          const docLinkHtml = 'Like what you see? Visit the ' +\n",
              "            '<a target=\"_blank\" href=https://colab.research.google.com/notebooks/data_table.ipynb>data table notebook</a>'\n",
              "            + ' to learn more about interactive tables.';\n",
              "          element.innerHTML = '';\n",
              "          dataTable['output_type'] = 'display_data';\n",
              "          await google.colab.output.renderOutput(dataTable, element);\n",
              "          const docLink = document.createElement('div');\n",
              "          docLink.innerHTML = docLinkHtml;\n",
              "          element.appendChild(docLink);\n",
              "        }\n",
              "      </script>\n",
              "    </div>\n",
              "  </div>\n",
              "  "
            ]
          },
          "metadata": {},
          "execution_count": 10
        }
      ]
    },
    {
      "cell_type": "code",
      "source": [
        "# reviews_df structure\n",
        "data_structure(reviews_df, 'reviews_df') "
      ],
      "metadata": {
        "colab": {
          "base_uri": "https://localhost:8080/"
        },
        "id": "mtxkTzakVlTf",
        "outputId": "800fd892-e39b-4f14-9523-38a8496d7e3f"
      },
      "execution_count": null,
      "outputs": [
        {
          "output_type": "stream",
          "name": "stdout",
          "text": [
            "reviews_df dataframe shape: (363065, 6)\n",
            "------------------------------------------------------------------------------------------------------------------------\n",
            "<class 'pandas.core.frame.DataFrame'>\n",
            "RangeIndex: 363065 entries, 0 to 363064\n",
            "Data columns (total 6 columns):\n",
            " #   Column         Non-Null Count   Dtype \n",
            "---  ------         --------------   ----- \n",
            " 0   listing_id     363065 non-null  int64 \n",
            " 1   id             363065 non-null  int64 \n",
            " 2   date           363065 non-null  object\n",
            " 3   reviewer_id    363065 non-null  int64 \n",
            " 4   reviewer_name  363065 non-null  object\n",
            " 5   comments       363018 non-null  object\n",
            "dtypes: int64(3), object(3)\n",
            "memory usage: 16.6+ MB\n",
            "None\n"
          ]
        }
      ]
    },
    {
      "cell_type": "markdown",
      "source": [
        "Reviews dataframe has only 1 column with nan values.\n",
        "The nature of the comments column makes it difficult to fill the nan values."
      ],
      "metadata": {
        "id": "2KNpcv7hyyh0"
      }
    },
    {
      "cell_type": "code",
      "source": [
        "# dropping nan values in reviews_df\n",
        "reviews_df.dropna(inplace=True)\n",
        "\n",
        "# viewing reviews df\n",
        "reviews_df.head(3) "
      ],
      "metadata": {
        "colab": {
          "base_uri": "https://localhost:8080/",
          "height": 240
        },
        "id": "dA5JhGD5jKOt",
        "outputId": "10e6f752-2d3d-4edf-82b7-430c36852e60"
      },
      "execution_count": null,
      "outputs": [
        {
          "output_type": "execute_result",
          "data": {
            "text/plain": [
              "   listing_id                  id        date  reviewer_id reviewer_name  \\\n",
              "0    30332317           597314314  2020-01-25      7812767          Alan   \n",
              "1    30332317  532436007654450454  2022-01-04    367340518      Courtney   \n",
              "2     9126484            63063726  2016-02-20     50272994         Carla   \n",
              "\n",
              "                                            comments  \n",
              "0  Lovely rustic accommodation in a picturesque r...  \n",
              "1  The hosts are friendly and takes good care of ...  \n",
              "2  6 St Georges Building was lovely in every way....  "
            ],
            "text/html": [
              "\n",
              "  <div id=\"df-f955d20c-5f7a-4099-9a86-74daf439709b\">\n",
              "    <div class=\"colab-df-container\">\n",
              "      <div>\n",
              "<style scoped>\n",
              "    .dataframe tbody tr th:only-of-type {\n",
              "        vertical-align: middle;\n",
              "    }\n",
              "\n",
              "    .dataframe tbody tr th {\n",
              "        vertical-align: top;\n",
              "    }\n",
              "\n",
              "    .dataframe thead th {\n",
              "        text-align: right;\n",
              "    }\n",
              "</style>\n",
              "<table border=\"1\" class=\"dataframe\">\n",
              "  <thead>\n",
              "    <tr style=\"text-align: right;\">\n",
              "      <th></th>\n",
              "      <th>listing_id</th>\n",
              "      <th>id</th>\n",
              "      <th>date</th>\n",
              "      <th>reviewer_id</th>\n",
              "      <th>reviewer_name</th>\n",
              "      <th>comments</th>\n",
              "    </tr>\n",
              "  </thead>\n",
              "  <tbody>\n",
              "    <tr>\n",
              "      <th>0</th>\n",
              "      <td>30332317</td>\n",
              "      <td>597314314</td>\n",
              "      <td>2020-01-25</td>\n",
              "      <td>7812767</td>\n",
              "      <td>Alan</td>\n",
              "      <td>Lovely rustic accommodation in a picturesque r...</td>\n",
              "    </tr>\n",
              "    <tr>\n",
              "      <th>1</th>\n",
              "      <td>30332317</td>\n",
              "      <td>532436007654450454</td>\n",
              "      <td>2022-01-04</td>\n",
              "      <td>367340518</td>\n",
              "      <td>Courtney</td>\n",
              "      <td>The hosts are friendly and takes good care of ...</td>\n",
              "    </tr>\n",
              "    <tr>\n",
              "      <th>2</th>\n",
              "      <td>9126484</td>\n",
              "      <td>63063726</td>\n",
              "      <td>2016-02-20</td>\n",
              "      <td>50272994</td>\n",
              "      <td>Carla</td>\n",
              "      <td>6 St Georges Building was lovely in every way....</td>\n",
              "    </tr>\n",
              "  </tbody>\n",
              "</table>\n",
              "</div>\n",
              "      <button class=\"colab-df-convert\" onclick=\"convertToInteractive('df-f955d20c-5f7a-4099-9a86-74daf439709b')\"\n",
              "              title=\"Convert this dataframe to an interactive table.\"\n",
              "              style=\"display:none;\">\n",
              "        \n",
              "  <svg xmlns=\"http://www.w3.org/2000/svg\" height=\"24px\"viewBox=\"0 0 24 24\"\n",
              "       width=\"24px\">\n",
              "    <path d=\"M0 0h24v24H0V0z\" fill=\"none\"/>\n",
              "    <path d=\"M18.56 5.44l.94 2.06.94-2.06 2.06-.94-2.06-.94-.94-2.06-.94 2.06-2.06.94zm-11 1L8.5 8.5l.94-2.06 2.06-.94-2.06-.94L8.5 2.5l-.94 2.06-2.06.94zm10 10l.94 2.06.94-2.06 2.06-.94-2.06-.94-.94-2.06-.94 2.06-2.06.94z\"/><path d=\"M17.41 7.96l-1.37-1.37c-.4-.4-.92-.59-1.43-.59-.52 0-1.04.2-1.43.59L10.3 9.45l-7.72 7.72c-.78.78-.78 2.05 0 2.83L4 21.41c.39.39.9.59 1.41.59.51 0 1.02-.2 1.41-.59l7.78-7.78 2.81-2.81c.8-.78.8-2.07 0-2.86zM5.41 20L4 18.59l7.72-7.72 1.47 1.35L5.41 20z\"/>\n",
              "  </svg>\n",
              "      </button>\n",
              "      \n",
              "  <style>\n",
              "    .colab-df-container {\n",
              "      display:flex;\n",
              "      flex-wrap:wrap;\n",
              "      gap: 12px;\n",
              "    }\n",
              "\n",
              "    .colab-df-convert {\n",
              "      background-color: #E8F0FE;\n",
              "      border: none;\n",
              "      border-radius: 50%;\n",
              "      cursor: pointer;\n",
              "      display: none;\n",
              "      fill: #1967D2;\n",
              "      height: 32px;\n",
              "      padding: 0 0 0 0;\n",
              "      width: 32px;\n",
              "    }\n",
              "\n",
              "    .colab-df-convert:hover {\n",
              "      background-color: #E2EBFA;\n",
              "      box-shadow: 0px 1px 2px rgba(60, 64, 67, 0.3), 0px 1px 3px 1px rgba(60, 64, 67, 0.15);\n",
              "      fill: #174EA6;\n",
              "    }\n",
              "\n",
              "    [theme=dark] .colab-df-convert {\n",
              "      background-color: #3B4455;\n",
              "      fill: #D2E3FC;\n",
              "    }\n",
              "\n",
              "    [theme=dark] .colab-df-convert:hover {\n",
              "      background-color: #434B5C;\n",
              "      box-shadow: 0px 1px 3px 1px rgba(0, 0, 0, 0.15);\n",
              "      filter: drop-shadow(0px 1px 2px rgba(0, 0, 0, 0.3));\n",
              "      fill: #FFFFFF;\n",
              "    }\n",
              "  </style>\n",
              "\n",
              "      <script>\n",
              "        const buttonEl =\n",
              "          document.querySelector('#df-f955d20c-5f7a-4099-9a86-74daf439709b button.colab-df-convert');\n",
              "        buttonEl.style.display =\n",
              "          google.colab.kernel.accessAllowed ? 'block' : 'none';\n",
              "\n",
              "        async function convertToInteractive(key) {\n",
              "          const element = document.querySelector('#df-f955d20c-5f7a-4099-9a86-74daf439709b');\n",
              "          const dataTable =\n",
              "            await google.colab.kernel.invokeFunction('convertToInteractive',\n",
              "                                                     [key], {});\n",
              "          if (!dataTable) return;\n",
              "\n",
              "          const docLinkHtml = 'Like what you see? Visit the ' +\n",
              "            '<a target=\"_blank\" href=https://colab.research.google.com/notebooks/data_table.ipynb>data table notebook</a>'\n",
              "            + ' to learn more about interactive tables.';\n",
              "          element.innerHTML = '';\n",
              "          dataTable['output_type'] = 'display_data';\n",
              "          await google.colab.output.renderOutput(dataTable, element);\n",
              "          const docLink = document.createElement('div');\n",
              "          docLink.innerHTML = docLinkHtml;\n",
              "          element.appendChild(docLink);\n",
              "        }\n",
              "      </script>\n",
              "    </div>\n",
              "  </div>\n",
              "  "
            ]
          },
          "metadata": {},
          "execution_count": 12
        }
      ]
    },
    {
      "cell_type": "markdown",
      "source": [
        "# 4. Exploratory Data Analysis"
      ],
      "metadata": {
        "id": "80y8n49I9JhI"
      }
    },
    {
      "cell_type": "markdown",
      "source": [
        "## 4.1 Completeness"
      ],
      "metadata": {
        "id": "HWQYbVRHX3rg"
      }
    },
    {
      "cell_type": "code",
      "source": [
        "# checking percentage null value counts in listings \n",
        "listings_completeness = percentage_completeness(listings_df) \n",
        "# filtering out columns with complete records\n",
        "listings_completeness = listings_completeness[listings_completeness['%_completeness'] < 100] \n",
        "listings_completeness"
      ],
      "metadata": {
        "colab": {
          "base_uri": "https://localhost:8080/",
          "height": 520
        },
        "id": "zM3qVcsfGOgZ",
        "outputId": "d1ce705c-f503-41bf-ea4c-a21eda46c7a1"
      },
      "execution_count": null,
      "outputs": [
        {
          "output_type": "execute_result",
          "data": {
            "text/plain": [
              "                        Feature  %_completeness\n",
              "0        review_scores_location           71.97\n",
              "1         review_scores_checkin           71.97\n",
              "2   review_scores_communication           71.98\n",
              "3        review_scores_accuracy           71.98\n",
              "4     review_scores_cleanliness           71.99\n",
              "5          review_scores_rating           72.79\n",
              "6            host_response_rate           77.82\n",
              "7            host_response_time           77.82\n",
              "8          host_acceptance_rate           87.51\n",
              "9                      bedrooms           93.71\n",
              "10                         beds           98.50\n",
              "11                host_location           99.52\n",
              "12               bathrooms_text           99.78\n",
              "13                   host_since           99.99\n",
              "14            host_is_superhost           99.99"
            ],
            "text/html": [
              "\n",
              "  <div id=\"df-4d65385c-9b0b-4467-8812-28caec45f193\">\n",
              "    <div class=\"colab-df-container\">\n",
              "      <div>\n",
              "<style scoped>\n",
              "    .dataframe tbody tr th:only-of-type {\n",
              "        vertical-align: middle;\n",
              "    }\n",
              "\n",
              "    .dataframe tbody tr th {\n",
              "        vertical-align: top;\n",
              "    }\n",
              "\n",
              "    .dataframe thead th {\n",
              "        text-align: right;\n",
              "    }\n",
              "</style>\n",
              "<table border=\"1\" class=\"dataframe\">\n",
              "  <thead>\n",
              "    <tr style=\"text-align: right;\">\n",
              "      <th></th>\n",
              "      <th>Feature</th>\n",
              "      <th>%_completeness</th>\n",
              "    </tr>\n",
              "  </thead>\n",
              "  <tbody>\n",
              "    <tr>\n",
              "      <th>0</th>\n",
              "      <td>review_scores_location</td>\n",
              "      <td>71.97</td>\n",
              "    </tr>\n",
              "    <tr>\n",
              "      <th>1</th>\n",
              "      <td>review_scores_checkin</td>\n",
              "      <td>71.97</td>\n",
              "    </tr>\n",
              "    <tr>\n",
              "      <th>2</th>\n",
              "      <td>review_scores_communication</td>\n",
              "      <td>71.98</td>\n",
              "    </tr>\n",
              "    <tr>\n",
              "      <th>3</th>\n",
              "      <td>review_scores_accuracy</td>\n",
              "      <td>71.98</td>\n",
              "    </tr>\n",
              "    <tr>\n",
              "      <th>4</th>\n",
              "      <td>review_scores_cleanliness</td>\n",
              "      <td>71.99</td>\n",
              "    </tr>\n",
              "    <tr>\n",
              "      <th>5</th>\n",
              "      <td>review_scores_rating</td>\n",
              "      <td>72.79</td>\n",
              "    </tr>\n",
              "    <tr>\n",
              "      <th>6</th>\n",
              "      <td>host_response_rate</td>\n",
              "      <td>77.82</td>\n",
              "    </tr>\n",
              "    <tr>\n",
              "      <th>7</th>\n",
              "      <td>host_response_time</td>\n",
              "      <td>77.82</td>\n",
              "    </tr>\n",
              "    <tr>\n",
              "      <th>8</th>\n",
              "      <td>host_acceptance_rate</td>\n",
              "      <td>87.51</td>\n",
              "    </tr>\n",
              "    <tr>\n",
              "      <th>9</th>\n",
              "      <td>bedrooms</td>\n",
              "      <td>93.71</td>\n",
              "    </tr>\n",
              "    <tr>\n",
              "      <th>10</th>\n",
              "      <td>beds</td>\n",
              "      <td>98.50</td>\n",
              "    </tr>\n",
              "    <tr>\n",
              "      <th>11</th>\n",
              "      <td>host_location</td>\n",
              "      <td>99.52</td>\n",
              "    </tr>\n",
              "    <tr>\n",
              "      <th>12</th>\n",
              "      <td>bathrooms_text</td>\n",
              "      <td>99.78</td>\n",
              "    </tr>\n",
              "    <tr>\n",
              "      <th>13</th>\n",
              "      <td>host_since</td>\n",
              "      <td>99.99</td>\n",
              "    </tr>\n",
              "    <tr>\n",
              "      <th>14</th>\n",
              "      <td>host_is_superhost</td>\n",
              "      <td>99.99</td>\n",
              "    </tr>\n",
              "  </tbody>\n",
              "</table>\n",
              "</div>\n",
              "      <button class=\"colab-df-convert\" onclick=\"convertToInteractive('df-4d65385c-9b0b-4467-8812-28caec45f193')\"\n",
              "              title=\"Convert this dataframe to an interactive table.\"\n",
              "              style=\"display:none;\">\n",
              "        \n",
              "  <svg xmlns=\"http://www.w3.org/2000/svg\" height=\"24px\"viewBox=\"0 0 24 24\"\n",
              "       width=\"24px\">\n",
              "    <path d=\"M0 0h24v24H0V0z\" fill=\"none\"/>\n",
              "    <path d=\"M18.56 5.44l.94 2.06.94-2.06 2.06-.94-2.06-.94-.94-2.06-.94 2.06-2.06.94zm-11 1L8.5 8.5l.94-2.06 2.06-.94-2.06-.94L8.5 2.5l-.94 2.06-2.06.94zm10 10l.94 2.06.94-2.06 2.06-.94-2.06-.94-.94-2.06-.94 2.06-2.06.94z\"/><path d=\"M17.41 7.96l-1.37-1.37c-.4-.4-.92-.59-1.43-.59-.52 0-1.04.2-1.43.59L10.3 9.45l-7.72 7.72c-.78.78-.78 2.05 0 2.83L4 21.41c.39.39.9.59 1.41.59.51 0 1.02-.2 1.41-.59l7.78-7.78 2.81-2.81c.8-.78.8-2.07 0-2.86zM5.41 20L4 18.59l7.72-7.72 1.47 1.35L5.41 20z\"/>\n",
              "  </svg>\n",
              "      </button>\n",
              "      \n",
              "  <style>\n",
              "    .colab-df-container {\n",
              "      display:flex;\n",
              "      flex-wrap:wrap;\n",
              "      gap: 12px;\n",
              "    }\n",
              "\n",
              "    .colab-df-convert {\n",
              "      background-color: #E8F0FE;\n",
              "      border: none;\n",
              "      border-radius: 50%;\n",
              "      cursor: pointer;\n",
              "      display: none;\n",
              "      fill: #1967D2;\n",
              "      height: 32px;\n",
              "      padding: 0 0 0 0;\n",
              "      width: 32px;\n",
              "    }\n",
              "\n",
              "    .colab-df-convert:hover {\n",
              "      background-color: #E2EBFA;\n",
              "      box-shadow: 0px 1px 2px rgba(60, 64, 67, 0.3), 0px 1px 3px 1px rgba(60, 64, 67, 0.15);\n",
              "      fill: #174EA6;\n",
              "    }\n",
              "\n",
              "    [theme=dark] .colab-df-convert {\n",
              "      background-color: #3B4455;\n",
              "      fill: #D2E3FC;\n",
              "    }\n",
              "\n",
              "    [theme=dark] .colab-df-convert:hover {\n",
              "      background-color: #434B5C;\n",
              "      box-shadow: 0px 1px 3px 1px rgba(0, 0, 0, 0.15);\n",
              "      filter: drop-shadow(0px 1px 2px rgba(0, 0, 0, 0.3));\n",
              "      fill: #FFFFFF;\n",
              "    }\n",
              "  </style>\n",
              "\n",
              "      <script>\n",
              "        const buttonEl =\n",
              "          document.querySelector('#df-4d65385c-9b0b-4467-8812-28caec45f193 button.colab-df-convert');\n",
              "        buttonEl.style.display =\n",
              "          google.colab.kernel.accessAllowed ? 'block' : 'none';\n",
              "\n",
              "        async function convertToInteractive(key) {\n",
              "          const element = document.querySelector('#df-4d65385c-9b0b-4467-8812-28caec45f193');\n",
              "          const dataTable =\n",
              "            await google.colab.kernel.invokeFunction('convertToInteractive',\n",
              "                                                     [key], {});\n",
              "          if (!dataTable) return;\n",
              "\n",
              "          const docLinkHtml = 'Like what you see? Visit the ' +\n",
              "            '<a target=\"_blank\" href=https://colab.research.google.com/notebooks/data_table.ipynb>data table notebook</a>'\n",
              "            + ' to learn more about interactive tables.';\n",
              "          element.innerHTML = '';\n",
              "          dataTable['output_type'] = 'display_data';\n",
              "          await google.colab.output.renderOutput(dataTable, element);\n",
              "          const docLink = document.createElement('div');\n",
              "          docLink.innerHTML = docLinkHtml;\n",
              "          element.appendChild(docLink);\n",
              "        }\n",
              "      </script>\n",
              "    </div>\n",
              "  </div>\n",
              "  "
            ]
          },
          "metadata": {},
          "execution_count": 13
        }
      ]
    },
    {
      "cell_type": "code",
      "source": [
        "# checking number of columns with missing values\n",
        "print('The number of columns with missing values are:', len(listings_completeness))"
      ],
      "metadata": {
        "colab": {
          "base_uri": "https://localhost:8080/"
        },
        "id": "IQ1CtHVx7USy",
        "outputId": "0e4499ef-7d7e-445d-af2d-6ed8be815ca8"
      },
      "execution_count": null,
      "outputs": [
        {
          "output_type": "stream",
          "name": "stdout",
          "text": [
            "The number of columns with missing values are: 15\n"
          ]
        }
      ]
    },
    {
      "cell_type": "markdown",
      "source": [
        "### 'review_score' features\n",
        "\n",
        "Dealing with columns that have 'review_score' in their labels. \n",
        "\n",
        "There is ~30% missing values in 'review_score_' columns."
      ],
      "metadata": {
        "id": "2K3wIG6AQccU"
      }
    },
    {
      "cell_type": "code",
      "source": [
        "# Creating a list of the review_score columns\n",
        "review_list = [column for column in listings_df.columns if 'review_score' in column.strip()]\n",
        "# subsetting a dataframe of review list\n",
        "review_cols_df = listings_df[review_list].copy() \n",
        "# checking the datatype for these columns\n",
        "listings_df[review_list].dtypes"
      ],
      "metadata": {
        "colab": {
          "base_uri": "https://localhost:8080/"
        },
        "id": "UwEgF7EePLVw",
        "outputId": "4946f319-a882-44be-e8b9-c00606f04d97"
      },
      "execution_count": null,
      "outputs": [
        {
          "output_type": "execute_result",
          "data": {
            "text/plain": [
              "review_scores_rating           float64\n",
              "review_scores_accuracy         float64\n",
              "review_scores_cleanliness      float64\n",
              "review_scores_checkin          float64\n",
              "review_scores_communication    float64\n",
              "review_scores_location         float64\n",
              "dtype: object"
            ]
          },
          "metadata": {},
          "execution_count": 15
        }
      ]
    },
    {
      "cell_type": "markdown",
      "source": [
        "All review_score_ columns are of numeric type."
      ],
      "metadata": {
        "id": "Xaz1WtenXAZr"
      }
    },
    {
      "cell_type": "code",
      "source": [
        "# checking the column descriptions\n",
        "review_cols_df.describe().T "
      ],
      "metadata": {
        "colab": {
          "base_uri": "https://localhost:8080/",
          "height": 238
        },
        "id": "Ecxsez7lTAeA",
        "outputId": "74c4db8d-0e40-43fc-bc61-66ac558124fc"
      },
      "execution_count": null,
      "outputs": [
        {
          "output_type": "execute_result",
          "data": {
            "text/plain": [
              "                               count      mean       std  min   25%   50%  \\\n",
              "review_scores_rating         13760.0  4.666231  0.684017  0.0  4.64  4.86   \n",
              "review_scores_accuracy       13607.0  4.757262  0.490736  0.0  4.73  4.91   \n",
              "review_scores_cleanliness    13608.0  4.730264  0.492878  0.0  4.67  4.89   \n",
              "review_scores_checkin        13604.0  4.808905  0.462444  0.0  4.81  4.97   \n",
              "review_scores_communication  13607.0  4.802807  0.479074  0.0  4.81  4.97   \n",
              "review_scores_location       13604.0  4.803673  0.414366  0.0  4.78  4.93   \n",
              "\n",
              "                             75%  max  \n",
              "review_scores_rating         5.0  5.0  \n",
              "review_scores_accuracy       5.0  5.0  \n",
              "review_scores_cleanliness    5.0  5.0  \n",
              "review_scores_checkin        5.0  5.0  \n",
              "review_scores_communication  5.0  5.0  \n",
              "review_scores_location       5.0  5.0  "
            ],
            "text/html": [
              "\n",
              "  <div id=\"df-f8477ade-180f-4140-823a-8b2e97142336\">\n",
              "    <div class=\"colab-df-container\">\n",
              "      <div>\n",
              "<style scoped>\n",
              "    .dataframe tbody tr th:only-of-type {\n",
              "        vertical-align: middle;\n",
              "    }\n",
              "\n",
              "    .dataframe tbody tr th {\n",
              "        vertical-align: top;\n",
              "    }\n",
              "\n",
              "    .dataframe thead th {\n",
              "        text-align: right;\n",
              "    }\n",
              "</style>\n",
              "<table border=\"1\" class=\"dataframe\">\n",
              "  <thead>\n",
              "    <tr style=\"text-align: right;\">\n",
              "      <th></th>\n",
              "      <th>count</th>\n",
              "      <th>mean</th>\n",
              "      <th>std</th>\n",
              "      <th>min</th>\n",
              "      <th>25%</th>\n",
              "      <th>50%</th>\n",
              "      <th>75%</th>\n",
              "      <th>max</th>\n",
              "    </tr>\n",
              "  </thead>\n",
              "  <tbody>\n",
              "    <tr>\n",
              "      <th>review_scores_rating</th>\n",
              "      <td>13760.0</td>\n",
              "      <td>4.666231</td>\n",
              "      <td>0.684017</td>\n",
              "      <td>0.0</td>\n",
              "      <td>4.64</td>\n",
              "      <td>4.86</td>\n",
              "      <td>5.0</td>\n",
              "      <td>5.0</td>\n",
              "    </tr>\n",
              "    <tr>\n",
              "      <th>review_scores_accuracy</th>\n",
              "      <td>13607.0</td>\n",
              "      <td>4.757262</td>\n",
              "      <td>0.490736</td>\n",
              "      <td>0.0</td>\n",
              "      <td>4.73</td>\n",
              "      <td>4.91</td>\n",
              "      <td>5.0</td>\n",
              "      <td>5.0</td>\n",
              "    </tr>\n",
              "    <tr>\n",
              "      <th>review_scores_cleanliness</th>\n",
              "      <td>13608.0</td>\n",
              "      <td>4.730264</td>\n",
              "      <td>0.492878</td>\n",
              "      <td>0.0</td>\n",
              "      <td>4.67</td>\n",
              "      <td>4.89</td>\n",
              "      <td>5.0</td>\n",
              "      <td>5.0</td>\n",
              "    </tr>\n",
              "    <tr>\n",
              "      <th>review_scores_checkin</th>\n",
              "      <td>13604.0</td>\n",
              "      <td>4.808905</td>\n",
              "      <td>0.462444</td>\n",
              "      <td>0.0</td>\n",
              "      <td>4.81</td>\n",
              "      <td>4.97</td>\n",
              "      <td>5.0</td>\n",
              "      <td>5.0</td>\n",
              "    </tr>\n",
              "    <tr>\n",
              "      <th>review_scores_communication</th>\n",
              "      <td>13607.0</td>\n",
              "      <td>4.802807</td>\n",
              "      <td>0.479074</td>\n",
              "      <td>0.0</td>\n",
              "      <td>4.81</td>\n",
              "      <td>4.97</td>\n",
              "      <td>5.0</td>\n",
              "      <td>5.0</td>\n",
              "    </tr>\n",
              "    <tr>\n",
              "      <th>review_scores_location</th>\n",
              "      <td>13604.0</td>\n",
              "      <td>4.803673</td>\n",
              "      <td>0.414366</td>\n",
              "      <td>0.0</td>\n",
              "      <td>4.78</td>\n",
              "      <td>4.93</td>\n",
              "      <td>5.0</td>\n",
              "      <td>5.0</td>\n",
              "    </tr>\n",
              "  </tbody>\n",
              "</table>\n",
              "</div>\n",
              "      <button class=\"colab-df-convert\" onclick=\"convertToInteractive('df-f8477ade-180f-4140-823a-8b2e97142336')\"\n",
              "              title=\"Convert this dataframe to an interactive table.\"\n",
              "              style=\"display:none;\">\n",
              "        \n",
              "  <svg xmlns=\"http://www.w3.org/2000/svg\" height=\"24px\"viewBox=\"0 0 24 24\"\n",
              "       width=\"24px\">\n",
              "    <path d=\"M0 0h24v24H0V0z\" fill=\"none\"/>\n",
              "    <path d=\"M18.56 5.44l.94 2.06.94-2.06 2.06-.94-2.06-.94-.94-2.06-.94 2.06-2.06.94zm-11 1L8.5 8.5l.94-2.06 2.06-.94-2.06-.94L8.5 2.5l-.94 2.06-2.06.94zm10 10l.94 2.06.94-2.06 2.06-.94-2.06-.94-.94-2.06-.94 2.06-2.06.94z\"/><path d=\"M17.41 7.96l-1.37-1.37c-.4-.4-.92-.59-1.43-.59-.52 0-1.04.2-1.43.59L10.3 9.45l-7.72 7.72c-.78.78-.78 2.05 0 2.83L4 21.41c.39.39.9.59 1.41.59.51 0 1.02-.2 1.41-.59l7.78-7.78 2.81-2.81c.8-.78.8-2.07 0-2.86zM5.41 20L4 18.59l7.72-7.72 1.47 1.35L5.41 20z\"/>\n",
              "  </svg>\n",
              "      </button>\n",
              "      \n",
              "  <style>\n",
              "    .colab-df-container {\n",
              "      display:flex;\n",
              "      flex-wrap:wrap;\n",
              "      gap: 12px;\n",
              "    }\n",
              "\n",
              "    .colab-df-convert {\n",
              "      background-color: #E8F0FE;\n",
              "      border: none;\n",
              "      border-radius: 50%;\n",
              "      cursor: pointer;\n",
              "      display: none;\n",
              "      fill: #1967D2;\n",
              "      height: 32px;\n",
              "      padding: 0 0 0 0;\n",
              "      width: 32px;\n",
              "    }\n",
              "\n",
              "    .colab-df-convert:hover {\n",
              "      background-color: #E2EBFA;\n",
              "      box-shadow: 0px 1px 2px rgba(60, 64, 67, 0.3), 0px 1px 3px 1px rgba(60, 64, 67, 0.15);\n",
              "      fill: #174EA6;\n",
              "    }\n",
              "\n",
              "    [theme=dark] .colab-df-convert {\n",
              "      background-color: #3B4455;\n",
              "      fill: #D2E3FC;\n",
              "    }\n",
              "\n",
              "    [theme=dark] .colab-df-convert:hover {\n",
              "      background-color: #434B5C;\n",
              "      box-shadow: 0px 1px 3px 1px rgba(0, 0, 0, 0.15);\n",
              "      filter: drop-shadow(0px 1px 2px rgba(0, 0, 0, 0.3));\n",
              "      fill: #FFFFFF;\n",
              "    }\n",
              "  </style>\n",
              "\n",
              "      <script>\n",
              "        const buttonEl =\n",
              "          document.querySelector('#df-f8477ade-180f-4140-823a-8b2e97142336 button.colab-df-convert');\n",
              "        buttonEl.style.display =\n",
              "          google.colab.kernel.accessAllowed ? 'block' : 'none';\n",
              "\n",
              "        async function convertToInteractive(key) {\n",
              "          const element = document.querySelector('#df-f8477ade-180f-4140-823a-8b2e97142336');\n",
              "          const dataTable =\n",
              "            await google.colab.kernel.invokeFunction('convertToInteractive',\n",
              "                                                     [key], {});\n",
              "          if (!dataTable) return;\n",
              "\n",
              "          const docLinkHtml = 'Like what you see? Visit the ' +\n",
              "            '<a target=\"_blank\" href=https://colab.research.google.com/notebooks/data_table.ipynb>data table notebook</a>'\n",
              "            + ' to learn more about interactive tables.';\n",
              "          element.innerHTML = '';\n",
              "          dataTable['output_type'] = 'display_data';\n",
              "          await google.colab.output.renderOutput(dataTable, element);\n",
              "          const docLink = document.createElement('div');\n",
              "          docLink.innerHTML = docLinkHtml;\n",
              "          element.appendChild(docLink);\n",
              "        }\n",
              "      </script>\n",
              "    </div>\n",
              "  </div>\n",
              "  "
            ]
          },
          "metadata": {},
          "execution_count": 16
        }
      ]
    },
    {
      "cell_type": "markdown",
      "source": [
        "The missing values will be filled with the median of the respective column."
      ],
      "metadata": {
        "id": "WIjht-nbVd8_"
      }
    },
    {
      "cell_type": "code",
      "source": [
        "# imputing missing values with median\n",
        "listings_df[review_list] = listings_df[review_list].fillna(listings_df[review_list].median())"
      ],
      "metadata": {
        "id": "mDp7laNoUVvp"
      },
      "execution_count": null,
      "outputs": []
    },
    {
      "cell_type": "code",
      "source": [
        "# rounding off ratings values \n",
        "listings_df[review_list] = listings_df[review_list].round(0)"
      ],
      "metadata": {
        "id": "zWp0MKMfSi21"
      },
      "execution_count": null,
      "outputs": []
    },
    {
      "cell_type": "code",
      "source": [
        "# checking value counts\n",
        "for feature in review_list:\n",
        "    print(value_count(listings_df, feature))\n",
        "    # limiting long output"
      ],
      "metadata": {
        "id": "HnO4PnOJYAYB",
        "colab": {
          "base_uri": "https://localhost:8080/"
        },
        "outputId": "20f32f6a-6cdf-4a03-a618-2cda22aa1755"
      },
      "execution_count": null,
      "outputs": [
        {
          "output_type": "stream",
          "name": "stdout",
          "text": [
            "     Count(s)\n",
            "5.0     15098\n",
            "4.0      1941\n",
            "1.0       219\n",
            "3.0       171\n",
            "2.0        45\n",
            "     Count(s)\n",
            "5.0     15750\n",
            "4.0      1441\n",
            "3.0       148\n",
            "1.0        94\n",
            "2.0        41\n",
            "     Count(s)\n",
            "5.0     15400\n",
            "4.0      1758\n",
            "3.0       187\n",
            "1.0        77\n",
            "2.0        52\n",
            "     Count(s)\n",
            "5.0     16134\n",
            "4.0      1107\n",
            "3.0       115\n",
            "1.0        91\n",
            "2.0        27\n",
            "     Count(s)\n",
            "5.0     16073\n",
            "4.0      1153\n",
            "3.0       115\n",
            "1.0        91\n",
            "2.0        42\n",
            "     Count(s)\n",
            "5.0     16137\n",
            "4.0      1165\n",
            "3.0        83\n",
            "1.0        61\n",
            "2.0        28\n"
          ]
        }
      ]
    },
    {
      "cell_type": "markdown",
      "source": [
        "The number of rating scores that equal to 0 after rouding off are negligible compared to the size of the dataset and other class couts. A zero rating doesn't make much sense, changing them to 1 is more sensible."
      ],
      "metadata": {
        "id": "r4eqWEeehTpl"
      }
    },
    {
      "cell_type": "code",
      "source": [
        "for feature in review_list:\n",
        "    # replacing 0 values with 1\n",
        "    listings_df[feature] = listings_df[feature].replace(to_replace=0, value=1) "
      ],
      "metadata": {
        "id": "IJjwljhBh0Jo"
      },
      "execution_count": null,
      "outputs": []
    },
    {
      "cell_type": "markdown",
      "source": [
        "### bedrooms & beds features\n",
        "~6% of data is missing from bedrooms and ~2% is missing from beds columns."
      ],
      "metadata": {
        "id": "qO-THCM64iNK"
      }
    },
    {
      "cell_type": "code",
      "source": [
        "# bedrooms unique values\n",
        "print(listings_df['bedrooms'].unique()[:23])\n",
        "print()\n",
        "# beds unique values\n",
        "print(listings_df['beds'].unique()[:10])"
      ],
      "metadata": {
        "colab": {
          "base_uri": "https://localhost:8080/"
        },
        "id": "utxKvSf9_sBO",
        "outputId": "6ac52329-f8b2-42f6-c4b0-4e6c21b3c4f9"
      },
      "execution_count": null,
      "outputs": [
        {
          "output_type": "stream",
          "name": "stdout",
          "text": [
            "[ 1.  2.  5.  3. nan  6.  4. 10.  7.  8.  9. 12. 16. 19. 41. 40. 11. 14.\n",
            " 13. 18. 17. 15. 20.]\n",
            "\n",
            "[ 1.  3.  2.  4.  5.  6.  8. nan  7. 49.]\n"
          ]
        }
      ]
    },
    {
      "cell_type": "markdown",
      "source": [
        "There seems to be outliers in these columns. "
      ],
      "metadata": {
        "id": "rMun0I3qkBHu"
      }
    },
    {
      "cell_type": "code",
      "source": [
        "# checking if there are outliers in the bedrooms column\n",
        "box_plot(listings_df['bedrooms'])"
      ],
      "metadata": {
        "colab": {
          "base_uri": "https://localhost:8080/",
          "height": 530
        },
        "id": "ei4JdnuC5QnL",
        "outputId": "785bfa25-7c12-473e-aa65-2c4d60fee0df"
      },
      "execution_count": null,
      "outputs": [
        {
          "output_type": "display_data",
          "data": {
            "text/plain": [
              "<Figure size 1440x720 with 1 Axes>"
            ],
            "image/png": "[encoded data removed]"
          },
          "metadata": {
            "needs_background": "light"
          }
        }
      ]
    },
    {
      "cell_type": "code",
      "source": [
        "# checking if there are outliers in the bed column\n",
        "box_plot(listings_df['beds']) "
      ],
      "metadata": {
        "id": "Eov7mD3DVIYh",
        "colab": {
          "base_uri": "https://localhost:8080/",
          "height": 530
        },
        "outputId": "e48b6750-4887-4ce1-8925-c3f68972df08"
      },
      "execution_count": null,
      "outputs": [
        {
          "output_type": "display_data",
          "data": {
            "text/plain": [
              "<Figure size 1440x720 with 1 Axes>"
            ],
            "image/png": "[encoded data removed]"
          },
          "metadata": {
            "needs_background": "light"
          }
        }
      ]
    },
    {
      "cell_type": "code",
      "source": [
        "# subsetting extreme outliers in bedrooms and beds columns\n",
        "listings_df[(listings_df['bedrooms'] >= 24) | (listings_df['beds'] >= 24)][['bedrooms', 'beds', 'price', 'bathrooms_text']]"
      ],
      "metadata": {
        "id": "eB4mXpg5VYHp",
        "colab": {
          "base_uri": "https://localhost:8080/",
          "height": 300
        },
        "outputId": "3da1e5eb-bb99-4074-d2ed-e0a37af053fb"
      },
      "execution_count": null,
      "outputs": [
        {
          "output_type": "execute_result",
          "data": {
            "text/plain": [
              "       bedrooms  beds      price  bathrooms_text\n",
              "148        10.0  49.0    $840.00        32 baths\n",
              "1742       12.0  24.0  $3,361.00         2 baths\n",
              "7064       12.0  24.0  $9,800.00         6 baths\n",
              "8401       41.0  50.0  $1,689.00          1 bath\n",
              "8966       40.0  50.0    $807.00        42 baths\n",
              "12250       1.0  24.0    $350.00   1 shared bath\n",
              "12517      14.0  24.0    $400.00  2 shared baths\n",
              "12518      13.0  40.0    $686.00         9 baths"
            ],
            "text/html": [
              "\n",
              "  <div id=\"df-7e8919c7-32c3-41f6-9deb-e3e34f3ed0bc\">\n",
              "    <div class=\"colab-df-container\">\n",
              "      <div>\n",
              "<style scoped>\n",
              "    .dataframe tbody tr th:only-of-type {\n",
              "        vertical-align: middle;\n",
              "    }\n",
              "\n",
              "    .dataframe tbody tr th {\n",
              "        vertical-align: top;\n",
              "    }\n",
              "\n",
              "    .dataframe thead th {\n",
              "        text-align: right;\n",
              "    }\n",
              "</style>\n",
              "<table border=\"1\" class=\"dataframe\">\n",
              "  <thead>\n",
              "    <tr style=\"text-align: right;\">\n",
              "      <th></th>\n",
              "      <th>bedrooms</th>\n",
              "      <th>beds</th>\n",
              "      <th>price</th>\n",
              "      <th>bathrooms_text</th>\n",
              "    </tr>\n",
              "  </thead>\n",
              "  <tbody>\n",
              "    <tr>\n",
              "      <th>148</th>\n",
              "      <td>10.0</td>\n",
              "      <td>49.0</td>\n",
              "      <td>$840.00</td>\n",
              "      <td>32 baths</td>\n",
              "    </tr>\n",
              "    <tr>\n",
              "      <th>1742</th>\n",
              "      <td>12.0</td>\n",
              "      <td>24.0</td>\n",
              "      <td>$3,361.00</td>\n",
              "      <td>2 baths</td>\n",
              "    </tr>\n",
              "    <tr>\n",
              "      <th>7064</th>\n",
              "      <td>12.0</td>\n",
              "      <td>24.0</td>\n",
              "      <td>$9,800.00</td>\n",
              "      <td>6 baths</td>\n",
              "    </tr>\n",
              "    <tr>\n",
              "      <th>8401</th>\n",
              "      <td>41.0</td>\n",
              "      <td>50.0</td>\n",
              "      <td>$1,689.00</td>\n",
              "      <td>1 bath</td>\n",
              "    </tr>\n",
              "    <tr>\n",
              "      <th>8966</th>\n",
              "      <td>40.0</td>\n",
              "      <td>50.0</td>\n",
              "      <td>$807.00</td>\n",
              "      <td>42 baths</td>\n",
              "    </tr>\n",
              "    <tr>\n",
              "      <th>12250</th>\n",
              "      <td>1.0</td>\n",
              "      <td>24.0</td>\n",
              "      <td>$350.00</td>\n",
              "      <td>1 shared bath</td>\n",
              "    </tr>\n",
              "    <tr>\n",
              "      <th>12517</th>\n",
              "      <td>14.0</td>\n",
              "      <td>24.0</td>\n",
              "      <td>$400.00</td>\n",
              "      <td>2 shared baths</td>\n",
              "    </tr>\n",
              "    <tr>\n",
              "      <th>12518</th>\n",
              "      <td>13.0</td>\n",
              "      <td>40.0</td>\n",
              "      <td>$686.00</td>\n",
              "      <td>9 baths</td>\n",
              "    </tr>\n",
              "  </tbody>\n",
              "</table>\n",
              "</div>\n",
              "      <button class=\"colab-df-convert\" onclick=\"convertToInteractive('df-7e8919c7-32c3-41f6-9deb-e3e34f3ed0bc')\"\n",
              "              title=\"Convert this dataframe to an interactive table.\"\n",
              "              style=\"display:none;\">\n",
              "        \n",
              "  <svg xmlns=\"http://www.w3.org/2000/svg\" height=\"24px\"viewBox=\"0 0 24 24\"\n",
              "       width=\"24px\">\n",
              "    <path d=\"M0 0h24v24H0V0z\" fill=\"none\"/>\n",
              "    <path d=\"M18.56 5.44l.94 2.06.94-2.06 2.06-.94-2.06-.94-.94-2.06-.94 2.06-2.06.94zm-11 1L8.5 8.5l.94-2.06 2.06-.94-2.06-.94L8.5 2.5l-.94 2.06-2.06.94zm10 10l.94 2.06.94-2.06 2.06-.94-2.06-.94-.94-2.06-.94 2.06-2.06.94z\"/><path d=\"M17.41 7.96l-1.37-1.37c-.4-.4-.92-.59-1.43-.59-.52 0-1.04.2-1.43.59L10.3 9.45l-7.72 7.72c-.78.78-.78 2.05 0 2.83L4 21.41c.39.39.9.59 1.41.59.51 0 1.02-.2 1.41-.59l7.78-7.78 2.81-2.81c.8-.78.8-2.07 0-2.86zM5.41 20L4 18.59l7.72-7.72 1.47 1.35L5.41 20z\"/>\n",
              "  </svg>\n",
              "      </button>\n",
              "      \n",
              "  <style>\n",
              "    .colab-df-container {\n",
              "      display:flex;\n",
              "      flex-wrap:wrap;\n",
              "      gap: 12px;\n",
              "    }\n",
              "\n",
              "    .colab-df-convert {\n",
              "      background-color: #E8F0FE;\n",
              "      border: none;\n",
              "      border-radius: 50%;\n",
              "      cursor: pointer;\n",
              "      display: none;\n",
              "      fill: #1967D2;\n",
              "      height: 32px;\n",
              "      padding: 0 0 0 0;\n",
              "      width: 32px;\n",
              "    }\n",
              "\n",
              "    .colab-df-convert:hover {\n",
              "      background-color: #E2EBFA;\n",
              "      box-shadow: 0px 1px 2px rgba(60, 64, 67, 0.3), 0px 1px 3px 1px rgba(60, 64, 67, 0.15);\n",
              "      fill: #174EA6;\n",
              "    }\n",
              "\n",
              "    [theme=dark] .colab-df-convert {\n",
              "      background-color: #3B4455;\n",
              "      fill: #D2E3FC;\n",
              "    }\n",
              "\n",
              "    [theme=dark] .colab-df-convert:hover {\n",
              "      background-color: #434B5C;\n",
              "      box-shadow: 0px 1px 3px 1px rgba(0, 0, 0, 0.15);\n",
              "      filter: drop-shadow(0px 1px 2px rgba(0, 0, 0, 0.3));\n",
              "      fill: #FFFFFF;\n",
              "    }\n",
              "  </style>\n",
              "\n",
              "      <script>\n",
              "        const buttonEl =\n",
              "          document.querySelector('#df-7e8919c7-32c3-41f6-9deb-e3e34f3ed0bc button.colab-df-convert');\n",
              "        buttonEl.style.display =\n",
              "          google.colab.kernel.accessAllowed ? 'block' : 'none';\n",
              "\n",
              "        async function convertToInteractive(key) {\n",
              "          const element = document.querySelector('#df-7e8919c7-32c3-41f6-9deb-e3e34f3ed0bc');\n",
              "          const dataTable =\n",
              "            await google.colab.kernel.invokeFunction('convertToInteractive',\n",
              "                                                     [key], {});\n",
              "          if (!dataTable) return;\n",
              "\n",
              "          const docLinkHtml = 'Like what you see? Visit the ' +\n",
              "            '<a target=\"_blank\" href=https://colab.research.google.com/notebooks/data_table.ipynb>data table notebook</a>'\n",
              "            + ' to learn more about interactive tables.';\n",
              "          element.innerHTML = '';\n",
              "          dataTable['output_type'] = 'display_data';\n",
              "          await google.colab.output.renderOutput(dataTable, element);\n",
              "          const docLink = document.createElement('div');\n",
              "          docLink.innerHTML = docLinkHtml;\n",
              "          element.appendChild(docLink);\n",
              "        }\n",
              "      </script>\n",
              "    </div>\n",
              "  </div>\n",
              "  "
            ]
          },
          "metadata": {},
          "execution_count": 24
        }
      ]
    },
    {
      "cell_type": "code",
      "source": [
        "# shape before dropping outliers\n",
        "print('Shape Before:', np.shape(listings_df))\n",
        "# dropping outliers\n",
        "listings_df = listings_df[listings_df['beds'] < 24].copy()\n",
        "listings_df = listings_df[listings_df['bedrooms'] < 24].copy()\n",
        "# shape after\n",
        "print('Shape After:', np.shape(listings_df))\n",
        "# values dropped\n",
        "print('Records dropped:', 1428)"
      ],
      "metadata": {
        "id": "Fd2GVnwa5QiH",
        "colab": {
          "base_uri": "https://localhost:8080/"
        },
        "outputId": "983c52e8-bf06-486c-ac36-2529a931f91e"
      },
      "execution_count": null,
      "outputs": [
        {
          "output_type": "stream",
          "name": "stdout",
          "text": [
            "Shape Before: (18903, 29)\n",
            "Shape After: (17475, 29)\n",
            "Records dropped: 1428\n"
          ]
        }
      ]
    },
    {
      "cell_type": "markdown",
      "source": [
        "median for bedrooms is 1 and for beds is 2."
      ],
      "metadata": {
        "id": "YWRoZwrDvHuq"
      }
    },
    {
      "cell_type": "code",
      "source": [
        "# fill missing values with the median\n",
        "listings_df['bedrooms'].fillna(value=listings_df['bedrooms'].median(), inplace=True)\n",
        "# fill missing values\n",
        "listings_df['beds'].fillna(value=listings_df['beds'].median(), inplace=True)"
      ],
      "metadata": {
        "id": "paIEVaQeC7UX"
      },
      "execution_count": null,
      "outputs": []
    },
    {
      "cell_type": "markdown",
      "source": [
        "### bathrooms_text feature\n",
        "~2% of data is missing in bathrooms_text column."
      ],
      "metadata": {
        "id": "g1cT7c9PrIBD"
      }
    },
    {
      "cell_type": "code",
      "source": [
        "# checking bathrooms unique values\n",
        "listings_df['bathrooms_text'].unique()[:10] "
      ],
      "metadata": {
        "colab": {
          "base_uri": "https://localhost:8080/"
        },
        "outputId": "d888be7a-cef7-41ad-d0f0-ad026a2468e4",
        "id": "RmSQ-c1NSywD"
      },
      "execution_count": null,
      "outputs": [
        {
          "output_type": "execute_result",
          "data": {
            "text/plain": [
              "array(['1 bath', '2 baths', '1.5 baths', '5 baths', '3 baths',\n",
              "       '3.5 baths', '1 private bath', '6.5 baths', '2.5 baths',\n",
              "       '4.5 baths'], dtype=object)"
            ]
          },
          "metadata": {},
          "execution_count": 27
        }
      ]
    },
    {
      "cell_type": "code",
      "source": [
        "# strip the records to remain with the numerical value strings\n",
        "listings_df['bathrooms_text'] = listings_df['bathrooms_text'].str.extract('(\\d+\\.?\\d*)')\n",
        "# changing column to float\n",
        "listings_df['bathrooms_text'] = listings_df['bathrooms_text'].astype('float')\n",
        "# checking if there are outliers in bathrooms_text\n",
        "box_plot(listings_df['bathrooms_text']) "
      ],
      "metadata": {
        "colab": {
          "base_uri": "https://localhost:8080/",
          "height": 531
        },
        "outputId": "5b8ec71d-c1f0-4551-dd58-33224f31f362",
        "id": "p_OFlsINSywE"
      },
      "execution_count": null,
      "outputs": [
        {
          "output_type": "display_data",
          "data": {
            "text/plain": [
              "<Figure size 1440x720 with 1 Axes>"
            ],
            "image/png": "[encoded data removed]"
          },
          "metadata": {
            "needs_background": "light"
          }
        }
      ]
    },
    {
      "cell_type": "markdown",
      "source": [
        "bathrooms median is 1."
      ],
      "metadata": {
        "id": "LHq12Ifzvz9o"
      }
    },
    {
      "cell_type": "code",
      "source": [
        "# fill missing values with median\n",
        "listings_df['bathrooms_text'].fillna(value=listings_df['bathrooms_text'].median(), inplace=True) \n",
        "# changing column name \n",
        "listings_df.rename(columns={'bathrooms_text': 'bathrooms'}, inplace=True)"
      ],
      "metadata": {
        "id": "VRNerXnFAeUp"
      },
      "execution_count": null,
      "outputs": []
    },
    {
      "cell_type": "markdown",
      "source": [
        "### some 'host' features\n",
        "\n",
        "Dealing with host_response_time, host_response_rate & host_acceptance_rate columns.\n",
        "\n",
        "host_response_time and host_response_rate have ~23% of missing data, and host_acceptance_rate has ~13% of missing data."
      ],
      "metadata": {
        "id": "S3oK2tzVwQY8"
      }
    },
    {
      "cell_type": "code",
      "source": [
        "# making a list of the columns being tackled\n",
        "host_reactions = ['host_response_time', 'host_response_rate', 'host_acceptance_rate']\n",
        "# checking unique counts\n",
        "print('host_response_time unique counts are:', listings_df[host_reactions[0]].nunique())\n",
        "print()\n",
        "print(listings_df['host_response_time'].unique())\n",
        "print()\n",
        "print('host_response_rate unique counts are:', listings_df[host_reactions[1]].nunique())\n",
        "print()\n",
        "print(listings_df[host_reactions[1]].unique()[:10])\n",
        "print()\n",
        "print('host_acceptance_rate unique counts are:', listings_df[host_reactions[2]].nunique())\n",
        "print()\n",
        "print(listings_df[host_reactions[2]].unique()[:10])"
      ],
      "metadata": {
        "colab": {
          "base_uri": "https://localhost:8080/"
        },
        "id": "ZQRI54Xn4XrD",
        "outputId": "92402c90-6e93-4fca-c950-82ff63952983"
      },
      "execution_count": null,
      "outputs": [
        {
          "output_type": "stream",
          "name": "stdout",
          "text": [
            "host_response_time unique counts are: 4\n",
            "\n",
            "['within an hour' 'within a few hours' nan 'within a day'\n",
            " 'a few days or more']\n",
            "\n",
            "host_response_rate unique counts are: 42\n",
            "\n",
            "['100%' nan '50%' '80%' '87%' '67%' '75%' '33%' '90%' '70%']\n",
            "\n",
            "host_acceptance_rate unique counts are: 87\n",
            "\n",
            "['100%' '50%' '67%' '71%' nan '94%' '93%' '11%' '83%' '99%']\n"
          ]
        }
      ]
    },
    {
      "cell_type": "markdown",
      "source": [
        "host_response_time is a categorical column, its missing values will be imputed with 'unknown' as a category. The other 2 columns should be numerical but have been recorded as strings. Some manipulations need to be done to them."
      ],
      "metadata": {
        "id": "20hx2waP49zx"
      }
    },
    {
      "cell_type": "code",
      "source": [
        "# filling nan values with unknown\n",
        "listings_df['host_response_time'] = listings_df['host_response_time'].fillna('unknown') \n",
        "# stripping % signs from the columns\n",
        "listings_df['host_response_rate'] = strip_signs(listings_df, 'host_response_rate')\n",
        "listings_df['host_acceptance_rate'] = strip_signs(listings_df, 'host_acceptance_rate') "
      ],
      "metadata": {
        "id": "8n5HBFDv4XPk"
      },
      "execution_count": null,
      "outputs": []
    },
    {
      "cell_type": "markdown",
      "source": [
        "host_response_rate median is 100% while host_acceptance median is 95%. Is that the general trend?"
      ],
      "metadata": {
        "id": "E2O90oFgrC1C"
      }
    },
    {
      "cell_type": "code",
      "source": [
        "# boxplot of host_response_rate\n",
        "box_plot(listings_df['host_response_rate'])"
      ],
      "metadata": {
        "colab": {
          "base_uri": "https://localhost:8080/",
          "height": 531
        },
        "id": "cMCgvQq8q2XX",
        "outputId": "00cebe2f-0fe9-4e1a-ab22-a39282187bba"
      },
      "execution_count": null,
      "outputs": [
        {
          "output_type": "display_data",
          "data": {
            "text/plain": [
              "<Figure size 1440x720 with 1 Axes>"
            ],
            "image/png": "[encoded data removed]"
          },
          "metadata": {
            "needs_background": "light"
          }
        }
      ]
    },
    {
      "cell_type": "code",
      "source": [
        "# filling missing values with median\n",
        "listings_df['host_response_rate'].fillna(value=listings_df['host_response_rate'].median(), inplace=True) "
      ],
      "metadata": {
        "id": "ubZlJ1SuvNlG"
      },
      "execution_count": null,
      "outputs": []
    },
    {
      "cell_type": "code",
      "source": [
        "# boxplot of host_acceptance rate\n",
        "box_plot(listings_df['host_acceptance_rate']) "
      ],
      "metadata": {
        "colab": {
          "base_uri": "https://localhost:8080/",
          "height": 531
        },
        "outputId": "2a729868-de13-41f7-c5c5-3845e7a71fda",
        "id": "DFqR-CHJ4GAj"
      },
      "execution_count": null,
      "outputs": [
        {
          "output_type": "display_data",
          "data": {
            "text/plain": [
              "<Figure size 1440x720 with 1 Axes>"
            ],
            "image/png": "[encoded data removed]"
          },
          "metadata": {
            "needs_background": "light"
          }
        }
      ]
    },
    {
      "cell_type": "code",
      "source": [
        "# filling missing values with median\n",
        "listings_df['host_acceptance_rate'].fillna(value=listings_df['host_acceptance_rate'].median(), inplace=True)"
      ],
      "metadata": {
        "id": "lbbL-1104GAl"
      },
      "execution_count": null,
      "outputs": []
    },
    {
      "cell_type": "markdown",
      "source": [
        "acceptance rate and response rate need to be transformed to categorical variables. To do that rounding off of the values required."
      ],
      "metadata": {
        "id": "GizvcBIeljT9"
      }
    },
    {
      "cell_type": "code",
      "source": [
        "# rounding off the values\n",
        "listings_df['host_acceptance_rate'] = listings_df['host_acceptance_rate'].apply(lambda x: round(x, -1))\n",
        "listings_df['host_response_rate'] = listings_df['host_response_rate'].apply(lambda x: round(x, -1))"
      ],
      "metadata": {
        "id": "okOjjEBFmBrT"
      },
      "execution_count": null,
      "outputs": []
    },
    {
      "cell_type": "markdown",
      "source": [
        "### Other host features\n",
        "\n",
        "Dealing with host_name, host_since, host_identity_verified, host_is_superhost, host_has_profile_pic, host_picture_url, host_listings_count & host_total_listings_count columns."
      ],
      "metadata": {
        "id": "NaZaHuGxmmiP"
      }
    },
    {
      "cell_type": "code",
      "source": [
        "# list of 'host' columns that have been dealt with already\n",
        "already_dealt = ['host_response_time', 'host_response_rate', 'host_acceptance_rate', 'host_location']\n",
        "# making a list of columns containing 'host' in their names but that haven't been dealt with\n",
        "rem_host_cols = [column for column in listings_df.columns if 'host' in column.strip() and column not in already_dealt]\n",
        "# filtering out 'host columns' that are complete\n",
        "host_traits = [column for column in rem_host_cols if column in list(listings_completeness['Feature'])]\n",
        "host_traits"
      ],
      "metadata": {
        "id": "N0ksZH_GaBd0",
        "colab": {
          "base_uri": "https://localhost:8080/"
        },
        "outputId": "74c5962f-87fb-47d3-a0d3-3614af1737c3"
      },
      "execution_count": null,
      "outputs": [
        {
          "output_type": "execute_result",
          "data": {
            "text/plain": [
              "['host_since', 'host_is_superhost']"
            ]
          },
          "metadata": {},
          "execution_count": 38
        }
      ]
    },
    {
      "cell_type": "markdown",
      "source": [
        "both of them have ~0.01% of missing values"
      ],
      "metadata": {
        "id": "UCtr6gBI0Y1o"
      }
    },
    {
      "cell_type": "code",
      "source": [
        "# sum of nan values in host_since\n",
        "print(listings_df['host_since'].isna().sum())\n",
        "# Dropping null row \n",
        "listings_df.dropna(subset= [\"host_since\"], inplace= True) "
      ],
      "metadata": {
        "colab": {
          "base_uri": "https://localhost:8080/"
        },
        "id": "XrcFqE_6NRMp",
        "outputId": "60d5e548-7512-423c-90b4-7e10f3b059c0"
      },
      "execution_count": null,
      "outputs": [
        {
          "output_type": "stream",
          "name": "stdout",
          "text": [
            "1\n"
          ]
        }
      ]
    },
    {
      "cell_type": "code",
      "source": [
        "# viewing the host columns\n",
        "listings_df[host_traits].head(3) "
      ],
      "metadata": {
        "colab": {
          "base_uri": "https://localhost:8080/",
          "height": 143
        },
        "id": "GqK7i2qsnwCX",
        "outputId": "2c91c71b-007d-43f2-b2dd-71fdfe44830f"
      },
      "execution_count": null,
      "outputs": [
        {
          "output_type": "execute_result",
          "data": {
            "text/plain": [
              "   host_since host_is_superhost\n",
              "0  2016-10-07                 f\n",
              "1  2012-08-29                 f\n",
              "2  2016-10-07                 f"
            ],
            "text/html": [
              "\n",
              "  <div id=\"df-1ab6e1a9-d13d-4622-8825-b8e28b255075\">\n",
              "    <div class=\"colab-df-container\">\n",
              "      <div>\n",
              "<style scoped>\n",
              "    .dataframe tbody tr th:only-of-type {\n",
              "        vertical-align: middle;\n",
              "    }\n",
              "\n",
              "    .dataframe tbody tr th {\n",
              "        vertical-align: top;\n",
              "    }\n",
              "\n",
              "    .dataframe thead th {\n",
              "        text-align: right;\n",
              "    }\n",
              "</style>\n",
              "<table border=\"1\" class=\"dataframe\">\n",
              "  <thead>\n",
              "    <tr style=\"text-align: right;\">\n",
              "      <th></th>\n",
              "      <th>host_since</th>\n",
              "      <th>host_is_superhost</th>\n",
              "    </tr>\n",
              "  </thead>\n",
              "  <tbody>\n",
              "    <tr>\n",
              "      <th>0</th>\n",
              "      <td>2016-10-07</td>\n",
              "      <td>f</td>\n",
              "    </tr>\n",
              "    <tr>\n",
              "      <th>1</th>\n",
              "      <td>2012-08-29</td>\n",
              "      <td>f</td>\n",
              "    </tr>\n",
              "    <tr>\n",
              "      <th>2</th>\n",
              "      <td>2016-10-07</td>\n",
              "      <td>f</td>\n",
              "    </tr>\n",
              "  </tbody>\n",
              "</table>\n",
              "</div>\n",
              "      <button class=\"colab-df-convert\" onclick=\"convertToInteractive('df-1ab6e1a9-d13d-4622-8825-b8e28b255075')\"\n",
              "              title=\"Convert this dataframe to an interactive table.\"\n",
              "              style=\"display:none;\">\n",
              "        \n",
              "  <svg xmlns=\"http://www.w3.org/2000/svg\" height=\"24px\"viewBox=\"0 0 24 24\"\n",
              "       width=\"24px\">\n",
              "    <path d=\"M0 0h24v24H0V0z\" fill=\"none\"/>\n",
              "    <path d=\"M18.56 5.44l.94 2.06.94-2.06 2.06-.94-2.06-.94-.94-2.06-.94 2.06-2.06.94zm-11 1L8.5 8.5l.94-2.06 2.06-.94-2.06-.94L8.5 2.5l-.94 2.06-2.06.94zm10 10l.94 2.06.94-2.06 2.06-.94-2.06-.94-.94-2.06-.94 2.06-2.06.94z\"/><path d=\"M17.41 7.96l-1.37-1.37c-.4-.4-.92-.59-1.43-.59-.52 0-1.04.2-1.43.59L10.3 9.45l-7.72 7.72c-.78.78-.78 2.05 0 2.83L4 21.41c.39.39.9.59 1.41.59.51 0 1.02-.2 1.41-.59l7.78-7.78 2.81-2.81c.8-.78.8-2.07 0-2.86zM5.41 20L4 18.59l7.72-7.72 1.47 1.35L5.41 20z\"/>\n",
              "  </svg>\n",
              "      </button>\n",
              "      \n",
              "  <style>\n",
              "    .colab-df-container {\n",
              "      display:flex;\n",
              "      flex-wrap:wrap;\n",
              "      gap: 12px;\n",
              "    }\n",
              "\n",
              "    .colab-df-convert {\n",
              "      background-color: #E8F0FE;\n",
              "      border: none;\n",
              "      border-radius: 50%;\n",
              "      cursor: pointer;\n",
              "      display: none;\n",
              "      fill: #1967D2;\n",
              "      height: 32px;\n",
              "      padding: 0 0 0 0;\n",
              "      width: 32px;\n",
              "    }\n",
              "\n",
              "    .colab-df-convert:hover {\n",
              "      background-color: #E2EBFA;\n",
              "      box-shadow: 0px 1px 2px rgba(60, 64, 67, 0.3), 0px 1px 3px 1px rgba(60, 64, 67, 0.15);\n",
              "      fill: #174EA6;\n",
              "    }\n",
              "\n",
              "    [theme=dark] .colab-df-convert {\n",
              "      background-color: #3B4455;\n",
              "      fill: #D2E3FC;\n",
              "    }\n",
              "\n",
              "    [theme=dark] .colab-df-convert:hover {\n",
              "      background-color: #434B5C;\n",
              "      box-shadow: 0px 1px 3px 1px rgba(0, 0, 0, 0.15);\n",
              "      filter: drop-shadow(0px 1px 2px rgba(0, 0, 0, 0.3));\n",
              "      fill: #FFFFFF;\n",
              "    }\n",
              "  </style>\n",
              "\n",
              "      <script>\n",
              "        const buttonEl =\n",
              "          document.querySelector('#df-1ab6e1a9-d13d-4622-8825-b8e28b255075 button.colab-df-convert');\n",
              "        buttonEl.style.display =\n",
              "          google.colab.kernel.accessAllowed ? 'block' : 'none';\n",
              "\n",
              "        async function convertToInteractive(key) {\n",
              "          const element = document.querySelector('#df-1ab6e1a9-d13d-4622-8825-b8e28b255075');\n",
              "          const dataTable =\n",
              "            await google.colab.kernel.invokeFunction('convertToInteractive',\n",
              "                                                     [key], {});\n",
              "          if (!dataTable) return;\n",
              "\n",
              "          const docLinkHtml = 'Like what you see? Visit the ' +\n",
              "            '<a target=\"_blank\" href=https://colab.research.google.com/notebooks/data_table.ipynb>data table notebook</a>'\n",
              "            + ' to learn more about interactive tables.';\n",
              "          element.innerHTML = '';\n",
              "          dataTable['output_type'] = 'display_data';\n",
              "          await google.colab.output.renderOutput(dataTable, element);\n",
              "          const docLink = document.createElement('div');\n",
              "          docLink.innerHTML = docLinkHtml;\n",
              "          element.appendChild(docLink);\n",
              "        }\n",
              "      </script>\n",
              "    </div>\n",
              "  </div>\n",
              "  "
            ]
          },
          "metadata": {},
          "execution_count": 40
        }
      ]
    },
    {
      "cell_type": "markdown",
      "source": [
        "The host_since column contains dates of when a host started being a host. The values in this column will be sliced, and only the year will be left. The column will also be transformed into a integer data type."
      ],
      "metadata": {
        "id": "1pUdB_edJHRn"
      }
    },
    {
      "cell_type": "code",
      "source": [
        "# slicing the year off the records\n",
        "listings_df['host_since'] = listings_df['host_since'].apply(lambda x: x[:4]) \n",
        "# changing column to int\n",
        "listings_df['host_since'] = listings_df['host_since'].astype(int) "
      ],
      "metadata": {
        "id": "Q_239ooyI08z"
      },
      "execution_count": null,
      "outputs": []
    },
    {
      "cell_type": "markdown",
      "source": [
        "host is superhost needs to be transformed into a better representation for a binary category."
      ],
      "metadata": {
        "id": "cPtP232Tm3UZ"
      }
    },
    {
      "cell_type": "code",
      "source": [
        "# repacing values to make column a bool dtype\n",
        "listings_df['host_is_superhost'] = listings_df['host_is_superhost'].replace({'t': 1, 'f': 0})"
      ],
      "metadata": {
        "id": "B6yq-8ySnpXM"
      },
      "execution_count": null,
      "outputs": []
    },
    {
      "cell_type": "markdown",
      "source": [
        "## 4.2 uniqueness"
      ],
      "metadata": {
        "id": "RWkc4MlSagc3"
      }
    },
    {
      "cell_type": "code",
      "source": [
        "# checking for duplicates\n",
        "listings_df.drop(columns='amenities').duplicated().sum()"
      ],
      "metadata": {
        "colab": {
          "base_uri": "https://localhost:8080/"
        },
        "id": "b9LtS87OalfC",
        "outputId": "4d8a4bec-769c-4885-90e7-480c73267714"
      },
      "execution_count": null,
      "outputs": [
        {
          "output_type": "execute_result",
          "data": {
            "text/plain": [
              "0"
            ]
          },
          "metadata": {},
          "execution_count": 43
        }
      ]
    },
    {
      "cell_type": "markdown",
      "source": [
        "#### Current dataframe info after cleaning is:"
      ],
      "metadata": {
        "id": "TKIDlgOtMPOE"
      }
    },
    {
      "cell_type": "code",
      "source": [
        "# current completeness\n",
        "percentage_completeness(listings_df)[:4] "
      ],
      "metadata": {
        "id": "6Jy8BN1FMYIE",
        "colab": {
          "base_uri": "https://localhost:8080/",
          "height": 175
        },
        "outputId": "e699649e-6648-4fd8-83c1-2558883ae2cc"
      },
      "execution_count": null,
      "outputs": [
        {
          "output_type": "execute_result",
          "data": {
            "text/plain": [
              "                       Feature  %_completeness\n",
              "0                host_location           99.51\n",
              "1                           id          100.00\n",
              "2       review_scores_location          100.00\n",
              "3  review_scores_communication          100.00"
            ],
            "text/html": [
              "\n",
              "  <div id=\"df-a733b79a-d625-4f2e-829b-7b93e881c0cc\">\n",
              "    <div class=\"colab-df-container\">\n",
              "      <div>\n",
              "<style scoped>\n",
              "    .dataframe tbody tr th:only-of-type {\n",
              "        vertical-align: middle;\n",
              "    }\n",
              "\n",
              "    .dataframe tbody tr th {\n",
              "        vertical-align: top;\n",
              "    }\n",
              "\n",
              "    .dataframe thead th {\n",
              "        text-align: right;\n",
              "    }\n",
              "</style>\n",
              "<table border=\"1\" class=\"dataframe\">\n",
              "  <thead>\n",
              "    <tr style=\"text-align: right;\">\n",
              "      <th></th>\n",
              "      <th>Feature</th>\n",
              "      <th>%_completeness</th>\n",
              "    </tr>\n",
              "  </thead>\n",
              "  <tbody>\n",
              "    <tr>\n",
              "      <th>0</th>\n",
              "      <td>host_location</td>\n",
              "      <td>99.51</td>\n",
              "    </tr>\n",
              "    <tr>\n",
              "      <th>1</th>\n",
              "      <td>id</td>\n",
              "      <td>100.00</td>\n",
              "    </tr>\n",
              "    <tr>\n",
              "      <th>2</th>\n",
              "      <td>review_scores_location</td>\n",
              "      <td>100.00</td>\n",
              "    </tr>\n",
              "    <tr>\n",
              "      <th>3</th>\n",
              "      <td>review_scores_communication</td>\n",
              "      <td>100.00</td>\n",
              "    </tr>\n",
              "  </tbody>\n",
              "</table>\n",
              "</div>\n",
              "      <button class=\"colab-df-convert\" onclick=\"convertToInteractive('df-a733b79a-d625-4f2e-829b-7b93e881c0cc')\"\n",
              "              title=\"Convert this dataframe to an interactive table.\"\n",
              "              style=\"display:none;\">\n",
              "        \n",
              "  <svg xmlns=\"http://www.w3.org/2000/svg\" height=\"24px\"viewBox=\"0 0 24 24\"\n",
              "       width=\"24px\">\n",
              "    <path d=\"M0 0h24v24H0V0z\" fill=\"none\"/>\n",
              "    <path d=\"M18.56 5.44l.94 2.06.94-2.06 2.06-.94-2.06-.94-.94-2.06-.94 2.06-2.06.94zm-11 1L8.5 8.5l.94-2.06 2.06-.94-2.06-.94L8.5 2.5l-.94 2.06-2.06.94zm10 10l.94 2.06.94-2.06 2.06-.94-2.06-.94-.94-2.06-.94 2.06-2.06.94z\"/><path d=\"M17.41 7.96l-1.37-1.37c-.4-.4-.92-.59-1.43-.59-.52 0-1.04.2-1.43.59L10.3 9.45l-7.72 7.72c-.78.78-.78 2.05 0 2.83L4 21.41c.39.39.9.59 1.41.59.51 0 1.02-.2 1.41-.59l7.78-7.78 2.81-2.81c.8-.78.8-2.07 0-2.86zM5.41 20L4 18.59l7.72-7.72 1.47 1.35L5.41 20z\"/>\n",
              "  </svg>\n",
              "      </button>\n",
              "      \n",
              "  <style>\n",
              "    .colab-df-container {\n",
              "      display:flex;\n",
              "      flex-wrap:wrap;\n",
              "      gap: 12px;\n",
              "    }\n",
              "\n",
              "    .colab-df-convert {\n",
              "      background-color: #E8F0FE;\n",
              "      border: none;\n",
              "      border-radius: 50%;\n",
              "      cursor: pointer;\n",
              "      display: none;\n",
              "      fill: #1967D2;\n",
              "      height: 32px;\n",
              "      padding: 0 0 0 0;\n",
              "      width: 32px;\n",
              "    }\n",
              "\n",
              "    .colab-df-convert:hover {\n",
              "      background-color: #E2EBFA;\n",
              "      box-shadow: 0px 1px 2px rgba(60, 64, 67, 0.3), 0px 1px 3px 1px rgba(60, 64, 67, 0.15);\n",
              "      fill: #174EA6;\n",
              "    }\n",
              "\n",
              "    [theme=dark] .colab-df-convert {\n",
              "      background-color: #3B4455;\n",
              "      fill: #D2E3FC;\n",
              "    }\n",
              "\n",
              "    [theme=dark] .colab-df-convert:hover {\n",
              "      background-color: #434B5C;\n",
              "      box-shadow: 0px 1px 3px 1px rgba(0, 0, 0, 0.15);\n",
              "      filter: drop-shadow(0px 1px 2px rgba(0, 0, 0, 0.3));\n",
              "      fill: #FFFFFF;\n",
              "    }\n",
              "  </style>\n",
              "\n",
              "      <script>\n",
              "        const buttonEl =\n",
              "          document.querySelector('#df-a733b79a-d625-4f2e-829b-7b93e881c0cc button.colab-df-convert');\n",
              "        buttonEl.style.display =\n",
              "          google.colab.kernel.accessAllowed ? 'block' : 'none';\n",
              "\n",
              "        async function convertToInteractive(key) {\n",
              "          const element = document.querySelector('#df-a733b79a-d625-4f2e-829b-7b93e881c0cc');\n",
              "          const dataTable =\n",
              "            await google.colab.kernel.invokeFunction('convertToInteractive',\n",
              "                                                     [key], {});\n",
              "          if (!dataTable) return;\n",
              "\n",
              "          const docLinkHtml = 'Like what you see? Visit the ' +\n",
              "            '<a target=\"_blank\" href=https://colab.research.google.com/notebooks/data_table.ipynb>data table notebook</a>'\n",
              "            + ' to learn more about interactive tables.';\n",
              "          element.innerHTML = '';\n",
              "          dataTable['output_type'] = 'display_data';\n",
              "          await google.colab.output.renderOutput(dataTable, element);\n",
              "          const docLink = document.createElement('div');\n",
              "          docLink.innerHTML = docLinkHtml;\n",
              "          element.appendChild(docLink);\n",
              "        }\n",
              "      </script>\n",
              "    </div>\n",
              "  </div>\n",
              "  "
            ]
          },
          "metadata": {},
          "execution_count": 44
        }
      ]
    },
    {
      "cell_type": "markdown",
      "source": [
        "## 4.3 Cleaning remaining features"
      ],
      "metadata": {
        "id": "9bSlUEC1dekP"
      }
    },
    {
      "cell_type": "markdown",
      "source": [
        "### instant_bookable feature"
      ],
      "metadata": {
        "id": "YdT8IzbhEzJk"
      }
    },
    {
      "cell_type": "code",
      "source": [
        "# checking value_counts\n",
        "listings_df['instant_bookable'].value_counts()"
      ],
      "metadata": {
        "colab": {
          "base_uri": "https://localhost:8080/"
        },
        "id": "Lc2Tslaa7M6G",
        "outputId": "9fb15075-b3f3-4675-d88d-b6a89978f793"
      },
      "execution_count": null,
      "outputs": [
        {
          "output_type": "execute_result",
          "data": {
            "text/plain": [
              "f    9805\n",
              "t    7669\n",
              "Name: instant_bookable, dtype: int64"
            ]
          },
          "metadata": {},
          "execution_count": 45
        }
      ]
    },
    {
      "cell_type": "code",
      "source": [
        "# repacing values to make column a bool dtype\n",
        "listings_df['instant_bookable'] = listings_df['instant_bookable'].replace({'t': 1, 'f': 0})"
      ],
      "metadata": {
        "id": "m9LJftBA7n-b"
      },
      "execution_count": null,
      "outputs": []
    },
    {
      "cell_type": "markdown",
      "source": [
        "### coordinate features\n",
        "\n",
        "Dealing with latitude & longitude "
      ],
      "metadata": {
        "id": "1zrjZJ1Hpvw0"
      }
    },
    {
      "cell_type": "code",
      "source": [
        "# To DO!!!"
      ],
      "metadata": {
        "id": "6m6D3F7RjPED"
      },
      "execution_count": null,
      "outputs": []
    },
    {
      "cell_type": "code",
      "source": [],
      "metadata": {
        "id": "JKmA2yZIGnGv"
      },
      "execution_count": null,
      "outputs": []
    },
    {
      "cell_type": "markdown",
      "source": [
        "**Testing location filler.**"
      ],
      "metadata": {
        "id": "ufhTTkIqMM8A"
      }
    },
    {
      "cell_type": "code",
      "source": [
        "# listings_df[['longitude', 'latitude']].head()"
      ],
      "metadata": {
        "id": "V0ieQdteTFTv"
      },
      "execution_count": null,
      "outputs": []
    },
    {
      "cell_type": "code",
      "source": [
        "# v= rg.search((-34.03149, 18.82689))"
      ],
      "metadata": {
        "id": "qWcsumT6CSaN"
      },
      "execution_count": null,
      "outputs": []
    },
    {
      "cell_type": "code",
      "source": [
        "# test[\"municipal\"] = rg.search((test.latitude, test.longitude))\n",
        "# test.head()"
      ],
      "metadata": {
        "id": "dMp9LG1QHQLC"
      },
      "execution_count": null,
      "outputs": []
    },
    {
      "cell_type": "code",
      "source": [
        "# location_df = listings_df[['latitude', 'longitude']]\n",
        "\n",
        "# # def locate(test, \"latitude\", \"longitude\"):\n",
        "# #   location = rg.search((test[\"latitude\"][0], test[\"longitude\"][0]))\n",
        "# #   return location[0][\"admin2\"]\n",
        "\n",
        "# location_df.head()"
      ],
      "metadata": {
        "id": "lU_H7tpJFy2c"
      },
      "execution_count": null,
      "outputs": []
    },
    {
      "cell_type": "markdown",
      "source": [
        "### room_type & accomodates features"
      ],
      "metadata": {
        "id": "mMWe1q16ruuB"
      }
    },
    {
      "cell_type": "code",
      "source": [
        "# viewing the columns\n",
        "listings_df[['room_type', 'accommodates']].head(3) "
      ],
      "metadata": {
        "colab": {
          "base_uri": "https://localhost:8080/",
          "height": 143
        },
        "id": "d7y8IW33mKK5",
        "outputId": "707f040f-e884-40c0-9556-66a01387152f"
      },
      "execution_count": null,
      "outputs": [
        {
          "output_type": "execute_result",
          "data": {
            "text/plain": [
              "         room_type  accommodates\n",
              "0  Entire home/apt             2\n",
              "1  Entire home/apt             4\n",
              "2  Entire home/apt             2"
            ],
            "text/html": [
              "\n",
              "  <div id=\"df-3980f24e-3a90-4b16-8828-b33006da283a\">\n",
              "    <div class=\"colab-df-container\">\n",
              "      <div>\n",
              "<style scoped>\n",
              "    .dataframe tbody tr th:only-of-type {\n",
              "        vertical-align: middle;\n",
              "    }\n",
              "\n",
              "    .dataframe tbody tr th {\n",
              "        vertical-align: top;\n",
              "    }\n",
              "\n",
              "    .dataframe thead th {\n",
              "        text-align: right;\n",
              "    }\n",
              "</style>\n",
              "<table border=\"1\" class=\"dataframe\">\n",
              "  <thead>\n",
              "    <tr style=\"text-align: right;\">\n",
              "      <th></th>\n",
              "      <th>room_type</th>\n",
              "      <th>accommodates</th>\n",
              "    </tr>\n",
              "  </thead>\n",
              "  <tbody>\n",
              "    <tr>\n",
              "      <th>0</th>\n",
              "      <td>Entire home/apt</td>\n",
              "      <td>2</td>\n",
              "    </tr>\n",
              "    <tr>\n",
              "      <th>1</th>\n",
              "      <td>Entire home/apt</td>\n",
              "      <td>4</td>\n",
              "    </tr>\n",
              "    <tr>\n",
              "      <th>2</th>\n",
              "      <td>Entire home/apt</td>\n",
              "      <td>2</td>\n",
              "    </tr>\n",
              "  </tbody>\n",
              "</table>\n",
              "</div>\n",
              "      <button class=\"colab-df-convert\" onclick=\"convertToInteractive('df-3980f24e-3a90-4b16-8828-b33006da283a')\"\n",
              "              title=\"Convert this dataframe to an interactive table.\"\n",
              "              style=\"display:none;\">\n",
              "        \n",
              "  <svg xmlns=\"http://www.w3.org/2000/svg\" height=\"24px\"viewBox=\"0 0 24 24\"\n",
              "       width=\"24px\">\n",
              "    <path d=\"M0 0h24v24H0V0z\" fill=\"none\"/>\n",
              "    <path d=\"M18.56 5.44l.94 2.06.94-2.06 2.06-.94-2.06-.94-.94-2.06-.94 2.06-2.06.94zm-11 1L8.5 8.5l.94-2.06 2.06-.94-2.06-.94L8.5 2.5l-.94 2.06-2.06.94zm10 10l.94 2.06.94-2.06 2.06-.94-2.06-.94-.94-2.06-.94 2.06-2.06.94z\"/><path d=\"M17.41 7.96l-1.37-1.37c-.4-.4-.92-.59-1.43-.59-.52 0-1.04.2-1.43.59L10.3 9.45l-7.72 7.72c-.78.78-.78 2.05 0 2.83L4 21.41c.39.39.9.59 1.41.59.51 0 1.02-.2 1.41-.59l7.78-7.78 2.81-2.81c.8-.78.8-2.07 0-2.86zM5.41 20L4 18.59l7.72-7.72 1.47 1.35L5.41 20z\"/>\n",
              "  </svg>\n",
              "      </button>\n",
              "      \n",
              "  <style>\n",
              "    .colab-df-container {\n",
              "      display:flex;\n",
              "      flex-wrap:wrap;\n",
              "      gap: 12px;\n",
              "    }\n",
              "\n",
              "    .colab-df-convert {\n",
              "      background-color: #E8F0FE;\n",
              "      border: none;\n",
              "      border-radius: 50%;\n",
              "      cursor: pointer;\n",
              "      display: none;\n",
              "      fill: #1967D2;\n",
              "      height: 32px;\n",
              "      padding: 0 0 0 0;\n",
              "      width: 32px;\n",
              "    }\n",
              "\n",
              "    .colab-df-convert:hover {\n",
              "      background-color: #E2EBFA;\n",
              "      box-shadow: 0px 1px 2px rgba(60, 64, 67, 0.3), 0px 1px 3px 1px rgba(60, 64, 67, 0.15);\n",
              "      fill: #174EA6;\n",
              "    }\n",
              "\n",
              "    [theme=dark] .colab-df-convert {\n",
              "      background-color: #3B4455;\n",
              "      fill: #D2E3FC;\n",
              "    }\n",
              "\n",
              "    [theme=dark] .colab-df-convert:hover {\n",
              "      background-color: #434B5C;\n",
              "      box-shadow: 0px 1px 3px 1px rgba(0, 0, 0, 0.15);\n",
              "      filter: drop-shadow(0px 1px 2px rgba(0, 0, 0, 0.3));\n",
              "      fill: #FFFFFF;\n",
              "    }\n",
              "  </style>\n",
              "\n",
              "      <script>\n",
              "        const buttonEl =\n",
              "          document.querySelector('#df-3980f24e-3a90-4b16-8828-b33006da283a button.colab-df-convert');\n",
              "        buttonEl.style.display =\n",
              "          google.colab.kernel.accessAllowed ? 'block' : 'none';\n",
              "\n",
              "        async function convertToInteractive(key) {\n",
              "          const element = document.querySelector('#df-3980f24e-3a90-4b16-8828-b33006da283a');\n",
              "          const dataTable =\n",
              "            await google.colab.kernel.invokeFunction('convertToInteractive',\n",
              "                                                     [key], {});\n",
              "          if (!dataTable) return;\n",
              "\n",
              "          const docLinkHtml = 'Like what you see? Visit the ' +\n",
              "            '<a target=\"_blank\" href=https://colab.research.google.com/notebooks/data_table.ipynb>data table notebook</a>'\n",
              "            + ' to learn more about interactive tables.';\n",
              "          element.innerHTML = '';\n",
              "          dataTable['output_type'] = 'display_data';\n",
              "          await google.colab.output.renderOutput(dataTable, element);\n",
              "          const docLink = document.createElement('div');\n",
              "          docLink.innerHTML = docLinkHtml;\n",
              "          element.appendChild(docLink);\n",
              "        }\n",
              "      </script>\n",
              "    </div>\n",
              "  </div>\n",
              "  "
            ]
          },
          "metadata": {},
          "execution_count": 52
        }
      ]
    },
    {
      "cell_type": "code",
      "source": [
        "# checking unique values in room type column\n",
        "print('The unique values in room_type column = ', listings_df['room_type'].nunique())\n",
        "print('-'*100)\n",
        "print(listings_df['room_type'].unique()[:5])\n",
        "print()\n",
        "# checking unique values in room type column\n",
        "print('The unique values in accommodates column = ', listings_df['accommodates'].nunique())\n",
        "print('-'*100)\n",
        "print(listings_df['accommodates'].unique()[:5])\n",
        "print()\n",
        "# maximum accommodates \n",
        "print('The max number a listing can accommodate = ', listings_df['accommodates'].max()) \n",
        "print()\n",
        "# minimum accommodates\n",
        "print('The min number a listing can accommodate ', listings_df['accommodates'].min()) "
      ],
      "metadata": {
        "colab": {
          "base_uri": "https://localhost:8080/"
        },
        "id": "q5BVUSZ6jO9r",
        "outputId": "77f701f8-4b2e-48bc-b16b-9b8fa7fca66e"
      },
      "execution_count": null,
      "outputs": [
        {
          "output_type": "stream",
          "name": "stdout",
          "text": [
            "The unique values in room_type column =  4\n",
            "----------------------------------------------------------------------------------------------------\n",
            "['Entire home/apt' 'Private room' 'Shared room' 'Hotel room']\n",
            "\n",
            "The unique values in accommodates column =  16\n",
            "----------------------------------------------------------------------------------------------------\n",
            "[ 2  4 10  6  5]\n",
            "\n",
            "The max number a listing can accommodate =  16\n",
            "\n",
            "The min number a listing can accommodate  1\n"
          ]
        }
      ]
    },
    {
      "cell_type": "markdown",
      "source": [
        "### amenities feature & amenities_count feature engineering"
      ],
      "metadata": {
        "id": "MkyTQdPNzsAo"
      }
    },
    {
      "cell_type": "code",
      "source": [
        "# viewing amenities column\n",
        "listings_df['amenities'].head() "
      ],
      "metadata": {
        "id": "Bst7uw38y1YO",
        "colab": {
          "base_uri": "https://localhost:8080/"
        },
        "outputId": "a4d217a4-2141-4127-ac3d-d2d268d4f8bd"
      },
      "execution_count": null,
      "outputs": [
        {
          "output_type": "execute_result",
          "data": {
            "text/plain": [
              "0    [\"Hot water\", \"Cooking basics\", \"Iron\", \"Free ...\n",
              "1    [\"Hot water\", \"Cooking basics\", \"Iron\", \"Dryin...\n",
              "2    [\"TV\", \"Long term stays allowed\", \"Cooking bas...\n",
              "3    [\"TV\", \"Gym\", \"Long term stays allowed\", \"Heat...\n",
              "4    [\"TV\", \"Long term stays allowed\", \"Heating\", \"...\n",
              "Name: amenities, dtype: object"
            ]
          },
          "metadata": {},
          "execution_count": 54
        }
      ]
    },
    {
      "cell_type": "code",
      "source": [
        "# Splitting amenities column and get amenities count words\n",
        "# then creating a new column \"amenities_count\"\n",
        "\n",
        "# listings_df['amenities_count'] = listings_df['amenities'].str.split(',').str.len()\n",
        "# # tramsform amenities records from list to string type\n",
        "# # listings_df.amenities = listings_df['amenities'].str.replace(\"[{}]\", \"\").str.replace('\"', \"\").str.replace('[',\"\").str.replace(']',\"\")\n",
        "\n",
        "# creating a list of lower and uppercase letters \n",
        "letters = string.ascii_letters\n",
        "# splitting each record to extract the amenities\n",
        "amenities_split = listings_df['amenities'].apply(lambda x: x.split('\"'))\n",
        "new_amenities = []\n",
        "# making a list of lists \n",
        "for split in amenities_split:\n",
        "    res = [x for x in split if x[0] in letters]\n",
        "    new_amenities.append(res)\n",
        "\n",
        "# replacing amenities with the list of lists\n",
        "listings_df['amenities'] = new_amenities\n",
        "# engineering a new column that is the count of amenities per record\n",
        "listings_df['amenities_count'] = listings_df['amenities'].apply(lambda x: len(x))\n",
        "# checking unique counts\n",
        "listings_df['amenities_count'].nunique()"
      ],
      "metadata": {
        "id": "O6GGR121kmmP",
        "colab": {
          "base_uri": "https://localhost:8080/"
        },
        "outputId": "89ee590e-fb27-41d7-de42-15b486f34726"
      },
      "execution_count": null,
      "outputs": [
        {
          "output_type": "execute_result",
          "data": {
            "text/plain": [
              "81"
            ]
          },
          "metadata": {},
          "execution_count": 55
        }
      ]
    },
    {
      "cell_type": "code",
      "source": [
        "listings_df['amenities_count'].value_counts().head(40)"
      ],
      "metadata": {
        "colab": {
          "base_uri": "https://localhost:8080/"
        },
        "id": "sz0dcCQKiw1k",
        "outputId": "c0965a6e-c8a1-48a5-b0d1-4a233994c34b"
      },
      "execution_count": null,
      "outputs": [
        {
          "output_type": "execute_result",
          "data": {
            "text/plain": [
              "10    545\n",
              "9     464\n",
              "17    442\n",
              "5     438\n",
              "16    436\n",
              "18    431\n",
              "15    430\n",
              "27    423\n",
              "13    422\n",
              "14    418\n",
              "29    415\n",
              "24    411\n",
              "31    409\n",
              "19    409\n",
              "20    407\n",
              "25    404\n",
              "21    397\n",
              "12    395\n",
              "30    393\n",
              "23    389\n",
              "11    386\n",
              "22    386\n",
              "34    378\n",
              "28    376\n",
              "26    367\n",
              "33    366\n",
              "32    360\n",
              "35    356\n",
              "39    343\n",
              "36    308\n",
              "37    300\n",
              "38    292\n",
              "40    285\n",
              "41    280\n",
              "8     275\n",
              "43    268\n",
              "42    232\n",
              "44    229\n",
              "7     226\n",
              "45    225\n",
              "Name: amenities_count, dtype: int64"
            ]
          },
          "metadata": {},
          "execution_count": 89
        }
      ]
    },
    {
      "cell_type": "code",
      "source": [
        "listings_df[listings_df['amenities_count'] > 70]['amenities'][403]"
      ],
      "metadata": {
        "colab": {
          "base_uri": "https://localhost:8080/"
        },
        "id": "Fod4S7MJhlb3",
        "outputId": "2f94c98a-59ba-4928-a0d5-ecb642b557b9"
      },
      "execution_count": null,
      "outputs": [
        {
          "output_type": "execute_result",
          "data": {
            "text/plain": [
              "['Board games',\n",
              " 'Hot water',\n",
              " 'Cleaning products',\n",
              " 'Cooking basics',\n",
              " 'Indoor fireplace',\n",
              " 'Iron',\n",
              " 'Drying rack for clothing',\n",
              " 'TV with standard cable',\n",
              " 'Coffee maker',\n",
              " 'BBQ grill',\n",
              " 'Dining table',\n",
              " 'Washer',\n",
              " 'Ethernet connection',\n",
              " 'Pocket wifi',\n",
              " 'Portable fans',\n",
              " 'Private hot tub',\n",
              " 'Free residential garage on premises \\\\u2013 4 spaces',\n",
              " 'Private pool',\n",
              " 'Bed linens',\n",
              " 'Free street parking',\n",
              " 'Freezer',\n",
              " 'Dryer',\n",
              " 'High chair',\n",
              " 'Shampoo',\n",
              " 'Clothing storage: wardrobe',\n",
              " 'Crib',\n",
              " 'Bathtub',\n",
              " 'Outdoor furniture',\n",
              " 'Private entrance',\n",
              " 'Keypad',\n",
              " 'Cleaning before checkout',\n",
              " 'Wifi',\n",
              " 'Safe',\n",
              " 'Outdoor dining area',\n",
              " 'Heating',\n",
              " 'Conditioner',\n",
              " 'Children\\\\u2019s books and toys for ages 0-2 years old',\n",
              " 'Baking sheet',\n",
              " 'Private patio or balcony',\n",
              " 'Changing table',\n",
              " 'Stove',\n",
              " 'Elevator',\n",
              " 'Extra pillows and blankets',\n",
              " 'Hot water kettle',\n",
              " 'Wine glasses',\n",
              " 'Children\\\\u2019s dinnerware',\n",
              " 'First aid kit',\n",
              " 'Microwave',\n",
              " 'Refrigerator',\n",
              " 'Hair dryer',\n",
              " 'Laundromat nearby',\n",
              " 'Barbecue utensils',\n",
              " 'Body soap',\n",
              " 'Shower gel',\n",
              " 'Ceiling fan',\n",
              " 'Beach essentials',\n",
              " 'Dishwasher',\n",
              " 'Baby bath',\n",
              " 'Pack \\\\u2019n play/Travel crib',\n",
              " 'Hangers',\n",
              " 'Essentials',\n",
              " 'Cable TV',\n",
              " 'Kitchen',\n",
              " 'Dishes and silverware',\n",
              " 'Luggage dropoff allowed',\n",
              " 'Long term stays allowed',\n",
              " 'Dedicated workspace',\n",
              " 'Oven',\n",
              " 'Babysitter recommendations',\n",
              " 'Toaster',\n",
              " 'Fire extinguisher',\n",
              " 'Sound system']"
            ]
          },
          "metadata": {},
          "execution_count": 85
        }
      ]
    },
    {
      "cell_type": "markdown",
      "source": [
        "### last_scraped feature & hosting_age feature engineering"
      ],
      "metadata": {
        "id": "N0Ty0x9IeS2V"
      }
    },
    {
      "cell_type": "code",
      "source": [
        "# viewing 'scrape' columns\n",
        "listings_df['last_scraped'].head(2) "
      ],
      "metadata": {
        "id": "C_ASBwp1oS9w",
        "colab": {
          "base_uri": "https://localhost:8080/"
        },
        "outputId": "d879f2f7-a91c-4c80-91b7-9f92a3ea0715"
      },
      "execution_count": null,
      "outputs": [
        {
          "output_type": "execute_result",
          "data": {
            "text/plain": [
              "0    2022-06-22\n",
              "1    2022-06-22\n",
              "Name: last_scraped, dtype: object"
            ]
          },
          "metadata": {},
          "execution_count": 56
        }
      ]
    },
    {
      "cell_type": "code",
      "source": [
        "# slicing the year from last scraped\n",
        "listings_df['last_scraped'] = listings_df['last_scraped'].apply(lambda x: x[:4]) \n",
        "# changing column data type\n",
        "listings_df['last_scraped'] = listings_df['last_scraped'].astype(int) \n",
        "# creating a column to show age of the host\n",
        "listings_df['hosting_age'] = listings_df['last_scraped'] - listings_df['host_since']\n",
        "# dropping last_scrapped and host_since columns\n",
        "listings_df.drop(columns= ['last_scraped', 'host_since'], inplace= True) "
      ],
      "metadata": {
        "id": "btBpwvyqeYXA"
      },
      "execution_count": null,
      "outputs": []
    },
    {
      "cell_type": "markdown",
      "source": [
        "#### **We need to decide which features will be categorical.**"
      ],
      "metadata": {
        "id": "-TZlZi20IZGI"
      }
    },
    {
      "cell_type": "code",
      "source": [
        "# checking the unique counts of the features in the dataframe\n",
        "unique_count = []\n",
        "\n",
        "for column in list(listings_df.columns):\n",
        "    # because list type is not hashable\n",
        "    if column != 'amenities': \n",
        "        unique_val = listings_df[column].nunique()\n",
        "        unique_count.append(unique_val)\n",
        "    else: \n",
        "        unique_count.append('list_type')\n",
        "        \n",
        "# creating a dataframe for readability\n",
        "pd.DataFrame(list(zip(list(listings_df.columns), unique_count)), columns=['feature', 'unique_count'])"
      ],
      "metadata": {
        "colab": {
          "base_uri": "https://localhost:8080/",
          "height": 959
        },
        "id": "-gfnvT6_98k5",
        "outputId": "9ce6ee4d-ba0f-4bf3-c376-80f7aa070c52"
      },
      "execution_count": null,
      "outputs": [
        {
          "output_type": "execute_result",
          "data": {
            "text/plain": [
              "                           feature unique_count\n",
              "0                               id        17474\n",
              "1                      listing_url        17474\n",
              "2                         host_url         9429\n",
              "3                    host_location          614\n",
              "4           neighbourhood_cleansed           91\n",
              "5               host_response_time            5\n",
              "6               host_response_rate           11\n",
              "7             host_acceptance_rate           11\n",
              "8                host_is_superhost            2\n",
              "9                         latitude        12181\n",
              "10                       longitude        11878\n",
              "11                       room_type            4\n",
              "12                    accommodates           16\n",
              "13                       bathrooms           30\n",
              "14                        bedrooms           20\n",
              "15                            beds           21\n",
              "16                       amenities    list_type\n",
              "17                           price         2639\n",
              "18               number_of_reviews          278\n",
              "19            review_scores_rating            5\n",
              "20          review_scores_accuracy            5\n",
              "21       review_scores_cleanliness            5\n",
              "22           review_scores_checkin            5\n",
              "23     review_scores_communication            5\n",
              "24          review_scores_location            5\n",
              "25                instant_bookable            2\n",
              "26  calculated_host_listings_count           53\n",
              "27                 amenities_count           81\n",
              "28                     hosting_age           15"
            ],
            "text/html": [
              "\n",
              "  <div id=\"df-c4080f77-6dc7-4cba-83e2-8632ce18dbf5\">\n",
              "    <div class=\"colab-df-container\">\n",
              "      <div>\n",
              "<style scoped>\n",
              "    .dataframe tbody tr th:only-of-type {\n",
              "        vertical-align: middle;\n",
              "    }\n",
              "\n",
              "    .dataframe tbody tr th {\n",
              "        vertical-align: top;\n",
              "    }\n",
              "\n",
              "    .dataframe thead th {\n",
              "        text-align: right;\n",
              "    }\n",
              "</style>\n",
              "<table border=\"1\" class=\"dataframe\">\n",
              "  <thead>\n",
              "    <tr style=\"text-align: right;\">\n",
              "      <th></th>\n",
              "      <th>feature</th>\n",
              "      <th>unique_count</th>\n",
              "    </tr>\n",
              "  </thead>\n",
              "  <tbody>\n",
              "    <tr>\n",
              "      <th>0</th>\n",
              "      <td>id</td>\n",
              "      <td>17474</td>\n",
              "    </tr>\n",
              "    <tr>\n",
              "      <th>1</th>\n",
              "      <td>listing_url</td>\n",
              "      <td>17474</td>\n",
              "    </tr>\n",
              "    <tr>\n",
              "      <th>2</th>\n",
              "      <td>host_url</td>\n",
              "      <td>9429</td>\n",
              "    </tr>\n",
              "    <tr>\n",
              "      <th>3</th>\n",
              "      <td>host_location</td>\n",
              "      <td>614</td>\n",
              "    </tr>\n",
              "    <tr>\n",
              "      <th>4</th>\n",
              "      <td>neighbourhood_cleansed</td>\n",
              "      <td>91</td>\n",
              "    </tr>\n",
              "    <tr>\n",
              "      <th>5</th>\n",
              "      <td>host_response_time</td>\n",
              "      <td>5</td>\n",
              "    </tr>\n",
              "    <tr>\n",
              "      <th>6</th>\n",
              "      <td>host_response_rate</td>\n",
              "      <td>11</td>\n",
              "    </tr>\n",
              "    <tr>\n",
              "      <th>7</th>\n",
              "      <td>host_acceptance_rate</td>\n",
              "      <td>11</td>\n",
              "    </tr>\n",
              "    <tr>\n",
              "      <th>8</th>\n",
              "      <td>host_is_superhost</td>\n",
              "      <td>2</td>\n",
              "    </tr>\n",
              "    <tr>\n",
              "      <th>9</th>\n",
              "      <td>latitude</td>\n",
              "      <td>12181</td>\n",
              "    </tr>\n",
              "    <tr>\n",
              "      <th>10</th>\n",
              "      <td>longitude</td>\n",
              "      <td>11878</td>\n",
              "    </tr>\n",
              "    <tr>\n",
              "      <th>11</th>\n",
              "      <td>room_type</td>\n",
              "      <td>4</td>\n",
              "    </tr>\n",
              "    <tr>\n",
              "      <th>12</th>\n",
              "      <td>accommodates</td>\n",
              "      <td>16</td>\n",
              "    </tr>\n",
              "    <tr>\n",
              "      <th>13</th>\n",
              "      <td>bathrooms</td>\n",
              "      <td>30</td>\n",
              "    </tr>\n",
              "    <tr>\n",
              "      <th>14</th>\n",
              "      <td>bedrooms</td>\n",
              "      <td>20</td>\n",
              "    </tr>\n",
              "    <tr>\n",
              "      <th>15</th>\n",
              "      <td>beds</td>\n",
              "      <td>21</td>\n",
              "    </tr>\n",
              "    <tr>\n",
              "      <th>16</th>\n",
              "      <td>amenities</td>\n",
              "      <td>list_type</td>\n",
              "    </tr>\n",
              "    <tr>\n",
              "      <th>17</th>\n",
              "      <td>price</td>\n",
              "      <td>2639</td>\n",
              "    </tr>\n",
              "    <tr>\n",
              "      <th>18</th>\n",
              "      <td>number_of_reviews</td>\n",
              "      <td>278</td>\n",
              "    </tr>\n",
              "    <tr>\n",
              "      <th>19</th>\n",
              "      <td>review_scores_rating</td>\n",
              "      <td>5</td>\n",
              "    </tr>\n",
              "    <tr>\n",
              "      <th>20</th>\n",
              "      <td>review_scores_accuracy</td>\n",
              "      <td>5</td>\n",
              "    </tr>\n",
              "    <tr>\n",
              "      <th>21</th>\n",
              "      <td>review_scores_cleanliness</td>\n",
              "      <td>5</td>\n",
              "    </tr>\n",
              "    <tr>\n",
              "      <th>22</th>\n",
              "      <td>review_scores_checkin</td>\n",
              "      <td>5</td>\n",
              "    </tr>\n",
              "    <tr>\n",
              "      <th>23</th>\n",
              "      <td>review_scores_communication</td>\n",
              "      <td>5</td>\n",
              "    </tr>\n",
              "    <tr>\n",
              "      <th>24</th>\n",
              "      <td>review_scores_location</td>\n",
              "      <td>5</td>\n",
              "    </tr>\n",
              "    <tr>\n",
              "      <th>25</th>\n",
              "      <td>instant_bookable</td>\n",
              "      <td>2</td>\n",
              "    </tr>\n",
              "    <tr>\n",
              "      <th>26</th>\n",
              "      <td>calculated_host_listings_count</td>\n",
              "      <td>53</td>\n",
              "    </tr>\n",
              "    <tr>\n",
              "      <th>27</th>\n",
              "      <td>amenities_count</td>\n",
              "      <td>81</td>\n",
              "    </tr>\n",
              "    <tr>\n",
              "      <th>28</th>\n",
              "      <td>hosting_age</td>\n",
              "      <td>15</td>\n",
              "    </tr>\n",
              "  </tbody>\n",
              "</table>\n",
              "</div>\n",
              "      <button class=\"colab-df-convert\" onclick=\"convertToInteractive('df-c4080f77-6dc7-4cba-83e2-8632ce18dbf5')\"\n",
              "              title=\"Convert this dataframe to an interactive table.\"\n",
              "              style=\"display:none;\">\n",
              "        \n",
              "  <svg xmlns=\"http://www.w3.org/2000/svg\" height=\"24px\"viewBox=\"0 0 24 24\"\n",
              "       width=\"24px\">\n",
              "    <path d=\"M0 0h24v24H0V0z\" fill=\"none\"/>\n",
              "    <path d=\"M18.56 5.44l.94 2.06.94-2.06 2.06-.94-2.06-.94-.94-2.06-.94 2.06-2.06.94zm-11 1L8.5 8.5l.94-2.06 2.06-.94-2.06-.94L8.5 2.5l-.94 2.06-2.06.94zm10 10l.94 2.06.94-2.06 2.06-.94-2.06-.94-.94-2.06-.94 2.06-2.06.94z\"/><path d=\"M17.41 7.96l-1.37-1.37c-.4-.4-.92-.59-1.43-.59-.52 0-1.04.2-1.43.59L10.3 9.45l-7.72 7.72c-.78.78-.78 2.05 0 2.83L4 21.41c.39.39.9.59 1.41.59.51 0 1.02-.2 1.41-.59l7.78-7.78 2.81-2.81c.8-.78.8-2.07 0-2.86zM5.41 20L4 18.59l7.72-7.72 1.47 1.35L5.41 20z\"/>\n",
              "  </svg>\n",
              "      </button>\n",
              "      \n",
              "  <style>\n",
              "    .colab-df-container {\n",
              "      display:flex;\n",
              "      flex-wrap:wrap;\n",
              "      gap: 12px;\n",
              "    }\n",
              "\n",
              "    .colab-df-convert {\n",
              "      background-color: #E8F0FE;\n",
              "      border: none;\n",
              "      border-radius: 50%;\n",
              "      cursor: pointer;\n",
              "      display: none;\n",
              "      fill: #1967D2;\n",
              "      height: 32px;\n",
              "      padding: 0 0 0 0;\n",
              "      width: 32px;\n",
              "    }\n",
              "\n",
              "    .colab-df-convert:hover {\n",
              "      background-color: #E2EBFA;\n",
              "      box-shadow: 0px 1px 2px rgba(60, 64, 67, 0.3), 0px 1px 3px 1px rgba(60, 64, 67, 0.15);\n",
              "      fill: #174EA6;\n",
              "    }\n",
              "\n",
              "    [theme=dark] .colab-df-convert {\n",
              "      background-color: #3B4455;\n",
              "      fill: #D2E3FC;\n",
              "    }\n",
              "\n",
              "    [theme=dark] .colab-df-convert:hover {\n",
              "      background-color: #434B5C;\n",
              "      box-shadow: 0px 1px 3px 1px rgba(0, 0, 0, 0.15);\n",
              "      filter: drop-shadow(0px 1px 2px rgba(0, 0, 0, 0.3));\n",
              "      fill: #FFFFFF;\n",
              "    }\n",
              "  </style>\n",
              "\n",
              "      <script>\n",
              "        const buttonEl =\n",
              "          document.querySelector('#df-c4080f77-6dc7-4cba-83e2-8632ce18dbf5 button.colab-df-convert');\n",
              "        buttonEl.style.display =\n",
              "          google.colab.kernel.accessAllowed ? 'block' : 'none';\n",
              "\n",
              "        async function convertToInteractive(key) {\n",
              "          const element = document.querySelector('#df-c4080f77-6dc7-4cba-83e2-8632ce18dbf5');\n",
              "          const dataTable =\n",
              "            await google.colab.kernel.invokeFunction('convertToInteractive',\n",
              "                                                     [key], {});\n",
              "          if (!dataTable) return;\n",
              "\n",
              "          const docLinkHtml = 'Like what you see? Visit the ' +\n",
              "            '<a target=\"_blank\" href=https://colab.research.google.com/notebooks/data_table.ipynb>data table notebook</a>'\n",
              "            + ' to learn more about interactive tables.';\n",
              "          element.innerHTML = '';\n",
              "          dataTable['output_type'] = 'display_data';\n",
              "          await google.colab.output.renderOutput(dataTable, element);\n",
              "          const docLink = document.createElement('div');\n",
              "          docLink.innerHTML = docLinkHtml;\n",
              "          element.appendChild(docLink);\n",
              "        }\n",
              "      </script>\n",
              "    </div>\n",
              "  </div>\n",
              "  "
            ]
          },
          "metadata": {},
          "execution_count": 58
        }
      ]
    },
    {
      "cell_type": "markdown",
      "source": [
        "With cleaning finished. A reset of the dataframe index is needed."
      ],
      "metadata": {
        "id": "cSlUUpPeBrUO"
      }
    },
    {
      "cell_type": "code",
      "source": [
        "# resetting dataframe index\n",
        "listings_df.reset_index(drop=True, inplace=True)"
      ],
      "metadata": {
        "id": "MZxjSelSBqbx"
      },
      "execution_count": null,
      "outputs": []
    },
    {
      "cell_type": "markdown",
      "source": [
        "## 4.4 Bivariate Analysis"
      ],
      "metadata": {
        "id": "VgOhMTRANVEk"
      }
    },
    {
      "cell_type": "code",
      "source": [
        "# dataframe of continuous variables in the dataframe\n",
        "continuous_var_df = listings_df[['price','number_of_reviews']]\n",
        "# dataframe of categorical variables in the dataframe\n",
        "categorical_var_df = listings_df[['host_response_time', 'host_response_rate','host_acceptance_rate', 'host_is_superhost', 'room_type',\n",
        "                              'accommodates', 'bathrooms', 'bedrooms', 'beds', 'hosting_age', 'review_scores_rating', \n",
        "                              'review_scores_accuracy', 'review_scores_cleanliness', 'review_scores_checkin', 'review_scores_communication',\n",
        "                              'review_scores_location', 'instant_bookable', 'calculated_host_listings_count', 'amenities_count'\n",
        "                              ]]"
      ],
      "metadata": {
        "id": "C9HlcrM6jbgF"
      },
      "execution_count": null,
      "outputs": []
    },
    {
      "cell_type": "markdown",
      "source": [
        "### price vs other features"
      ],
      "metadata": {
        "id": "PCPcxgHf0O5D"
      }
    },
    {
      "cell_type": "code",
      "source": [
        "# viewing price column\n",
        "listings_df['price'].head(2) "
      ],
      "metadata": {
        "colab": {
          "base_uri": "https://localhost:8080/"
        },
        "id": "Q2W3F2AD0NlH",
        "outputId": "fe8057ce-d027-4f15-d8d8-2fd678f771ab"
      },
      "execution_count": null,
      "outputs": [
        {
          "output_type": "execute_result",
          "data": {
            "text/plain": [
              "0    $1,350.00\n",
              "1    $1,750.00\n",
              "Name: price, dtype: object"
            ]
          },
          "metadata": {},
          "execution_count": 61
        }
      ]
    },
    {
      "cell_type": "code",
      "source": [
        "# picking numeric values from the records\n",
        "listings_df['price'] = listings_df['price'].apply(lambda x: re.sub('[^0-9]', '', x)) \n",
        "# changing price column data type\n",
        "listings_df['price'] = listings_df['price'].astype(float) \n",
        "# creating a correlation matrix\n",
        "continuous_var_df.corr().round(2)"
      ],
      "metadata": {
        "id": "Z7Hops670Yob",
        "colab": {
          "base_uri": "https://localhost:8080/",
          "height": 81
        },
        "outputId": "f74901af-388a-4835-e49e-91677ecc3132"
      },
      "execution_count": null,
      "outputs": [
        {
          "output_type": "execute_result",
          "data": {
            "text/plain": [
              "                   number_of_reviews\n",
              "number_of_reviews                1.0"
            ],
            "text/html": [
              "\n",
              "  <div id=\"df-ba15681e-3308-47c4-8581-76eeccd68aae\">\n",
              "    <div class=\"colab-df-container\">\n",
              "      <div>\n",
              "<style scoped>\n",
              "    .dataframe tbody tr th:only-of-type {\n",
              "        vertical-align: middle;\n",
              "    }\n",
              "\n",
              "    .dataframe tbody tr th {\n",
              "        vertical-align: top;\n",
              "    }\n",
              "\n",
              "    .dataframe thead th {\n",
              "        text-align: right;\n",
              "    }\n",
              "</style>\n",
              "<table border=\"1\" class=\"dataframe\">\n",
              "  <thead>\n",
              "    <tr style=\"text-align: right;\">\n",
              "      <th></th>\n",
              "      <th>number_of_reviews</th>\n",
              "    </tr>\n",
              "  </thead>\n",
              "  <tbody>\n",
              "    <tr>\n",
              "      <th>number_of_reviews</th>\n",
              "      <td>1.0</td>\n",
              "    </tr>\n",
              "  </tbody>\n",
              "</table>\n",
              "</div>\n",
              "      <button class=\"colab-df-convert\" onclick=\"convertToInteractive('df-ba15681e-3308-47c4-8581-76eeccd68aae')\"\n",
              "              title=\"Convert this dataframe to an interactive table.\"\n",
              "              style=\"display:none;\">\n",
              "        \n",
              "  <svg xmlns=\"http://www.w3.org/2000/svg\" height=\"24px\"viewBox=\"0 0 24 24\"\n",
              "       width=\"24px\">\n",
              "    <path d=\"M0 0h24v24H0V0z\" fill=\"none\"/>\n",
              "    <path d=\"M18.56 5.44l.94 2.06.94-2.06 2.06-.94-2.06-.94-.94-2.06-.94 2.06-2.06.94zm-11 1L8.5 8.5l.94-2.06 2.06-.94-2.06-.94L8.5 2.5l-.94 2.06-2.06.94zm10 10l.94 2.06.94-2.06 2.06-.94-2.06-.94-.94-2.06-.94 2.06-2.06.94z\"/><path d=\"M17.41 7.96l-1.37-1.37c-.4-.4-.92-.59-1.43-.59-.52 0-1.04.2-1.43.59L10.3 9.45l-7.72 7.72c-.78.78-.78 2.05 0 2.83L4 21.41c.39.39.9.59 1.41.59.51 0 1.02-.2 1.41-.59l7.78-7.78 2.81-2.81c.8-.78.8-2.07 0-2.86zM5.41 20L4 18.59l7.72-7.72 1.47 1.35L5.41 20z\"/>\n",
              "  </svg>\n",
              "      </button>\n",
              "      \n",
              "  <style>\n",
              "    .colab-df-container {\n",
              "      display:flex;\n",
              "      flex-wrap:wrap;\n",
              "      gap: 12px;\n",
              "    }\n",
              "\n",
              "    .colab-df-convert {\n",
              "      background-color: #E8F0FE;\n",
              "      border: none;\n",
              "      border-radius: 50%;\n",
              "      cursor: pointer;\n",
              "      display: none;\n",
              "      fill: #1967D2;\n",
              "      height: 32px;\n",
              "      padding: 0 0 0 0;\n",
              "      width: 32px;\n",
              "    }\n",
              "\n",
              "    .colab-df-convert:hover {\n",
              "      background-color: #E2EBFA;\n",
              "      box-shadow: 0px 1px 2px rgba(60, 64, 67, 0.3), 0px 1px 3px 1px rgba(60, 64, 67, 0.15);\n",
              "      fill: #174EA6;\n",
              "    }\n",
              "\n",
              "    [theme=dark] .colab-df-convert {\n",
              "      background-color: #3B4455;\n",
              "      fill: #D2E3FC;\n",
              "    }\n",
              "\n",
              "    [theme=dark] .colab-df-convert:hover {\n",
              "      background-color: #434B5C;\n",
              "      box-shadow: 0px 1px 3px 1px rgba(0, 0, 0, 0.15);\n",
              "      filter: drop-shadow(0px 1px 2px rgba(0, 0, 0, 0.3));\n",
              "      fill: #FFFFFF;\n",
              "    }\n",
              "  </style>\n",
              "\n",
              "      <script>\n",
              "        const buttonEl =\n",
              "          document.querySelector('#df-ba15681e-3308-47c4-8581-76eeccd68aae button.colab-df-convert');\n",
              "        buttonEl.style.display =\n",
              "          google.colab.kernel.accessAllowed ? 'block' : 'none';\n",
              "\n",
              "        async function convertToInteractive(key) {\n",
              "          const element = document.querySelector('#df-ba15681e-3308-47c4-8581-76eeccd68aae');\n",
              "          const dataTable =\n",
              "            await google.colab.kernel.invokeFunction('convertToInteractive',\n",
              "                                                     [key], {});\n",
              "          if (!dataTable) return;\n",
              "\n",
              "          const docLinkHtml = 'Like what you see? Visit the ' +\n",
              "            '<a target=\"_blank\" href=https://colab.research.google.com/notebooks/data_table.ipynb>data table notebook</a>'\n",
              "            + ' to learn more about interactive tables.';\n",
              "          element.innerHTML = '';\n",
              "          dataTable['output_type'] = 'display_data';\n",
              "          await google.colab.output.renderOutput(dataTable, element);\n",
              "          const docLink = document.createElement('div');\n",
              "          docLink.innerHTML = docLinkHtml;\n",
              "          element.appendChild(docLink);\n",
              "        }\n",
              "      </script>\n",
              "    </div>\n",
              "  </div>\n",
              "  "
            ]
          },
          "metadata": {},
          "execution_count": 62
        }
      ]
    },
    {
      "cell_type": "code",
      "source": [
        "# setting plotstyle\n",
        "sns.set(style=\"whitegrid\") \n",
        "# price vs. number_of_reviews\n",
        "sns.jointplot(x='number_of_reviews',y='price', data=listings_df, kind=\"reg\", truncate=False)\n",
        "plt.show()"
      ],
      "metadata": {
        "colab": {
          "base_uri": "https://localhost:8080/",
          "height": 437
        },
        "id": "HcFcEZkaNYL6",
        "outputId": "37b5e14a-b7d6-41e6-b8ab-89880ac0c0e4"
      },
      "execution_count": null,
      "outputs": [
        {
          "output_type": "display_data",
          "data": {
            "text/plain": [
              "<Figure size 432x432 with 3 Axes>"
            ],
            "image/png": "[encoded data removed]"
          },
          "metadata": {}
        }
      ]
    },
    {
      "cell_type": "code",
      "source": [
        "fig, ax = plt.subplots(6,1,figsize = (10,40))\n",
        "\n",
        "sns.boxplot(x = 'bedrooms', y = 'price', data = listings_df, ax = ax[0], color = 'purple')\n",
        "ax[0].set_xlim(0,14)\n",
        "\n",
        "sns.boxplot(x = 'room_type', y = 'price', data = listings_df, ax = ax[1], color = 'red')\n",
        "\n",
        "sns.boxplot(y = 'price', x = 'instant_bookable', data = listings_df, ax = ax[2], color='orange')\n",
        "\n",
        "sns.boxplot(y = 'price', x = 'host_is_superhost', data = listings_df, ax = ax[3],color='yellow')\n",
        "\n",
        "sns.boxplot(y = 'price', x = 'accommodates', data = listings_df, ax = ax[4],color='green')\n",
        "sns.boxplot(y = 'price', x = 'bathrooms', data = listings_df, ax = ax[5])\n",
        "ax[5].set_xlim(0,22.5)\n"
      ],
      "metadata": {
        "colab": {
          "base_uri": "https://localhost:8080/",
          "height": 1000
        },
        "id": "3_bLGpgHj7hc",
        "outputId": "f2b48585-34ea-4e10-d9c1-92da25891312"
      },
      "execution_count": null,
      "outputs": [
        {
          "output_type": "execute_result",
          "data": {
            "text/plain": [
              "(0.0, 22.5)"
            ]
          },
          "metadata": {},
          "execution_count": 64
        },
        {
          "output_type": "display_data",
          "data": {
            "text/plain": [
              "<Figure size 720x2880 with 6 Axes>"
            ],
            "image/png": "[encoded data removed]"
          },
          "metadata": {}
        }
      ]
    },
    {
      "cell_type": "markdown",
      "source": [
        "### superhost tags vs other features"
      ],
      "metadata": {
        "id": "yCbz_9VkPAkw"
      }
    },
    {
      "cell_type": "code",
      "source": [
        "listings_df['host_is_superhost'].value_counts(normalize=True)"
      ],
      "metadata": {
        "colab": {
          "base_uri": "https://localhost:8080/"
        },
        "id": "rrBeGS8PldB4",
        "outputId": "ebaca93c-aa07-40dc-b37e-28bc4ba7f332"
      },
      "execution_count": null,
      "outputs": [
        {
          "output_type": "execute_result",
          "data": {
            "text/plain": [
              "0    0.791004\n",
              "1    0.208996\n",
              "Name: host_is_superhost, dtype: float64"
            ]
          },
          "metadata": {},
          "execution_count": 94
        }
      ]
    },
    {
      "cell_type": "code",
      "source": [
        "# 'host_is_superhost' category\n",
        "# setting plotstyle\n",
        "sns.set(style=\"whitegrid\") \n",
        "fig = plt.figure(figsize = (6,6))\n",
        "# count plot of superhost\n",
        "sns.countplot(x=listings_df['host_is_superhost']); "
      ],
      "metadata": {
        "colab": {
          "base_uri": "https://localhost:8080/",
          "height": 394
        },
        "id": "h01AtpYdSLfS",
        "outputId": "b669fa03-8955-4b00-eee5-b23459f9dce0"
      },
      "execution_count": null,
      "outputs": [
        {
          "output_type": "display_data",
          "data": {
            "text/plain": [
              "<Figure size 432x432 with 1 Axes>"
            ],
            "image/png": "[encoded data removed]"
          },
          "metadata": {}
        }
      ]
    },
    {
      "cell_type": "markdown",
      "source": [
        "There is a class imbance in the superhost column."
      ],
      "metadata": {
        "id": "2uGL4KzErvbn"
      }
    },
    {
      "cell_type": "code",
      "source": [
        "# Barplot to check the relationship between host is superhost and number of accommodates\n",
        "fig, ax = plt.subplots()\n",
        "fig.set_size_inches(10, 15)\n",
        "ax.axes.set_title(\"accommodates, Airbnb \",fontsize=40, pad=40)\n",
        "ax = sns.barplot(x='host_is_superhost', y='price',data=listings_df, palette='Set3')\n",
        "ax.set_xlabel('host_is_superhost',fontsize=30,labelpad=30)\n",
        "ax.set_ylabel('accommodates',fontsize=30,labelpad=30)\n",
        "ax.xaxis.set_tick_params(labelsize=20)\n",
        "ax.yaxis.set_tick_params(labelsize=20)"
      ],
      "metadata": {
        "colab": {
          "base_uri": "https://localhost:8080/",
          "height": 1000
        },
        "id": "L5cb7AnIa0N_",
        "outputId": "9134db4a-79b0-4827-c620-5fdad8f4c8f9"
      },
      "execution_count": null,
      "outputs": [
        {
          "output_type": "display_data",
          "data": {
            "text/plain": [
              "<Figure size 720x1080 with 1 Axes>"
            ],
            "image/png": "[encoded data removed]"
          },
          "metadata": {}
        }
      ]
    },
    {
      "cell_type": "code",
      "source": [
        " fig,ax = plt.subplots(figsize = (10,40))\n",
        " pd.crosstab(listings_df['bedrooms'], listings_df['host_is_superhost']).plot(kind='bar')\n",
        " pd.crosstab(listings_df['accommodates'], listings_df['host_is_superhost']).plot(kind='bar', stacked=True)\n",
        " pd.crosstab(listings_df['bathrooms'], listings_df['host_is_superhost']).plot(kind='bar', stacked=True)\n",
        " pd.crosstab(listings_df['host_response_time'], listings_df['host_is_superhost']).plot(kind='bar', stacked=True)\n",
        " pd.crosstab(listings_df['amenities_count'], listings_df['host_is_superhost']).plot(kind='bar', stacked=True)\n",
        " pd.crosstab(listings_df['host_response_rate'], listings_df['host_is_superhost']).plot(kind='bar', stacked=True)\n",
        " pd.crosstab(listings_df['host_acceptance_rate'], listings_df['host_is_superhost']).plot(kind='bar', stacked=True)\n",
        " pd.crosstab(listings_df['hosting_age'], listings_df['host_is_superhost']).plot(kind='bar', stacked=True)"
      ],
      "metadata": {
        "id": "t-EAr27kA-1Q",
        "colab": {
          "base_uri": "https://localhost:8080/",
          "height": 1000
        },
        "outputId": "950f5dcb-06a9-42e8-ff3f-cf605ac2f956"
      },
      "execution_count": null,
      "outputs": [
        {
          "output_type": "execute_result",
          "data": {
            "text/plain": [
              "<matplotlib.axes._subplots.AxesSubplot at 0x7f7aff49a390>"
            ]
          },
          "metadata": {},
          "execution_count": 71
        },
        {
          "output_type": "display_data",
          "data": {
            "text/plain": [
              "<Figure size 720x2880 with 1 Axes>"
            ],
            "image/png": "[encoded data removed]"
          },
          "metadata": {}
        },
        {
          "output_type": "display_data",
          "data": {
            "text/plain": [
              "<Figure size 432x288 with 1 Axes>"
            ],
            "image/png": "[encoded data removed]"
          },
          "metadata": {}
        },
        {
          "output_type": "display_data",
          "data": {
            "text/plain": [
              "<Figure size 432x288 with 1 Axes>"
            ],
            "image/png": "[encoded data removed]"
          },
          "metadata": {}
        },
        {
          "output_type": "display_data",
          "data": {
            "text/plain": [
              "<Figure size 432x288 with 1 Axes>"
            ],
            "image/png": "[encoded data removed]"
          },
          "metadata": {}
        },
        {
          "output_type": "display_data",
          "data": {
            "text/plain": [
              "<Figure size 432x288 with 1 Axes>"
            ],
            "image/png": "[encoded data removed]"
          },
          "metadata": {}
        },
        {
          "output_type": "display_data",
          "data": {
            "text/plain": [
              "<Figure size 432x288 with 1 Axes>"
            ],
            "image/png": "[encoded data removed]"
          },
          "metadata": {}
        },
        {
          "output_type": "display_data",
          "data": {
            "text/plain": [
              "<Figure size 432x288 with 1 Axes>"
            ],
            "image/png": "[encoded data removed]"
          },
          "metadata": {}
        },
        {
          "output_type": "display_data",
          "data": {
            "text/plain": [
              "<Figure size 432x288 with 1 Axes>"
            ],
            "image/png": "[encoded data removed]"
          },
          "metadata": {}
        },
        {
          "output_type": "display_data",
          "data": {
            "text/plain": [
              "<Figure size 432x288 with 1 Axes>"
            ],
            "image/png": "[encoded data removed]"
          },
          "metadata": {}
        }
      ]
    },
    {
      "cell_type": "code",
      "source": [
        "plt.figure(figsize = (15,6))\n",
        "sns.barplot(x = 'bedrooms',y = 'calculated_host_listings_count',hue = 'host_is_superhost', data = listings_df, color='purple');\n",
        "plt.grid()"
      ],
      "metadata": {
        "colab": {
          "base_uri": "https://localhost:8080/",
          "height": 385
        },
        "id": "K9gn9yVfDRzn",
        "outputId": "1f8c6c87-5ff2-48b5-b9f3-4d0f8f3450e2"
      },
      "execution_count": null,
      "outputs": [
        {
          "output_type": "display_data",
          "data": {
            "text/plain": [
              "<Figure size 1080x432 with 1 Axes>"
            ],
            "image/png": "[encoded data removed]"
          },
          "metadata": {}
        }
      ]
    },
    {
      "cell_type": "code",
      "source": [
        "# Average rating per room type\n",
        "\n",
        "property_ratings = listings_df.groupby('room_type')['review_scores_rating'].mean()\n",
        "plt.figure(figsize=(10,6))\n",
        "property_ratings.plot(kind='bar', ylim = [0,5])\n",
        "plt.title('Average Rating per Room Type', fontsize=18)\n",
        "plt.ylabel('Average Rating', fontsize=16)\n",
        "plt.xlabel('Room Type', fontsize=16);"
      ],
      "metadata": {
        "id": "57qYZMgXJsEU",
        "colab": {
          "base_uri": "https://localhost:8080/",
          "height": 495
        },
        "outputId": "ba476088-0832-45a7-e385-709309d1745a"
      },
      "execution_count": null,
      "outputs": [
        {
          "output_type": "display_data",
          "data": {
            "text/plain": [
              "<Figure size 720x432 with 1 Axes>"
            ],
            "image/png": "[encoded data removed]"
          },
          "metadata": {}
        }
      ]
    },
    {
      "cell_type": "code",
      "source": [
        "pd.crosstab(listings_df['accommodates'], listings_df['host_is_superhost']).plot(kind='bar', stacked=True);"
      ],
      "metadata": {
        "id": "QGHK-c-3KEiy",
        "colab": {
          "base_uri": "https://localhost:8080/",
          "height": 289
        },
        "outputId": "bf974526-4261-45d7-c8c4-ba4e2dbc81ad"
      },
      "execution_count": null,
      "outputs": [
        {
          "output_type": "display_data",
          "data": {
            "text/plain": [
              "<Figure size 432x288 with 1 Axes>"
            ],
            "image/png": "[encoded data removed]"
          },
          "metadata": {}
        }
      ]
    },
    {
      "cell_type": "code",
      "source": [],
      "metadata": {
        "id": "PC-LaN4IR9nx"
      },
      "execution_count": null,
      "outputs": []
    },
    {
      "cell_type": "markdown",
      "source": [
        "### review scores vs other features"
      ],
      "metadata": {
        "id": "GuswtfiqWK4-"
      }
    },
    {
      "cell_type": "markdown",
      "source": [
        "**Questions?**\n",
        "\n",
        "1. What factors, if any influence price?(Regression question)\n",
        "2. What is the difference between a superhost and a non-superhost? (Classification question)\n",
        "3. What are the factors unique to listings with above average ratings?"
      ],
      "metadata": {
        "id": "bLd7H7TjM4Ic"
      }
    },
    {
      "cell_type": "markdown",
      "source": [
        "**Questions?**\n",
        "\n",
        "1. What is the distribution of review scores?\n",
        "2. what is the relationship between review scores and superhosts?\n",
        "3. Do reviews influence price?"
      ],
      "metadata": {
        "id": "bTvHi59WX9lG"
      }
    },
    {
      "cell_type": "code",
      "source": [],
      "metadata": {
        "id": "vgmU9QlyWVuk"
      },
      "execution_count": null,
      "outputs": []
    }
  ]
}