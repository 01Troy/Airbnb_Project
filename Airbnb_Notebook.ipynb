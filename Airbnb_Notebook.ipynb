{
  "nbformat": 4,
  "nbformat_minor": 0,
  "metadata": {
    "colab": {
      "provenance": [],
      "collapsed_sections": [],
      "toc_visible": true,
      "include_colab_link": true
    },
    "kernelspec": {
      "name": "python3",
      "display_name": "Python 3"
    },
    "language_info": {
      "name": "python"
    },
    "accelerator": "GPU",
    "gpuClass": "standard"
  },
  "cells": [
    {
      "cell_type": "markdown",
      "metadata": {
        "id": "view-in-github",
        "colab_type": "text"
      },
      "source": [
        "<a href=\"https://colab.research.google.com/github/Nickimani/Airbnb_Project/blob/master/Airbnb_Notebook.ipynb\" target=\"_parent\"><img src=\"https://colab.research.google.com/assets/colab-badge.svg\" alt=\"Open In Colab\"/></a>"
      ]
    },
    {
      "cell_type": "markdown",
      "source": [
        "# Airbnb Project"
      ],
      "metadata": {
        "id": "Ij50iGmRqp-j"
      }
    },
    {
      "cell_type": "markdown",
      "source": [
        "# 1. Business Understanding "
      ],
      "metadata": {
        "id": "DaXGDxsYqsPu"
      }
    },
    {
      "cell_type": "markdown",
      "source": [
        "# 2. Data Understanding"
      ],
      "metadata": {
        "id": "cQelEUY0q3sY"
      }
    },
    {
      "cell_type": "markdown",
      "source": [
        "# 3. Loading Data"
      ],
      "metadata": {
        "id": "aaKNPkdRriNQ"
      }
    },
    {
      "cell_type": "markdown",
      "source": [
        "## 3.1 Importing Libraries"
      ],
      "metadata": {
        "id": "oyVywQ4GtME7"
      }
    },
    {
      "cell_type": "code",
      "source": [
        "# connecting to drive\n",
        "from google.colab import drive\n",
        "drive.mount('/content/drive', timeout_ms=900000) # timeout = 15 min"
      ],
      "metadata": {
        "colab": {
          "base_uri": "https://localhost:8080/"
        },
        "id": "J-f17zv8O17l",
        "outputId": "05457254-ba6c-4a25-fcb7-f447da279205"
      },
      "execution_count": null,
      "outputs": [
        {
          "output_type": "stream",
          "name": "stdout",
          "text": [
            "Mounted at /content/drive\n"
          ]
        }
      ]
    },
    {
      "cell_type": "code",
      "source": [
        "# installing necessary libraries\n",
        "# Reverse geoencoder\n",
        "!pip install reverse_geocoder \n",
        "# pandas profiling\n",
        "!pip install pandas_profiling"
      ],
      "metadata": {
        "id": "BXJgSQ2a6Em4",
        "colab": {
          "base_uri": "https://localhost:8080/"
        },
        "outputId": "e3df6d43-1d0a-48b8-d153-7b7f6a61e994"
      },
      "execution_count": null,
      "outputs": [
        {
          "output_type": "stream",
          "name": "stdout",
          "text": [
            "Looking in indexes: https://pypi.org/simple, https://us-python.pkg.dev/colab-wheels/public/simple/\n",
            "Collecting reverse_geocoder\n",
            "  Downloading reverse_geocoder-1.5.1.tar.gz (2.2 MB)\n",
            "\u001b[K     |████████████████████████████████| 2.2 MB 3.2 MB/s \n",
            "\u001b[?25hRequirement already satisfied: numpy>=1.11.0 in /usr/local/lib/python3.7/dist-packages (from reverse_geocoder) (1.21.6)\n",
            "Requirement already satisfied: scipy>=0.17.1 in /usr/local/lib/python3.7/dist-packages (from reverse_geocoder) (1.7.3)\n",
            "Building wheels for collected packages: reverse-geocoder\n",
            "  Building wheel for reverse-geocoder (setup.py) ... \u001b[?25l\u001b[?25hdone\n",
            "  Created wheel for reverse-geocoder: filename=reverse_geocoder-1.5.1-py3-none-any.whl size=2268088 sha256=3208d51af8c71816d648ac95f9009ec279f727ac029aa7cd978b7d81feaf7737\n",
            "  Stored in directory: /root/.cache/pip/wheels/34/6e/70/5423639428a2cac8ea7eb467214a4254b549b381f306a9c790\n",
            "Successfully built reverse-geocoder\n",
            "Installing collected packages: reverse-geocoder\n",
            "Successfully installed reverse-geocoder-1.5.1\n",
            "Looking in indexes: https://pypi.org/simple, https://us-python.pkg.dev/colab-wheels/public/simple/\n",
            "Requirement already satisfied: pandas_profiling in /usr/local/lib/python3.7/dist-packages (1.4.1)\n",
            "Requirement already satisfied: matplotlib>=1.4 in /usr/local/lib/python3.7/dist-packages (from pandas_profiling) (3.2.2)\n",
            "Requirement already satisfied: six>=1.9 in /usr/local/lib/python3.7/dist-packages (from pandas_profiling) (1.15.0)\n",
            "Requirement already satisfied: jinja2>=2.8 in /usr/local/lib/python3.7/dist-packages (from pandas_profiling) (2.11.3)\n",
            "Requirement already satisfied: pandas>=0.19 in /usr/local/lib/python3.7/dist-packages (from pandas_profiling) (1.3.5)\n",
            "Requirement already satisfied: MarkupSafe>=0.23 in /usr/local/lib/python3.7/dist-packages (from jinja2>=2.8->pandas_profiling) (2.0.1)\n",
            "Requirement already satisfied: cycler>=0.10 in /usr/local/lib/python3.7/dist-packages (from matplotlib>=1.4->pandas_profiling) (0.11.0)\n",
            "Requirement already satisfied: pyparsing!=2.0.4,!=2.1.2,!=2.1.6,>=2.0.1 in /usr/local/lib/python3.7/dist-packages (from matplotlib>=1.4->pandas_profiling) (3.0.9)\n",
            "Requirement already satisfied: python-dateutil>=2.1 in /usr/local/lib/python3.7/dist-packages (from matplotlib>=1.4->pandas_profiling) (2.8.2)\n",
            "Requirement already satisfied: kiwisolver>=1.0.1 in /usr/local/lib/python3.7/dist-packages (from matplotlib>=1.4->pandas_profiling) (1.4.4)\n",
            "Requirement already satisfied: numpy>=1.11 in /usr/local/lib/python3.7/dist-packages (from matplotlib>=1.4->pandas_profiling) (1.21.6)\n",
            "Requirement already satisfied: typing-extensions in /usr/local/lib/python3.7/dist-packages (from kiwisolver>=1.0.1->matplotlib>=1.4->pandas_profiling) (4.1.1)\n",
            "Requirement already satisfied: pytz>=2017.3 in /usr/local/lib/python3.7/dist-packages (from pandas>=0.19->pandas_profiling) (2022.2.1)\n"
          ]
        }
      ]
    },
    {
      "cell_type": "code",
      "execution_count": null,
      "metadata": {
        "id": "Y_1um1JfK6CJ"
      },
      "outputs": [],
      "source": [
        "# importing libraries\n",
        "\n",
        "import string\n",
        "import time\n",
        "import re\n",
        "import pickle\n",
        "import pandas as pd\n",
        "import pandas_profiling as pp\n",
        "import numpy as np\n",
        "import seaborn as sns\n",
        "import matplotlib.pyplot as plt\n",
        "%matplotlib inline\n",
        "\n",
        "import reverse_geocoder as rg\n",
        "\n",
        "import nltk\n",
        "from sklearn.feature_extraction.text import CountVectorizer, TfidfVectorizer\n",
        "from sklearn.metrics.pairwise import cosine_similarity, linear_kernel\n",
        "nltk.download('stopwords')\n",
        "nltk.download('wordnet')\n",
        "nltk.download('omw-1.4')"
      ]
    },
    {
      "cell_type": "markdown",
      "source": [
        "## 3.2 Loading The DataFrames"
      ],
      "metadata": {
        "id": "t-v0y1u8tWId"
      }
    },
    {
      "cell_type": "code",
      "source": [
        "# loading the DataFrames\n",
        "listings_df = pd.read_csv('/content/drive/Shareddrives/CapStone/Data/listings.csv')\n",
        "reviews_df = pd.read_csv('/content/drive/Shareddrives/CapStone/Data/reviews.csv')\n",
        "metadata_df = pd.read_csv('/content/drive/Shareddrives/CapStone/Data/data_dictionary.csv')"
      ],
      "metadata": {
        "id": "WnbKzUxZQPPH"
      },
      "execution_count": null,
      "outputs": []
    },
    {
      "cell_type": "code",
      "source": [
        "# a function returning the datastructure of a the input dataframe\n",
        "def data_structure(dataframe, data_name):\n",
        "    \"\"\" \n",
        "    Returns datashape and data info. \n",
        "    \"\"\"\n",
        "    print(f'{data_name} dataframe shape:', dataframe.shape)\n",
        "    print('-'*120)\n",
        "    print(dataframe.info())\n",
        "\n",
        "# a function returning a dataframe of the completeness of the features in the input dataframe\n",
        "def percentage_completeness(dataframe):\n",
        "    \"\"\"\n",
        "    Returns a dataframe showcasing the percentage completeness of the columns in a dataframe    \n",
        "    \"\"\"\n",
        "    # length of dataframe\n",
        "    tot_entries = len(dataframe) \n",
        "    # name of columns list\n",
        "    columns = list(dataframe.columns) \n",
        "    perc_completeness = [] \n",
        "\n",
        "    for column in columns:\n",
        "        # taking number of missing records\n",
        "        missing = dataframe[column].isna().sum() \n",
        "        # calculating percentage of completeness in column\n",
        "        perc_null_counts = (1 - (missing / tot_entries)) * 100 \n",
        "        perc_completeness.append(round(perc_null_counts, 2)) \n",
        "    # creating dataframe of column and completeness\n",
        "    output = pd.DataFrame(list(zip(columns, perc_completeness)), \n",
        "                          columns=['Feature', '%_completeness']) \n",
        "    # sorting the values\n",
        "    output = output.sort_values(by='%_completeness', ascending=True) \n",
        "    output.reset_index(inplace=True, drop=True)\n",
        "\n",
        "    return output\n",
        "\n",
        "# a function that pulls valuecounts from a column\n",
        "def value_count(dataframe, column):\n",
        "    \"\"\"\n",
        "    Returns the value counts for unique value in the column specified\n",
        "    \"\"\"\n",
        "    # getting the value counts\n",
        "    val_count = dataframe[column].value_counts() \n",
        "    # converting list output to dataframe\n",
        "    result = val_count.to_frame(name='Count(s)') \n",
        "\n",
        "    return result\n",
        "\n",
        "# a funtion for removing the % sign from the strings    \n",
        "def strip_signs(dataframe, column):\n",
        "    \"\"\"\n",
        "    Takes in a dataframe and the column to be cleaned. \n",
        "    The column should have a prefix of suffix that if removed,would make the column convertible to a numeric datatype\n",
        "    Returns a replacement of the input column cleaned and converted to float dtype.\n",
        "    \"\"\"\n",
        "    # making sure its a series\n",
        "    feature = pd.Series(dataframe[column]) \n",
        "    # striping % sign from string\n",
        "    feature = feature.str.strip(to_strip='%') \n",
        "    # converting datatype\n",
        "    final_feature = feature.astype('float') \n",
        "\n",
        "    return final_feature\n",
        "\n",
        "\n",
        "# a function for plotting a boxplot for a series\n",
        "def box_plot(series):\n",
        "    \"\"\"\n",
        "    Returns a boxplot of the column specified    \n",
        "    \"\"\"\n",
        "    fig, ax = plt.subplots(figsize=(20,10))\n",
        "    # creating the boxplot\n",
        "    ax = sns.boxplot(x=series, linewidth=1, palette='Set2') \n",
        "    # Give the plot a main title\n",
        "    ax.set_title(f'{series.name}, Airbnb Cape town', fontsize=30,pad=30) \n",
        "    # Set text for the x axis,\n",
        "    ax.set_xlabel(series.name, fontsize=20, labelpad=15)\n",
        "    sns.despine(offset=5, left=True);\n",
        "\n",
        "# Build a function for regex stripping maybe linked to strip signs"
      ],
      "metadata": {
        "id": "Fy8YE2R3t9xR"
      },
      "execution_count": null,
      "outputs": []
    },
    {
      "cell_type": "markdown",
      "source": [
        "### Data Structure"
      ],
      "metadata": {
        "id": "ibu663NGyq9f"
      }
    },
    {
      "cell_type": "code",
      "source": [
        "# data_structure(listings_df, 'listing_df') # listings df structure"
      ],
      "metadata": {
        "id": "3Ttlb-ZoS3Fg"
      },
      "execution_count": null,
      "outputs": []
    },
    {
      "cell_type": "markdown",
      "source": [
        "The listings dataFrame has 18903 rows with 74 columns. 41 of the columns are of numeric type and The remaining 33 are of object type."
      ],
      "metadata": {
        "id": "CxcLu9pF24XI"
      }
    },
    {
      "cell_type": "code",
      "source": [
        "# selecting important columns as per the business problem\n",
        "relevant_cols = ['id', 'listing_url', 'host_url', 'last_scraped', 'name', 'description', \n",
        "                 'neighborhood_overview', 'host_since', 'neighbourhood_cleansed', \n",
        "                 'host_response_time', 'host_response_rate', 'host_acceptance_rate', 'host_is_superhost', \n",
        "                 'latitude', 'longitude', 'property_type', 'room_type', 'accommodates', 'bathrooms_text', 'bedrooms', 'beds',\n",
        "                 'amenities', 'price', 'number_of_reviews', 'review_scores_rating', 'review_scores_accuracy',\n",
        "                 'review_scores_cleanliness', 'review_scores_checkin', 'review_scores_communication', \n",
        "                 'review_scores_location', 'instant_bookable', 'calculated_host_listings_count'\n",
        "                 ]\n",
        "# subsetting a dataframe of the relevant columns\n",
        "listings_df = listings_df[relevant_cols]"
      ],
      "metadata": {
        "id": "9WyFb2Lzy7rO"
      },
      "execution_count": null,
      "outputs": []
    },
    {
      "cell_type": "code",
      "source": [
        "# new_listings df structure\n",
        "data_structure(listings_df, 'listing_df') "
      ],
      "metadata": {
        "id": "EBnnlRAv3nLu",
        "colab": {
          "base_uri": "https://localhost:8080/"
        },
        "outputId": "7444af3c-bbcf-4ba4-dc4a-d7e8c9985513"
      },
      "execution_count": null,
      "outputs": [
        {
          "output_type": "stream",
          "name": "stdout",
          "text": [
            "listing_df dataframe shape: (18903, 28)\n",
            "------------------------------------------------------------------------------------------------------------------------\n",
            "<class 'pandas.core.frame.DataFrame'>\n",
            "RangeIndex: 18903 entries, 0 to 18902\n",
            "Data columns (total 28 columns):\n",
            " #   Column                          Non-Null Count  Dtype  \n",
            "---  ------                          --------------  -----  \n",
            " 0   id                              18903 non-null  int64  \n",
            " 1   listing_url                     18903 non-null  object \n",
            " 2   host_url                        18903 non-null  object \n",
            " 3   last_scraped                    18903 non-null  object \n",
            " 4   host_since                      18902 non-null  object \n",
            " 5   neighbourhood_cleansed          18903 non-null  object \n",
            " 6   host_response_time              14710 non-null  object \n",
            " 7   host_response_rate              14710 non-null  object \n",
            " 8   host_acceptance_rate            16542 non-null  object \n",
            " 9   host_is_superhost               18902 non-null  object \n",
            " 10  latitude                        18903 non-null  float64\n",
            " 11  longitude                       18903 non-null  float64\n",
            " 12  room_type                       18903 non-null  object \n",
            " 13  accommodates                    18903 non-null  int64  \n",
            " 14  bathrooms_text                  18862 non-null  object \n",
            " 15  bedrooms                        17714 non-null  float64\n",
            " 16  beds                            18619 non-null  float64\n",
            " 17  amenities                       18903 non-null  object \n",
            " 18  price                           18903 non-null  object \n",
            " 19  number_of_reviews               18903 non-null  int64  \n",
            " 20  review_scores_rating            13760 non-null  float64\n",
            " 21  review_scores_accuracy          13607 non-null  float64\n",
            " 22  review_scores_cleanliness       13608 non-null  float64\n",
            " 23  review_scores_checkin           13604 non-null  float64\n",
            " 24  review_scores_communication     13607 non-null  float64\n",
            " 25  review_scores_location          13604 non-null  float64\n",
            " 26  instant_bookable                18903 non-null  object \n",
            " 27  calculated_host_listings_count  18903 non-null  int64  \n",
            "dtypes: float64(10), int64(4), object(14)\n",
            "memory usage: 4.0+ MB\n",
            "None\n"
          ]
        }
      ]
    },
    {
      "cell_type": "code",
      "source": [
        "# viewing listings df\n",
        "listings_df.head(3) "
      ],
      "metadata": {
        "id": "yOnUsIrhB4P6",
        "colab": {
          "base_uri": "https://localhost:8080/",
          "height": 237
        },
        "outputId": "3067e557-7d9d-44c2-e7bc-040f9d3b7441"
      },
      "execution_count": null,
      "outputs": [
        {
          "output_type": "execute_result",
          "data": {
            "text/plain": [
              "         id                            listing_url  \\\n",
              "0  30332317  https://www.airbnb.com/rooms/30332317   \n",
              "1   9126484   https://www.airbnb.com/rooms/9126484   \n",
              "2  44482125  https://www.airbnb.com/rooms/44482125   \n",
              "\n",
              "                                     host_url last_scraped  host_since  \\\n",
              "0  https://www.airbnb.com/users/show/98554302   2022-06-22  2016-10-07   \n",
              "1   https://www.airbnb.com/users/show/3410651   2022-06-22  2012-08-29   \n",
              "2  https://www.airbnb.com/users/show/98554302   2022-06-22  2016-10-07   \n",
              "\n",
              "  neighbourhood_cleansed  host_response_time host_response_rate  \\\n",
              "0                Ward 15      within an hour               100%   \n",
              "1                Ward 61  within a few hours               100%   \n",
              "2                Ward 15      within an hour               100%   \n",
              "\n",
              "  host_acceptance_rate host_is_superhost  ...      price  number_of_reviews  \\\n",
              "0                 100%                 f  ...  $1,350.00                  2   \n",
              "1                  50%                 f  ...  $1,750.00                 15   \n",
              "2                 100%                 f  ...  $1,350.00                  0   \n",
              "\n",
              "  review_scores_rating  review_scores_accuracy review_scores_cleanliness  \\\n",
              "0                 5.00                     5.0                       5.0   \n",
              "1                 4.87                     5.0                       5.0   \n",
              "2                  NaN                     NaN                       NaN   \n",
              "\n",
              "   review_scores_checkin  review_scores_communication review_scores_location  \\\n",
              "0                    5.0                          5.0                   5.00   \n",
              "1                    5.0                          5.0                   4.93   \n",
              "2                    NaN                          NaN                    NaN   \n",
              "\n",
              "  instant_bookable  calculated_host_listings_count  \n",
              "0                t                               7  \n",
              "1                f                               1  \n",
              "2                t                               7  \n",
              "\n",
              "[3 rows x 28 columns]"
            ],
            "text/html": [
              "\n",
              "  <div id=\"df-08f9fb87-8648-45c9-bd41-461b3ba473ae\">\n",
              "    <div class=\"colab-df-container\">\n",
              "      <div>\n",
              "<style scoped>\n",
              "    .dataframe tbody tr th:only-of-type {\n",
              "        vertical-align: middle;\n",
              "    }\n",
              "\n",
              "    .dataframe tbody tr th {\n",
              "        vertical-align: top;\n",
              "    }\n",
              "\n",
              "    .dataframe thead th {\n",
              "        text-align: right;\n",
              "    }\n",
              "</style>\n",
              "<table border=\"1\" class=\"dataframe\">\n",
              "  <thead>\n",
              "    <tr style=\"text-align: right;\">\n",
              "      <th></th>\n",
              "      <th>id</th>\n",
              "      <th>listing_url</th>\n",
              "      <th>host_url</th>\n",
              "      <th>last_scraped</th>\n",
              "      <th>host_since</th>\n",
              "      <th>neighbourhood_cleansed</th>\n",
              "      <th>host_response_time</th>\n",
              "      <th>host_response_rate</th>\n",
              "      <th>host_acceptance_rate</th>\n",
              "      <th>host_is_superhost</th>\n",
              "      <th>...</th>\n",
              "      <th>price</th>\n",
              "      <th>number_of_reviews</th>\n",
              "      <th>review_scores_rating</th>\n",
              "      <th>review_scores_accuracy</th>\n",
              "      <th>review_scores_cleanliness</th>\n",
              "      <th>review_scores_checkin</th>\n",
              "      <th>review_scores_communication</th>\n",
              "      <th>review_scores_location</th>\n",
              "      <th>instant_bookable</th>\n",
              "      <th>calculated_host_listings_count</th>\n",
              "    </tr>\n",
              "  </thead>\n",
              "  <tbody>\n",
              "    <tr>\n",
              "      <th>0</th>\n",
              "      <td>30332317</td>\n",
              "      <td>https://www.airbnb.com/rooms/30332317</td>\n",
              "      <td>https://www.airbnb.com/users/show/98554302</td>\n",
              "      <td>2022-06-22</td>\n",
              "      <td>2016-10-07</td>\n",
              "      <td>Ward 15</td>\n",
              "      <td>within an hour</td>\n",
              "      <td>100%</td>\n",
              "      <td>100%</td>\n",
              "      <td>f</td>\n",
              "      <td>...</td>\n",
              "      <td>$1,350.00</td>\n",
              "      <td>2</td>\n",
              "      <td>5.00</td>\n",
              "      <td>5.0</td>\n",
              "      <td>5.0</td>\n",
              "      <td>5.0</td>\n",
              "      <td>5.0</td>\n",
              "      <td>5.00</td>\n",
              "      <td>t</td>\n",
              "      <td>7</td>\n",
              "    </tr>\n",
              "    <tr>\n",
              "      <th>1</th>\n",
              "      <td>9126484</td>\n",
              "      <td>https://www.airbnb.com/rooms/9126484</td>\n",
              "      <td>https://www.airbnb.com/users/show/3410651</td>\n",
              "      <td>2022-06-22</td>\n",
              "      <td>2012-08-29</td>\n",
              "      <td>Ward 61</td>\n",
              "      <td>within a few hours</td>\n",
              "      <td>100%</td>\n",
              "      <td>50%</td>\n",
              "      <td>f</td>\n",
              "      <td>...</td>\n",
              "      <td>$1,750.00</td>\n",
              "      <td>15</td>\n",
              "      <td>4.87</td>\n",
              "      <td>5.0</td>\n",
              "      <td>5.0</td>\n",
              "      <td>5.0</td>\n",
              "      <td>5.0</td>\n",
              "      <td>4.93</td>\n",
              "      <td>f</td>\n",
              "      <td>1</td>\n",
              "    </tr>\n",
              "    <tr>\n",
              "      <th>2</th>\n",
              "      <td>44482125</td>\n",
              "      <td>https://www.airbnb.com/rooms/44482125</td>\n",
              "      <td>https://www.airbnb.com/users/show/98554302</td>\n",
              "      <td>2022-06-22</td>\n",
              "      <td>2016-10-07</td>\n",
              "      <td>Ward 15</td>\n",
              "      <td>within an hour</td>\n",
              "      <td>100%</td>\n",
              "      <td>100%</td>\n",
              "      <td>f</td>\n",
              "      <td>...</td>\n",
              "      <td>$1,350.00</td>\n",
              "      <td>0</td>\n",
              "      <td>NaN</td>\n",
              "      <td>NaN</td>\n",
              "      <td>NaN</td>\n",
              "      <td>NaN</td>\n",
              "      <td>NaN</td>\n",
              "      <td>NaN</td>\n",
              "      <td>t</td>\n",
              "      <td>7</td>\n",
              "    </tr>\n",
              "  </tbody>\n",
              "</table>\n",
              "<p>3 rows × 28 columns</p>\n",
              "</div>\n",
              "      <button class=\"colab-df-convert\" onclick=\"convertToInteractive('df-08f9fb87-8648-45c9-bd41-461b3ba473ae')\"\n",
              "              title=\"Convert this dataframe to an interactive table.\"\n",
              "              style=\"display:none;\">\n",
              "        \n",
              "  <svg xmlns=\"http://www.w3.org/2000/svg\" height=\"24px\"viewBox=\"0 0 24 24\"\n",
              "       width=\"24px\">\n",
              "    <path d=\"M0 0h24v24H0V0z\" fill=\"none\"/>\n",
              "    <path d=\"M18.56 5.44l.94 2.06.94-2.06 2.06-.94-2.06-.94-.94-2.06-.94 2.06-2.06.94zm-11 1L8.5 8.5l.94-2.06 2.06-.94-2.06-.94L8.5 2.5l-.94 2.06-2.06.94zm10 10l.94 2.06.94-2.06 2.06-.94-2.06-.94-.94-2.06-.94 2.06-2.06.94z\"/><path d=\"M17.41 7.96l-1.37-1.37c-.4-.4-.92-.59-1.43-.59-.52 0-1.04.2-1.43.59L10.3 9.45l-7.72 7.72c-.78.78-.78 2.05 0 2.83L4 21.41c.39.39.9.59 1.41.59.51 0 1.02-.2 1.41-.59l7.78-7.78 2.81-2.81c.8-.78.8-2.07 0-2.86zM5.41 20L4 18.59l7.72-7.72 1.47 1.35L5.41 20z\"/>\n",
              "  </svg>\n",
              "      </button>\n",
              "      \n",
              "  <style>\n",
              "    .colab-df-container {\n",
              "      display:flex;\n",
              "      flex-wrap:wrap;\n",
              "      gap: 12px;\n",
              "    }\n",
              "\n",
              "    .colab-df-convert {\n",
              "      background-color: #E8F0FE;\n",
              "      border: none;\n",
              "      border-radius: 50%;\n",
              "      cursor: pointer;\n",
              "      display: none;\n",
              "      fill: #1967D2;\n",
              "      height: 32px;\n",
              "      padding: 0 0 0 0;\n",
              "      width: 32px;\n",
              "    }\n",
              "\n",
              "    .colab-df-convert:hover {\n",
              "      background-color: #E2EBFA;\n",
              "      box-shadow: 0px 1px 2px rgba(60, 64, 67, 0.3), 0px 1px 3px 1px rgba(60, 64, 67, 0.15);\n",
              "      fill: #174EA6;\n",
              "    }\n",
              "\n",
              "    [theme=dark] .colab-df-convert {\n",
              "      background-color: #3B4455;\n",
              "      fill: #D2E3FC;\n",
              "    }\n",
              "\n",
              "    [theme=dark] .colab-df-convert:hover {\n",
              "      background-color: #434B5C;\n",
              "      box-shadow: 0px 1px 3px 1px rgba(0, 0, 0, 0.15);\n",
              "      filter: drop-shadow(0px 1px 2px rgba(0, 0, 0, 0.3));\n",
              "      fill: #FFFFFF;\n",
              "    }\n",
              "  </style>\n",
              "\n",
              "      <script>\n",
              "        const buttonEl =\n",
              "          document.querySelector('#df-08f9fb87-8648-45c9-bd41-461b3ba473ae button.colab-df-convert');\n",
              "        buttonEl.style.display =\n",
              "          google.colab.kernel.accessAllowed ? 'block' : 'none';\n",
              "\n",
              "        async function convertToInteractive(key) {\n",
              "          const element = document.querySelector('#df-08f9fb87-8648-45c9-bd41-461b3ba473ae');\n",
              "          const dataTable =\n",
              "            await google.colab.kernel.invokeFunction('convertToInteractive',\n",
              "                                                     [key], {});\n",
              "          if (!dataTable) return;\n",
              "\n",
              "          const docLinkHtml = 'Like what you see? Visit the ' +\n",
              "            '<a target=\"_blank\" href=https://colab.research.google.com/notebooks/data_table.ipynb>data table notebook</a>'\n",
              "            + ' to learn more about interactive tables.';\n",
              "          element.innerHTML = '';\n",
              "          dataTable['output_type'] = 'display_data';\n",
              "          await google.colab.output.renderOutput(dataTable, element);\n",
              "          const docLink = document.createElement('div');\n",
              "          docLink.innerHTML = docLinkHtml;\n",
              "          element.appendChild(docLink);\n",
              "        }\n",
              "      </script>\n",
              "    </div>\n",
              "  </div>\n",
              "  "
            ]
          },
          "metadata": {},
          "execution_count": 9
        }
      ]
    },
    {
      "cell_type": "code",
      "source": [
        "# reviews_df structure\n",
        "data_structure(reviews_df, 'reviews_df') "
      ],
      "metadata": {
        "id": "mtxkTzakVlTf",
        "colab": {
          "base_uri": "https://localhost:8080/"
        },
        "outputId": "c16786ce-2f3b-4295-800f-9d5959b39630"
      },
      "execution_count": null,
      "outputs": [
        {
          "output_type": "stream",
          "name": "stdout",
          "text": [
            "reviews_df dataframe shape: (363065, 6)\n",
            "------------------------------------------------------------------------------------------------------------------------\n",
            "<class 'pandas.core.frame.DataFrame'>\n",
            "RangeIndex: 363065 entries, 0 to 363064\n",
            "Data columns (total 6 columns):\n",
            " #   Column         Non-Null Count   Dtype \n",
            "---  ------         --------------   ----- \n",
            " 0   listing_id     363065 non-null  int64 \n",
            " 1   id             363065 non-null  int64 \n",
            " 2   date           363065 non-null  object\n",
            " 3   reviewer_id    363065 non-null  int64 \n",
            " 4   reviewer_name  363065 non-null  object\n",
            " 5   comments       363018 non-null  object\n",
            "dtypes: int64(3), object(3)\n",
            "memory usage: 16.6+ MB\n",
            "None\n"
          ]
        }
      ]
    },
    {
      "cell_type": "markdown",
      "source": [
        "Reviews dataframe has only 1 column with nan values.\n",
        "The nature of the comments column makes it difficult to fill the nan values."
      ],
      "metadata": {
        "id": "2KNpcv7hyyh0"
      }
    },
    {
      "cell_type": "code",
      "source": [
        "# dropping nan values in reviews_df\n",
        "reviews_df.dropna(inplace=True)\n",
        "\n",
        "# viewing reviews df\n",
        "reviews_df.head(3) "
      ],
      "metadata": {
        "id": "dA5JhGD5jKOt",
        "colab": {
          "base_uri": "https://localhost:8080/",
          "height": 143
        },
        "outputId": "c6ecc733-9c8d-4668-ab8e-c6de4937d042"
      },
      "execution_count": null,
      "outputs": [
        {
          "output_type": "execute_result",
          "data": {
            "text/plain": [
              "   listing_id                  id        date  reviewer_id reviewer_name  \\\n",
              "0    30332317           597314314  2020-01-25      7812767          Alan   \n",
              "1    30332317  532436007654450454  2022-01-04    367340518      Courtney   \n",
              "2     9126484            63063726  2016-02-20     50272994         Carla   \n",
              "\n",
              "                                            comments  \n",
              "0  Lovely rustic accommodation in a picturesque r...  \n",
              "1  The hosts are friendly and takes good care of ...  \n",
              "2  6 St Georges Building was lovely in every way....  "
            ],
            "text/html": [
              "\n",
              "  <div id=\"df-2a7c9bbc-01d1-4002-9bef-2db325cc9e4b\">\n",
              "    <div class=\"colab-df-container\">\n",
              "      <div>\n",
              "<style scoped>\n",
              "    .dataframe tbody tr th:only-of-type {\n",
              "        vertical-align: middle;\n",
              "    }\n",
              "\n",
              "    .dataframe tbody tr th {\n",
              "        vertical-align: top;\n",
              "    }\n",
              "\n",
              "    .dataframe thead th {\n",
              "        text-align: right;\n",
              "    }\n",
              "</style>\n",
              "<table border=\"1\" class=\"dataframe\">\n",
              "  <thead>\n",
              "    <tr style=\"text-align: right;\">\n",
              "      <th></th>\n",
              "      <th>listing_id</th>\n",
              "      <th>id</th>\n",
              "      <th>date</th>\n",
              "      <th>reviewer_id</th>\n",
              "      <th>reviewer_name</th>\n",
              "      <th>comments</th>\n",
              "    </tr>\n",
              "  </thead>\n",
              "  <tbody>\n",
              "    <tr>\n",
              "      <th>0</th>\n",
              "      <td>30332317</td>\n",
              "      <td>597314314</td>\n",
              "      <td>2020-01-25</td>\n",
              "      <td>7812767</td>\n",
              "      <td>Alan</td>\n",
              "      <td>Lovely rustic accommodation in a picturesque r...</td>\n",
              "    </tr>\n",
              "    <tr>\n",
              "      <th>1</th>\n",
              "      <td>30332317</td>\n",
              "      <td>532436007654450454</td>\n",
              "      <td>2022-01-04</td>\n",
              "      <td>367340518</td>\n",
              "      <td>Courtney</td>\n",
              "      <td>The hosts are friendly and takes good care of ...</td>\n",
              "    </tr>\n",
              "    <tr>\n",
              "      <th>2</th>\n",
              "      <td>9126484</td>\n",
              "      <td>63063726</td>\n",
              "      <td>2016-02-20</td>\n",
              "      <td>50272994</td>\n",
              "      <td>Carla</td>\n",
              "      <td>6 St Georges Building was lovely in every way....</td>\n",
              "    </tr>\n",
              "  </tbody>\n",
              "</table>\n",
              "</div>\n",
              "      <button class=\"colab-df-convert\" onclick=\"convertToInteractive('df-2a7c9bbc-01d1-4002-9bef-2db325cc9e4b')\"\n",
              "              title=\"Convert this dataframe to an interactive table.\"\n",
              "              style=\"display:none;\">\n",
              "        \n",
              "  <svg xmlns=\"http://www.w3.org/2000/svg\" height=\"24px\"viewBox=\"0 0 24 24\"\n",
              "       width=\"24px\">\n",
              "    <path d=\"M0 0h24v24H0V0z\" fill=\"none\"/>\n",
              "    <path d=\"M18.56 5.44l.94 2.06.94-2.06 2.06-.94-2.06-.94-.94-2.06-.94 2.06-2.06.94zm-11 1L8.5 8.5l.94-2.06 2.06-.94-2.06-.94L8.5 2.5l-.94 2.06-2.06.94zm10 10l.94 2.06.94-2.06 2.06-.94-2.06-.94-.94-2.06-.94 2.06-2.06.94z\"/><path d=\"M17.41 7.96l-1.37-1.37c-.4-.4-.92-.59-1.43-.59-.52 0-1.04.2-1.43.59L10.3 9.45l-7.72 7.72c-.78.78-.78 2.05 0 2.83L4 21.41c.39.39.9.59 1.41.59.51 0 1.02-.2 1.41-.59l7.78-7.78 2.81-2.81c.8-.78.8-2.07 0-2.86zM5.41 20L4 18.59l7.72-7.72 1.47 1.35L5.41 20z\"/>\n",
              "  </svg>\n",
              "      </button>\n",
              "      \n",
              "  <style>\n",
              "    .colab-df-container {\n",
              "      display:flex;\n",
              "      flex-wrap:wrap;\n",
              "      gap: 12px;\n",
              "    }\n",
              "\n",
              "    .colab-df-convert {\n",
              "      background-color: #E8F0FE;\n",
              "      border: none;\n",
              "      border-radius: 50%;\n",
              "      cursor: pointer;\n",
              "      display: none;\n",
              "      fill: #1967D2;\n",
              "      height: 32px;\n",
              "      padding: 0 0 0 0;\n",
              "      width: 32px;\n",
              "    }\n",
              "\n",
              "    .colab-df-convert:hover {\n",
              "      background-color: #E2EBFA;\n",
              "      box-shadow: 0px 1px 2px rgba(60, 64, 67, 0.3), 0px 1px 3px 1px rgba(60, 64, 67, 0.15);\n",
              "      fill: #174EA6;\n",
              "    }\n",
              "\n",
              "    [theme=dark] .colab-df-convert {\n",
              "      background-color: #3B4455;\n",
              "      fill: #D2E3FC;\n",
              "    }\n",
              "\n",
              "    [theme=dark] .colab-df-convert:hover {\n",
              "      background-color: #434B5C;\n",
              "      box-shadow: 0px 1px 3px 1px rgba(0, 0, 0, 0.15);\n",
              "      filter: drop-shadow(0px 1px 2px rgba(0, 0, 0, 0.3));\n",
              "      fill: #FFFFFF;\n",
              "    }\n",
              "  </style>\n",
              "\n",
              "      <script>\n",
              "        const buttonEl =\n",
              "          document.querySelector('#df-2a7c9bbc-01d1-4002-9bef-2db325cc9e4b button.colab-df-convert');\n",
              "        buttonEl.style.display =\n",
              "          google.colab.kernel.accessAllowed ? 'block' : 'none';\n",
              "\n",
              "        async function convertToInteractive(key) {\n",
              "          const element = document.querySelector('#df-2a7c9bbc-01d1-4002-9bef-2db325cc9e4b');\n",
              "          const dataTable =\n",
              "            await google.colab.kernel.invokeFunction('convertToInteractive',\n",
              "                                                     [key], {});\n",
              "          if (!dataTable) return;\n",
              "\n",
              "          const docLinkHtml = 'Like what you see? Visit the ' +\n",
              "            '<a target=\"_blank\" href=https://colab.research.google.com/notebooks/data_table.ipynb>data table notebook</a>'\n",
              "            + ' to learn more about interactive tables.';\n",
              "          element.innerHTML = '';\n",
              "          dataTable['output_type'] = 'display_data';\n",
              "          await google.colab.output.renderOutput(dataTable, element);\n",
              "          const docLink = document.createElement('div');\n",
              "          docLink.innerHTML = docLinkHtml;\n",
              "          element.appendChild(docLink);\n",
              "        }\n",
              "      </script>\n",
              "    </div>\n",
              "  </div>\n",
              "  "
            ]
          },
          "metadata": {},
          "execution_count": 9
        }
      ]
    },
    {
      "cell_type": "markdown",
      "source": [
        "# 4. Data cleaning"
      ],
      "metadata": {
        "id": "80y8n49I9JhI"
      }
    },
    {
      "cell_type": "markdown",
      "source": [
        "## 4.1 Completeness"
      ],
      "metadata": {
        "id": "HWQYbVRHX3rg"
      }
    },
    {
      "cell_type": "code",
      "source": [
        "# checking percentage null value counts in listings \n",
        "listings_completeness = percentage_completeness(listings_df) \n",
        "# filtering out columns with complete records\n",
        "listings_completeness = listings_completeness[listings_completeness['%_completeness'] < 100] \n",
        "listings_completeness"
      ],
      "metadata": {
        "id": "zM3qVcsfGOgZ",
        "colab": {
          "base_uri": "https://localhost:8080/",
          "height": 488
        },
        "outputId": "5adbc17a-f8f3-42b9-969a-e3eca5817324"
      },
      "execution_count": null,
      "outputs": [
        {
          "output_type": "execute_result",
          "data": {
            "text/plain": [
              "                        Feature  %_completeness\n",
              "0        review_scores_location           71.97\n",
              "1         review_scores_checkin           71.97\n",
              "2   review_scores_communication           71.98\n",
              "3        review_scores_accuracy           71.98\n",
              "4     review_scores_cleanliness           71.99\n",
              "5          review_scores_rating           72.79\n",
              "6            host_response_time           77.82\n",
              "7            host_response_rate           77.82\n",
              "8          host_acceptance_rate           87.51\n",
              "9                      bedrooms           93.71\n",
              "10                         beds           98.50\n",
              "11               bathrooms_text           99.78\n",
              "12                   host_since           99.99\n",
              "13            host_is_superhost           99.99"
            ],
            "text/html": [
              "\n",
              "  <div id=\"df-c6949773-8b26-4a42-8219-3497070e048f\">\n",
              "    <div class=\"colab-df-container\">\n",
              "      <div>\n",
              "<style scoped>\n",
              "    .dataframe tbody tr th:only-of-type {\n",
              "        vertical-align: middle;\n",
              "    }\n",
              "\n",
              "    .dataframe tbody tr th {\n",
              "        vertical-align: top;\n",
              "    }\n",
              "\n",
              "    .dataframe thead th {\n",
              "        text-align: right;\n",
              "    }\n",
              "</style>\n",
              "<table border=\"1\" class=\"dataframe\">\n",
              "  <thead>\n",
              "    <tr style=\"text-align: right;\">\n",
              "      <th></th>\n",
              "      <th>Feature</th>\n",
              "      <th>%_completeness</th>\n",
              "    </tr>\n",
              "  </thead>\n",
              "  <tbody>\n",
              "    <tr>\n",
              "      <th>0</th>\n",
              "      <td>review_scores_location</td>\n",
              "      <td>71.97</td>\n",
              "    </tr>\n",
              "    <tr>\n",
              "      <th>1</th>\n",
              "      <td>review_scores_checkin</td>\n",
              "      <td>71.97</td>\n",
              "    </tr>\n",
              "    <tr>\n",
              "      <th>2</th>\n",
              "      <td>review_scores_communication</td>\n",
              "      <td>71.98</td>\n",
              "    </tr>\n",
              "    <tr>\n",
              "      <th>3</th>\n",
              "      <td>review_scores_accuracy</td>\n",
              "      <td>71.98</td>\n",
              "    </tr>\n",
              "    <tr>\n",
              "      <th>4</th>\n",
              "      <td>review_scores_cleanliness</td>\n",
              "      <td>71.99</td>\n",
              "    </tr>\n",
              "    <tr>\n",
              "      <th>5</th>\n",
              "      <td>review_scores_rating</td>\n",
              "      <td>72.79</td>\n",
              "    </tr>\n",
              "    <tr>\n",
              "      <th>6</th>\n",
              "      <td>host_response_time</td>\n",
              "      <td>77.82</td>\n",
              "    </tr>\n",
              "    <tr>\n",
              "      <th>7</th>\n",
              "      <td>host_response_rate</td>\n",
              "      <td>77.82</td>\n",
              "    </tr>\n",
              "    <tr>\n",
              "      <th>8</th>\n",
              "      <td>host_acceptance_rate</td>\n",
              "      <td>87.51</td>\n",
              "    </tr>\n",
              "    <tr>\n",
              "      <th>9</th>\n",
              "      <td>bedrooms</td>\n",
              "      <td>93.71</td>\n",
              "    </tr>\n",
              "    <tr>\n",
              "      <th>10</th>\n",
              "      <td>beds</td>\n",
              "      <td>98.50</td>\n",
              "    </tr>\n",
              "    <tr>\n",
              "      <th>11</th>\n",
              "      <td>bathrooms_text</td>\n",
              "      <td>99.78</td>\n",
              "    </tr>\n",
              "    <tr>\n",
              "      <th>12</th>\n",
              "      <td>host_since</td>\n",
              "      <td>99.99</td>\n",
              "    </tr>\n",
              "    <tr>\n",
              "      <th>13</th>\n",
              "      <td>host_is_superhost</td>\n",
              "      <td>99.99</td>\n",
              "    </tr>\n",
              "  </tbody>\n",
              "</table>\n",
              "</div>\n",
              "      <button class=\"colab-df-convert\" onclick=\"convertToInteractive('df-c6949773-8b26-4a42-8219-3497070e048f')\"\n",
              "              title=\"Convert this dataframe to an interactive table.\"\n",
              "              style=\"display:none;\">\n",
              "        \n",
              "  <svg xmlns=\"http://www.w3.org/2000/svg\" height=\"24px\"viewBox=\"0 0 24 24\"\n",
              "       width=\"24px\">\n",
              "    <path d=\"M0 0h24v24H0V0z\" fill=\"none\"/>\n",
              "    <path d=\"M18.56 5.44l.94 2.06.94-2.06 2.06-.94-2.06-.94-.94-2.06-.94 2.06-2.06.94zm-11 1L8.5 8.5l.94-2.06 2.06-.94-2.06-.94L8.5 2.5l-.94 2.06-2.06.94zm10 10l.94 2.06.94-2.06 2.06-.94-2.06-.94-.94-2.06-.94 2.06-2.06.94z\"/><path d=\"M17.41 7.96l-1.37-1.37c-.4-.4-.92-.59-1.43-.59-.52 0-1.04.2-1.43.59L10.3 9.45l-7.72 7.72c-.78.78-.78 2.05 0 2.83L4 21.41c.39.39.9.59 1.41.59.51 0 1.02-.2 1.41-.59l7.78-7.78 2.81-2.81c.8-.78.8-2.07 0-2.86zM5.41 20L4 18.59l7.72-7.72 1.47 1.35L5.41 20z\"/>\n",
              "  </svg>\n",
              "      </button>\n",
              "      \n",
              "  <style>\n",
              "    .colab-df-container {\n",
              "      display:flex;\n",
              "      flex-wrap:wrap;\n",
              "      gap: 12px;\n",
              "    }\n",
              "\n",
              "    .colab-df-convert {\n",
              "      background-color: #E8F0FE;\n",
              "      border: none;\n",
              "      border-radius: 50%;\n",
              "      cursor: pointer;\n",
              "      display: none;\n",
              "      fill: #1967D2;\n",
              "      height: 32px;\n",
              "      padding: 0 0 0 0;\n",
              "      width: 32px;\n",
              "    }\n",
              "\n",
              "    .colab-df-convert:hover {\n",
              "      background-color: #E2EBFA;\n",
              "      box-shadow: 0px 1px 2px rgba(60, 64, 67, 0.3), 0px 1px 3px 1px rgba(60, 64, 67, 0.15);\n",
              "      fill: #174EA6;\n",
              "    }\n",
              "\n",
              "    [theme=dark] .colab-df-convert {\n",
              "      background-color: #3B4455;\n",
              "      fill: #D2E3FC;\n",
              "    }\n",
              "\n",
              "    [theme=dark] .colab-df-convert:hover {\n",
              "      background-color: #434B5C;\n",
              "      box-shadow: 0px 1px 3px 1px rgba(0, 0, 0, 0.15);\n",
              "      filter: drop-shadow(0px 1px 2px rgba(0, 0, 0, 0.3));\n",
              "      fill: #FFFFFF;\n",
              "    }\n",
              "  </style>\n",
              "\n",
              "      <script>\n",
              "        const buttonEl =\n",
              "          document.querySelector('#df-c6949773-8b26-4a42-8219-3497070e048f button.colab-df-convert');\n",
              "        buttonEl.style.display =\n",
              "          google.colab.kernel.accessAllowed ? 'block' : 'none';\n",
              "\n",
              "        async function convertToInteractive(key) {\n",
              "          const element = document.querySelector('#df-c6949773-8b26-4a42-8219-3497070e048f');\n",
              "          const dataTable =\n",
              "            await google.colab.kernel.invokeFunction('convertToInteractive',\n",
              "                                                     [key], {});\n",
              "          if (!dataTable) return;\n",
              "\n",
              "          const docLinkHtml = 'Like what you see? Visit the ' +\n",
              "            '<a target=\"_blank\" href=https://colab.research.google.com/notebooks/data_table.ipynb>data table notebook</a>'\n",
              "            + ' to learn more about interactive tables.';\n",
              "          element.innerHTML = '';\n",
              "          dataTable['output_type'] = 'display_data';\n",
              "          await google.colab.output.renderOutput(dataTable, element);\n",
              "          const docLink = document.createElement('div');\n",
              "          docLink.innerHTML = docLinkHtml;\n",
              "          element.appendChild(docLink);\n",
              "        }\n",
              "      </script>\n",
              "    </div>\n",
              "  </div>\n",
              "  "
            ]
          },
          "metadata": {},
          "execution_count": 10
        }
      ]
    },
    {
      "cell_type": "code",
      "source": [
        "# checking number of columns with missing values\n",
        "print('The number of columns with missing values are:', len(listings_completeness))"
      ],
      "metadata": {
        "id": "IQ1CtHVx7USy",
        "colab": {
          "base_uri": "https://localhost:8080/"
        },
        "outputId": "949c65d7-d7d3-468c-9ee5-9c6ae8788201"
      },
      "execution_count": null,
      "outputs": [
        {
          "output_type": "stream",
          "name": "stdout",
          "text": [
            "The number of columns with missing values are: 14\n"
          ]
        }
      ]
    },
    {
      "cell_type": "markdown",
      "source": [
        "### neighborhood overview"
      ],
      "metadata": {
        "id": "VhpDXCe07dYs"
      }
    },
    {
      "cell_type": "code",
      "source": [
        "listings_df['neighborhood_overview'] = listings_df['neighborhood_overview'].fillna('')"
      ],
      "metadata": {
        "id": "WKtsQans7XsL"
      },
      "execution_count": null,
      "outputs": []
    },
    {
      "cell_type": "markdown",
      "source": [
        "### description column"
      ],
      "metadata": {
        "id": "qR_Ng8zJ9jUs"
      }
    },
    {
      "cell_type": "code",
      "source": [
        "listings_df['description'] = listings_df['description'].fillna('')"
      ],
      "metadata": {
        "id": "2i4pLH479oa9"
      },
      "execution_count": null,
      "outputs": []
    },
    {
      "cell_type": "markdown",
      "source": [
        "### 'review_score' features\n",
        "\n",
        "Dealing with columns that have 'review_score' in their labels. \n",
        "\n",
        "There is ~30% missing values in 'review_score_' columns."
      ],
      "metadata": {
        "id": "2K3wIG6AQccU"
      }
    },
    {
      "cell_type": "code",
      "source": [
        "# Creating a list of the review_score columns\n",
        "review_list = [column for column in listings_df.columns if 'review_score' in column.strip()]\n",
        "# subsetting a dataframe of review list\n",
        "review_cols_df = listings_df[review_list].copy() \n",
        "# checking the datatype for these columns\n",
        "listings_df[review_list].dtypes"
      ],
      "metadata": {
        "id": "UwEgF7EePLVw",
        "colab": {
          "base_uri": "https://localhost:8080/"
        },
        "outputId": "cc3d981f-34e7-4a5e-ced6-bc11bfd99869"
      },
      "execution_count": null,
      "outputs": [
        {
          "output_type": "execute_result",
          "data": {
            "text/plain": [
              "review_scores_rating           float64\n",
              "review_scores_accuracy         float64\n",
              "review_scores_cleanliness      float64\n",
              "review_scores_checkin          float64\n",
              "review_scores_communication    float64\n",
              "review_scores_location         float64\n",
              "dtype: object"
            ]
          },
          "metadata": {},
          "execution_count": 12
        }
      ]
    },
    {
      "cell_type": "markdown",
      "source": [
        "All review_score_ columns are of numeric type."
      ],
      "metadata": {
        "id": "Xaz1WtenXAZr"
      }
    },
    {
      "cell_type": "code",
      "source": [
        "# checking the column descriptions\n",
        "review_cols_df.describe().T "
      ],
      "metadata": {
        "id": "Ecxsez7lTAeA",
        "colab": {
          "base_uri": "https://localhost:8080/",
          "height": 238
        },
        "outputId": "ca502b3d-6f40-4e3e-de57-a01e73e97f28"
      },
      "execution_count": null,
      "outputs": [
        {
          "output_type": "execute_result",
          "data": {
            "text/plain": [
              "                               count      mean       std  min   25%   50%  \\\n",
              "review_scores_rating         13760.0  4.666231  0.684017  0.0  4.64  4.86   \n",
              "review_scores_accuracy       13607.0  4.757262  0.490736  0.0  4.73  4.91   \n",
              "review_scores_cleanliness    13608.0  4.730264  0.492878  0.0  4.67  4.89   \n",
              "review_scores_checkin        13604.0  4.808905  0.462444  0.0  4.81  4.97   \n",
              "review_scores_communication  13607.0  4.802807  0.479074  0.0  4.81  4.97   \n",
              "review_scores_location       13604.0  4.803673  0.414366  0.0  4.78  4.93   \n",
              "\n",
              "                             75%  max  \n",
              "review_scores_rating         5.0  5.0  \n",
              "review_scores_accuracy       5.0  5.0  \n",
              "review_scores_cleanliness    5.0  5.0  \n",
              "review_scores_checkin        5.0  5.0  \n",
              "review_scores_communication  5.0  5.0  \n",
              "review_scores_location       5.0  5.0  "
            ],
            "text/html": [
              "\n",
              "  <div id=\"df-28931141-711d-4ced-a484-690f348ee213\">\n",
              "    <div class=\"colab-df-container\">\n",
              "      <div>\n",
              "<style scoped>\n",
              "    .dataframe tbody tr th:only-of-type {\n",
              "        vertical-align: middle;\n",
              "    }\n",
              "\n",
              "    .dataframe tbody tr th {\n",
              "        vertical-align: top;\n",
              "    }\n",
              "\n",
              "    .dataframe thead th {\n",
              "        text-align: right;\n",
              "    }\n",
              "</style>\n",
              "<table border=\"1\" class=\"dataframe\">\n",
              "  <thead>\n",
              "    <tr style=\"text-align: right;\">\n",
              "      <th></th>\n",
              "      <th>count</th>\n",
              "      <th>mean</th>\n",
              "      <th>std</th>\n",
              "      <th>min</th>\n",
              "      <th>25%</th>\n",
              "      <th>50%</th>\n",
              "      <th>75%</th>\n",
              "      <th>max</th>\n",
              "    </tr>\n",
              "  </thead>\n",
              "  <tbody>\n",
              "    <tr>\n",
              "      <th>review_scores_rating</th>\n",
              "      <td>13760.0</td>\n",
              "      <td>4.666231</td>\n",
              "      <td>0.684017</td>\n",
              "      <td>0.0</td>\n",
              "      <td>4.64</td>\n",
              "      <td>4.86</td>\n",
              "      <td>5.0</td>\n",
              "      <td>5.0</td>\n",
              "    </tr>\n",
              "    <tr>\n",
              "      <th>review_scores_accuracy</th>\n",
              "      <td>13607.0</td>\n",
              "      <td>4.757262</td>\n",
              "      <td>0.490736</td>\n",
              "      <td>0.0</td>\n",
              "      <td>4.73</td>\n",
              "      <td>4.91</td>\n",
              "      <td>5.0</td>\n",
              "      <td>5.0</td>\n",
              "    </tr>\n",
              "    <tr>\n",
              "      <th>review_scores_cleanliness</th>\n",
              "      <td>13608.0</td>\n",
              "      <td>4.730264</td>\n",
              "      <td>0.492878</td>\n",
              "      <td>0.0</td>\n",
              "      <td>4.67</td>\n",
              "      <td>4.89</td>\n",
              "      <td>5.0</td>\n",
              "      <td>5.0</td>\n",
              "    </tr>\n",
              "    <tr>\n",
              "      <th>review_scores_checkin</th>\n",
              "      <td>13604.0</td>\n",
              "      <td>4.808905</td>\n",
              "      <td>0.462444</td>\n",
              "      <td>0.0</td>\n",
              "      <td>4.81</td>\n",
              "      <td>4.97</td>\n",
              "      <td>5.0</td>\n",
              "      <td>5.0</td>\n",
              "    </tr>\n",
              "    <tr>\n",
              "      <th>review_scores_communication</th>\n",
              "      <td>13607.0</td>\n",
              "      <td>4.802807</td>\n",
              "      <td>0.479074</td>\n",
              "      <td>0.0</td>\n",
              "      <td>4.81</td>\n",
              "      <td>4.97</td>\n",
              "      <td>5.0</td>\n",
              "      <td>5.0</td>\n",
              "    </tr>\n",
              "    <tr>\n",
              "      <th>review_scores_location</th>\n",
              "      <td>13604.0</td>\n",
              "      <td>4.803673</td>\n",
              "      <td>0.414366</td>\n",
              "      <td>0.0</td>\n",
              "      <td>4.78</td>\n",
              "      <td>4.93</td>\n",
              "      <td>5.0</td>\n",
              "      <td>5.0</td>\n",
              "    </tr>\n",
              "  </tbody>\n",
              "</table>\n",
              "</div>\n",
              "      <button class=\"colab-df-convert\" onclick=\"convertToInteractive('df-28931141-711d-4ced-a484-690f348ee213')\"\n",
              "              title=\"Convert this dataframe to an interactive table.\"\n",
              "              style=\"display:none;\">\n",
              "        \n",
              "  <svg xmlns=\"http://www.w3.org/2000/svg\" height=\"24px\"viewBox=\"0 0 24 24\"\n",
              "       width=\"24px\">\n",
              "    <path d=\"M0 0h24v24H0V0z\" fill=\"none\"/>\n",
              "    <path d=\"M18.56 5.44l.94 2.06.94-2.06 2.06-.94-2.06-.94-.94-2.06-.94 2.06-2.06.94zm-11 1L8.5 8.5l.94-2.06 2.06-.94-2.06-.94L8.5 2.5l-.94 2.06-2.06.94zm10 10l.94 2.06.94-2.06 2.06-.94-2.06-.94-.94-2.06-.94 2.06-2.06.94z\"/><path d=\"M17.41 7.96l-1.37-1.37c-.4-.4-.92-.59-1.43-.59-.52 0-1.04.2-1.43.59L10.3 9.45l-7.72 7.72c-.78.78-.78 2.05 0 2.83L4 21.41c.39.39.9.59 1.41.59.51 0 1.02-.2 1.41-.59l7.78-7.78 2.81-2.81c.8-.78.8-2.07 0-2.86zM5.41 20L4 18.59l7.72-7.72 1.47 1.35L5.41 20z\"/>\n",
              "  </svg>\n",
              "      </button>\n",
              "      \n",
              "  <style>\n",
              "    .colab-df-container {\n",
              "      display:flex;\n",
              "      flex-wrap:wrap;\n",
              "      gap: 12px;\n",
              "    }\n",
              "\n",
              "    .colab-df-convert {\n",
              "      background-color: #E8F0FE;\n",
              "      border: none;\n",
              "      border-radius: 50%;\n",
              "      cursor: pointer;\n",
              "      display: none;\n",
              "      fill: #1967D2;\n",
              "      height: 32px;\n",
              "      padding: 0 0 0 0;\n",
              "      width: 32px;\n",
              "    }\n",
              "\n",
              "    .colab-df-convert:hover {\n",
              "      background-color: #E2EBFA;\n",
              "      box-shadow: 0px 1px 2px rgba(60, 64, 67, 0.3), 0px 1px 3px 1px rgba(60, 64, 67, 0.15);\n",
              "      fill: #174EA6;\n",
              "    }\n",
              "\n",
              "    [theme=dark] .colab-df-convert {\n",
              "      background-color: #3B4455;\n",
              "      fill: #D2E3FC;\n",
              "    }\n",
              "\n",
              "    [theme=dark] .colab-df-convert:hover {\n",
              "      background-color: #434B5C;\n",
              "      box-shadow: 0px 1px 3px 1px rgba(0, 0, 0, 0.15);\n",
              "      filter: drop-shadow(0px 1px 2px rgba(0, 0, 0, 0.3));\n",
              "      fill: #FFFFFF;\n",
              "    }\n",
              "  </style>\n",
              "\n",
              "      <script>\n",
              "        const buttonEl =\n",
              "          document.querySelector('#df-28931141-711d-4ced-a484-690f348ee213 button.colab-df-convert');\n",
              "        buttonEl.style.display =\n",
              "          google.colab.kernel.accessAllowed ? 'block' : 'none';\n",
              "\n",
              "        async function convertToInteractive(key) {\n",
              "          const element = document.querySelector('#df-28931141-711d-4ced-a484-690f348ee213');\n",
              "          const dataTable =\n",
              "            await google.colab.kernel.invokeFunction('convertToInteractive',\n",
              "                                                     [key], {});\n",
              "          if (!dataTable) return;\n",
              "\n",
              "          const docLinkHtml = 'Like what you see? Visit the ' +\n",
              "            '<a target=\"_blank\" href=https://colab.research.google.com/notebooks/data_table.ipynb>data table notebook</a>'\n",
              "            + ' to learn more about interactive tables.';\n",
              "          element.innerHTML = '';\n",
              "          dataTable['output_type'] = 'display_data';\n",
              "          await google.colab.output.renderOutput(dataTable, element);\n",
              "          const docLink = document.createElement('div');\n",
              "          docLink.innerHTML = docLinkHtml;\n",
              "          element.appendChild(docLink);\n",
              "        }\n",
              "      </script>\n",
              "    </div>\n",
              "  </div>\n",
              "  "
            ]
          },
          "metadata": {},
          "execution_count": 15
        }
      ]
    },
    {
      "cell_type": "markdown",
      "source": [
        "The missing values will be filled with the median of the respective column."
      ],
      "metadata": {
        "id": "WIjht-nbVd8_"
      }
    },
    {
      "cell_type": "code",
      "source": [
        "# imputing missing values with median\n",
        "listings_df[review_list] = listings_df[review_list].fillna(listings_df[review_list].median())"
      ],
      "metadata": {
        "id": "mDp7laNoUVvp"
      },
      "execution_count": null,
      "outputs": []
    },
    {
      "cell_type": "code",
      "source": [
        "# rounding off ratings values \n",
        "listings_df[review_list] = listings_df[review_list].round(0)"
      ],
      "metadata": {
        "id": "zWp0MKMfSi21"
      },
      "execution_count": null,
      "outputs": []
    },
    {
      "cell_type": "code",
      "source": [
        "# checking value counts\n",
        "for feature in review_list:\n",
        "    print(value_count(listings_df, feature))\n",
        "    # limiting long output"
      ],
      "metadata": {
        "id": "HnO4PnOJYAYB",
        "colab": {
          "base_uri": "https://localhost:8080/"
        },
        "outputId": "462956d6-8cd4-4922-bbf8-6a9b4b5f12dc"
      },
      "execution_count": null,
      "outputs": [
        {
          "output_type": "stream",
          "name": "stdout",
          "text": [
            "     Count(s)\n",
            "5.0     16284\n",
            "4.0      2140\n",
            "3.0       190\n",
            "0.0       138\n",
            "1.0       102\n",
            "2.0        49\n",
            "     Count(s)\n",
            "5.0     17003\n",
            "4.0      1585\n",
            "3.0       165\n",
            "1.0       105\n",
            "2.0        44\n",
            "0.0         1\n",
            "     Count(s)\n",
            "5.0     16621\n",
            "4.0      1932\n",
            "3.0       205\n",
            "1.0        88\n",
            "2.0        56\n",
            "0.0         1\n",
            "     Count(s)\n",
            "5.0     17400\n",
            "4.0      1242\n",
            "3.0       128\n",
            "1.0        99\n",
            "2.0        33\n",
            "0.0         1\n",
            "     Count(s)\n",
            "5.0     17337\n",
            "4.0      1282\n",
            "3.0       132\n",
            "1.0       101\n",
            "2.0        49\n",
            "0.0         2\n",
            "     Count(s)\n",
            "5.0     17424\n",
            "4.0      1280\n",
            "3.0       100\n",
            "1.0        69\n",
            "2.0        29\n",
            "0.0         1\n"
          ]
        }
      ]
    },
    {
      "cell_type": "markdown",
      "source": [
        "The number of rating scores that equal to 0 after rouding off are negligible compared to the size of the dataset and other class couts. A zero rating doesn't make much sense, changing them to 1 is more sensible."
      ],
      "metadata": {
        "id": "r4eqWEeehTpl"
      }
    },
    {
      "cell_type": "code",
      "source": [
        "for feature in review_list:\n",
        "    # replacing 0 values with 1\n",
        "    listings_df[feature] = listings_df[feature].replace(to_replace=0, value=1) "
      ],
      "metadata": {
        "id": "IJjwljhBh0Jo"
      },
      "execution_count": null,
      "outputs": []
    },
    {
      "cell_type": "markdown",
      "source": [
        "### bedrooms & beds features\n",
        "~6% of data is missing from bedrooms and ~2% is missing from beds columns."
      ],
      "metadata": {
        "id": "qO-THCM64iNK"
      }
    },
    {
      "cell_type": "code",
      "source": [
        "# bedrooms unique values\n",
        "print(listings_df['bedrooms'].unique()[:23])\n",
        "print()\n",
        "# beds unique values\n",
        "print(listings_df['beds'].unique()[:10])"
      ],
      "metadata": {
        "id": "utxKvSf9_sBO",
        "colab": {
          "base_uri": "https://localhost:8080/"
        },
        "outputId": "1f1a8575-3f17-49e8-d6d8-a50711a0ad8a"
      },
      "execution_count": null,
      "outputs": [
        {
          "output_type": "stream",
          "name": "stdout",
          "text": [
            "[ 1.  2.  5.  3. nan  6.  4. 10.  7.  8.  9. 12. 16. 19. 41. 40. 11. 14.\n",
            " 13. 18. 17. 15. 20.]\n",
            "\n",
            "[ 1.  3.  2.  4.  5.  6.  8. nan  7. 49.]\n"
          ]
        }
      ]
    },
    {
      "cell_type": "markdown",
      "source": [
        "There seems to be outliers in these columns. "
      ],
      "metadata": {
        "id": "rMun0I3qkBHu"
      }
    },
    {
      "cell_type": "code",
      "source": [
        "# checking if there are outliers in the bedrooms column\n",
        "box_plot(listings_df['bedrooms'])"
      ],
      "metadata": {
        "id": "ei4JdnuC5QnL",
        "colab": {
          "base_uri": "https://localhost:8080/",
          "height": 574
        },
        "outputId": "2526d84a-0972-4a27-bcea-87c6bba4c79d"
      },
      "execution_count": null,
      "outputs": [
        {
          "output_type": "display_data",
          "data": {
            "text/plain": [
              "<Figure size 1440x720 with 1 Axes>"
            ],
            "image/png": "[encoded data removed]"
          },
          "metadata": {
            "needs_background": "light"
          }
        }
      ]
    },
    {
      "cell_type": "code",
      "source": [
        "# checking if there are outliers in the bed column\n",
        "box_plot(listings_df['beds']) "
      ],
      "metadata": {
        "id": "Eov7mD3DVIYh",
        "colab": {
          "base_uri": "https://localhost:8080/",
          "height": 574
        },
        "outputId": "8b65ccc4-fb15-48ad-8fc6-9fad3607067c"
      },
      "execution_count": null,
      "outputs": [
        {
          "output_type": "display_data",
          "data": {
            "text/plain": [
              "<Figure size 1440x720 with 1 Axes>"
            ],
            "image/png": "[encoded data removed]"
          },
          "metadata": {
            "needs_background": "light"
          }
        }
      ]
    },
    {
      "cell_type": "code",
      "source": [
        "# subsetting extreme outliers in bedrooms and beds columns\n",
        "listings_df[(listings_df['bedrooms'] >= 24) | (listings_df['beds'] >= 24)][['bedrooms', 'beds', 'price', 'bathrooms_text']]"
      ],
      "metadata": {
        "id": "eB4mXpg5VYHp",
        "colab": {
          "base_uri": "https://localhost:8080/",
          "height": 300
        },
        "outputId": "1bf3a3b6-3357-4794-e127-2bd53b511fc8"
      },
      "execution_count": null,
      "outputs": [
        {
          "output_type": "execute_result",
          "data": {
            "text/plain": [
              "       bedrooms  beds      price  bathrooms_text\n",
              "148        10.0  49.0    $840.00        32 baths\n",
              "1742       12.0  24.0  $3,361.00         2 baths\n",
              "7064       12.0  24.0  $9,800.00         6 baths\n",
              "8401       41.0  50.0  $1,689.00          1 bath\n",
              "8966       40.0  50.0    $807.00        42 baths\n",
              "12250       1.0  24.0    $350.00   1 shared bath\n",
              "12517      14.0  24.0    $400.00  2 shared baths\n",
              "12518      13.0  40.0    $686.00         9 baths"
            ],
            "text/html": [
              "\n",
              "  <div id=\"df-5df5aa31-318b-43e1-895c-2da5c46e2407\">\n",
              "    <div class=\"colab-df-container\">\n",
              "      <div>\n",
              "<style scoped>\n",
              "    .dataframe tbody tr th:only-of-type {\n",
              "        vertical-align: middle;\n",
              "    }\n",
              "\n",
              "    .dataframe tbody tr th {\n",
              "        vertical-align: top;\n",
              "    }\n",
              "\n",
              "    .dataframe thead th {\n",
              "        text-align: right;\n",
              "    }\n",
              "</style>\n",
              "<table border=\"1\" class=\"dataframe\">\n",
              "  <thead>\n",
              "    <tr style=\"text-align: right;\">\n",
              "      <th></th>\n",
              "      <th>bedrooms</th>\n",
              "      <th>beds</th>\n",
              "      <th>price</th>\n",
              "      <th>bathrooms_text</th>\n",
              "    </tr>\n",
              "  </thead>\n",
              "  <tbody>\n",
              "    <tr>\n",
              "      <th>148</th>\n",
              "      <td>10.0</td>\n",
              "      <td>49.0</td>\n",
              "      <td>$840.00</td>\n",
              "      <td>32 baths</td>\n",
              "    </tr>\n",
              "    <tr>\n",
              "      <th>1742</th>\n",
              "      <td>12.0</td>\n",
              "      <td>24.0</td>\n",
              "      <td>$3,361.00</td>\n",
              "      <td>2 baths</td>\n",
              "    </tr>\n",
              "    <tr>\n",
              "      <th>7064</th>\n",
              "      <td>12.0</td>\n",
              "      <td>24.0</td>\n",
              "      <td>$9,800.00</td>\n",
              "      <td>6 baths</td>\n",
              "    </tr>\n",
              "    <tr>\n",
              "      <th>8401</th>\n",
              "      <td>41.0</td>\n",
              "      <td>50.0</td>\n",
              "      <td>$1,689.00</td>\n",
              "      <td>1 bath</td>\n",
              "    </tr>\n",
              "    <tr>\n",
              "      <th>8966</th>\n",
              "      <td>40.0</td>\n",
              "      <td>50.0</td>\n",
              "      <td>$807.00</td>\n",
              "      <td>42 baths</td>\n",
              "    </tr>\n",
              "    <tr>\n",
              "      <th>12250</th>\n",
              "      <td>1.0</td>\n",
              "      <td>24.0</td>\n",
              "      <td>$350.00</td>\n",
              "      <td>1 shared bath</td>\n",
              "    </tr>\n",
              "    <tr>\n",
              "      <th>12517</th>\n",
              "      <td>14.0</td>\n",
              "      <td>24.0</td>\n",
              "      <td>$400.00</td>\n",
              "      <td>2 shared baths</td>\n",
              "    </tr>\n",
              "    <tr>\n",
              "      <th>12518</th>\n",
              "      <td>13.0</td>\n",
              "      <td>40.0</td>\n",
              "      <td>$686.00</td>\n",
              "      <td>9 baths</td>\n",
              "    </tr>\n",
              "  </tbody>\n",
              "</table>\n",
              "</div>\n",
              "      <button class=\"colab-df-convert\" onclick=\"convertToInteractive('df-5df5aa31-318b-43e1-895c-2da5c46e2407')\"\n",
              "              title=\"Convert this dataframe to an interactive table.\"\n",
              "              style=\"display:none;\">\n",
              "        \n",
              "  <svg xmlns=\"http://www.w3.org/2000/svg\" height=\"24px\"viewBox=\"0 0 24 24\"\n",
              "       width=\"24px\">\n",
              "    <path d=\"M0 0h24v24H0V0z\" fill=\"none\"/>\n",
              "    <path d=\"M18.56 5.44l.94 2.06.94-2.06 2.06-.94-2.06-.94-.94-2.06-.94 2.06-2.06.94zm-11 1L8.5 8.5l.94-2.06 2.06-.94-2.06-.94L8.5 2.5l-.94 2.06-2.06.94zm10 10l.94 2.06.94-2.06 2.06-.94-2.06-.94-.94-2.06-.94 2.06-2.06.94z\"/><path d=\"M17.41 7.96l-1.37-1.37c-.4-.4-.92-.59-1.43-.59-.52 0-1.04.2-1.43.59L10.3 9.45l-7.72 7.72c-.78.78-.78 2.05 0 2.83L4 21.41c.39.39.9.59 1.41.59.51 0 1.02-.2 1.41-.59l7.78-7.78 2.81-2.81c.8-.78.8-2.07 0-2.86zM5.41 20L4 18.59l7.72-7.72 1.47 1.35L5.41 20z\"/>\n",
              "  </svg>\n",
              "      </button>\n",
              "      \n",
              "  <style>\n",
              "    .colab-df-container {\n",
              "      display:flex;\n",
              "      flex-wrap:wrap;\n",
              "      gap: 12px;\n",
              "    }\n",
              "\n",
              "    .colab-df-convert {\n",
              "      background-color: #E8F0FE;\n",
              "      border: none;\n",
              "      border-radius: 50%;\n",
              "      cursor: pointer;\n",
              "      display: none;\n",
              "      fill: #1967D2;\n",
              "      height: 32px;\n",
              "      padding: 0 0 0 0;\n",
              "      width: 32px;\n",
              "    }\n",
              "\n",
              "    .colab-df-convert:hover {\n",
              "      background-color: #E2EBFA;\n",
              "      box-shadow: 0px 1px 2px rgba(60, 64, 67, 0.3), 0px 1px 3px 1px rgba(60, 64, 67, 0.15);\n",
              "      fill: #174EA6;\n",
              "    }\n",
              "\n",
              "    [theme=dark] .colab-df-convert {\n",
              "      background-color: #3B4455;\n",
              "      fill: #D2E3FC;\n",
              "    }\n",
              "\n",
              "    [theme=dark] .colab-df-convert:hover {\n",
              "      background-color: #434B5C;\n",
              "      box-shadow: 0px 1px 3px 1px rgba(0, 0, 0, 0.15);\n",
              "      filter: drop-shadow(0px 1px 2px rgba(0, 0, 0, 0.3));\n",
              "      fill: #FFFFFF;\n",
              "    }\n",
              "  </style>\n",
              "\n",
              "      <script>\n",
              "        const buttonEl =\n",
              "          document.querySelector('#df-5df5aa31-318b-43e1-895c-2da5c46e2407 button.colab-df-convert');\n",
              "        buttonEl.style.display =\n",
              "          google.colab.kernel.accessAllowed ? 'block' : 'none';\n",
              "\n",
              "        async function convertToInteractive(key) {\n",
              "          const element = document.querySelector('#df-5df5aa31-318b-43e1-895c-2da5c46e2407');\n",
              "          const dataTable =\n",
              "            await google.colab.kernel.invokeFunction('convertToInteractive',\n",
              "                                                     [key], {});\n",
              "          if (!dataTable) return;\n",
              "\n",
              "          const docLinkHtml = 'Like what you see? Visit the ' +\n",
              "            '<a target=\"_blank\" href=https://colab.research.google.com/notebooks/data_table.ipynb>data table notebook</a>'\n",
              "            + ' to learn more about interactive tables.';\n",
              "          element.innerHTML = '';\n",
              "          dataTable['output_type'] = 'display_data';\n",
              "          await google.colab.output.renderOutput(dataTable, element);\n",
              "          const docLink = document.createElement('div');\n",
              "          docLink.innerHTML = docLinkHtml;\n",
              "          element.appendChild(docLink);\n",
              "        }\n",
              "      </script>\n",
              "    </div>\n",
              "  </div>\n",
              "  "
            ]
          },
          "metadata": {},
          "execution_count": 23
        }
      ]
    },
    {
      "cell_type": "code",
      "source": [
        "# shape before dropping outliers\n",
        "print('Shape Before:', np.shape(listings_df))\n",
        "# dropping outliers\n",
        "listings_df = listings_df[listings_df['beds'] < 24].copy()\n",
        "listings_df = listings_df[listings_df['bedrooms'] < 24].copy()\n",
        "# shape after\n",
        "print('Shape After:', np.shape(listings_df))\n",
        "# values dropped\n",
        "print('Records dropped:', 1428)"
      ],
      "metadata": {
        "id": "Fd2GVnwa5QiH",
        "colab": {
          "base_uri": "https://localhost:8080/"
        },
        "outputId": "bfd0cbc2-001a-4ceb-d7bc-7b3ceebed5e0"
      },
      "execution_count": null,
      "outputs": [
        {
          "output_type": "stream",
          "name": "stdout",
          "text": [
            "Shape Before: (18903, 28)\n",
            "Shape After: (17475, 28)\n",
            "Records dropped: 1428\n"
          ]
        }
      ]
    },
    {
      "cell_type": "markdown",
      "source": [
        "median for bedrooms is 1 and for beds is 2."
      ],
      "metadata": {
        "id": "YWRoZwrDvHuq"
      }
    },
    {
      "cell_type": "code",
      "source": [
        "# fill missing values with the median\n",
        "listings_df['bedrooms'].fillna(value=listings_df['bedrooms'].median(), inplace=True)\n",
        "# fill missing values\n",
        "listings_df['beds'].fillna(value=listings_df['beds'].median(), inplace=True)"
      ],
      "metadata": {
        "id": "paIEVaQeC7UX"
      },
      "execution_count": null,
      "outputs": []
    },
    {
      "cell_type": "markdown",
      "source": [
        "### bathrooms_text feature\n",
        "~2% of data is missing in bathrooms_text column."
      ],
      "metadata": {
        "id": "g1cT7c9PrIBD"
      }
    },
    {
      "cell_type": "code",
      "source": [
        "# checking bathrooms unique values\n",
        "listings_df['bathrooms_text'].unique()[:10] "
      ],
      "metadata": {
        "id": "RmSQ-c1NSywD",
        "colab": {
          "base_uri": "https://localhost:8080/"
        },
        "outputId": "4bf45958-6d10-4a8b-bcdc-0d507f1ec862"
      },
      "execution_count": null,
      "outputs": [
        {
          "output_type": "execute_result",
          "data": {
            "text/plain": [
              "array(['1 bath', '2 baths', '1.5 baths', '5 baths', '3 baths',\n",
              "       '3.5 baths', '1 private bath', '6.5 baths', '2.5 baths',\n",
              "       '4.5 baths'], dtype=object)"
            ]
          },
          "metadata": {},
          "execution_count": 26
        }
      ]
    },
    {
      "cell_type": "code",
      "source": [
        "# strip the records to remain with the numerical value strings\n",
        "listings_df['bathrooms_text'] = listings_df['bathrooms_text'].str.extract('(\\d+\\.?\\d*)')\n",
        "# changing column to float\n",
        "listings_df['bathrooms_text'] = listings_df['bathrooms_text'].astype('float')\n",
        "# checking if there are outliers in bathrooms_text\n",
        "box_plot(listings_df['bathrooms_text']) "
      ],
      "metadata": {
        "id": "p_OFlsINSywE",
        "colab": {
          "base_uri": "https://localhost:8080/",
          "height": 654
        },
        "outputId": "93c1ec73-1124-4f7a-a30d-d8484dc44d15"
      },
      "execution_count": null,
      "outputs": [
        {
          "output_type": "display_data",
          "data": {
            "text/plain": [
              "<Figure size 1440x720 with 1 Axes>"
            ],
            "image/png": "[encoded data removed]"
          },
          "metadata": {
            "needs_background": "light"
          }
        }
      ]
    },
    {
      "cell_type": "markdown",
      "source": [
        "bathrooms median is 1."
      ],
      "metadata": {
        "id": "LHq12Ifzvz9o"
      }
    },
    {
      "cell_type": "code",
      "source": [
        "# fill missing values with median\n",
        "listings_df['bathrooms_text'].fillna(value=listings_df['bathrooms_text'].median(), inplace=True) \n",
        "# changing column name \n",
        "listings_df.rename(columns={'bathrooms_text': 'bathrooms'}, inplace=True)"
      ],
      "metadata": {
        "id": "VRNerXnFAeUp"
      },
      "execution_count": null,
      "outputs": []
    },
    {
      "cell_type": "markdown",
      "source": [
        "### 'host' features\n",
        "\n",
        "Dealing with host_response_time, host_response_rate & host_acceptance_rate columns.\n",
        "\n",
        "host_response_time and host_response_rate have ~23% of missing data, and host_acceptance_rate has ~13% of missing data."
      ],
      "metadata": {
        "id": "S3oK2tzVwQY8"
      }
    },
    {
      "cell_type": "code",
      "source": [
        "# making a list of the columns being tackled\n",
        "host_reactions = ['host_response_time', 'host_response_rate', 'host_acceptance_rate']\n",
        "# checking unique counts\n",
        "print('host_response_time unique counts are:', listings_df[host_reactions[0]].nunique())\n",
        "print()\n",
        "print(listings_df['host_response_time'].unique())\n",
        "print()\n",
        "print('host_response_rate unique counts are:', listings_df[host_reactions[1]].nunique())\n",
        "print()\n",
        "print(listings_df[host_reactions[1]].unique()[:10])\n",
        "print()\n",
        "print('host_acceptance_rate unique counts are:', listings_df[host_reactions[2]].nunique())\n",
        "print()\n",
        "print(listings_df[host_reactions[2]].unique()[:10])"
      ],
      "metadata": {
        "id": "ZQRI54Xn4XrD",
        "colab": {
          "base_uri": "https://localhost:8080/"
        },
        "outputId": "bc4de0e1-5c79-4299-dcc6-2c3b86bac21c"
      },
      "execution_count": null,
      "outputs": [
        {
          "output_type": "stream",
          "name": "stdout",
          "text": [
            "host_response_time unique counts are: 4\n",
            "\n",
            "['within an hour' 'within a few hours' nan 'within a day'\n",
            " 'a few days or more']\n",
            "\n",
            "host_response_rate unique counts are: 42\n",
            "\n",
            "['100%' nan '50%' '80%' '87%' '67%' '75%' '33%' '90%' '70%']\n",
            "\n",
            "host_acceptance_rate unique counts are: 87\n",
            "\n",
            "['100%' '50%' '67%' '71%' nan '94%' '93%' '11%' '83%' '99%']\n"
          ]
        }
      ]
    },
    {
      "cell_type": "markdown",
      "source": [
        "host_response_time is a categorical column, its missing values will be imputed with 'unknown' as a category. The other 2 columns should be numerical but have been recorded as strings. Some manipulations need to be done to them."
      ],
      "metadata": {
        "id": "20hx2waP49zx"
      }
    },
    {
      "cell_type": "code",
      "source": [
        "# filling nan values with unknown\n",
        "listings_df['host_response_time'] = listings_df['host_response_time'].fillna('unknown') \n",
        "# stripping % signs from the columns\n",
        "listings_df['host_response_rate'] = strip_signs(listings_df, 'host_response_rate')\n",
        "listings_df['host_acceptance_rate'] = strip_signs(listings_df, 'host_acceptance_rate') "
      ],
      "metadata": {
        "id": "8n5HBFDv4XPk"
      },
      "execution_count": null,
      "outputs": []
    },
    {
      "cell_type": "markdown",
      "source": [
        "host_response_rate median is 100% while host_acceptance median is 95%. Is that the general trend?"
      ],
      "metadata": {
        "id": "E2O90oFgrC1C"
      }
    },
    {
      "cell_type": "code",
      "source": [
        "# boxplot of host_response_rate\n",
        "box_plot(listings_df['host_response_rate'])"
      ],
      "metadata": {
        "id": "cMCgvQq8q2XX",
        "colab": {
          "base_uri": "https://localhost:8080/",
          "height": 574
        },
        "outputId": "19152347-97fd-48cd-c629-c644352a2c65"
      },
      "execution_count": null,
      "outputs": [
        {
          "output_type": "display_data",
          "data": {
            "text/plain": [
              "<Figure size 1440x720 with 1 Axes>"
            ],
            "image/png": "[encoded data removed]"
          },
          "metadata": {
            "needs_background": "light"
          }
        }
      ]
    },
    {
      "cell_type": "code",
      "source": [
        "# filling missing values with median\n",
        "listings_df['host_response_rate'].fillna(value=listings_df['host_response_rate'].median(), inplace=True) "
      ],
      "metadata": {
        "id": "ubZlJ1SuvNlG"
      },
      "execution_count": null,
      "outputs": []
    },
    {
      "cell_type": "code",
      "source": [
        "# boxplot of host_acceptance rate\n",
        "box_plot(listings_df['host_acceptance_rate']) "
      ],
      "metadata": {
        "id": "DFqR-CHJ4GAj",
        "colab": {
          "base_uri": "https://localhost:8080/",
          "height": 574
        },
        "outputId": "cc4d8d21-46ae-4b08-e6b5-22bd4230dedc"
      },
      "execution_count": null,
      "outputs": [
        {
          "output_type": "display_data",
          "data": {
            "text/plain": [
              "<Figure size 1440x720 with 1 Axes>"
            ],
            "image/png": "[encoded data removed]"
          },
          "metadata": {
            "needs_background": "light"
          }
        }
      ]
    },
    {
      "cell_type": "code",
      "source": [
        "# filling missing values with median\n",
        "listings_df['host_acceptance_rate'].fillna(value=listings_df['host_acceptance_rate'].median(), inplace=True)"
      ],
      "metadata": {
        "id": "lbbL-1104GAl"
      },
      "execution_count": null,
      "outputs": []
    },
    {
      "cell_type": "markdown",
      "source": [
        "acceptance rate and response rate need to be transformed to categorical variables. To do that rounding off of the values required."
      ],
      "metadata": {
        "id": "GizvcBIeljT9"
      }
    },
    {
      "cell_type": "code",
      "source": [
        "# rounding off the values\n",
        "listings_df['host_acceptance_rate'] = listings_df['host_acceptance_rate'].apply(lambda x: round(x, -1))\n",
        "listings_df['host_response_rate'] = listings_df['host_response_rate'].apply(lambda x: round(x, -1))"
      ],
      "metadata": {
        "id": "okOjjEBFmBrT"
      },
      "execution_count": null,
      "outputs": []
    },
    {
      "cell_type": "markdown",
      "source": [
        "Dealing with the remaining 'host' features, which are: host_name, host_since, host_identity_verified, host_is_superhost, host_has_profile_pic, host_picture_url, host_listings_count & host_total_listings_count columns."
      ],
      "metadata": {
        "id": "NaZaHuGxmmiP"
      }
    },
    {
      "cell_type": "code",
      "source": [
        "# list of 'host' columns that have been dealt with already\n",
        "already_dealt = ['host_response_time', 'host_response_rate', 'host_acceptance_rate', 'host_location']\n",
        "# making a list of columns containing 'host' in their names but that haven't been dealt with\n",
        "rem_host_cols = [column for column in listings_df.columns if 'host' in column.strip() and column not in already_dealt]\n",
        "# filtering out 'host columns' that are complete\n",
        "host_traits = [column for column in rem_host_cols if column in list(listings_completeness['Feature'])]\n",
        "host_traits"
      ],
      "metadata": {
        "id": "N0ksZH_GaBd0",
        "colab": {
          "base_uri": "https://localhost:8080/"
        },
        "outputId": "cf639311-c2d3-4526-e29e-2e52ee4fa9c5"
      },
      "execution_count": null,
      "outputs": [
        {
          "output_type": "execute_result",
          "data": {
            "text/plain": [
              "['host_since', 'host_is_superhost']"
            ]
          },
          "metadata": {},
          "execution_count": 36
        }
      ]
    },
    {
      "cell_type": "markdown",
      "source": [
        "both of them have ~0.01% of missing values"
      ],
      "metadata": {
        "id": "UCtr6gBI0Y1o"
      }
    },
    {
      "cell_type": "code",
      "source": [
        "# sum of nan values in host_since\n",
        "print(listings_df['host_since'].isna().sum())\n",
        "# Dropping null row \n",
        "listings_df.dropna(subset= [\"host_since\"], inplace= True) "
      ],
      "metadata": {
        "id": "XrcFqE_6NRMp",
        "colab": {
          "base_uri": "https://localhost:8080/"
        },
        "outputId": "99a700a9-ddb9-4927-8296-5960da0affdb"
      },
      "execution_count": null,
      "outputs": [
        {
          "output_type": "stream",
          "name": "stdout",
          "text": [
            "1\n"
          ]
        }
      ]
    },
    {
      "cell_type": "code",
      "source": [
        "# viewing the host columns\n",
        "listings_df[host_traits].head(3) "
      ],
      "metadata": {
        "id": "GqK7i2qsnwCX",
        "colab": {
          "base_uri": "https://localhost:8080/",
          "height": 143
        },
        "outputId": "02440dba-c01a-4f14-f5f4-89f54be0cadb"
      },
      "execution_count": null,
      "outputs": [
        {
          "output_type": "execute_result",
          "data": {
            "text/plain": [
              "   host_since host_is_superhost\n",
              "0  2016-10-07                 f\n",
              "1  2012-08-29                 f\n",
              "2  2016-10-07                 f"
            ],
            "text/html": [
              "\n",
              "  <div id=\"df-97c9250e-a61f-4f63-ab25-0dba77ab0617\">\n",
              "    <div class=\"colab-df-container\">\n",
              "      <div>\n",
              "<style scoped>\n",
              "    .dataframe tbody tr th:only-of-type {\n",
              "        vertical-align: middle;\n",
              "    }\n",
              "\n",
              "    .dataframe tbody tr th {\n",
              "        vertical-align: top;\n",
              "    }\n",
              "\n",
              "    .dataframe thead th {\n",
              "        text-align: right;\n",
              "    }\n",
              "</style>\n",
              "<table border=\"1\" class=\"dataframe\">\n",
              "  <thead>\n",
              "    <tr style=\"text-align: right;\">\n",
              "      <th></th>\n",
              "      <th>host_since</th>\n",
              "      <th>host_is_superhost</th>\n",
              "    </tr>\n",
              "  </thead>\n",
              "  <tbody>\n",
              "    <tr>\n",
              "      <th>0</th>\n",
              "      <td>2016-10-07</td>\n",
              "      <td>f</td>\n",
              "    </tr>\n",
              "    <tr>\n",
              "      <th>1</th>\n",
              "      <td>2012-08-29</td>\n",
              "      <td>f</td>\n",
              "    </tr>\n",
              "    <tr>\n",
              "      <th>2</th>\n",
              "      <td>2016-10-07</td>\n",
              "      <td>f</td>\n",
              "    </tr>\n",
              "  </tbody>\n",
              "</table>\n",
              "</div>\n",
              "      <button class=\"colab-df-convert\" onclick=\"convertToInteractive('df-97c9250e-a61f-4f63-ab25-0dba77ab0617')\"\n",
              "              title=\"Convert this dataframe to an interactive table.\"\n",
              "              style=\"display:none;\">\n",
              "        \n",
              "  <svg xmlns=\"http://www.w3.org/2000/svg\" height=\"24px\"viewBox=\"0 0 24 24\"\n",
              "       width=\"24px\">\n",
              "    <path d=\"M0 0h24v24H0V0z\" fill=\"none\"/>\n",
              "    <path d=\"M18.56 5.44l.94 2.06.94-2.06 2.06-.94-2.06-.94-.94-2.06-.94 2.06-2.06.94zm-11 1L8.5 8.5l.94-2.06 2.06-.94-2.06-.94L8.5 2.5l-.94 2.06-2.06.94zm10 10l.94 2.06.94-2.06 2.06-.94-2.06-.94-.94-2.06-.94 2.06-2.06.94z\"/><path d=\"M17.41 7.96l-1.37-1.37c-.4-.4-.92-.59-1.43-.59-.52 0-1.04.2-1.43.59L10.3 9.45l-7.72 7.72c-.78.78-.78 2.05 0 2.83L4 21.41c.39.39.9.59 1.41.59.51 0 1.02-.2 1.41-.59l7.78-7.78 2.81-2.81c.8-.78.8-2.07 0-2.86zM5.41 20L4 18.59l7.72-7.72 1.47 1.35L5.41 20z\"/>\n",
              "  </svg>\n",
              "      </button>\n",
              "      \n",
              "  <style>\n",
              "    .colab-df-container {\n",
              "      display:flex;\n",
              "      flex-wrap:wrap;\n",
              "      gap: 12px;\n",
              "    }\n",
              "\n",
              "    .colab-df-convert {\n",
              "      background-color: #E8F0FE;\n",
              "      border: none;\n",
              "      border-radius: 50%;\n",
              "      cursor: pointer;\n",
              "      display: none;\n",
              "      fill: #1967D2;\n",
              "      height: 32px;\n",
              "      padding: 0 0 0 0;\n",
              "      width: 32px;\n",
              "    }\n",
              "\n",
              "    .colab-df-convert:hover {\n",
              "      background-color: #E2EBFA;\n",
              "      box-shadow: 0px 1px 2px rgba(60, 64, 67, 0.3), 0px 1px 3px 1px rgba(60, 64, 67, 0.15);\n",
              "      fill: #174EA6;\n",
              "    }\n",
              "\n",
              "    [theme=dark] .colab-df-convert {\n",
              "      background-color: #3B4455;\n",
              "      fill: #D2E3FC;\n",
              "    }\n",
              "\n",
              "    [theme=dark] .colab-df-convert:hover {\n",
              "      background-color: #434B5C;\n",
              "      box-shadow: 0px 1px 3px 1px rgba(0, 0, 0, 0.15);\n",
              "      filter: drop-shadow(0px 1px 2px rgba(0, 0, 0, 0.3));\n",
              "      fill: #FFFFFF;\n",
              "    }\n",
              "  </style>\n",
              "\n",
              "      <script>\n",
              "        const buttonEl =\n",
              "          document.querySelector('#df-97c9250e-a61f-4f63-ab25-0dba77ab0617 button.colab-df-convert');\n",
              "        buttonEl.style.display =\n",
              "          google.colab.kernel.accessAllowed ? 'block' : 'none';\n",
              "\n",
              "        async function convertToInteractive(key) {\n",
              "          const element = document.querySelector('#df-97c9250e-a61f-4f63-ab25-0dba77ab0617');\n",
              "          const dataTable =\n",
              "            await google.colab.kernel.invokeFunction('convertToInteractive',\n",
              "                                                     [key], {});\n",
              "          if (!dataTable) return;\n",
              "\n",
              "          const docLinkHtml = 'Like what you see? Visit the ' +\n",
              "            '<a target=\"_blank\" href=https://colab.research.google.com/notebooks/data_table.ipynb>data table notebook</a>'\n",
              "            + ' to learn more about interactive tables.';\n",
              "          element.innerHTML = '';\n",
              "          dataTable['output_type'] = 'display_data';\n",
              "          await google.colab.output.renderOutput(dataTable, element);\n",
              "          const docLink = document.createElement('div');\n",
              "          docLink.innerHTML = docLinkHtml;\n",
              "          element.appendChild(docLink);\n",
              "        }\n",
              "      </script>\n",
              "    </div>\n",
              "  </div>\n",
              "  "
            ]
          },
          "metadata": {},
          "execution_count": 38
        }
      ]
    },
    {
      "cell_type": "markdown",
      "source": [
        "The host_since column contains dates of when a host started being a host. The values in this column will be sliced, and only the year will be left. The column will also be transformed into a integer data type."
      ],
      "metadata": {
        "id": "1pUdB_edJHRn"
      }
    },
    {
      "cell_type": "code",
      "source": [
        "# slicing the year off the records\n",
        "listings_df['host_since'] = listings_df['host_since'].apply(lambda x: x[:4]) \n",
        "# changing column to int\n",
        "listings_df['host_since'] = listings_df['host_since'].astype(int) "
      ],
      "metadata": {
        "id": "Q_239ooyI08z"
      },
      "execution_count": null,
      "outputs": []
    },
    {
      "cell_type": "markdown",
      "source": [
        "host is superhost needs to be transformed into a better representation for a binary category."
      ],
      "metadata": {
        "id": "cPtP232Tm3UZ"
      }
    },
    {
      "cell_type": "code",
      "source": [
        "# repacing values to make column a bool dtype\n",
        "listings_df['host_is_superhost'] = listings_df['host_is_superhost'].replace({'t': 1, 'f': 0})"
      ],
      "metadata": {
        "id": "B6yq-8ySnpXM"
      },
      "execution_count": null,
      "outputs": []
    },
    {
      "cell_type": "markdown",
      "source": [
        "## 4.2 uniqueness"
      ],
      "metadata": {
        "id": "RWkc4MlSagc3"
      }
    },
    {
      "cell_type": "code",
      "source": [
        "# checking for duplicates\n",
        "listings_df.drop(columns='amenities').duplicated().sum()"
      ],
      "metadata": {
        "id": "b9LtS87OalfC",
        "colab": {
          "base_uri": "https://localhost:8080/"
        },
        "outputId": "ab398427-4398-4e96-c763-22ffebd87327"
      },
      "execution_count": null,
      "outputs": [
        {
          "output_type": "execute_result",
          "data": {
            "text/plain": [
              "0"
            ]
          },
          "metadata": {},
          "execution_count": 41
        }
      ]
    },
    {
      "cell_type": "markdown",
      "source": [
        "## 4.3 Cleaning remaining features"
      ],
      "metadata": {
        "id": "9bSlUEC1dekP"
      }
    },
    {
      "cell_type": "markdown",
      "source": [
        "### instant_bookable feature"
      ],
      "metadata": {
        "id": "YdT8IzbhEzJk"
      }
    },
    {
      "cell_type": "code",
      "source": [
        "# checking value_counts\n",
        "listings_df['instant_bookable'].value_counts()"
      ],
      "metadata": {
        "id": "Lc2Tslaa7M6G",
        "colab": {
          "base_uri": "https://localhost:8080/"
        },
        "outputId": "d7dfe899-e3c4-47eb-888a-e91a7bda747b"
      },
      "execution_count": null,
      "outputs": [
        {
          "output_type": "execute_result",
          "data": {
            "text/plain": [
              "f    9805\n",
              "t    7669\n",
              "Name: instant_bookable, dtype: int64"
            ]
          },
          "metadata": {},
          "execution_count": 43
        }
      ]
    },
    {
      "cell_type": "code",
      "source": [
        "# repacing values to make column a bool dtype\n",
        "listings_df['instant_bookable'] = listings_df['instant_bookable'].replace({'t': 1, 'f': 0})"
      ],
      "metadata": {
        "id": "m9LJftBA7n-b"
      },
      "execution_count": null,
      "outputs": []
    },
    {
      "cell_type": "markdown",
      "source": [
        "### coordinate features\n",
        "\n",
        "Dealing with latitude & longitude "
      ],
      "metadata": {
        "id": "1zrjZJ1Hpvw0"
      }
    },
    {
      "cell_type": "code",
      "source": [
        "test = listings_df[['latitude', 'longitude']].copy()\n",
        "# reseting index of test\n",
        "test.reset_index(inplace= True)"
      ],
      "metadata": {
        "id": "7F22NMkmuGg2"
      },
      "execution_count": null,
      "outputs": []
    },
    {
      "cell_type": "code",
      "source": [
        "len(test)"
      ],
      "metadata": {
        "id": "qKlRRAqfYfH6"
      },
      "execution_count": null,
      "outputs": []
    },
    {
      "cell_type": "code",
      "source": [
        "#  loop to obtain name of cities\n",
        "# cities= []\n",
        "# for i in range(len(test)):\n",
        "#   coordinates = (test['latitude'][i], test['longitude'][i])\n",
        "#   geo_coord = rg.search(coordinates)\n",
        "#   city = geo_coord[0]['name']\n",
        "#   cities.append(city)\n",
        "#   time.sleep(.001)\n"
      ],
      "metadata": {
        "colab": {
          "base_uri": "https://localhost:8080/"
        },
        "id": "4ry2PisJuGZO",
        "outputId": "d2cdb888-bb87-4815-df57-baaaa550c73a"
      },
      "execution_count": null,
      "outputs": [
        {
          "output_type": "execute_result",
          "data": {
            "text/plain": [
              "['Stellenbosch',\n",
              " 'Retreat',\n",
              " 'Stellenbosch',\n",
              " 'Stellenbosch',\n",
              " 'Stellenbosch',\n",
              " 'Stellenbosch',\n",
              " 'Stellenbosch',\n",
              " 'Stellenbosch',\n",
              " 'Stellenbosch',\n",
              " 'Stellenbosch']"
            ]
          },
          "metadata": {},
          "execution_count": 49
        }
      ]
    },
    {
      "cell_type": "code",
      "source": [
        "# with open('/content/drive/Shareddrives/CapStone/Data/cities.pkl', 'wb') as f:\n",
        "#   pickle.dump(cities, f)"
      ],
      "metadata": {
        "id": "uLS7sH06vxQe"
      },
      "execution_count": null,
      "outputs": []
    },
    {
      "cell_type": "code",
      "source": [
        "with open('/content/drive/Shareddrives/CapStone/Data/cities.pkl', 'rb') as f:\n",
        "  cities = pickle.load(f)"
      ],
      "metadata": {
        "id": "NDaIIC0SxaMO"
      },
      "execution_count": null,
      "outputs": []
    },
    {
      "cell_type": "code",
      "source": [
        "# merging to the listings dataframe, dropping longitudes and latitude\n",
        "listings_df.reset_index(inplace= True)\n",
        "listings_df['cities'] = cities\n",
        "listings_df.drop(columns= ['latitude', 'longitude'], inplace= True)"
      ],
      "metadata": {
        "id": "28kdhwfZuvvY"
      },
      "execution_count": null,
      "outputs": []
    },
    {
      "cell_type": "code",
      "source": [
        "fig = plt.figure(figsize= (10, 8))\n",
        "sns.countplot(y= 'cities', data= listings_df, order= listings_df['cities'].value_counts().index);"
      ],
      "metadata": {
        "colab": {
          "base_uri": "https://localhost:8080/",
          "height": 497
        },
        "id": "czbVJ0OUvdez",
        "outputId": "06b05149-5cb1-4ecc-ef2c-26448720bf0e"
      },
      "execution_count": null,
      "outputs": [
        {
          "output_type": "display_data",
          "data": {
            "text/plain": [
              "<Figure size 720x576 with 1 Axes>"
            ],
            "image/png": "[encoded data removed]"
          },
          "metadata": {
            "needs_background": "light"
          }
        }
      ]
    },
    {
      "cell_type": "markdown",
      "source": [
        "Cape Town has the most airbnb homes. Noorder-Paarl has the least airbnb homes. The variation in the number of airbnbs could be attributed to different factors in this dataset, for example, Cape Town is the capital of this province and hence a more attractive investment prospect especially in the hospitality field."
      ],
      "metadata": {
        "id": "nblHB8bo-Qfb"
      }
    },
    {
      "cell_type": "markdown",
      "source": [
        "### amenities feature & amenities_count feature engineering"
      ],
      "metadata": {
        "id": "MkyTQdPNzsAo"
      }
    },
    {
      "cell_type": "code",
      "source": [
        "# viewing amenities column\n",
        "listings_df['amenities'].head() "
      ],
      "metadata": {
        "id": "Bst7uw38y1YO"
      },
      "execution_count": null,
      "outputs": []
    },
    {
      "cell_type": "code",
      "source": [
        "# Splitting amenities column and get amenities count words\n",
        "# then creating a new column \"amenities_count\"\n",
        "\n",
        "# listings_df['amenities_count'] = listings_df['amenities'].str.split(',').str.len()\n",
        "# # tramsform amenities records from list to string type\n",
        "# # listings_df.amenities = listings_df['amenities'].str.replace(\"[{}]\", \"\").str.replace('\"', \"\").str.replace('[',\"\").str.replace(']',\"\")\n",
        "\n",
        "# creating a list of lower and uppercase letters \n",
        "letters = string.ascii_letters\n",
        "# splitting each record to extract the amenities\n",
        "amenities_split = listings_df['amenities'].apply(lambda x: x.split('\"'))\n",
        "new_amenities = []\n",
        "# making a list of lists \n",
        "for split in amenities_split:\n",
        "    res = [x for x in split if x[0] in letters]\n",
        "    new_amenities.append(res)\n",
        "\n",
        "# replacing amenities with the list of lists\n",
        "listings_df['amenities'] = new_amenities\n",
        "# engineering a new column that is the count of amenities per record\n",
        "listings_df['amenities_count'] = listings_df['amenities'].apply(lambda x: len(x))\n",
        "# checking unique counts\n",
        "listings_df['amenities_count'].nunique()"
      ],
      "metadata": {
        "id": "O6GGR121kmmP"
      },
      "execution_count": null,
      "outputs": []
    },
    {
      "cell_type": "code",
      "source": [
        "listings_df['amenities_count'].value_counts().head(40)"
      ],
      "metadata": {
        "id": "sz0dcCQKiw1k"
      },
      "execution_count": null,
      "outputs": []
    },
    {
      "cell_type": "code",
      "source": [
        "listings_df[listings_df['amenities_count'] > 70]['amenities'][403]"
      ],
      "metadata": {
        "id": "Fod4S7MJhlb3"
      },
      "execution_count": null,
      "outputs": []
    },
    {
      "cell_type": "markdown",
      "source": [
        "### last_scraped feature & hosting_age feature engineering"
      ],
      "metadata": {
        "id": "N0Ty0x9IeS2V"
      }
    },
    {
      "cell_type": "code",
      "source": [
        "# viewing 'scrape' columns\n",
        "listings_df['last_scraped'].head(2) "
      ],
      "metadata": {
        "id": "C_ASBwp1oS9w"
      },
      "execution_count": null,
      "outputs": []
    },
    {
      "cell_type": "code",
      "source": [
        "# slicing the year from last scraped\n",
        "listings_df['last_scraped'] = listings_df['last_scraped'].apply(lambda x: x[:4]) \n",
        "# changing column data type\n",
        "listings_df['last_scraped'] = listings_df['last_scraped'].astype(int) \n",
        "# creating a column to show age of the host\n",
        "listings_df['hosting_age'] = listings_df['last_scraped'] - listings_df['host_since']\n",
        "# dropping last_scrapped and host_since columns\n",
        "listings_df.drop(columns= ['last_scraped', 'host_since'], inplace= True) "
      ],
      "metadata": {
        "id": "btBpwvyqeYXA"
      },
      "execution_count": null,
      "outputs": []
    },
    {
      "cell_type": "markdown",
      "source": [
        "### Price column"
      ],
      "metadata": {
        "id": "HnGD3Ysf9XCy"
      }
    },
    {
      "cell_type": "code",
      "source": [
        "listings_df.price[:2]"
      ],
      "metadata": {
        "colab": {
          "base_uri": "https://localhost:8080/"
        },
        "id": "n-5592kJ9UpK",
        "outputId": "834567a8-1145-4cce-a400-8bb2b82ab5a8"
      },
      "execution_count": null,
      "outputs": [
        {
          "output_type": "execute_result",
          "data": {
            "text/plain": [
              "0    $1,350.00\n",
              "1    $1,750.00\n",
              "Name: price, dtype: object"
            ]
          },
          "metadata": {},
          "execution_count": 65
        }
      ]
    },
    {
      "cell_type": "code",
      "source": [
        "# changing price to numeric\n",
        "listings_df.price = listings_df.price.replace('[\\$,]', '', regex=True).astype(float)"
      ],
      "metadata": {
        "id": "3-Q_tOK-9Vti"
      },
      "execution_count": null,
      "outputs": []
    },
    {
      "cell_type": "markdown",
      "source": [],
      "metadata": {
        "id": "nFBJWPfN9f86"
      }
    },
    {
      "cell_type": "markdown",
      "metadata": {
        "id": "cSlUUpPeBrUO"
      },
      "source": [
        "Our data cleaning is finished. Now we do bivariate analysis"
      ]
    },
    {
      "cell_type": "markdown",
      "metadata": {
        "id": "VgOhMTRANVEk"
      },
      "source": [
        "# 5. EDA"
      ]
    },
    {
      "cell_type": "code",
      "execution_count": null,
      "metadata": {
        "id": "C9HlcrM6jbgF"
      },
      "outputs": [],
      "source": [
        "# categorical variables \n",
        "categorical_cols = ['host_response_time', 'host_response_rate','host_acceptance_rate', 'host_is_superhost', 'room_type',\n",
        "                    'accommodates', 'bathrooms', 'bedrooms', 'beds', 'hosting_duration', 'review_scores_rating', \n",
        "                    'review_scores_accuracy', 'review_scores_cleanliness', 'review_scores_checkin', 'review_scores_communication',\n",
        "                     'review_scores_location', 'instant_bookable', 'calculated_host_listings_count', 'amenities_count']\n",
        "                        "
      ]
    },
    {
      "cell_type": "markdown",
      "metadata": {
        "id": "tno8av-30q3X"
      },
      "source": [
        "## 5.1 Binning some categorical columns"
      ]
    },
    {
      "cell_type": "code",
      "execution_count": null,
      "metadata": {
        "id": "mOLn9H9X2IZR"
      },
      "outputs": [],
      "source": [
        "# function to bin host response rate and acceptance rate\n",
        "def bin_column(dataframe, column, new_col):\n",
        " \n",
        "  bins = [0, 50, 70, 89, 100]\n",
        "  labels = ['0-50', '51-70', '71-89', 'above 90']\n",
        "  dataframe[new_col] = pd.cut(dataframe[column], bins=bins, labels=labels)\n",
        "\n",
        "  return dataframe.head(1)\n"
      ]
    },
    {
      "cell_type": "markdown",
      "metadata": {
        "id": "po8EH91uMFVy"
      },
      "source": [
        "### 5.1.1 host response rate and host acceptance rate"
      ]
    },
    {
      "cell_type": "code",
      "execution_count": null,
      "metadata": {
        "colab": {
          "base_uri": "https://localhost:8080/",
          "height": 191
        },
        "id": "Xvzs0GwP693m",
        "outputId": "1c054e4a-00f6-431d-de7e-aaeffa08f234"
      },
      "outputs": [
        {
          "output_type": "execute_result",
          "data": {
            "text/plain": [
              "   index        id                            listing_url  \\\n",
              "0      0  30332317  https://www.airbnb.com/rooms/30332317   \n",
              "\n",
              "                                     host_url neighbourhood_cleansed  \\\n",
              "0  https://www.airbnb.com/users/show/98554302                Ward 15   \n",
              "\n",
              "  host_response_time  host_response_rate  host_acceptance_rate  \\\n",
              "0     within an hour               100.0                 100.0   \n",
              "\n",
              "   host_is_superhost        room_type  ...  review_scores_checkin  \\\n",
              "0                  0  Entire home/apt  ...                    5.0   \n",
              "\n",
              "   review_scores_communication  review_scores_location  instant_bookable  \\\n",
              "0                          5.0                     5.0                 1   \n",
              "\n",
              "  calculated_host_listings_count        cities  amenities_count  \\\n",
              "0                              7  Stellenbosch               23   \n",
              "\n",
              "   hosting_duration  response_rate  acceptance_rate  \n",
              "0                 6       above 90         above 90  \n",
              "\n",
              "[1 rows x 30 columns]"
            ],
            "text/html": [
              "\n",
              "  <div id=\"df-d56186e6-7d31-4e13-bd8e-725f310a2a2a\">\n",
              "    <div class=\"colab-df-container\">\n",
              "      <div>\n",
              "<style scoped>\n",
              "    .dataframe tbody tr th:only-of-type {\n",
              "        vertical-align: middle;\n",
              "    }\n",
              "\n",
              "    .dataframe tbody tr th {\n",
              "        vertical-align: top;\n",
              "    }\n",
              "\n",
              "    .dataframe thead th {\n",
              "        text-align: right;\n",
              "    }\n",
              "</style>\n",
              "<table border=\"1\" class=\"dataframe\">\n",
              "  <thead>\n",
              "    <tr style=\"text-align: right;\">\n",
              "      <th></th>\n",
              "      <th>index</th>\n",
              "      <th>id</th>\n",
              "      <th>listing_url</th>\n",
              "      <th>host_url</th>\n",
              "      <th>neighbourhood_cleansed</th>\n",
              "      <th>host_response_time</th>\n",
              "      <th>host_response_rate</th>\n",
              "      <th>host_acceptance_rate</th>\n",
              "      <th>host_is_superhost</th>\n",
              "      <th>room_type</th>\n",
              "      <th>...</th>\n",
              "      <th>review_scores_checkin</th>\n",
              "      <th>review_scores_communication</th>\n",
              "      <th>review_scores_location</th>\n",
              "      <th>instant_bookable</th>\n",
              "      <th>calculated_host_listings_count</th>\n",
              "      <th>cities</th>\n",
              "      <th>amenities_count</th>\n",
              "      <th>hosting_duration</th>\n",
              "      <th>response_rate</th>\n",
              "      <th>acceptance_rate</th>\n",
              "    </tr>\n",
              "  </thead>\n",
              "  <tbody>\n",
              "    <tr>\n",
              "      <th>0</th>\n",
              "      <td>0</td>\n",
              "      <td>30332317</td>\n",
              "      <td>https://www.airbnb.com/rooms/30332317</td>\n",
              "      <td>https://www.airbnb.com/users/show/98554302</td>\n",
              "      <td>Ward 15</td>\n",
              "      <td>within an hour</td>\n",
              "      <td>100.0</td>\n",
              "      <td>100.0</td>\n",
              "      <td>0</td>\n",
              "      <td>Entire home/apt</td>\n",
              "      <td>...</td>\n",
              "      <td>5.0</td>\n",
              "      <td>5.0</td>\n",
              "      <td>5.0</td>\n",
              "      <td>1</td>\n",
              "      <td>7</td>\n",
              "      <td>Stellenbosch</td>\n",
              "      <td>23</td>\n",
              "      <td>6</td>\n",
              "      <td>above 90</td>\n",
              "      <td>above 90</td>\n",
              "    </tr>\n",
              "  </tbody>\n",
              "</table>\n",
              "<p>1 rows × 30 columns</p>\n",
              "</div>\n",
              "      <button class=\"colab-df-convert\" onclick=\"convertToInteractive('df-d56186e6-7d31-4e13-bd8e-725f310a2a2a')\"\n",
              "              title=\"Convert this dataframe to an interactive table.\"\n",
              "              style=\"display:none;\">\n",
              "        \n",
              "  <svg xmlns=\"http://www.w3.org/2000/svg\" height=\"24px\"viewBox=\"0 0 24 24\"\n",
              "       width=\"24px\">\n",
              "    <path d=\"M0 0h24v24H0V0z\" fill=\"none\"/>\n",
              "    <path d=\"M18.56 5.44l.94 2.06.94-2.06 2.06-.94-2.06-.94-.94-2.06-.94 2.06-2.06.94zm-11 1L8.5 8.5l.94-2.06 2.06-.94-2.06-.94L8.5 2.5l-.94 2.06-2.06.94zm10 10l.94 2.06.94-2.06 2.06-.94-2.06-.94-.94-2.06-.94 2.06-2.06.94z\"/><path d=\"M17.41 7.96l-1.37-1.37c-.4-.4-.92-.59-1.43-.59-.52 0-1.04.2-1.43.59L10.3 9.45l-7.72 7.72c-.78.78-.78 2.05 0 2.83L4 21.41c.39.39.9.59 1.41.59.51 0 1.02-.2 1.41-.59l7.78-7.78 2.81-2.81c.8-.78.8-2.07 0-2.86zM5.41 20L4 18.59l7.72-7.72 1.47 1.35L5.41 20z\"/>\n",
              "  </svg>\n",
              "      </button>\n",
              "      \n",
              "  <style>\n",
              "    .colab-df-container {\n",
              "      display:flex;\n",
              "      flex-wrap:wrap;\n",
              "      gap: 12px;\n",
              "    }\n",
              "\n",
              "    .colab-df-convert {\n",
              "      background-color: #E8F0FE;\n",
              "      border: none;\n",
              "      border-radius: 50%;\n",
              "      cursor: pointer;\n",
              "      display: none;\n",
              "      fill: #1967D2;\n",
              "      height: 32px;\n",
              "      padding: 0 0 0 0;\n",
              "      width: 32px;\n",
              "    }\n",
              "\n",
              "    .colab-df-convert:hover {\n",
              "      background-color: #E2EBFA;\n",
              "      box-shadow: 0px 1px 2px rgba(60, 64, 67, 0.3), 0px 1px 3px 1px rgba(60, 64, 67, 0.15);\n",
              "      fill: #174EA6;\n",
              "    }\n",
              "\n",
              "    [theme=dark] .colab-df-convert {\n",
              "      background-color: #3B4455;\n",
              "      fill: #D2E3FC;\n",
              "    }\n",
              "\n",
              "    [theme=dark] .colab-df-convert:hover {\n",
              "      background-color: #434B5C;\n",
              "      box-shadow: 0px 1px 3px 1px rgba(0, 0, 0, 0.15);\n",
              "      filter: drop-shadow(0px 1px 2px rgba(0, 0, 0, 0.3));\n",
              "      fill: #FFFFFF;\n",
              "    }\n",
              "  </style>\n",
              "\n",
              "      <script>\n",
              "        const buttonEl =\n",
              "          document.querySelector('#df-d56186e6-7d31-4e13-bd8e-725f310a2a2a button.colab-df-convert');\n",
              "        buttonEl.style.display =\n",
              "          google.colab.kernel.accessAllowed ? 'block' : 'none';\n",
              "\n",
              "        async function convertToInteractive(key) {\n",
              "          const element = document.querySelector('#df-d56186e6-7d31-4e13-bd8e-725f310a2a2a');\n",
              "          const dataTable =\n",
              "            await google.colab.kernel.invokeFunction('convertToInteractive',\n",
              "                                                     [key], {});\n",
              "          if (!dataTable) return;\n",
              "\n",
              "          const docLinkHtml = 'Like what you see? Visit the ' +\n",
              "            '<a target=\"_blank\" href=https://colab.research.google.com/notebooks/data_table.ipynb>data table notebook</a>'\n",
              "            + ' to learn more about interactive tables.';\n",
              "          element.innerHTML = '';\n",
              "          dataTable['output_type'] = 'display_data';\n",
              "          await google.colab.output.renderOutput(dataTable, element);\n",
              "          const docLink = document.createElement('div');\n",
              "          docLink.innerHTML = docLinkHtml;\n",
              "          element.appendChild(docLink);\n",
              "        }\n",
              "      </script>\n",
              "    </div>\n",
              "  </div>\n",
              "  "
            ]
          },
          "metadata": {},
          "execution_count": 69
        }
      ],
      "source": [
        "#host response rate\n",
        "bin_column(listings_df,'host_response_rate','response_rate')\n",
        "\n",
        "# host_acceptance rate\n",
        "bin_column(listings_df,'host_acceptance_rate','acceptance_rate')"
      ]
    },
    {
      "cell_type": "markdown",
      "metadata": {
        "id": "6Sx1g6BRBCDV"
      },
      "source": [
        "### 5.1.2 accommodates,beds,bedrooms,bathrooms columns"
      ]
    },
    {
      "cell_type": "code",
      "execution_count": null,
      "metadata": {
        "colab": {
          "base_uri": "https://localhost:8080/",
          "height": 175
        },
        "id": "IewuQoyv5nUy",
        "outputId": "83ff57b3-0c8d-4607-8e95-18acfbd41abe"
      },
      "outputs": [
        {
          "output_type": "execute_result",
          "data": {
            "text/plain": [
              "              accommodates      beds  bedrooms  bathrooms\n",
              "accommodates      1.000000  0.853642  0.888412   0.798609\n",
              "beds              0.853642  1.000000  0.828616   0.719420\n",
              "bedrooms          0.888412  0.828616  1.000000   0.848388\n",
              "bathrooms         0.798609  0.719420  0.848388   1.000000"
            ],
            "text/html": [
              "\n",
              "  <div id=\"df-23b6f6ed-855e-4e84-b800-d965f3906499\">\n",
              "    <div class=\"colab-df-container\">\n",
              "      <div>\n",
              "<style scoped>\n",
              "    .dataframe tbody tr th:only-of-type {\n",
              "        vertical-align: middle;\n",
              "    }\n",
              "\n",
              "    .dataframe tbody tr th {\n",
              "        vertical-align: top;\n",
              "    }\n",
              "\n",
              "    .dataframe thead th {\n",
              "        text-align: right;\n",
              "    }\n",
              "</style>\n",
              "<table border=\"1\" class=\"dataframe\">\n",
              "  <thead>\n",
              "    <tr style=\"text-align: right;\">\n",
              "      <th></th>\n",
              "      <th>accommodates</th>\n",
              "      <th>beds</th>\n",
              "      <th>bedrooms</th>\n",
              "      <th>bathrooms</th>\n",
              "    </tr>\n",
              "  </thead>\n",
              "  <tbody>\n",
              "    <tr>\n",
              "      <th>accommodates</th>\n",
              "      <td>1.000000</td>\n",
              "      <td>0.853642</td>\n",
              "      <td>0.888412</td>\n",
              "      <td>0.798609</td>\n",
              "    </tr>\n",
              "    <tr>\n",
              "      <th>beds</th>\n",
              "      <td>0.853642</td>\n",
              "      <td>1.000000</td>\n",
              "      <td>0.828616</td>\n",
              "      <td>0.719420</td>\n",
              "    </tr>\n",
              "    <tr>\n",
              "      <th>bedrooms</th>\n",
              "      <td>0.888412</td>\n",
              "      <td>0.828616</td>\n",
              "      <td>1.000000</td>\n",
              "      <td>0.848388</td>\n",
              "    </tr>\n",
              "    <tr>\n",
              "      <th>bathrooms</th>\n",
              "      <td>0.798609</td>\n",
              "      <td>0.719420</td>\n",
              "      <td>0.848388</td>\n",
              "      <td>1.000000</td>\n",
              "    </tr>\n",
              "  </tbody>\n",
              "</table>\n",
              "</div>\n",
              "      <button class=\"colab-df-convert\" onclick=\"convertToInteractive('df-23b6f6ed-855e-4e84-b800-d965f3906499')\"\n",
              "              title=\"Convert this dataframe to an interactive table.\"\n",
              "              style=\"display:none;\">\n",
              "        \n",
              "  <svg xmlns=\"http://www.w3.org/2000/svg\" height=\"24px\"viewBox=\"0 0 24 24\"\n",
              "       width=\"24px\">\n",
              "    <path d=\"M0 0h24v24H0V0z\" fill=\"none\"/>\n",
              "    <path d=\"M18.56 5.44l.94 2.06.94-2.06 2.06-.94-2.06-.94-.94-2.06-.94 2.06-2.06.94zm-11 1L8.5 8.5l.94-2.06 2.06-.94-2.06-.94L8.5 2.5l-.94 2.06-2.06.94zm10 10l.94 2.06.94-2.06 2.06-.94-2.06-.94-.94-2.06-.94 2.06-2.06.94z\"/><path d=\"M17.41 7.96l-1.37-1.37c-.4-.4-.92-.59-1.43-.59-.52 0-1.04.2-1.43.59L10.3 9.45l-7.72 7.72c-.78.78-.78 2.05 0 2.83L4 21.41c.39.39.9.59 1.41.59.51 0 1.02-.2 1.41-.59l7.78-7.78 2.81-2.81c.8-.78.8-2.07 0-2.86zM5.41 20L4 18.59l7.72-7.72 1.47 1.35L5.41 20z\"/>\n",
              "  </svg>\n",
              "      </button>\n",
              "      \n",
              "  <style>\n",
              "    .colab-df-container {\n",
              "      display:flex;\n",
              "      flex-wrap:wrap;\n",
              "      gap: 12px;\n",
              "    }\n",
              "\n",
              "    .colab-df-convert {\n",
              "      background-color: #E8F0FE;\n",
              "      border: none;\n",
              "      border-radius: 50%;\n",
              "      cursor: pointer;\n",
              "      display: none;\n",
              "      fill: #1967D2;\n",
              "      height: 32px;\n",
              "      padding: 0 0 0 0;\n",
              "      width: 32px;\n",
              "    }\n",
              "\n",
              "    .colab-df-convert:hover {\n",
              "      background-color: #E2EBFA;\n",
              "      box-shadow: 0px 1px 2px rgba(60, 64, 67, 0.3), 0px 1px 3px 1px rgba(60, 64, 67, 0.15);\n",
              "      fill: #174EA6;\n",
              "    }\n",
              "\n",
              "    [theme=dark] .colab-df-convert {\n",
              "      background-color: #3B4455;\n",
              "      fill: #D2E3FC;\n",
              "    }\n",
              "\n",
              "    [theme=dark] .colab-df-convert:hover {\n",
              "      background-color: #434B5C;\n",
              "      box-shadow: 0px 1px 3px 1px rgba(0, 0, 0, 0.15);\n",
              "      filter: drop-shadow(0px 1px 2px rgba(0, 0, 0, 0.3));\n",
              "      fill: #FFFFFF;\n",
              "    }\n",
              "  </style>\n",
              "\n",
              "      <script>\n",
              "        const buttonEl =\n",
              "          document.querySelector('#df-23b6f6ed-855e-4e84-b800-d965f3906499 button.colab-df-convert');\n",
              "        buttonEl.style.display =\n",
              "          google.colab.kernel.accessAllowed ? 'block' : 'none';\n",
              "\n",
              "        async function convertToInteractive(key) {\n",
              "          const element = document.querySelector('#df-23b6f6ed-855e-4e84-b800-d965f3906499');\n",
              "          const dataTable =\n",
              "            await google.colab.kernel.invokeFunction('convertToInteractive',\n",
              "                                                     [key], {});\n",
              "          if (!dataTable) return;\n",
              "\n",
              "          const docLinkHtml = 'Like what you see? Visit the ' +\n",
              "            '<a target=\"_blank\" href=https://colab.research.google.com/notebooks/data_table.ipynb>data table notebook</a>'\n",
              "            + ' to learn more about interactive tables.';\n",
              "          element.innerHTML = '';\n",
              "          dataTable['output_type'] = 'display_data';\n",
              "          await google.colab.output.renderOutput(dataTable, element);\n",
              "          const docLink = document.createElement('div');\n",
              "          docLink.innerHTML = docLinkHtml;\n",
              "          element.appendChild(docLink);\n",
              "        }\n",
              "      </script>\n",
              "    </div>\n",
              "  </div>\n",
              "  "
            ]
          },
          "metadata": {},
          "execution_count": 70
        }
      ],
      "source": [
        "listings_df[['accommodates','beds','bedrooms','bathrooms']].corr()"
      ]
    },
    {
      "cell_type": "markdown",
      "metadata": {
        "id": "Qc-Ix6fm_c46"
      },
      "source": [
        "* These features seem to be strongly correlated which means they give us same information and thus we decided to use one of them(accommodates) for our analysis"
      ]
    },
    {
      "cell_type": "code",
      "execution_count": null,
      "metadata": {
        "id": "XtWw8lqY7Fd6"
      },
      "outputs": [],
      "source": [
        "# binning the accommodates column\n",
        "bins = [0, 4, 8, 12, 16]\n",
        "labels = ['1-4 people', '5-8 people', '9-12 people', 'above 12 people']\n",
        "listings_df['accommodate'] = pd.cut(listings_df['accommodates'], bins=bins, labels=labels)"
      ]
    },
    {
      "cell_type": "markdown",
      "metadata": {
        "id": "taxJtaxCK_ag"
      },
      "source": [
        "### 5.1.3 Number of amenities"
      ]
    },
    {
      "cell_type": "code",
      "execution_count": null,
      "metadata": {
        "id": "2AiBJ_h6LDE2"
      },
      "outputs": [],
      "source": [
        "bins = [0, 10, 20, 30, 100]\n",
        "labels = ['0-10', '11-20', '21-30', 'above 30']\n",
        "listings_df['amenities_binned'] = pd.cut(listings_df['amenities_count'], bins=bins, labels=labels)"
      ]
    },
    {
      "cell_type": "markdown",
      "source": [
        "### 5.1.4 Which are the most common amenities in the high rated airbnbs?"
      ],
      "metadata": {
        "id": "5GUl6YpDAk9N"
      }
    },
    {
      "cell_type": "code",
      "source": [
        "# listings with overall rating of 5\n",
        "high_listings = listings_df[listings_df.review_scores_rating == 5]\n"
      ],
      "metadata": {
        "id": "x-pGjh8SAvI4"
      },
      "execution_count": null,
      "outputs": []
    },
    {
      "cell_type": "code",
      "source": [
        "# function to turn a 2D list into 1D\n",
        "def to_1D(series):\n",
        "    return pd.Series([x for _list in series for x in _list])"
      ],
      "metadata": {
        "id": "MO4mhATlBQ_i"
      },
      "execution_count": null,
      "outputs": []
    },
    {
      "cell_type": "code",
      "source": [
        "#get the value_counts\n",
        "common_amenities = to_1D(high_listings['amenities']).value_counts()\n",
        "# top 30 amenities\n",
        "top_30 = common_amenities[:30]"
      ],
      "metadata": {
        "id": "3tJSBq5BBi70"
      },
      "execution_count": null,
      "outputs": []
    },
    {
      "cell_type": "code",
      "source": [
        "fig, ax = plt.subplots(figsize = (15,8))\n",
        "sns.barplot(x = top_30.index, y = top_30)\n",
        "ax.set_title('Top 30 Airbnb amenities', fontsize=25)\n",
        "plt.xticks(rotation = 90);"
      ],
      "metadata": {
        "colab": {
          "base_uri": "https://localhost:8080/",
          "height": 629
        },
        "id": "ptU0ppcvB4Ck",
        "outputId": "ca63891b-f1da-4f55-aaf2-07a2bf30e96f"
      },
      "execution_count": null,
      "outputs": [
        {
          "output_type": "display_data",
          "data": {
            "text/plain": [
              "<Figure size 1080x576 with 1 Axes>"
            ],
            "image/png": "[encoded data removed]"
          },
          "metadata": {
            "needs_background": "light"
          }
        }
      ]
    },
    {
      "cell_type": "markdown",
      "metadata": {
        "id": "OeyCkmQv-PQx"
      },
      "source": [
        "## 5.2 Question: Does it make a difference being a superhost?"
      ]
    },
    {
      "cell_type": "markdown",
      "metadata": {
        "id": "VT7aOWF6WoXW"
      },
      "source": [
        "Being a superhost takes a lot of work. To be a superhost you should:\n",
        "  * Have an average rating of 4.8 and above\n",
        "  * Have a response rate and acceptance rate of at least 90%\n",
        "  * Have a <1% cancellation rate per year\n",
        "  * Response time within a day<br>\n"
      ]
    },
    {
      "cell_type": "markdown",
      "metadata": {
        "id": "GaKF6fGzYkvq"
      },
      "source": [
        "### 5.2.1 Lets check how being a superhost affects the average score rating\n",
        "During this analysis, we decided to use the data that had number of reviews greater than 4 to minimize biased rating scores"
      ]
    },
    {
      "cell_type": "code",
      "execution_count": null,
      "metadata": {
        "id": "jSF7NiW2Yzr9"
      },
      "outputs": [],
      "source": [
        "new = listings_df[listings_df['number_of_reviews']>=5]"
      ]
    },
    {
      "cell_type": "markdown",
      "metadata": {
        "id": "ZyEiURbnY3_t"
      },
      "source": [
        "There is a class imbance in the column that defines if someone is a superhost or not so an equal sample size was taken for both superhost and non superhost for better analysis and comparison"
      ]
    },
    {
      "cell_type": "code",
      "execution_count": null,
      "metadata": {
        "colab": {
          "base_uri": "https://localhost:8080/"
        },
        "id": "B3gYRrpZY8MW",
        "outputId": "7d92b5aa-cfec-43c4-b653-45cf4795c0ff"
      },
      "outputs": [
        {
          "output_type": "execute_result",
          "data": {
            "text/plain": [
              "0    5549\n",
              "1    2820\n",
              "Name: host_is_superhost, dtype: int64"
            ]
          },
          "metadata": {},
          "execution_count": 74
        }
      ],
      "source": [
        "new['host_is_superhost'].value_counts()"
      ]
    },
    {
      "cell_type": "code",
      "execution_count": null,
      "metadata": {
        "id": "aAYFfV6PY_jv"
      },
      "outputs": [],
      "source": [
        "not_superhost = new[new.host_is_superhost == 0].sample(2820)\n",
        "super_host = new[new.host_is_superhost == 1]\n",
        "new_df1 = pd.concat([not_superhost, super_host])"
      ]
    },
    {
      "cell_type": "code",
      "execution_count": null,
      "metadata": {
        "colab": {
          "base_uri": "https://localhost:8080/",
          "height": 729
        },
        "id": "hIhw7uQiXxm9",
        "outputId": "093cf183-fb73-41f4-9026-416932b53e75"
      },
      "outputs": [
        {
          "output_type": "display_data",
          "data": {
            "text/plain": [
              "<Figure size 1008x720 with 4 Axes>"
            ],
            "image/png": "[encoded data removed]"
          },
          "metadata": {
            "needs_background": "light"
          }
        }
      ],
      "source": [
        "cols = ['response_rate', 'acceptance_rate', 'host_response_time', 'room_type']\n",
        "\n",
        "a = 2  # number of rows\n",
        "b = 2  # number of columns\n",
        "c = 1  # initialize plot counter\n",
        "\n",
        "fig = plt.figure(figsize=(14,10))\n",
        "\n",
        "for i in cols:\n",
        "    plt.subplot(a, b, c)\n",
        "    plt.title('{}'.format(i))\n",
        "    plt.xlabel(i)\n",
        "    sns.barplot(x = i,y='review_scores_rating', data=new_df1,hue='host_is_superhost', ci=None, palette='Blues')\n",
        "    plt.legend(labels=['Not superhost','Superhost'], loc='best')\n",
        "    c = c + 1\n",
        "\n",
        "plt.tight_layout()\n",
        "plt.show()"
      ]
    },
    {
      "cell_type": "markdown",
      "metadata": {
        "id": "IgxQA15kX9UQ"
      },
      "source": [
        "* We can see that for the same response rate,acceptance rate, response_time and room type, the superhosts tend to get a higher review score rating than a standard host. Higher ratings increase customer flow which leads to more income"
      ]
    },
    {
      "cell_type": "markdown",
      "metadata": {
        "id": "7MW9-5bZZ-bq"
      },
      "source": [
        "### 5.2.2 Now lets check how is the distribution of the response rate, acceptance_rate, response_time and hosting duration "
      ]
    },
    {
      "cell_type": "code",
      "execution_count": null,
      "metadata": {
        "colab": {
          "base_uri": "https://localhost:8080/",
          "height": 1000
        },
        "id": "hxFzdcsx9VUi",
        "outputId": "cd8459f7-1aa8-4fa9-cf46-e8641b851447"
      },
      "outputs": [
        {
          "output_type": "display_data",
          "data": {
            "text/plain": [
              "<Figure size 1008x1008 with 4 Axes>"
            ],
            "image/png": "[encoded data removed]"
          },
          "metadata": {
            "needs_background": "light"
          }
        }
      ],
      "source": [
        "\n",
        "cols = ['response_rate', 'acceptance_rate', 'host_response_time','hosting_duration']\n",
        "\n",
        "a = 2  \n",
        "b = 2  \n",
        "c = 1  \n",
        "\n",
        "fig = plt.figure(figsize=(14,14))\n",
        "\n",
        "for i in cols:\n",
        "    plt.subplot(a, b, c)\n",
        "    plt.title('{}'.format(i))\n",
        "    plt.xlabel(i)\n",
        "    sns.countplot(x = i, data=new_df1,hue='host_is_superhost', palette='Blues')\n",
        "    plt.legend(labels=['Not superhost','Superhost'], loc='best')\n",
        "    c = c + 1\n",
        "\n",
        "plt.tight_layout()\n",
        "plt.show()"
      ]
    },
    {
      "cell_type": "markdown",
      "metadata": {
        "id": "m8PgyuXznhzM"
      },
      "source": [
        "* Despite some few outliers, the high numbers in response rate, acceptance rate and response time go hand in hand with the expected superhost rates of above 90% and response time of within a day.\n",
        "* High numbers of standard hosts can also be seen with the same high rates. However, there are more of these hosts in the lower categories\n",
        "* Although there are hosts who become superhosts in the early years, this starts to peak at 6 years. It seems it takes time for most people to become superhosts"
      ]
    },
    {
      "cell_type": "markdown",
      "source": [
        "### 5.2.3 How do the different scores(accuracy, location, checkin, cleanliness) affect the overall rating for superhosts vs standard hosts?"
      ],
      "metadata": {
        "id": "jL08F9_CEQ_B"
      }
    },
    {
      "cell_type": "code",
      "source": [
        "# correlation between average score rating and the constituent scores\n",
        "ratings_corr = new_df1[['review_scores_rating','review_scores_location', 'review_scores_cleanliness', 'review_scores_checkin', 'review_scores_accuracy']].corr()\n",
        "ratings_corr.loc[:,'review_scores_rating']"
      ],
      "metadata": {
        "colab": {
          "base_uri": "https://localhost:8080/"
        },
        "id": "cHdwz-i6HfCS",
        "outputId": "143f7832-1178-43a0-8759-b4ad5b8bfe3a"
      },
      "execution_count": null,
      "outputs": [
        {
          "output_type": "execute_result",
          "data": {
            "text/plain": [
              "review_scores_rating         1.000000\n",
              "review_scores_location       0.379089\n",
              "review_scores_cleanliness    0.554385\n",
              "review_scores_checkin        0.495793\n",
              "review_scores_accuracy       0.671571\n",
              "Name: review_scores_rating, dtype: float64"
            ]
          },
          "metadata": {},
          "execution_count": 107
        }
      ]
    },
    {
      "cell_type": "markdown",
      "source": [
        "* Accuracy and cleanliness seem the most correlated with the average overall rating. Location is the least"
      ],
      "metadata": {
        "id": "TmAHDxo-HnWD"
      }
    },
    {
      "cell_type": "code",
      "source": [
        "\n",
        "cols = ['review_scores_location', 'review_scores_cleanliness', 'review_scores_checkin', 'review_scores_accuracy']\n",
        "\n",
        "a = 2  \n",
        "b = 2\n",
        "c = 1  \n",
        "\n",
        "fig = plt.figure(figsize=(14,10))\n",
        "\n",
        "for i in cols:\n",
        "    plt.subplot(a, b, c)\n",
        "    plt.title('{}'.format(i))\n",
        "    plt.xlabel(i)\n",
        "    sns.barplot(x = i,y='review_scores_rating', data=new_df1,hue='host_is_superhost', ci=None, palette='Blues')\n",
        "    plt.legend(labels=['Not superhost','Superhost'], loc='best')\n",
        "    c = c + 1\n",
        "\n",
        "plt.tight_layout()\n",
        "plt.show()"
      ],
      "metadata": {
        "colab": {
          "base_uri": "https://localhost:8080/",
          "height": 729
        },
        "id": "ocbDRqM5EOsd",
        "outputId": "2488f02a-8a62-4adc-99d5-146d9e209a0b"
      },
      "execution_count": null,
      "outputs": [
        {
          "output_type": "display_data",
          "data": {
            "text/plain": [
              "<Figure size 1008x720 with 4 Axes>"
            ],
            "image/png": "[encoded data removed]"
          },
          "metadata": {
            "needs_background": "light"
          }
        }
      ]
    },
    {
      "cell_type": "markdown",
      "source": [
        "* Superhosts take the day in overall score ratings against standard hosts given same score of constituent ratings"
      ],
      "metadata": {
        "id": "pyGzi3ibEujV"
      }
    },
    {
      "cell_type": "markdown",
      "metadata": {
        "id": "lqALux6r8SSl"
      },
      "source": [
        "### 5.2.4 Let us now see how is the pricing between the standard hosts and the superhosts"
      ]
    },
    {
      "cell_type": "code",
      "execution_count": null,
      "metadata": {
        "colab": {
          "base_uri": "https://localhost:8080/",
          "height": 729
        },
        "id": "AEMlmotRwmXK",
        "outputId": "1149667c-0283-4038-a50c-36ede58f9d24"
      },
      "outputs": [
        {
          "output_type": "display_data",
          "data": {
            "text/plain": [
              "<Figure size 1008x720 with 4 Axes>"
            ],
            "image/png": "[encoded data removed]"
          },
          "metadata": {
            "needs_background": "light"
          }
        }
      ],
      "source": [
        "\n",
        "cols = ['room_type', 'amenities_binned', 'instant_bookable', 'review_scores_rating']\n",
        "\n",
        "a = 2\n",
        "b = 2\n",
        "c = 1  \n",
        "\n",
        "fig = plt.figure(figsize=(14,10))\n",
        "\n",
        "for i in cols:\n",
        "    plt.subplot(a, b, c)\n",
        "    plt.title('{}'.format(i))\n",
        "    plt.xlabel(i)\n",
        "    sns.barplot(x = i,y='price', data=new_df1,hue='host_is_superhost', ci=None, palette='Blues')\n",
        "    plt.xticks(rotation = 90)\n",
        "    plt.legend(labels=['Not superhost','Superhost'], loc='best')\n",
        "    c = c + 1\n",
        "\n",
        "plt.tight_layout()\n",
        "plt.show()\n"
      ]
    },
    {
      "cell_type": "markdown",
      "metadata": {
        "id": "bLd7H7TjM4Ic"
      },
      "source": [
        "\n",
        "* Except for hotel rooms, superhosts tend to charge cheaper on average. This could be attributed to the fact that superhosts enjoy more bookings, so even with lower prices, they end up making more money.\n",
        "* Airbnbs that are not instantly bookable fetch higher prices. The instant booking is mostly used by new hosts in the business who want to increase the response time and rate and attract more reviews. So, in the same way, they may reduce prices to attract new clients.\n",
        "* The higher the number of amenities, the higher the price. Even with same number of amenities, the average price is higher in superhost airbnbs. Standard hosts have to have way more high number of amenities to charge more than superhosts.\n",
        "* Higher ratings definitely fetch higher prices. The pricing for ratings of 4 and 5 is almost same for superhosts. In this case, a user would definitely go for the 5 star. It would be advisable to aim for the 5 star"
      ]
    },
    {
      "cell_type": "markdown",
      "metadata": {
        "id": "1ZGbJltwUOeM"
      },
      "source": [
        "### Perks of being a superhost"
      ]
    },
    {
      "cell_type": "markdown",
      "metadata": {
        "id": "ySRyDSQzVSTU"
      },
      "source": [
        "* Priority support from airbnb\n",
        "* Superhost badge leads to more visibility and more bookings, more bookings equals more income"
      ]
    },
    {
      "cell_type": "markdown",
      "source": [
        "## 5.3 Reviews sentiment Analysis"
      ],
      "metadata": {
        "id": "Y6F5nP75JZw0"
      }
    },
    {
      "cell_type": "markdown",
      "source": [
        "We will do a sentiment analysis of reviews to see which words are commonly used in the positive reviews"
      ],
      "metadata": {
        "id": "qGhTflWvJzqs"
      }
    },
    {
      "cell_type": "code",
      "source": [
        "import pandas as pd\n",
        "from nltk.stem import WordNetLemmatizer \n",
        "import pickle\n",
        "import re\n",
        "import nltk\n",
        "from nltk.corpus import stopwords\n",
        "import seaborn as sns\n",
        "import matplotlib.pyplot as plt\n",
        "nltk.download('stopwords')\n",
        "stop_words=  stopwords.words('english')"
      ],
      "metadata": {
        "colab": {
          "base_uri": "https://localhost:8080/"
        },
        "id": "hwIW1qNXJqYV",
        "outputId": "64af0266-544e-4d69-c89e-254a2d3c5e55"
      },
      "execution_count": null,
      "outputs": [
        {
          "output_type": "stream",
          "name": "stderr",
          "text": [
            "[nltk_data] Downloading package stopwords to /root/nltk_data...\n",
            "[nltk_data]   Unzipping corpora/stopwords.zip.\n"
          ]
        }
      ]
    },
    {
      "cell_type": "code",
      "source": [
        "reviews_df.head()"
      ],
      "metadata": {
        "colab": {
          "base_uri": "https://localhost:8080/",
          "height": 206
        },
        "id": "X3jxX_Z8KgZW",
        "outputId": "c1c94fdf-a41f-4dd8-d699-fa5b3fbfd4b3"
      },
      "execution_count": null,
      "outputs": [
        {
          "output_type": "execute_result",
          "data": {
            "text/plain": [
              "   listing_id                  id        date  reviewer_id reviewer_name  \\\n",
              "0    30332317           597314314  2020-01-25      7812767          Alan   \n",
              "1    30332317  532436007654450454  2022-01-04    367340518      Courtney   \n",
              "2     9126484            63063726  2016-02-20     50272994         Carla   \n",
              "3     9126484            67195563  2016-03-27     59937103           Gau   \n",
              "4     9126484            68077701  2016-04-02     19226497          Imke   \n",
              "\n",
              "                                            comments  \n",
              "0  Lovely rustic accommodation in a picturesque r...  \n",
              "1  The hosts are friendly and takes good care of ...  \n",
              "2  6 St Georges Building was lovely in every way....  \n",
              "3  Our host Bruce was great. Responsive, helpful ...  \n",
              "4  Bruce was incredibly welcoming and very flexib...  "
            ],
            "text/html": [
              "\n",
              "  <div id=\"df-003c4eb7-d641-44be-90df-df00d4f65c41\">\n",
              "    <div class=\"colab-df-container\">\n",
              "      <div>\n",
              "<style scoped>\n",
              "    .dataframe tbody tr th:only-of-type {\n",
              "        vertical-align: middle;\n",
              "    }\n",
              "\n",
              "    .dataframe tbody tr th {\n",
              "        vertical-align: top;\n",
              "    }\n",
              "\n",
              "    .dataframe thead th {\n",
              "        text-align: right;\n",
              "    }\n",
              "</style>\n",
              "<table border=\"1\" class=\"dataframe\">\n",
              "  <thead>\n",
              "    <tr style=\"text-align: right;\">\n",
              "      <th></th>\n",
              "      <th>listing_id</th>\n",
              "      <th>id</th>\n",
              "      <th>date</th>\n",
              "      <th>reviewer_id</th>\n",
              "      <th>reviewer_name</th>\n",
              "      <th>comments</th>\n",
              "    </tr>\n",
              "  </thead>\n",
              "  <tbody>\n",
              "    <tr>\n",
              "      <th>0</th>\n",
              "      <td>30332317</td>\n",
              "      <td>597314314</td>\n",
              "      <td>2020-01-25</td>\n",
              "      <td>7812767</td>\n",
              "      <td>Alan</td>\n",
              "      <td>Lovely rustic accommodation in a picturesque r...</td>\n",
              "    </tr>\n",
              "    <tr>\n",
              "      <th>1</th>\n",
              "      <td>30332317</td>\n",
              "      <td>532436007654450454</td>\n",
              "      <td>2022-01-04</td>\n",
              "      <td>367340518</td>\n",
              "      <td>Courtney</td>\n",
              "      <td>The hosts are friendly and takes good care of ...</td>\n",
              "    </tr>\n",
              "    <tr>\n",
              "      <th>2</th>\n",
              "      <td>9126484</td>\n",
              "      <td>63063726</td>\n",
              "      <td>2016-02-20</td>\n",
              "      <td>50272994</td>\n",
              "      <td>Carla</td>\n",
              "      <td>6 St Georges Building was lovely in every way....</td>\n",
              "    </tr>\n",
              "    <tr>\n",
              "      <th>3</th>\n",
              "      <td>9126484</td>\n",
              "      <td>67195563</td>\n",
              "      <td>2016-03-27</td>\n",
              "      <td>59937103</td>\n",
              "      <td>Gau</td>\n",
              "      <td>Our host Bruce was great. Responsive, helpful ...</td>\n",
              "    </tr>\n",
              "    <tr>\n",
              "      <th>4</th>\n",
              "      <td>9126484</td>\n",
              "      <td>68077701</td>\n",
              "      <td>2016-04-02</td>\n",
              "      <td>19226497</td>\n",
              "      <td>Imke</td>\n",
              "      <td>Bruce was incredibly welcoming and very flexib...</td>\n",
              "    </tr>\n",
              "  </tbody>\n",
              "</table>\n",
              "</div>\n",
              "      <button class=\"colab-df-convert\" onclick=\"convertToInteractive('df-003c4eb7-d641-44be-90df-df00d4f65c41')\"\n",
              "              title=\"Convert this dataframe to an interactive table.\"\n",
              "              style=\"display:none;\">\n",
              "        \n",
              "  <svg xmlns=\"http://www.w3.org/2000/svg\" height=\"24px\"viewBox=\"0 0 24 24\"\n",
              "       width=\"24px\">\n",
              "    <path d=\"M0 0h24v24H0V0z\" fill=\"none\"/>\n",
              "    <path d=\"M18.56 5.44l.94 2.06.94-2.06 2.06-.94-2.06-.94-.94-2.06-.94 2.06-2.06.94zm-11 1L8.5 8.5l.94-2.06 2.06-.94-2.06-.94L8.5 2.5l-.94 2.06-2.06.94zm10 10l.94 2.06.94-2.06 2.06-.94-2.06-.94-.94-2.06-.94 2.06-2.06.94z\"/><path d=\"M17.41 7.96l-1.37-1.37c-.4-.4-.92-.59-1.43-.59-.52 0-1.04.2-1.43.59L10.3 9.45l-7.72 7.72c-.78.78-.78 2.05 0 2.83L4 21.41c.39.39.9.59 1.41.59.51 0 1.02-.2 1.41-.59l7.78-7.78 2.81-2.81c.8-.78.8-2.07 0-2.86zM5.41 20L4 18.59l7.72-7.72 1.47 1.35L5.41 20z\"/>\n",
              "  </svg>\n",
              "      </button>\n",
              "      \n",
              "  <style>\n",
              "    .colab-df-container {\n",
              "      display:flex;\n",
              "      flex-wrap:wrap;\n",
              "      gap: 12px;\n",
              "    }\n",
              "\n",
              "    .colab-df-convert {\n",
              "      background-color: #E8F0FE;\n",
              "      border: none;\n",
              "      border-radius: 50%;\n",
              "      cursor: pointer;\n",
              "      display: none;\n",
              "      fill: #1967D2;\n",
              "      height: 32px;\n",
              "      padding: 0 0 0 0;\n",
              "      width: 32px;\n",
              "    }\n",
              "\n",
              "    .colab-df-convert:hover {\n",
              "      background-color: #E2EBFA;\n",
              "      box-shadow: 0px 1px 2px rgba(60, 64, 67, 0.3), 0px 1px 3px 1px rgba(60, 64, 67, 0.15);\n",
              "      fill: #174EA6;\n",
              "    }\n",
              "\n",
              "    [theme=dark] .colab-df-convert {\n",
              "      background-color: #3B4455;\n",
              "      fill: #D2E3FC;\n",
              "    }\n",
              "\n",
              "    [theme=dark] .colab-df-convert:hover {\n",
              "      background-color: #434B5C;\n",
              "      box-shadow: 0px 1px 3px 1px rgba(0, 0, 0, 0.15);\n",
              "      filter: drop-shadow(0px 1px 2px rgba(0, 0, 0, 0.3));\n",
              "      fill: #FFFFFF;\n",
              "    }\n",
              "  </style>\n",
              "\n",
              "      <script>\n",
              "        const buttonEl =\n",
              "          document.querySelector('#df-003c4eb7-d641-44be-90df-df00d4f65c41 button.colab-df-convert');\n",
              "        buttonEl.style.display =\n",
              "          google.colab.kernel.accessAllowed ? 'block' : 'none';\n",
              "\n",
              "        async function convertToInteractive(key) {\n",
              "          const element = document.querySelector('#df-003c4eb7-d641-44be-90df-df00d4f65c41');\n",
              "          const dataTable =\n",
              "            await google.colab.kernel.invokeFunction('convertToInteractive',\n",
              "                                                     [key], {});\n",
              "          if (!dataTable) return;\n",
              "\n",
              "          const docLinkHtml = 'Like what you see? Visit the ' +\n",
              "            '<a target=\"_blank\" href=https://colab.research.google.com/notebooks/data_table.ipynb>data table notebook</a>'\n",
              "            + ' to learn more about interactive tables.';\n",
              "          element.innerHTML = '';\n",
              "          dataTable['output_type'] = 'display_data';\n",
              "          await google.colab.output.renderOutput(dataTable, element);\n",
              "          const docLink = document.createElement('div');\n",
              "          docLink.innerHTML = docLinkHtml;\n",
              "          element.appendChild(docLink);\n",
              "        }\n",
              "      </script>\n",
              "    </div>\n",
              "  </div>\n",
              "  "
            ]
          },
          "metadata": {},
          "execution_count": 114
        }
      ]
    },
    {
      "cell_type": "code",
      "source": [
        "reviews_copy = reviews_df.copy()"
      ],
      "metadata": {
        "id": "tbcSSAtWKnMq"
      },
      "execution_count": null,
      "outputs": []
    },
    {
      "cell_type": "code",
      "source": [
        "# make a list for all the comments to be used for sentiment analysis\n",
        "all_comments = reviews_copy.comments.tolist() "
      ],
      "metadata": {
        "id": "cnIWq1VpK3Nx"
      },
      "execution_count": null,
      "outputs": []
    },
    {
      "cell_type": "markdown",
      "source": [
        "### 5.3.1 Doing sentiment analysis"
      ],
      "metadata": {
        "id": "p1pXCEJNLCHD"
      }
    },
    {
      "cell_type": "code",
      "source": [
        "!pip install vaderSentiment"
      ],
      "metadata": {
        "colab": {
          "base_uri": "https://localhost:8080/"
        },
        "id": "lLX2J6jCK8Fb",
        "outputId": "96751662-45e2-47b1-f71e-6a9a557de64f"
      },
      "execution_count": null,
      "outputs": [
        {
          "output_type": "stream",
          "name": "stdout",
          "text": [
            "Looking in indexes: https://pypi.org/simple, https://us-python.pkg.dev/colab-wheels/public/simple/\n",
            "Collecting vaderSentiment\n",
            "  Downloading vaderSentiment-3.3.2-py2.py3-none-any.whl (125 kB)\n",
            "\u001b[K     |████████████████████████████████| 125 kB 27.0 MB/s \n",
            "\u001b[?25hRequirement already satisfied: requests in /usr/local/lib/python3.7/dist-packages (from vaderSentiment) (2.23.0)\n",
            "Requirement already satisfied: chardet<4,>=3.0.2 in /usr/local/lib/python3.7/dist-packages (from requests->vaderSentiment) (3.0.4)\n",
            "Requirement already satisfied: certifi>=2017.4.17 in /usr/local/lib/python3.7/dist-packages (from requests->vaderSentiment) (2022.6.15)\n",
            "Requirement already satisfied: urllib3!=1.25.0,!=1.25.1,<1.26,>=1.21.1 in /usr/local/lib/python3.7/dist-packages (from requests->vaderSentiment) (1.24.3)\n",
            "Requirement already satisfied: idna<3,>=2.5 in /usr/local/lib/python3.7/dist-packages (from requests->vaderSentiment) (2.10)\n",
            "Installing collected packages: vaderSentiment\n",
            "Successfully installed vaderSentiment-3.3.2\n"
          ]
        }
      ]
    },
    {
      "cell_type": "code",
      "source": [
        "from vaderSentiment.vaderSentiment import SentimentIntensityAnalyzer"
      ],
      "metadata": {
        "id": "7-SvkLx7LJPY"
      },
      "execution_count": null,
      "outputs": []
    },
    {
      "cell_type": "code",
      "source": [
        "\n",
        "sentiment = \"\"\n",
        "\n",
        "def sentiment_scores(review_comment):\n",
        "    \n",
        "    # Create a SentimentIntensityAnalyzer object.\n",
        "    sen_obj = SentimentIntensityAnalyzer()\n",
        " \n",
        "    # polarity_scores method of SentimentIntensityAnalyzer object gives a sentiment dictionary which contains\n",
        "    #pos, neg, neu, and compound scores.\n",
        "        \n",
        "    sentiment_dict = sen_obj.polarity_scores(review_comment)\n",
        "     \n",
        "        # decide sentiment as positive, negative and neutral\n",
        "    if sentiment_dict['compound'] >= 0.05 :\n",
        "     \n",
        "        sentiment = 'Positive'\n",
        "              \n",
        "    elif sentiment_dict['compound'] <= - 0.05 :\n",
        "       \n",
        "        sentiment = 'Negative'\n",
        "      \n",
        "    else :\n",
        "       \n",
        "        sentiment = 'Neutral'\n",
        "          \n",
        "    return sentiment\n",
        "\n",
        "#The compound score is a metric that calculates the sum of all the lexicon ratings which have\n",
        "#been normalized between -1(most extreme negative) and +1 (most extreme positive).\n",
        "#positive sentiment : (compound score >= 0.05) \n",
        "#neutral sentiment : (compound score > -0.05) and (compound score < 0.05) \n",
        "#negative sentiment : (compound score <= -0.05)\n",
        "#link :https://www.geeksforgeeks.org/python-sentiment-analysis-using-vader/\n",
        " "
      ],
      "metadata": {
        "id": "4kDTyhUBLMoR"
      },
      "execution_count": null,
      "outputs": []
    },
    {
      "cell_type": "code",
      "source": [
        "#get the sentiments for every comment\n",
        "#the_sentiments = [sentiment_scores(comment) for comment in all_comments]"
      ],
      "metadata": {
        "id": "09TUb04YLR_h"
      },
      "execution_count": null,
      "outputs": []
    },
    {
      "cell_type": "code",
      "source": [
        "#with open('/content/drive/Shareddrives/CapStone/Data/sentiments_list.pkl','wb') as f:\n",
        "  #pickle.dump(the_sentiments, f)"
      ],
      "metadata": {
        "id": "37ErU3K3LY9T"
      },
      "execution_count": null,
      "outputs": []
    },
    {
      "cell_type": "code",
      "source": [
        "with open('/content/drive/Shareddrives/CapStone/Data/sentiments_list.pkl','rb') as f:\n",
        "  sentiments_list = pickle.load(f)"
      ],
      "metadata": {
        "id": "Mo4bZlgxLdM1"
      },
      "execution_count": null,
      "outputs": []
    },
    {
      "cell_type": "markdown",
      "source": [
        " * we will then add these setiments to the reviews dataframe as an extra column called sentiment  "
      ],
      "metadata": {
        "id": "TRQjFE4VLlbv"
      }
    },
    {
      "cell_type": "code",
      "source": [
        "reviews_copy['sentiment'] = sentiments_list"
      ],
      "metadata": {
        "id": "-P1E11R9LfCY"
      },
      "execution_count": null,
      "outputs": []
    },
    {
      "cell_type": "markdown",
      "source": [
        "* Now we know which comments are positive, negative or neutral"
      ],
      "metadata": {
        "id": "6V1ej8JrLuCJ"
      }
    },
    {
      "cell_type": "markdown",
      "source": [
        "### 5.3.2 Creating a bag of words"
      ],
      "metadata": {
        "id": "p-JENwgzL4qX"
      }
    },
    {
      "cell_type": "markdown",
      "source": [
        "* We need the words that are most common in positive reviews and also negative reviews, so we subdivide our dataframe into those two"
      ],
      "metadata": {
        "id": "zmtx2sU2L_N6"
      }
    },
    {
      "cell_type": "code",
      "source": [
        "reviews_positive = reviews_copy[reviews_copy['sentiment']== 'Positive']\n",
        "reviews_negative = reviews_copy[reviews_copy['sentiment']== 'Negative']"
      ],
      "metadata": {
        "id": "BsXnuAYbL8RI"
      },
      "execution_count": null,
      "outputs": []
    },
    {
      "cell_type": "code",
      "source": [
        "#negative and positive comments\n",
        "positive_comments = reviews_positive.comments.tolist()\n",
        "negative_comments = reviews_negative.comments.tolist()"
      ],
      "metadata": {
        "id": "Bs697BVnMEV4"
      },
      "execution_count": null,
      "outputs": []
    },
    {
      "cell_type": "code",
      "source": [
        "# creating bag of words\n",
        "useful_tags = ['ADJ', 'ADV','VERB','X'] # tags from  https://universaldependencies.org/u/pos/\n",
        " # list to hold the words\n",
        "all_words = []\n",
        "\n",
        "def bag_of_words(the_comments):\n",
        "       \n",
        "    #lemmatizer\n",
        "    lemmatizer = WordNetLemmatizer()\n",
        "    \n",
        "    for comment in the_comments:\n",
        "        \n",
        "        try:\n",
        "             # Removes special characters\n",
        "            text = re.sub('[^a-zA-Z]', ' ', comment)\n",
        "            text = re.sub(\"&lt;/?.*?&gt;\",\" &lt;&gt; \",text)\n",
        "            text = re.sub(\"(\\\\d|\\\\W)+\",\" \",text)\n",
        "            text = text.lower()\n",
        "\n",
        "            comment_tokenized = nltk.word_tokenize(text)  # Split the line of comment into a list of words. \n",
        "            \n",
        "            for i in range(0, len(comment_tokenized)):\n",
        "                comment_tokenized[i] = lemmatizer.lemmatize(comment_tokenized[i], pos=\"v\")#lemmatize every word in the text\n",
        "            \n",
        "            #remove stopwords\n",
        "            comment_no_stopwords = [word for word in comment_tokenized if not word in stop_words]\n",
        "\n",
        "            comment_tagged = nltk.pos_tag(comment_no_stopwords, tagset='universal') \n",
        "    #pos tagging is  categorizing words in a text (corpus) in correspondence with a particular part of speech, \n",
        "    #depending on the definition of the word and its context. returns a tuple with the word and the part of speech\n",
        "            \n",
        "            for word in comment_tagged:    \n",
        "                if word[1] in useful_tags:# word[1] is the part of speech\n",
        "                    all_words.append(word[0]) # word[0] is the word\n",
        "        \n",
        "                 \n",
        "        except TypeError: \n",
        "            print(comment)\n",
        "            continue"
      ],
      "metadata": {
        "id": "fIcMmu4fMHYY"
      },
      "execution_count": null,
      "outputs": []
    },
    {
      "cell_type": "code",
      "source": [
        "# bag of words for positive comments...this code takes long to run\n",
        "#bag_of_words(positive_comments) \n",
        "\n",
        "#positive_list = all_words"
      ],
      "metadata": {
        "id": "-_5MImR4MQ4V"
      },
      "execution_count": null,
      "outputs": []
    },
    {
      "cell_type": "code",
      "source": [
        "#with open('/content/drive/Shareddrives/CapStone/Data/positives.pkl','wb') as f:\n",
        "  #pickle.dump(positive_list, f)"
      ],
      "metadata": {
        "id": "rcA6BM_DMr-0"
      },
      "execution_count": null,
      "outputs": []
    },
    {
      "cell_type": "code",
      "source": [
        "with open('/content/drive/Shareddrives/CapStone/Data/positives.pkl','rb') as f:\n",
        "  positive_list = pickle.load(f)"
      ],
      "metadata": {
        "id": "Q4gCP-ZwMuh5"
      },
      "execution_count": null,
      "outputs": []
    },
    {
      "cell_type": "code",
      "source": [
        "positive_list[:10]"
      ],
      "metadata": {
        "colab": {
          "base_uri": "https://localhost:8080/"
        },
        "id": "PmwzYjshMwT6",
        "outputId": "52ae859a-0aaa-41f1-ad76-aa0c0cb829b3"
      },
      "execution_count": null,
      "outputs": [
        {
          "output_type": "execute_result",
          "data": {
            "text/plain": [
              "['lovely',\n",
              " 'rustic',\n",
              " 'rural',\n",
              " 'great',\n",
              " 'able',\n",
              " 'spend',\n",
              " 'explore',\n",
              " 'delight',\n",
              " 'fowl',\n",
              " 'silly']"
            ]
          },
          "metadata": {},
          "execution_count": 127
        }
      ]
    },
    {
      "cell_type": "code",
      "source": [
        "# bag of words for negative comments.This code also takes long to run\n",
        "#all_words.clear()\n",
        "#bag_of_words(negative_comments)\n",
        "#negative_words = all_words"
      ],
      "metadata": {
        "id": "c4mGfEs4M1U9"
      },
      "execution_count": null,
      "outputs": []
    },
    {
      "cell_type": "code",
      "source": [
        "#with open('/content/drive/Shareddrives/CapStone/Data/negatives.pkl','wb') as f:\n",
        "  #pickle.dump(negative_words, f)"
      ],
      "metadata": {
        "id": "Sr-82CZ3NLgs"
      },
      "execution_count": null,
      "outputs": []
    },
    {
      "cell_type": "code",
      "source": [
        "with open('/content/drive/Shareddrives/CapStone/Data/negatives.pkl','rb') as f:\n",
        "  negative_words = pickle.load(f)"
      ],
      "metadata": {
        "id": "eURDJSChNPSR"
      },
      "execution_count": null,
      "outputs": []
    },
    {
      "cell_type": "code",
      "source": [
        "negative_words[:10]"
      ],
      "metadata": {
        "colab": {
          "base_uri": "https://localhost:8080/"
        },
        "id": "T8ev80jzNQBU",
        "outputId": "1fcca407-b4fa-4689-e828-e36aa3c65c42"
      },
      "execution_count": null,
      "outputs": [
        {
          "output_type": "execute_result",
          "data": {
            "text/plain": [
              "['terrible',\n",
              " 'terrible',\n",
              " 'host',\n",
              " 'even',\n",
              " 'give',\n",
              " 'almost',\n",
              " 'leave',\n",
              " 'das',\n",
              " 'sicher',\n",
              " 'gefunden']"
            ]
          },
          "metadata": {},
          "execution_count": 129
        }
      ]
    },
    {
      "cell_type": "code",
      "source": [
        "# word frequency\n",
        "def freq_distribution(list_words, n= None):\n",
        "  fdist = nltk.FreqDist(list_words)\n",
        "  most_common = fdist.most_common()\n",
        "  return most_common[:n]"
      ],
      "metadata": {
        "id": "lmq5mjEINTSG"
      },
      "execution_count": null,
      "outputs": []
    },
    {
      "cell_type": "code",
      "source": [
        "# top 10 frequency distribution for positive comments\n",
        "freq_distribution(positive_list, 10)"
      ],
      "metadata": {
        "colab": {
          "base_uri": "https://localhost:8080/"
        },
        "id": "9DuODhZXNaG-",
        "outputId": "08e45769-83fe-470c-c2f3-5bb5ebe99b69"
      },
      "execution_count": null,
      "outputs": [
        {
          "output_type": "execute_result",
          "data": {
            "text/plain": [
              "[('great', 166588),\n",
              " ('stay', 72165),\n",
              " ('recommend', 66330),\n",
              " ('clean', 61982),\n",
              " ('would', 57740),\n",
              " ('beautiful', 56363),\n",
              " ('lovely', 56330),\n",
              " ('well', 50173),\n",
              " ('nice', 49155),\n",
              " ('definitely', 48802)]"
            ]
          },
          "metadata": {},
          "execution_count": 131
        }
      ]
    },
    {
      "cell_type": "code",
      "source": [
        "# frequency distribution for negative comments- i don't understand these words. I think some translation is needed\n",
        "freq_distribution(negative_words, 10)"
      ],
      "metadata": {
        "colab": {
          "base_uri": "https://localhost:8080/"
        },
        "id": "DblJO8NgNiBh",
        "outputId": "54e291d7-8d4d-4400-d192-5377eed79440"
      },
      "execution_count": null,
      "outputs": [
        {
          "output_type": "execute_result",
          "data": {
            "text/plain": [
              "[('und', 7034),\n",
              " ('die', 4772),\n",
              " ('uns', 4284),\n",
              " ('auch', 3023),\n",
              " ('ist', 2953),\n",
              " ('unterkunft', 2863),\n",
              " ('das', 2725),\n",
              " ('br', 2556),\n",
              " ('sehr', 2382),\n",
              " ('den', 2367)]"
            ]
          },
          "metadata": {},
          "execution_count": 132
        }
      ]
    },
    {
      "cell_type": "code",
      "source": [
        "# creating a dataframe for the positive frequency\n",
        "most_common_pos = freq_distribution(positive_list, 20)\n",
        "word, freq = zip(*most_common_pos)"
      ],
      "metadata": {
        "id": "qfQr6Uk-Ntvu"
      },
      "execution_count": null,
      "outputs": []
    },
    {
      "cell_type": "code",
      "source": [
        "words_df = pd.DataFrame({'Word': word,'Frequency':freq})\n",
        "                                        \n",
        "words_df.head()"
      ],
      "metadata": {
        "colab": {
          "base_uri": "https://localhost:8080/",
          "height": 206
        },
        "id": "UnbZdWpKN7Xq",
        "outputId": "53545a1b-b551-40bc-da3f-777127e007f4"
      },
      "execution_count": null,
      "outputs": [
        {
          "output_type": "execute_result",
          "data": {
            "text/plain": [
              "        Word  Frequency\n",
              "0      great     166588\n",
              "1       stay      72165\n",
              "2  recommend      66330\n",
              "3      clean      61982\n",
              "4      would      57740"
            ],
            "text/html": [
              "\n",
              "  <div id=\"df-e5c60440-faba-41bd-9cc6-e870c4e6f14d\">\n",
              "    <div class=\"colab-df-container\">\n",
              "      <div>\n",
              "<style scoped>\n",
              "    .dataframe tbody tr th:only-of-type {\n",
              "        vertical-align: middle;\n",
              "    }\n",
              "\n",
              "    .dataframe tbody tr th {\n",
              "        vertical-align: top;\n",
              "    }\n",
              "\n",
              "    .dataframe thead th {\n",
              "        text-align: right;\n",
              "    }\n",
              "</style>\n",
              "<table border=\"1\" class=\"dataframe\">\n",
              "  <thead>\n",
              "    <tr style=\"text-align: right;\">\n",
              "      <th></th>\n",
              "      <th>Word</th>\n",
              "      <th>Frequency</th>\n",
              "    </tr>\n",
              "  </thead>\n",
              "  <tbody>\n",
              "    <tr>\n",
              "      <th>0</th>\n",
              "      <td>great</td>\n",
              "      <td>166588</td>\n",
              "    </tr>\n",
              "    <tr>\n",
              "      <th>1</th>\n",
              "      <td>stay</td>\n",
              "      <td>72165</td>\n",
              "    </tr>\n",
              "    <tr>\n",
              "      <th>2</th>\n",
              "      <td>recommend</td>\n",
              "      <td>66330</td>\n",
              "    </tr>\n",
              "    <tr>\n",
              "      <th>3</th>\n",
              "      <td>clean</td>\n",
              "      <td>61982</td>\n",
              "    </tr>\n",
              "    <tr>\n",
              "      <th>4</th>\n",
              "      <td>would</td>\n",
              "      <td>57740</td>\n",
              "    </tr>\n",
              "  </tbody>\n",
              "</table>\n",
              "</div>\n",
              "      <button class=\"colab-df-convert\" onclick=\"convertToInteractive('df-e5c60440-faba-41bd-9cc6-e870c4e6f14d')\"\n",
              "              title=\"Convert this dataframe to an interactive table.\"\n",
              "              style=\"display:none;\">\n",
              "        \n",
              "  <svg xmlns=\"http://www.w3.org/2000/svg\" height=\"24px\"viewBox=\"0 0 24 24\"\n",
              "       width=\"24px\">\n",
              "    <path d=\"M0 0h24v24H0V0z\" fill=\"none\"/>\n",
              "    <path d=\"M18.56 5.44l.94 2.06.94-2.06 2.06-.94-2.06-.94-.94-2.06-.94 2.06-2.06.94zm-11 1L8.5 8.5l.94-2.06 2.06-.94-2.06-.94L8.5 2.5l-.94 2.06-2.06.94zm10 10l.94 2.06.94-2.06 2.06-.94-2.06-.94-.94-2.06-.94 2.06-2.06.94z\"/><path d=\"M17.41 7.96l-1.37-1.37c-.4-.4-.92-.59-1.43-.59-.52 0-1.04.2-1.43.59L10.3 9.45l-7.72 7.72c-.78.78-.78 2.05 0 2.83L4 21.41c.39.39.9.59 1.41.59.51 0 1.02-.2 1.41-.59l7.78-7.78 2.81-2.81c.8-.78.8-2.07 0-2.86zM5.41 20L4 18.59l7.72-7.72 1.47 1.35L5.41 20z\"/>\n",
              "  </svg>\n",
              "      </button>\n",
              "      \n",
              "  <style>\n",
              "    .colab-df-container {\n",
              "      display:flex;\n",
              "      flex-wrap:wrap;\n",
              "      gap: 12px;\n",
              "    }\n",
              "\n",
              "    .colab-df-convert {\n",
              "      background-color: #E8F0FE;\n",
              "      border: none;\n",
              "      border-radius: 50%;\n",
              "      cursor: pointer;\n",
              "      display: none;\n",
              "      fill: #1967D2;\n",
              "      height: 32px;\n",
              "      padding: 0 0 0 0;\n",
              "      width: 32px;\n",
              "    }\n",
              "\n",
              "    .colab-df-convert:hover {\n",
              "      background-color: #E2EBFA;\n",
              "      box-shadow: 0px 1px 2px rgba(60, 64, 67, 0.3), 0px 1px 3px 1px rgba(60, 64, 67, 0.15);\n",
              "      fill: #174EA6;\n",
              "    }\n",
              "\n",
              "    [theme=dark] .colab-df-convert {\n",
              "      background-color: #3B4455;\n",
              "      fill: #D2E3FC;\n",
              "    }\n",
              "\n",
              "    [theme=dark] .colab-df-convert:hover {\n",
              "      background-color: #434B5C;\n",
              "      box-shadow: 0px 1px 3px 1px rgba(0, 0, 0, 0.15);\n",
              "      filter: drop-shadow(0px 1px 2px rgba(0, 0, 0, 0.3));\n",
              "      fill: #FFFFFF;\n",
              "    }\n",
              "  </style>\n",
              "\n",
              "      <script>\n",
              "        const buttonEl =\n",
              "          document.querySelector('#df-e5c60440-faba-41bd-9cc6-e870c4e6f14d button.colab-df-convert');\n",
              "        buttonEl.style.display =\n",
              "          google.colab.kernel.accessAllowed ? 'block' : 'none';\n",
              "\n",
              "        async function convertToInteractive(key) {\n",
              "          const element = document.querySelector('#df-e5c60440-faba-41bd-9cc6-e870c4e6f14d');\n",
              "          const dataTable =\n",
              "            await google.colab.kernel.invokeFunction('convertToInteractive',\n",
              "                                                     [key], {});\n",
              "          if (!dataTable) return;\n",
              "\n",
              "          const docLinkHtml = 'Like what you see? Visit the ' +\n",
              "            '<a target=\"_blank\" href=https://colab.research.google.com/notebooks/data_table.ipynb>data table notebook</a>'\n",
              "            + ' to learn more about interactive tables.';\n",
              "          element.innerHTML = '';\n",
              "          dataTable['output_type'] = 'display_data';\n",
              "          await google.colab.output.renderOutput(dataTable, element);\n",
              "          const docLink = document.createElement('div');\n",
              "          docLink.innerHTML = docLinkHtml;\n",
              "          element.appendChild(docLink);\n",
              "        }\n",
              "      </script>\n",
              "    </div>\n",
              "  </div>\n",
              "  "
            ]
          },
          "metadata": {},
          "execution_count": 134
        }
      ]
    },
    {
      "cell_type": "code",
      "source": [
        "# plotting top n frequencies\n",
        "def get_top_n_words(words_frame, n=None):\n",
        "    \n",
        "    frame = words_frame.head(n) # top n words\n",
        "    \n",
        "    return frame\n",
        "\n",
        "top_words = get_top_n_words(words_df, n=20)\n",
        "\n",
        "plt.rcParams['figure.figsize']=(15,8)\n",
        "g = sns.barplot(x = 'Word', y = 'Frequency', data = top_words)\n",
        "\n",
        "g.set_xticklabels(g.get_xticklabels(), rotation=30);"
      ],
      "metadata": {
        "colab": {
          "base_uri": "https://localhost:8080/",
          "height": 526
        },
        "id": "vJBxKKJYN_I_",
        "outputId": "4c1fa0e1-64cc-4569-bf28-d3f87557c070"
      },
      "execution_count": null,
      "outputs": [
        {
          "output_type": "display_data",
          "data": {
            "text/plain": [
              "<Figure size 1080x576 with 1 Axes>"
            ],
            "image/png": "[encoded data removed]"
          },
          "metadata": {
            "needs_background": "light"
          }
        }
      ]
    },
    {
      "cell_type": "markdown",
      "source": [
        "# NLP Preprocess"
      ],
      "metadata": {
        "id": "jTaKwhKWQa19"
      }
    },
    {
      "cell_type": "code",
      "source": [
        "listings_df.drop(columns= ['index'], inplace= True)"
      ],
      "metadata": {
        "id": "5gahoRBgQ34O"
      },
      "execution_count": null,
      "outputs": []
    },
    {
      "cell_type": "code",
      "source": [
        "listings_df.info()"
      ],
      "metadata": {
        "colab": {
          "base_uri": "https://localhost:8080/"
        },
        "id": "65pUyrixQ3-t",
        "outputId": "22591dae-0d4b-455c-9ee0-21079509c8ea"
      },
      "execution_count": null,
      "outputs": [
        {
          "output_type": "stream",
          "name": "stdout",
          "text": [
            "<class 'pandas.core.frame.DataFrame'>\n",
            "RangeIndex: 17474 entries, 0 to 17473\n",
            "Data columns (total 31 columns):\n",
            " #   Column                          Non-Null Count  Dtype  \n",
            "---  ------                          --------------  -----  \n",
            " 0   id                              17474 non-null  int64  \n",
            " 1   listing_url                     17474 non-null  object \n",
            " 2   host_url                        17474 non-null  object \n",
            " 3   name                            17474 non-null  object \n",
            " 4   description                     17474 non-null  object \n",
            " 5   neighborhood_overview           17474 non-null  object \n",
            " 6   neighbourhood_cleansed          17474 non-null  object \n",
            " 7   host_response_time              17474 non-null  object \n",
            " 8   host_response_rate              17474 non-null  float64\n",
            " 9   host_acceptance_rate            17474 non-null  float64\n",
            " 10  host_is_superhost               17474 non-null  int64  \n",
            " 11  property_type                   17474 non-null  object \n",
            " 12  room_type                       17474 non-null  object \n",
            " 13  accommodates                    17474 non-null  int64  \n",
            " 14  bathrooms                       17474 non-null  float64\n",
            " 15  bedrooms                        17474 non-null  float64\n",
            " 16  beds                            17474 non-null  float64\n",
            " 17  amenities                       17474 non-null  object \n",
            " 18  price                           17474 non-null  float64\n",
            " 19  number_of_reviews               17474 non-null  int64  \n",
            " 20  review_scores_rating            17474 non-null  float64\n",
            " 21  review_scores_accuracy          17474 non-null  float64\n",
            " 22  review_scores_cleanliness       17474 non-null  float64\n",
            " 23  review_scores_checkin           17474 non-null  float64\n",
            " 24  review_scores_communication     17474 non-null  float64\n",
            " 25  review_scores_location          17474 non-null  float64\n",
            " 26  instant_bookable                17474 non-null  int64  \n",
            " 27  calculated_host_listings_count  17474 non-null  int64  \n",
            " 28  cities                          17474 non-null  object \n",
            " 29  amenities_count                 17474 non-null  int64  \n",
            " 30  hosting_age                     17474 non-null  int64  \n",
            "dtypes: float64(12), int64(8), object(11)\n",
            "memory usage: 4.1+ MB\n"
          ]
        }
      ]
    },
    {
      "cell_type": "code",
      "source": [
        "amens= listings_df['amenities'].apply(lambda x: ','.join(x))\n",
        "amens[:10]"
      ],
      "metadata": {
        "colab": {
          "base_uri": "https://localhost:8080/"
        },
        "id": "WMmqxW0HQ31P",
        "outputId": "782071d1-6d15-4bc4-e10d-080c9157a47c"
      },
      "execution_count": null,
      "outputs": [
        {
          "output_type": "execute_result",
          "data": {
            "text/plain": [
              "0    Hot water,Cooking basics,Iron,Free parking on ...\n",
              "1    Hot water,Cooking basics,Iron,Drying rack for ...\n",
              "2    TV,Long term stays allowed,Cooking basics,Kitc...\n",
              "3    TV,Gym,Long term stays allowed,Heating,Shampoo...\n",
              "4    TV,Long term stays allowed,Heating,Indoor fire...\n",
              "5    Hot water,Cleaning products,Cooking basics,Ind...\n",
              "6    Long term stays allowed,Dryer,Indoor fireplace...\n",
              "7    TV,Hot water,Shared pool,Shampoo,Iron,Hangers,...\n",
              "8    Hot water,Indoor fireplace,Shared pool,Iron,BB...\n",
              "9    TV,Long term stays allowed,Heating,Shampoo,Han...\n",
              "Name: amenities, dtype: object"
            ]
          },
          "metadata": {},
          "execution_count": 78
        }
      ]
    },
    {
      "cell_type": "code",
      "source": [
        "listings_df_copy = listings_df.copy()"
      ],
      "metadata": {
        "id": "xcpxVsXrS_Vp"
      },
      "execution_count": null,
      "outputs": []
    },
    {
      "cell_type": "code",
      "source": [
        "type(listings_df_copy['room_type'][1])"
      ],
      "metadata": {
        "colab": {
          "base_uri": "https://localhost:8080/"
        },
        "id": "XcUDb6GFD-KL",
        "outputId": "39197860-337b-4ff2-f2e9-88b6779b8e03"
      },
      "execution_count": null,
      "outputs": [
        {
          "output_type": "execute_result",
          "data": {
            "text/plain": [
              "str"
            ]
          },
          "metadata": {},
          "execution_count": 80
        }
      ]
    },
    {
      "cell_type": "code",
      "source": [
        "listings_df_copy['amenities'] = listings_df_copy['amenities'].apply(lambda x: ','.join(x))"
      ],
      "metadata": {
        "id": "1qKLC9q2VOas"
      },
      "execution_count": null,
      "outputs": []
    },
    {
      "cell_type": "code",
      "source": [
        "listings_df_copy['contents'] = (listings_df_copy['name'] + ' ' + listings_df_copy['description'] +\n",
        "                                ' ' + listings_df_copy['neighborhood_overview'] + \n",
        "                                ' ' + listings_df_copy['property_type'] +\n",
        "                                ' ' + listings_df_copy['room_type'] +\n",
        "                                ' ' + listings_df_copy['amenities'] +\n",
        "                                ' ' + listings_df_copy['cities'])"
      ],
      "metadata": {
        "id": "JzLw6NgtAE7u"
      },
      "execution_count": null,
      "outputs": []
    },
    {
      "cell_type": "code",
      "source": [
        "symbols = ['<br />', '<b>', '</b>']\n",
        "word= listings_df_copy['contents'][1]\n",
        "word= word.replace('</b>', '')\n",
        "word= word.replace('<b>', '')\n",
        "word= word.replace('<br />', '')\n",
        "word"
      ],
      "metadata": {
        "colab": {
          "base_uri": "https://localhost:8080/",
          "height": 163
        },
        "outputId": "5d55cfae-be89-4c6c-ff78-af59fd68cc5c",
        "id": "BCpcBY5EnO8_"
      },
      "execution_count": null,
      "outputs": [
        {
          "output_type": "execute_result",
          "data": {
            "text/plain": [
              "\"Jubilee Square Apartment Comfortably furnished 1st floor 2 bedroom apartment in the heart of the historical village of Simon's Town, on the beautiful False Bay coast. The apartment overlooks Jubilee Square with a partial view of Simon's Bay and the boat marina through the trees.The spaceMain bedroom with King size bed and has separate access to the bathroom. Second bedroom with 2 x Single beds. Full bathroom with toilet, bath & shower over the bath. Kitchen is fully equipped for cooking with all the utensils you might need, including a dish washer. The balcony overlooks the main street and Jubilee Square. The building has its own coin operated laundry facility. There is Wi-Fi and also a smart TV with Netflix, however there is no DSTV. Please note this is strictly a non-smoking apartment.Guest accessWhole apartment.Other things to noteNon-smoking apartment. The apartment is situated on the main street directly opposite Jubilee Square. (center of town) Simon's Town is a historical naval village with restaurants, coffee shops and lots of quirky shops selling different things from clothing to Nautical artifacts. Most things you need are within walking distance. Take a drive to Kalk Bay, there you can find excellent restaurants and when the fishing boats return around midday take a stroll at the harbor and pick up a fresh fish for dinner. Or even all the way to Muizenberg if you want to go for surfing lessons or just take a walk along the beautiful beach. Boulder's beach is nearby where you can view the Penguins and Cape Point Nature reserve is only a short drive away, Cape Point is arguably one of the most beautiful places on earth!CT International Airport is approximately 1 hour drive. CT City center is approximately 55 mins drive. Cape Point is approximately 20 mins drive.Kalk Bay is 15 mins drive.Muizenberg i Entire condo Entire home/apt Hot water,Cooking basics,Iron,Drying rack for clothing,Dining table,Washer,TV,Bed linens,Free street parking,Freezer,Dryer,Long term stays allowed,Bathtub,Patio or balcony,Wifi,Heating,Stove,Hot water kettle,Wine glasses,Refrigerator,Microwave,Hair dryer,Dishwasher,Kitchen,Hangers,Essentials,Dishes and silverware,Host greets you,Oven,Toaster Retreat\""
            ],
            "application/vnd.google.colaboratory.intrinsic+json": {
              "type": "string"
            }
          },
          "metadata": {},
          "execution_count": 83
        }
      ]
    },
    {
      "cell_type": "code",
      "source": [
        "pd.set_option('display.max_columns', None)"
      ],
      "metadata": {
        "id": "oxzRjk-CWmPN"
      },
      "execution_count": null,
      "outputs": []
    },
    {
      "cell_type": "code",
      "source": [
        "# Creating a function that will preprocess and standardize the text for NLP \n",
        "def preprocess(text):\n",
        "    ''' This function takes text to preprocess and standardize it for the purpose of NLP '''\n",
        " \n",
        "    # Lowercase the text \n",
        "    text = text.str.lower()\n",
        "    text= text.apply(lambda x: x.replace('</b>', ''))\n",
        "    text= text.apply(lambda x: x.replace('<b>', ''))\n",
        "    text= text.apply(lambda x: x.replace('<br />', ''))\n",
        "    \n",
        "    # Remove punctuations using string module with regular expression\n",
        "    text = text.apply(lambda x: re.sub('[%s]' % re.escape(string.punctuation), ' ', x))\n",
        "\n",
        "    # Split string by whitespace and remove extra whitespaces \n",
        "    text = text.apply(lambda x: x.split())\n",
        "\n",
        "    # Remove stopwords \n",
        "    stopwords = nltk.corpus.stopwords.words('english')\n",
        "    text = text.apply(lambda x: [word for word in x if word not in stopwords])\n",
        "\n",
        "    # Lemmatize text to group together words with the same root or lemma\n",
        "    from nltk.stem.wordnet import WordNetLemmatizer\n",
        "    lemmatizer = nltk.stem.WordNetLemmatizer()\n",
        "    text = text.apply(lambda x: [lemmatizer.lemmatize(word) for word in x])\n",
        "\n",
        "    text = text.apply(lambda x: ' '.join(x))\n",
        "\n",
        "    return text"
      ],
      "metadata": {
        "id": "icnyvg2uVOJk"
      },
      "execution_count": null,
      "outputs": []
    },
    {
      "cell_type": "code",
      "source": [
        "listings_df_copy['contents'] = preprocess(listings_df_copy['contents'])\n",
        "listings_df_copy['contents'][1]"
      ],
      "metadata": {
        "colab": {
          "base_uri": "https://localhost:8080/",
          "height": 163
        },
        "id": "kUiU_7gfgxa7",
        "outputId": "ce8f0b00-0180-491d-9edc-7a1596f904f7"
      },
      "execution_count": null,
      "outputs": [
        {
          "output_type": "execute_result",
          "data": {
            "text/plain": [
              "'jubilee square apartment comfortably furnished 1st floor 2 bedroom apartment heart historical village simon town beautiful false bay coast apartment overlook jubilee square partial view simon bay boat marina tree spacemain bedroom king size bed separate access bathroom second bedroom 2 x single bed full bathroom toilet bath shower bath kitchen fully equipped cooking utensil might need including dish washer balcony overlook main street jubilee square building coin operated laundry facility wi fi also smart tv netflix however dstv please note strictly non smoking apartment guest accesswhole apartment thing notenon smoking apartment apartment situated main street directly opposite jubilee square center town simon town historical naval village restaurant coffee shop lot quirky shop selling different thing clothing nautical artifact thing need within walking distance take drive kalk bay find excellent restaurant fishing boat return around midday take stroll harbor pick fresh fish dinner even way muizenberg want go surfing lesson take walk along beautiful beach boulder beach nearby view penguin cape point nature reserve short drive away cape point arguably one beautiful place earth ct international airport approximately 1 hour drive ct city center approximately 55 min drive cape point approximately 20 min drive kalk bay 15 min drive muizenberg entire condo entire home apt hot water cooking basic iron drying rack clothing dining table washer tv bed linen free street parking freezer dryer long term stay allowed bathtub patio balcony wifi heating stove hot water kettle wine glass refrigerator microwave hair dryer dishwasher kitchen hanger essential dish silverware host greets oven toaster retreat'"
            ],
            "application/vnd.google.colaboratory.intrinsic+json": {
              "type": "string"
            }
          },
          "metadata": {},
          "execution_count": 90
        }
      ]
    }
  ]
}