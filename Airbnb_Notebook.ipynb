{
  "nbformat": 4,
  "nbformat_minor": 0,
  "metadata": {
    "colab": {
      "provenance": [],
      "collapsed_sections": [],
      "toc_visible": true,
      "include_colab_link": true
    },
    "kernelspec": {
      "name": "python3",
      "display_name": "Python 3"
    },
    "language_info": {
      "name": "python"
    },
    "accelerator": "TPU",
    "gpuClass": "standard"
  },
  "cells": [
    {
      "cell_type": "markdown",
      "metadata": {
        "id": "view-in-github",
        "colab_type": "text"
      },
      "source": [
        "<a href=\"https://colab.research.google.com/github/Nickimani/Airbnb_Project/blob/davis-eda/Airbnb_Notebook.ipynb\" target=\"_parent\"><img src=\"https://colab.research.google.com/assets/colab-badge.svg\" alt=\"Open In Colab\"/></a>"
      ]
    },
    {
      "cell_type": "markdown",
      "source": [
        "# Airbnb Project"
      ],
      "metadata": {
        "id": "Ij50iGmRqp-j"
      }
    },
    {
      "cell_type": "markdown",
      "source": [
        "# 1. Business Understanding "
      ],
      "metadata": {
        "id": "DaXGDxsYqsPu"
      }
    },
    {
      "cell_type": "markdown",
      "source": [
        "# 2. Data Understanding"
      ],
      "metadata": {
        "id": "cQelEUY0q3sY"
      }
    },
    {
      "cell_type": "markdown",
      "source": [
        "# 3. Loading Data"
      ],
      "metadata": {
        "id": "aaKNPkdRriNQ"
      }
    },
    {
      "cell_type": "markdown",
      "source": [
        "## 3.1 Importing Libraries"
      ],
      "metadata": {
        "id": "oyVywQ4GtME7"
      }
    },
    {
      "cell_type": "code",
      "source": [
        "# connecting to drive\n",
        "\n",
        "from google.colab import drive\n",
        "drive.mount('/content/drive')"
      ],
      "metadata": {
        "colab": {
          "base_uri": "https://localhost:8080/"
        },
        "id": "J-f17zv8O17l",
        "outputId": "45f6c345-3825-4a68-b772-b515b5d96188"
      },
      "execution_count": 1,
      "outputs": [
        {
          "output_type": "stream",
          "name": "stdout",
          "text": [
            "Mounted at /content/drive\n"
          ]
        }
      ]
    },
    {
      "cell_type": "code",
      "source": [
        "# installing necessary libraries\n",
        "\n",
        "!pip install reverse_geocoder # Reverse geoencoder"
      ],
      "metadata": {
        "colab": {
          "base_uri": "https://localhost:8080/"
        },
        "id": "BXJgSQ2a6Em4",
        "outputId": "09dbe37f-9450-431c-c9fa-8185a8f43edc"
      },
      "execution_count": 2,
      "outputs": [
        {
          "output_type": "stream",
          "name": "stdout",
          "text": [
            "Looking in indexes: https://pypi.org/simple, https://us-python.pkg.dev/colab-wheels/public/simple/\n",
            "Collecting reverse_geocoder\n",
            "  Downloading reverse_geocoder-1.5.1.tar.gz (2.2 MB)\n",
            "\u001b[K     |████████████████████████████████| 2.2 MB 40.9 MB/s \n",
            "\u001b[?25hRequirement already satisfied: numpy>=1.11.0 in /usr/local/lib/python3.7/dist-packages (from reverse_geocoder) (1.21.6)\n",
            "Requirement already satisfied: scipy>=0.17.1 in /usr/local/lib/python3.7/dist-packages (from reverse_geocoder) (1.7.3)\n",
            "Building wheels for collected packages: reverse-geocoder\n",
            "  Building wheel for reverse-geocoder (setup.py) ... \u001b[?25l\u001b[?25hdone\n",
            "  Created wheel for reverse-geocoder: filename=reverse_geocoder-1.5.1-py3-none-any.whl size=2268088 sha256=418673a114a4c1bbbec8eed12a2ee2c9625a8e33aac54bcf00c5d87aeb2bf045\n",
            "  Stored in directory: /root/.cache/pip/wheels/34/6e/70/5423639428a2cac8ea7eb467214a4254b549b381f306a9c790\n",
            "Successfully built reverse-geocoder\n",
            "Installing collected packages: reverse-geocoder\n",
            "Successfully installed reverse-geocoder-1.5.1\n"
          ]
        }
      ]
    },
    {
      "cell_type": "code",
      "execution_count": 3,
      "metadata": {
        "id": "Y_1um1JfK6CJ"
      },
      "outputs": [],
      "source": [
        "# importing libraries\n",
        "\n",
        "import string\n",
        "import re\n",
        "import pandas as pd\n",
        "import numpy as np\n",
        "import seaborn as sns\n",
        "import matplotlib.pyplot as plt\n",
        "\n",
        "\n",
        "import reverse_geocoder as rg\n",
        "\n",
        "\n",
        "%matplotlib inline"
      ]
    },
    {
      "cell_type": "markdown",
      "source": [
        "## 3.2 Loading The DataFrames"
      ],
      "metadata": {
        "id": "t-v0y1u8tWId"
      }
    },
    {
      "cell_type": "code",
      "source": [
        "# creating the DataFrames\n",
        "\n",
        "listings_df = pd.read_csv('/content/drive/Shareddrives/CapStone/Data/listings.csv')\n",
        "reviews_df = pd.read_csv('/content/drive/Shareddrives/CapStone/Data/reviews.csv')\n",
        "metadata_df = pd.read_csv('/content/drive/Shareddrives/CapStone/Data/data_dictionary.csv')"
      ],
      "metadata": {
        "id": "WnbKzUxZQPPH"
      },
      "execution_count": 4,
      "outputs": []
    },
    {
      "cell_type": "code",
      "source": [
        "# a function returning the datastructure of a the input dataframe\n",
        "\n",
        "def data_structure(dataframe, data_name):\n",
        "    \"\"\" \n",
        "    Returns datashape and data info. \n",
        "    \"\"\"\n",
        "    print(f'{data_name} dataframe shape:', dataframe.shape)\n",
        "    print('-'*120)\n",
        "    print(dataframe.info())\n",
        "\n",
        "# a function returning a dataframe of the completeness of the features in the input dataframe \n",
        "\n",
        "def percentage_completeness(dataframe):\n",
        "    \"\"\"\n",
        "    Returns a dataframe showcasing the percentage completeness of the columns in a dataframe    \n",
        "    \"\"\"\n",
        "    tot_entries = len(dataframe) # length of dataframe\n",
        "\n",
        "    columns = list(dataframe.columns) # name of columns list\n",
        "    perc_completeness = [] \n",
        "\n",
        "    for column in columns:\n",
        "        missing = dataframe[column].isna().sum() # taking number of missing records\n",
        "        perc_null_counts = (1 - (missing / tot_entries)) * 100 # calculating percentage of completeness in column\n",
        "        perc_completeness.append(round(perc_null_counts, 2)) \n",
        "\n",
        "    output = pd.DataFrame(list(zip(columns, perc_completeness)), \n",
        "                          columns=['Feature', '%_completeness']) # creating dataframe of column and completeness\n",
        "    output = output.sort_values(by='%_completeness', ascending=True) # sorting the values\n",
        "    output.reset_index(inplace=True, drop=True)\n",
        "\n",
        "    return output\n",
        "\n",
        "# a function that pulls valuecounts from a column\n",
        "\n",
        "def value_count(dataframe, column):\n",
        "    \"\"\"\n",
        "    Returns the value counts for unique value in the column specified\n",
        "    \"\"\"\n",
        "    val_count = dataframe[column].value_counts() # getting the value counts\n",
        "\n",
        "    result = val_count.to_frame(name='Count(s)') # converting list output to dataframe\n",
        "\n",
        "    return result\n",
        "\n",
        "# removing the % sign from the strings\n",
        "    \n",
        "def strip_signs(dataframe, column):\n",
        "    \"\"\"\n",
        "    Takes in a dataframe and the column to be cleaned. \n",
        "    The column should have a prefix of suffix that if removed,would make the column convertible to a numeric datatype\n",
        "    Returns a replacement of the input column cleaned and converted to float dtype.\n",
        "    \"\"\"\n",
        "    feature = pd.Series(dataframe[column]) # making sure its a series\n",
        "    \n",
        "    feature = feature.str.strip(to_strip='%') # striping % sign from string\n",
        "\n",
        "    final_feature = feature.astype('float') # converting datatype\n",
        "\n",
        "    return final_feature\n",
        "\n",
        "\n",
        "# boxplot of a series\n",
        "\n",
        "def box_plot(series):\n",
        "    \"\"\"\n",
        "    Returns a boxplot of the column specified    \n",
        "    \"\"\"\n",
        "    fig, ax = plt.subplots(figsize=(20,10))\n",
        "    ax = sns.boxplot(x=series, linewidth=1, palette='Set2') # creating a boxplot\n",
        "\n",
        "    ax.set_title(f'{series.name}, Airbnb Cape town', fontsize=30,pad=30) # Give the plot a main title\n",
        "    ax.set_xlabel(series.name, fontsize=20, labelpad=15) # Set text for the x axis,\n",
        "\n",
        "    sns.despine(offset=5, left=True);\n",
        "\n",
        "# Build a function for regex stripping maybe linked to strip signs\n"
      ],
      "metadata": {
        "id": "Fy8YE2R3t9xR"
      },
      "execution_count": 5,
      "outputs": []
    },
    {
      "cell_type": "markdown",
      "source": [
        "### Data Structure"
      ],
      "metadata": {
        "id": "ibu663NGyq9f"
      }
    },
    {
      "cell_type": "code",
      "source": [
        "# data_structure(listings_df, 'listing_df') # listings df structure"
      ],
      "metadata": {
        "id": "3Ttlb-ZoS3Fg"
      },
      "execution_count": 6,
      "outputs": []
    },
    {
      "cell_type": "markdown",
      "source": [
        "The listings dataFrame has 18903 rows with 74 columns. 41 of the columns are of numeric type and The remaining 33 are of object type."
      ],
      "metadata": {
        "id": "CxcLu9pF24XI"
      }
    },
    {
      "cell_type": "code",
      "source": [
        "# removing unnecessary columns\n",
        "relevant_cols = ['id', 'listing_url', 'host_url', 'last_scraped', 'host_since', 'host_location', \n",
        "                 'neighbourhood_cleansed', 'host_response_time', 'host_response_rate', 'host_acceptance_rate', \n",
        "                 'host_is_superhost', 'latitude', 'longitude', 'room_type', 'accommodates', 'bathrooms_text', 'bedrooms', \n",
        "                 'beds', 'amenities', 'price', 'number_of_reviews', 'review_scores_rating', \n",
        "                 'review_scores_accuracy', 'review_scores_cleanliness', 'review_scores_checkin', 'review_scores_communication', \n",
        "                 'review_scores_location', 'instant_bookable', 'calculated_host_listings_count']\n",
        "\n",
        "# subsetting the relevant columns\n",
        "\n",
        "listings_df = listings_df[relevant_cols]"
      ],
      "metadata": {
        "id": "9WyFb2Lzy7rO"
      },
      "execution_count": 7,
      "outputs": []
    },
    {
      "cell_type": "code",
      "source": [
        "data_structure(listings_df, 'listing_df') # new_listings df structure"
      ],
      "metadata": {
        "colab": {
          "base_uri": "https://localhost:8080/"
        },
        "id": "EBnnlRAv3nLu",
        "outputId": "87f8b903-8be8-479b-cc92-75f5c78b8024"
      },
      "execution_count": 8,
      "outputs": [
        {
          "output_type": "stream",
          "name": "stdout",
          "text": [
            "listing_df dataframe shape: (18903, 29)\n",
            "------------------------------------------------------------------------------------------------------------------------\n",
            "<class 'pandas.core.frame.DataFrame'>\n",
            "RangeIndex: 18903 entries, 0 to 18902\n",
            "Data columns (total 29 columns):\n",
            " #   Column                          Non-Null Count  Dtype  \n",
            "---  ------                          --------------  -----  \n",
            " 0   id                              18903 non-null  int64  \n",
            " 1   listing_url                     18903 non-null  object \n",
            " 2   host_url                        18903 non-null  object \n",
            " 3   last_scraped                    18903 non-null  object \n",
            " 4   host_since                      18902 non-null  object \n",
            " 5   host_location                   18812 non-null  object \n",
            " 6   neighbourhood_cleansed          18903 non-null  object \n",
            " 7   host_response_time              14710 non-null  object \n",
            " 8   host_response_rate              14710 non-null  object \n",
            " 9   host_acceptance_rate            16542 non-null  object \n",
            " 10  host_is_superhost               18902 non-null  object \n",
            " 11  latitude                        18903 non-null  float64\n",
            " 12  longitude                       18903 non-null  float64\n",
            " 13  room_type                       18903 non-null  object \n",
            " 14  accommodates                    18903 non-null  int64  \n",
            " 15  bathrooms_text                  18862 non-null  object \n",
            " 16  bedrooms                        17714 non-null  float64\n",
            " 17  beds                            18619 non-null  float64\n",
            " 18  amenities                       18903 non-null  object \n",
            " 19  price                           18903 non-null  object \n",
            " 20  number_of_reviews               18903 non-null  int64  \n",
            " 21  review_scores_rating            13760 non-null  float64\n",
            " 22  review_scores_accuracy          13607 non-null  float64\n",
            " 23  review_scores_cleanliness       13608 non-null  float64\n",
            " 24  review_scores_checkin           13604 non-null  float64\n",
            " 25  review_scores_communication     13607 non-null  float64\n",
            " 26  review_scores_location          13604 non-null  float64\n",
            " 27  instant_bookable                18903 non-null  object \n",
            " 28  calculated_host_listings_count  18903 non-null  int64  \n",
            "dtypes: float64(10), int64(4), object(15)\n",
            "memory usage: 4.2+ MB\n",
            "None\n"
          ]
        }
      ]
    },
    {
      "cell_type": "code",
      "source": [
        "data_structure(reviews_df, 'reviews_df') # reviews_df structure"
      ],
      "metadata": {
        "colab": {
          "base_uri": "https://localhost:8080/"
        },
        "id": "mtxkTzakVlTf",
        "outputId": "15a71f51-bc74-426d-952a-e369b7ff06ed"
      },
      "execution_count": 9,
      "outputs": [
        {
          "output_type": "stream",
          "name": "stdout",
          "text": [
            "reviews_df dataframe shape: (363065, 6)\n",
            "------------------------------------------------------------------------------------------------------------------------\n",
            "<class 'pandas.core.frame.DataFrame'>\n",
            "RangeIndex: 363065 entries, 0 to 363064\n",
            "Data columns (total 6 columns):\n",
            " #   Column         Non-Null Count   Dtype \n",
            "---  ------         --------------   ----- \n",
            " 0   listing_id     363065 non-null  int64 \n",
            " 1   id             363065 non-null  int64 \n",
            " 2   date           363065 non-null  object\n",
            " 3   reviewer_id    363065 non-null  int64 \n",
            " 4   reviewer_name  363065 non-null  object\n",
            " 5   comments       363018 non-null  object\n",
            "dtypes: int64(3), object(3)\n",
            "memory usage: 16.6+ MB\n",
            "None\n"
          ]
        }
      ]
    },
    {
      "cell_type": "markdown",
      "source": [
        "Reviews dataframe has only 1 column with nan values.\n",
        "The nature of the comments column makes it difficult to fill the nan values."
      ],
      "metadata": {
        "id": "2KNpcv7hyyh0"
      }
    },
    {
      "cell_type": "code",
      "source": [
        "# dropping nan values in reviews_df\n",
        "reviews_df.dropna(inplace=True)"
      ],
      "metadata": {
        "id": "Vapk0575Rxlj"
      },
      "execution_count": 10,
      "outputs": []
    },
    {
      "cell_type": "code",
      "source": [
        "listings_df.head() # viewing listings df"
      ],
      "metadata": {
        "colab": {
          "base_uri": "https://localhost:8080/",
          "height": 473
        },
        "id": "gNCG7pLv0EaZ",
        "outputId": "0c1bef04-7972-43e1-95d6-d9ce284f684d"
      },
      "execution_count": 11,
      "outputs": [
        {
          "output_type": "execute_result",
          "data": {
            "text/plain": [
              "         id                            listing_url  \\\n",
              "0  30332317  https://www.airbnb.com/rooms/30332317   \n",
              "1   9126484   https://www.airbnb.com/rooms/9126484   \n",
              "2  44482125  https://www.airbnb.com/rooms/44482125   \n",
              "3  12105523  https://www.airbnb.com/rooms/12105523   \n",
              "4  14921766  https://www.airbnb.com/rooms/14921766   \n",
              "\n",
              "                                     host_url last_scraped  host_since  \\\n",
              "0  https://www.airbnb.com/users/show/98554302   2022-06-22  2016-10-07   \n",
              "1   https://www.airbnb.com/users/show/3410651   2022-06-22  2012-08-29   \n",
              "2  https://www.airbnb.com/users/show/98554302   2022-06-22  2016-10-07   \n",
              "3  https://www.airbnb.com/users/show/58287766   2022-06-22  2016-02-11   \n",
              "4  https://www.airbnb.com/users/show/58287766   2022-06-22  2016-02-11   \n",
              "\n",
              "                           host_location neighbourhood_cleansed  \\\n",
              "0  Cape Town, Western Cape, South Africa                Ward 15   \n",
              "1  Cape Town, Western Cape, South Africa                Ward 61   \n",
              "2  Cape Town, Western Cape, South Africa                Ward 15   \n",
              "3  Cape Town, Western Cape, South Africa                Ward 15   \n",
              "4  Cape Town, Western Cape, South Africa                Ward 15   \n",
              "\n",
              "   host_response_time host_response_rate host_acceptance_rate  ...      price  \\\n",
              "0      within an hour               100%                 100%  ...  $1,350.00   \n",
              "1  within a few hours               100%                  50%  ...  $1,750.00   \n",
              "2      within an hour               100%                 100%  ...  $1,350.00   \n",
              "3                 NaN                NaN                 100%  ...  $1,436.00   \n",
              "4                 NaN                NaN                 100%  ...  $2,871.00   \n",
              "\n",
              "   number_of_reviews  review_scores_rating review_scores_accuracy  \\\n",
              "0                  2                  5.00                    5.0   \n",
              "1                 15                  4.87                    5.0   \n",
              "2                  0                   NaN                    NaN   \n",
              "3                  0                   NaN                    NaN   \n",
              "4                  1                  5.00                    5.0   \n",
              "\n",
              "   review_scores_cleanliness review_scores_checkin  \\\n",
              "0                        5.0                   5.0   \n",
              "1                        5.0                   5.0   \n",
              "2                        NaN                   NaN   \n",
              "3                        NaN                   NaN   \n",
              "4                        5.0                   5.0   \n",
              "\n",
              "   review_scores_communication  review_scores_location instant_bookable  \\\n",
              "0                          5.0                    5.00                t   \n",
              "1                          5.0                    4.93                f   \n",
              "2                          NaN                     NaN                t   \n",
              "3                          NaN                     NaN                t   \n",
              "4                          5.0                    5.00                t   \n",
              "\n",
              "  calculated_host_listings_count  \n",
              "0                              7  \n",
              "1                              1  \n",
              "2                              7  \n",
              "3                              5  \n",
              "4                              5  \n",
              "\n",
              "[5 rows x 29 columns]"
            ],
            "text/html": [
              "\n",
              "  <div id=\"df-a812fb20-cb3b-4512-aaca-2babdf101f1a\">\n",
              "    <div class=\"colab-df-container\">\n",
              "      <div>\n",
              "<style scoped>\n",
              "    .dataframe tbody tr th:only-of-type {\n",
              "        vertical-align: middle;\n",
              "    }\n",
              "\n",
              "    .dataframe tbody tr th {\n",
              "        vertical-align: top;\n",
              "    }\n",
              "\n",
              "    .dataframe thead th {\n",
              "        text-align: right;\n",
              "    }\n",
              "</style>\n",
              "<table border=\"1\" class=\"dataframe\">\n",
              "  <thead>\n",
              "    <tr style=\"text-align: right;\">\n",
              "      <th></th>\n",
              "      <th>id</th>\n",
              "      <th>listing_url</th>\n",
              "      <th>host_url</th>\n",
              "      <th>last_scraped</th>\n",
              "      <th>host_since</th>\n",
              "      <th>host_location</th>\n",
              "      <th>neighbourhood_cleansed</th>\n",
              "      <th>host_response_time</th>\n",
              "      <th>host_response_rate</th>\n",
              "      <th>host_acceptance_rate</th>\n",
              "      <th>...</th>\n",
              "      <th>price</th>\n",
              "      <th>number_of_reviews</th>\n",
              "      <th>review_scores_rating</th>\n",
              "      <th>review_scores_accuracy</th>\n",
              "      <th>review_scores_cleanliness</th>\n",
              "      <th>review_scores_checkin</th>\n",
              "      <th>review_scores_communication</th>\n",
              "      <th>review_scores_location</th>\n",
              "      <th>instant_bookable</th>\n",
              "      <th>calculated_host_listings_count</th>\n",
              "    </tr>\n",
              "  </thead>\n",
              "  <tbody>\n",
              "    <tr>\n",
              "      <th>0</th>\n",
              "      <td>30332317</td>\n",
              "      <td>https://www.airbnb.com/rooms/30332317</td>\n",
              "      <td>https://www.airbnb.com/users/show/98554302</td>\n",
              "      <td>2022-06-22</td>\n",
              "      <td>2016-10-07</td>\n",
              "      <td>Cape Town, Western Cape, South Africa</td>\n",
              "      <td>Ward 15</td>\n",
              "      <td>within an hour</td>\n",
              "      <td>100%</td>\n",
              "      <td>100%</td>\n",
              "      <td>...</td>\n",
              "      <td>$1,350.00</td>\n",
              "      <td>2</td>\n",
              "      <td>5.00</td>\n",
              "      <td>5.0</td>\n",
              "      <td>5.0</td>\n",
              "      <td>5.0</td>\n",
              "      <td>5.0</td>\n",
              "      <td>5.00</td>\n",
              "      <td>t</td>\n",
              "      <td>7</td>\n",
              "    </tr>\n",
              "    <tr>\n",
              "      <th>1</th>\n",
              "      <td>9126484</td>\n",
              "      <td>https://www.airbnb.com/rooms/9126484</td>\n",
              "      <td>https://www.airbnb.com/users/show/3410651</td>\n",
              "      <td>2022-06-22</td>\n",
              "      <td>2012-08-29</td>\n",
              "      <td>Cape Town, Western Cape, South Africa</td>\n",
              "      <td>Ward 61</td>\n",
              "      <td>within a few hours</td>\n",
              "      <td>100%</td>\n",
              "      <td>50%</td>\n",
              "      <td>...</td>\n",
              "      <td>$1,750.00</td>\n",
              "      <td>15</td>\n",
              "      <td>4.87</td>\n",
              "      <td>5.0</td>\n",
              "      <td>5.0</td>\n",
              "      <td>5.0</td>\n",
              "      <td>5.0</td>\n",
              "      <td>4.93</td>\n",
              "      <td>f</td>\n",
              "      <td>1</td>\n",
              "    </tr>\n",
              "    <tr>\n",
              "      <th>2</th>\n",
              "      <td>44482125</td>\n",
              "      <td>https://www.airbnb.com/rooms/44482125</td>\n",
              "      <td>https://www.airbnb.com/users/show/98554302</td>\n",
              "      <td>2022-06-22</td>\n",
              "      <td>2016-10-07</td>\n",
              "      <td>Cape Town, Western Cape, South Africa</td>\n",
              "      <td>Ward 15</td>\n",
              "      <td>within an hour</td>\n",
              "      <td>100%</td>\n",
              "      <td>100%</td>\n",
              "      <td>...</td>\n",
              "      <td>$1,350.00</td>\n",
              "      <td>0</td>\n",
              "      <td>NaN</td>\n",
              "      <td>NaN</td>\n",
              "      <td>NaN</td>\n",
              "      <td>NaN</td>\n",
              "      <td>NaN</td>\n",
              "      <td>NaN</td>\n",
              "      <td>t</td>\n",
              "      <td>7</td>\n",
              "    </tr>\n",
              "    <tr>\n",
              "      <th>3</th>\n",
              "      <td>12105523</td>\n",
              "      <td>https://www.airbnb.com/rooms/12105523</td>\n",
              "      <td>https://www.airbnb.com/users/show/58287766</td>\n",
              "      <td>2022-06-22</td>\n",
              "      <td>2016-02-11</td>\n",
              "      <td>Cape Town, Western Cape, South Africa</td>\n",
              "      <td>Ward 15</td>\n",
              "      <td>NaN</td>\n",
              "      <td>NaN</td>\n",
              "      <td>100%</td>\n",
              "      <td>...</td>\n",
              "      <td>$1,436.00</td>\n",
              "      <td>0</td>\n",
              "      <td>NaN</td>\n",
              "      <td>NaN</td>\n",
              "      <td>NaN</td>\n",
              "      <td>NaN</td>\n",
              "      <td>NaN</td>\n",
              "      <td>NaN</td>\n",
              "      <td>t</td>\n",
              "      <td>5</td>\n",
              "    </tr>\n",
              "    <tr>\n",
              "      <th>4</th>\n",
              "      <td>14921766</td>\n",
              "      <td>https://www.airbnb.com/rooms/14921766</td>\n",
              "      <td>https://www.airbnb.com/users/show/58287766</td>\n",
              "      <td>2022-06-22</td>\n",
              "      <td>2016-02-11</td>\n",
              "      <td>Cape Town, Western Cape, South Africa</td>\n",
              "      <td>Ward 15</td>\n",
              "      <td>NaN</td>\n",
              "      <td>NaN</td>\n",
              "      <td>100%</td>\n",
              "      <td>...</td>\n",
              "      <td>$2,871.00</td>\n",
              "      <td>1</td>\n",
              "      <td>5.00</td>\n",
              "      <td>5.0</td>\n",
              "      <td>5.0</td>\n",
              "      <td>5.0</td>\n",
              "      <td>5.0</td>\n",
              "      <td>5.00</td>\n",
              "      <td>t</td>\n",
              "      <td>5</td>\n",
              "    </tr>\n",
              "  </tbody>\n",
              "</table>\n",
              "<p>5 rows × 29 columns</p>\n",
              "</div>\n",
              "      <button class=\"colab-df-convert\" onclick=\"convertToInteractive('df-a812fb20-cb3b-4512-aaca-2babdf101f1a')\"\n",
              "              title=\"Convert this dataframe to an interactive table.\"\n",
              "              style=\"display:none;\">\n",
              "        \n",
              "  <svg xmlns=\"http://www.w3.org/2000/svg\" height=\"24px\"viewBox=\"0 0 24 24\"\n",
              "       width=\"24px\">\n",
              "    <path d=\"M0 0h24v24H0V0z\" fill=\"none\"/>\n",
              "    <path d=\"M18.56 5.44l.94 2.06.94-2.06 2.06-.94-2.06-.94-.94-2.06-.94 2.06-2.06.94zm-11 1L8.5 8.5l.94-2.06 2.06-.94-2.06-.94L8.5 2.5l-.94 2.06-2.06.94zm10 10l.94 2.06.94-2.06 2.06-.94-2.06-.94-.94-2.06-.94 2.06-2.06.94z\"/><path d=\"M17.41 7.96l-1.37-1.37c-.4-.4-.92-.59-1.43-.59-.52 0-1.04.2-1.43.59L10.3 9.45l-7.72 7.72c-.78.78-.78 2.05 0 2.83L4 21.41c.39.39.9.59 1.41.59.51 0 1.02-.2 1.41-.59l7.78-7.78 2.81-2.81c.8-.78.8-2.07 0-2.86zM5.41 20L4 18.59l7.72-7.72 1.47 1.35L5.41 20z\"/>\n",
              "  </svg>\n",
              "      </button>\n",
              "      \n",
              "  <style>\n",
              "    .colab-df-container {\n",
              "      display:flex;\n",
              "      flex-wrap:wrap;\n",
              "      gap: 12px;\n",
              "    }\n",
              "\n",
              "    .colab-df-convert {\n",
              "      background-color: #E8F0FE;\n",
              "      border: none;\n",
              "      border-radius: 50%;\n",
              "      cursor: pointer;\n",
              "      display: none;\n",
              "      fill: #1967D2;\n",
              "      height: 32px;\n",
              "      padding: 0 0 0 0;\n",
              "      width: 32px;\n",
              "    }\n",
              "\n",
              "    .colab-df-convert:hover {\n",
              "      background-color: #E2EBFA;\n",
              "      box-shadow: 0px 1px 2px rgba(60, 64, 67, 0.3), 0px 1px 3px 1px rgba(60, 64, 67, 0.15);\n",
              "      fill: #174EA6;\n",
              "    }\n",
              "\n",
              "    [theme=dark] .colab-df-convert {\n",
              "      background-color: #3B4455;\n",
              "      fill: #D2E3FC;\n",
              "    }\n",
              "\n",
              "    [theme=dark] .colab-df-convert:hover {\n",
              "      background-color: #434B5C;\n",
              "      box-shadow: 0px 1px 3px 1px rgba(0, 0, 0, 0.15);\n",
              "      filter: drop-shadow(0px 1px 2px rgba(0, 0, 0, 0.3));\n",
              "      fill: #FFFFFF;\n",
              "    }\n",
              "  </style>\n",
              "\n",
              "      <script>\n",
              "        const buttonEl =\n",
              "          document.querySelector('#df-a812fb20-cb3b-4512-aaca-2babdf101f1a button.colab-df-convert');\n",
              "        buttonEl.style.display =\n",
              "          google.colab.kernel.accessAllowed ? 'block' : 'none';\n",
              "\n",
              "        async function convertToInteractive(key) {\n",
              "          const element = document.querySelector('#df-a812fb20-cb3b-4512-aaca-2babdf101f1a');\n",
              "          const dataTable =\n",
              "            await google.colab.kernel.invokeFunction('convertToInteractive',\n",
              "                                                     [key], {});\n",
              "          if (!dataTable) return;\n",
              "\n",
              "          const docLinkHtml = 'Like what you see? Visit the ' +\n",
              "            '<a target=\"_blank\" href=https://colab.research.google.com/notebooks/data_table.ipynb>data table notebook</a>'\n",
              "            + ' to learn more about interactive tables.';\n",
              "          element.innerHTML = '';\n",
              "          dataTable['output_type'] = 'display_data';\n",
              "          await google.colab.output.renderOutput(dataTable, element);\n",
              "          const docLink = document.createElement('div');\n",
              "          docLink.innerHTML = docLinkHtml;\n",
              "          element.appendChild(docLink);\n",
              "        }\n",
              "      </script>\n",
              "    </div>\n",
              "  </div>\n",
              "  "
            ]
          },
          "metadata": {},
          "execution_count": 11
        }
      ]
    },
    {
      "cell_type": "code",
      "source": [
        "reviews_df.head() # viewing reviews df"
      ],
      "metadata": {
        "colab": {
          "base_uri": "https://localhost:8080/",
          "height": 206
        },
        "id": "dA5JhGD5jKOt",
        "outputId": "01a28b72-2edb-41ba-82f9-e4c483cbad9a"
      },
      "execution_count": 12,
      "outputs": [
        {
          "output_type": "execute_result",
          "data": {
            "text/plain": [
              "   listing_id                  id        date  reviewer_id reviewer_name  \\\n",
              "0    30332317           597314314  2020-01-25      7812767          Alan   \n",
              "1    30332317  532436007654450454  2022-01-04    367340518      Courtney   \n",
              "2     9126484            63063726  2016-02-20     50272994         Carla   \n",
              "3     9126484            67195563  2016-03-27     59937103           Gau   \n",
              "4     9126484            68077701  2016-04-02     19226497          Imke   \n",
              "\n",
              "                                            comments  \n",
              "0  Lovely rustic accommodation in a picturesque r...  \n",
              "1  The hosts are friendly and takes good care of ...  \n",
              "2  6 St Georges Building was lovely in every way....  \n",
              "3  Our host Bruce was great. Responsive, helpful ...  \n",
              "4  Bruce was incredibly welcoming and very flexib...  "
            ],
            "text/html": [
              "\n",
              "  <div id=\"df-3567cec5-d180-49e3-a1c5-0934bbce2163\">\n",
              "    <div class=\"colab-df-container\">\n",
              "      <div>\n",
              "<style scoped>\n",
              "    .dataframe tbody tr th:only-of-type {\n",
              "        vertical-align: middle;\n",
              "    }\n",
              "\n",
              "    .dataframe tbody tr th {\n",
              "        vertical-align: top;\n",
              "    }\n",
              "\n",
              "    .dataframe thead th {\n",
              "        text-align: right;\n",
              "    }\n",
              "</style>\n",
              "<table border=\"1\" class=\"dataframe\">\n",
              "  <thead>\n",
              "    <tr style=\"text-align: right;\">\n",
              "      <th></th>\n",
              "      <th>listing_id</th>\n",
              "      <th>id</th>\n",
              "      <th>date</th>\n",
              "      <th>reviewer_id</th>\n",
              "      <th>reviewer_name</th>\n",
              "      <th>comments</th>\n",
              "    </tr>\n",
              "  </thead>\n",
              "  <tbody>\n",
              "    <tr>\n",
              "      <th>0</th>\n",
              "      <td>30332317</td>\n",
              "      <td>597314314</td>\n",
              "      <td>2020-01-25</td>\n",
              "      <td>7812767</td>\n",
              "      <td>Alan</td>\n",
              "      <td>Lovely rustic accommodation in a picturesque r...</td>\n",
              "    </tr>\n",
              "    <tr>\n",
              "      <th>1</th>\n",
              "      <td>30332317</td>\n",
              "      <td>532436007654450454</td>\n",
              "      <td>2022-01-04</td>\n",
              "      <td>367340518</td>\n",
              "      <td>Courtney</td>\n",
              "      <td>The hosts are friendly and takes good care of ...</td>\n",
              "    </tr>\n",
              "    <tr>\n",
              "      <th>2</th>\n",
              "      <td>9126484</td>\n",
              "      <td>63063726</td>\n",
              "      <td>2016-02-20</td>\n",
              "      <td>50272994</td>\n",
              "      <td>Carla</td>\n",
              "      <td>6 St Georges Building was lovely in every way....</td>\n",
              "    </tr>\n",
              "    <tr>\n",
              "      <th>3</th>\n",
              "      <td>9126484</td>\n",
              "      <td>67195563</td>\n",
              "      <td>2016-03-27</td>\n",
              "      <td>59937103</td>\n",
              "      <td>Gau</td>\n",
              "      <td>Our host Bruce was great. Responsive, helpful ...</td>\n",
              "    </tr>\n",
              "    <tr>\n",
              "      <th>4</th>\n",
              "      <td>9126484</td>\n",
              "      <td>68077701</td>\n",
              "      <td>2016-04-02</td>\n",
              "      <td>19226497</td>\n",
              "      <td>Imke</td>\n",
              "      <td>Bruce was incredibly welcoming and very flexib...</td>\n",
              "    </tr>\n",
              "  </tbody>\n",
              "</table>\n",
              "</div>\n",
              "      <button class=\"colab-df-convert\" onclick=\"convertToInteractive('df-3567cec5-d180-49e3-a1c5-0934bbce2163')\"\n",
              "              title=\"Convert this dataframe to an interactive table.\"\n",
              "              style=\"display:none;\">\n",
              "        \n",
              "  <svg xmlns=\"http://www.w3.org/2000/svg\" height=\"24px\"viewBox=\"0 0 24 24\"\n",
              "       width=\"24px\">\n",
              "    <path d=\"M0 0h24v24H0V0z\" fill=\"none\"/>\n",
              "    <path d=\"M18.56 5.44l.94 2.06.94-2.06 2.06-.94-2.06-.94-.94-2.06-.94 2.06-2.06.94zm-11 1L8.5 8.5l.94-2.06 2.06-.94-2.06-.94L8.5 2.5l-.94 2.06-2.06.94zm10 10l.94 2.06.94-2.06 2.06-.94-2.06-.94-.94-2.06-.94 2.06-2.06.94z\"/><path d=\"M17.41 7.96l-1.37-1.37c-.4-.4-.92-.59-1.43-.59-.52 0-1.04.2-1.43.59L10.3 9.45l-7.72 7.72c-.78.78-.78 2.05 0 2.83L4 21.41c.39.39.9.59 1.41.59.51 0 1.02-.2 1.41-.59l7.78-7.78 2.81-2.81c.8-.78.8-2.07 0-2.86zM5.41 20L4 18.59l7.72-7.72 1.47 1.35L5.41 20z\"/>\n",
              "  </svg>\n",
              "      </button>\n",
              "      \n",
              "  <style>\n",
              "    .colab-df-container {\n",
              "      display:flex;\n",
              "      flex-wrap:wrap;\n",
              "      gap: 12px;\n",
              "    }\n",
              "\n",
              "    .colab-df-convert {\n",
              "      background-color: #E8F0FE;\n",
              "      border: none;\n",
              "      border-radius: 50%;\n",
              "      cursor: pointer;\n",
              "      display: none;\n",
              "      fill: #1967D2;\n",
              "      height: 32px;\n",
              "      padding: 0 0 0 0;\n",
              "      width: 32px;\n",
              "    }\n",
              "\n",
              "    .colab-df-convert:hover {\n",
              "      background-color: #E2EBFA;\n",
              "      box-shadow: 0px 1px 2px rgba(60, 64, 67, 0.3), 0px 1px 3px 1px rgba(60, 64, 67, 0.15);\n",
              "      fill: #174EA6;\n",
              "    }\n",
              "\n",
              "    [theme=dark] .colab-df-convert {\n",
              "      background-color: #3B4455;\n",
              "      fill: #D2E3FC;\n",
              "    }\n",
              "\n",
              "    [theme=dark] .colab-df-convert:hover {\n",
              "      background-color: #434B5C;\n",
              "      box-shadow: 0px 1px 3px 1px rgba(0, 0, 0, 0.15);\n",
              "      filter: drop-shadow(0px 1px 2px rgba(0, 0, 0, 0.3));\n",
              "      fill: #FFFFFF;\n",
              "    }\n",
              "  </style>\n",
              "\n",
              "      <script>\n",
              "        const buttonEl =\n",
              "          document.querySelector('#df-3567cec5-d180-49e3-a1c5-0934bbce2163 button.colab-df-convert');\n",
              "        buttonEl.style.display =\n",
              "          google.colab.kernel.accessAllowed ? 'block' : 'none';\n",
              "\n",
              "        async function convertToInteractive(key) {\n",
              "          const element = document.querySelector('#df-3567cec5-d180-49e3-a1c5-0934bbce2163');\n",
              "          const dataTable =\n",
              "            await google.colab.kernel.invokeFunction('convertToInteractive',\n",
              "                                                     [key], {});\n",
              "          if (!dataTable) return;\n",
              "\n",
              "          const docLinkHtml = 'Like what you see? Visit the ' +\n",
              "            '<a target=\"_blank\" href=https://colab.research.google.com/notebooks/data_table.ipynb>data table notebook</a>'\n",
              "            + ' to learn more about interactive tables.';\n",
              "          element.innerHTML = '';\n",
              "          dataTable['output_type'] = 'display_data';\n",
              "          await google.colab.output.renderOutput(dataTable, element);\n",
              "          const docLink = document.createElement('div');\n",
              "          docLink.innerHTML = docLinkHtml;\n",
              "          element.appendChild(docLink);\n",
              "        }\n",
              "      </script>\n",
              "    </div>\n",
              "  </div>\n",
              "  "
            ]
          },
          "metadata": {},
          "execution_count": 12
        }
      ]
    },
    {
      "cell_type": "markdown",
      "source": [
        "# 4. Exploratory Data Analysis"
      ],
      "metadata": {
        "id": "80y8n49I9JhI"
      }
    },
    {
      "cell_type": "markdown",
      "source": [
        "## 4.1 Listings DataFrame"
      ],
      "metadata": {
        "id": "bNJ6kdcd9OG_"
      }
    },
    {
      "cell_type": "markdown",
      "source": [
        "**Questions?**\n",
        "\n",
        "1. What factors, if any influence price?(Regression question)\n",
        "2. What is the difference between a superhost and a non-superhost? (Classification question)\n",
        "3. What are the factors unique to listings with above average ratings?"
      ],
      "metadata": {
        "id": "bLd7H7TjM4Ic"
      }
    },
    {
      "cell_type": "markdown",
      "source": [
        "### 4.1.1 Univariate Analysis\n"
      ],
      "metadata": {
        "id": "BC16d8y44dAs"
      }
    },
    {
      "cell_type": "markdown",
      "source": [
        "\n",
        "#### 4.1.1.1 Completeness"
      ],
      "metadata": {
        "id": "HWQYbVRHX3rg"
      }
    },
    {
      "cell_type": "code",
      "source": [
        "listings_completeness = percentage_completeness(listings_df) # checking percentage null value counts in listings \n",
        "\n",
        "# filtering out columns with complete records\n",
        "listings_completeness = listings_completeness[listings_completeness['%_completeness'] < 100] \n",
        "listings_completeness"
      ],
      "metadata": {
        "colab": {
          "base_uri": "https://localhost:8080/",
          "height": 520
        },
        "id": "zM3qVcsfGOgZ",
        "outputId": "a94038ce-abf1-45af-d3b2-376b08dc3c5f"
      },
      "execution_count": 13,
      "outputs": [
        {
          "output_type": "execute_result",
          "data": {
            "text/plain": [
              "                        Feature  %_completeness\n",
              "0        review_scores_location           71.97\n",
              "1         review_scores_checkin           71.97\n",
              "2   review_scores_communication           71.98\n",
              "3        review_scores_accuracy           71.98\n",
              "4     review_scores_cleanliness           71.99\n",
              "5          review_scores_rating           72.79\n",
              "6            host_response_rate           77.82\n",
              "7            host_response_time           77.82\n",
              "8          host_acceptance_rate           87.51\n",
              "9                      bedrooms           93.71\n",
              "10                         beds           98.50\n",
              "11                host_location           99.52\n",
              "12               bathrooms_text           99.78\n",
              "13                   host_since           99.99\n",
              "14            host_is_superhost           99.99"
            ],
            "text/html": [
              "\n",
              "  <div id=\"df-911d5c5b-d1a4-479b-b478-58c36df98c2d\">\n",
              "    <div class=\"colab-df-container\">\n",
              "      <div>\n",
              "<style scoped>\n",
              "    .dataframe tbody tr th:only-of-type {\n",
              "        vertical-align: middle;\n",
              "    }\n",
              "\n",
              "    .dataframe tbody tr th {\n",
              "        vertical-align: top;\n",
              "    }\n",
              "\n",
              "    .dataframe thead th {\n",
              "        text-align: right;\n",
              "    }\n",
              "</style>\n",
              "<table border=\"1\" class=\"dataframe\">\n",
              "  <thead>\n",
              "    <tr style=\"text-align: right;\">\n",
              "      <th></th>\n",
              "      <th>Feature</th>\n",
              "      <th>%_completeness</th>\n",
              "    </tr>\n",
              "  </thead>\n",
              "  <tbody>\n",
              "    <tr>\n",
              "      <th>0</th>\n",
              "      <td>review_scores_location</td>\n",
              "      <td>71.97</td>\n",
              "    </tr>\n",
              "    <tr>\n",
              "      <th>1</th>\n",
              "      <td>review_scores_checkin</td>\n",
              "      <td>71.97</td>\n",
              "    </tr>\n",
              "    <tr>\n",
              "      <th>2</th>\n",
              "      <td>review_scores_communication</td>\n",
              "      <td>71.98</td>\n",
              "    </tr>\n",
              "    <tr>\n",
              "      <th>3</th>\n",
              "      <td>review_scores_accuracy</td>\n",
              "      <td>71.98</td>\n",
              "    </tr>\n",
              "    <tr>\n",
              "      <th>4</th>\n",
              "      <td>review_scores_cleanliness</td>\n",
              "      <td>71.99</td>\n",
              "    </tr>\n",
              "    <tr>\n",
              "      <th>5</th>\n",
              "      <td>review_scores_rating</td>\n",
              "      <td>72.79</td>\n",
              "    </tr>\n",
              "    <tr>\n",
              "      <th>6</th>\n",
              "      <td>host_response_rate</td>\n",
              "      <td>77.82</td>\n",
              "    </tr>\n",
              "    <tr>\n",
              "      <th>7</th>\n",
              "      <td>host_response_time</td>\n",
              "      <td>77.82</td>\n",
              "    </tr>\n",
              "    <tr>\n",
              "      <th>8</th>\n",
              "      <td>host_acceptance_rate</td>\n",
              "      <td>87.51</td>\n",
              "    </tr>\n",
              "    <tr>\n",
              "      <th>9</th>\n",
              "      <td>bedrooms</td>\n",
              "      <td>93.71</td>\n",
              "    </tr>\n",
              "    <tr>\n",
              "      <th>10</th>\n",
              "      <td>beds</td>\n",
              "      <td>98.50</td>\n",
              "    </tr>\n",
              "    <tr>\n",
              "      <th>11</th>\n",
              "      <td>host_location</td>\n",
              "      <td>99.52</td>\n",
              "    </tr>\n",
              "    <tr>\n",
              "      <th>12</th>\n",
              "      <td>bathrooms_text</td>\n",
              "      <td>99.78</td>\n",
              "    </tr>\n",
              "    <tr>\n",
              "      <th>13</th>\n",
              "      <td>host_since</td>\n",
              "      <td>99.99</td>\n",
              "    </tr>\n",
              "    <tr>\n",
              "      <th>14</th>\n",
              "      <td>host_is_superhost</td>\n",
              "      <td>99.99</td>\n",
              "    </tr>\n",
              "  </tbody>\n",
              "</table>\n",
              "</div>\n",
              "      <button class=\"colab-df-convert\" onclick=\"convertToInteractive('df-911d5c5b-d1a4-479b-b478-58c36df98c2d')\"\n",
              "              title=\"Convert this dataframe to an interactive table.\"\n",
              "              style=\"display:none;\">\n",
              "        \n",
              "  <svg xmlns=\"http://www.w3.org/2000/svg\" height=\"24px\"viewBox=\"0 0 24 24\"\n",
              "       width=\"24px\">\n",
              "    <path d=\"M0 0h24v24H0V0z\" fill=\"none\"/>\n",
              "    <path d=\"M18.56 5.44l.94 2.06.94-2.06 2.06-.94-2.06-.94-.94-2.06-.94 2.06-2.06.94zm-11 1L8.5 8.5l.94-2.06 2.06-.94-2.06-.94L8.5 2.5l-.94 2.06-2.06.94zm10 10l.94 2.06.94-2.06 2.06-.94-2.06-.94-.94-2.06-.94 2.06-2.06.94z\"/><path d=\"M17.41 7.96l-1.37-1.37c-.4-.4-.92-.59-1.43-.59-.52 0-1.04.2-1.43.59L10.3 9.45l-7.72 7.72c-.78.78-.78 2.05 0 2.83L4 21.41c.39.39.9.59 1.41.59.51 0 1.02-.2 1.41-.59l7.78-7.78 2.81-2.81c.8-.78.8-2.07 0-2.86zM5.41 20L4 18.59l7.72-7.72 1.47 1.35L5.41 20z\"/>\n",
              "  </svg>\n",
              "      </button>\n",
              "      \n",
              "  <style>\n",
              "    .colab-df-container {\n",
              "      display:flex;\n",
              "      flex-wrap:wrap;\n",
              "      gap: 12px;\n",
              "    }\n",
              "\n",
              "    .colab-df-convert {\n",
              "      background-color: #E8F0FE;\n",
              "      border: none;\n",
              "      border-radius: 50%;\n",
              "      cursor: pointer;\n",
              "      display: none;\n",
              "      fill: #1967D2;\n",
              "      height: 32px;\n",
              "      padding: 0 0 0 0;\n",
              "      width: 32px;\n",
              "    }\n",
              "\n",
              "    .colab-df-convert:hover {\n",
              "      background-color: #E2EBFA;\n",
              "      box-shadow: 0px 1px 2px rgba(60, 64, 67, 0.3), 0px 1px 3px 1px rgba(60, 64, 67, 0.15);\n",
              "      fill: #174EA6;\n",
              "    }\n",
              "\n",
              "    [theme=dark] .colab-df-convert {\n",
              "      background-color: #3B4455;\n",
              "      fill: #D2E3FC;\n",
              "    }\n",
              "\n",
              "    [theme=dark] .colab-df-convert:hover {\n",
              "      background-color: #434B5C;\n",
              "      box-shadow: 0px 1px 3px 1px rgba(0, 0, 0, 0.15);\n",
              "      filter: drop-shadow(0px 1px 2px rgba(0, 0, 0, 0.3));\n",
              "      fill: #FFFFFF;\n",
              "    }\n",
              "  </style>\n",
              "\n",
              "      <script>\n",
              "        const buttonEl =\n",
              "          document.querySelector('#df-911d5c5b-d1a4-479b-b478-58c36df98c2d button.colab-df-convert');\n",
              "        buttonEl.style.display =\n",
              "          google.colab.kernel.accessAllowed ? 'block' : 'none';\n",
              "\n",
              "        async function convertToInteractive(key) {\n",
              "          const element = document.querySelector('#df-911d5c5b-d1a4-479b-b478-58c36df98c2d');\n",
              "          const dataTable =\n",
              "            await google.colab.kernel.invokeFunction('convertToInteractive',\n",
              "                                                     [key], {});\n",
              "          if (!dataTable) return;\n",
              "\n",
              "          const docLinkHtml = 'Like what you see? Visit the ' +\n",
              "            '<a target=\"_blank\" href=https://colab.research.google.com/notebooks/data_table.ipynb>data table notebook</a>'\n",
              "            + ' to learn more about interactive tables.';\n",
              "          element.innerHTML = '';\n",
              "          dataTable['output_type'] = 'display_data';\n",
              "          await google.colab.output.renderOutput(dataTable, element);\n",
              "          const docLink = document.createElement('div');\n",
              "          docLink.innerHTML = docLinkHtml;\n",
              "          element.appendChild(docLink);\n",
              "        }\n",
              "      </script>\n",
              "    </div>\n",
              "  </div>\n",
              "  "
            ]
          },
          "metadata": {},
          "execution_count": 13
        }
      ]
    },
    {
      "cell_type": "code",
      "source": [
        "print('The number of columns with missing values are: ', len(listings_completeness[listings_completeness['%_completeness'] < 100]))"
      ],
      "metadata": {
        "colab": {
          "base_uri": "https://localhost:8080/"
        },
        "id": "IQ1CtHVx7USy",
        "outputId": "a067a284-881b-42a3-dcce-821d65bf2c63"
      },
      "execution_count": 14,
      "outputs": [
        {
          "output_type": "stream",
          "name": "stdout",
          "text": [
            "The number of columns with missing values are:  15\n"
          ]
        }
      ]
    },
    {
      "cell_type": "markdown",
      "source": [
        "The columns neighbourhood_group_cleansed, license, bathrooms, calendar_updated and host_neighbourhood have the highest number of missing values with over 95% of the data missing. We don't think there is much we can do with this columns and we will look to drop them."
      ],
      "metadata": {
        "id": "b5rZ6qLjKW3_"
      }
    },
    {
      "cell_type": "markdown",
      "source": [
        "##### `'review'` \n",
        "\n",
        "Dealing with review_scores_checkin, review_scores_location, review_scores_value, review_scores_accuracy, review_scores_communication, review_scores_cleanliness & review_scores_ratings columns."
      ],
      "metadata": {
        "id": "2K3wIG6AQccU"
      }
    },
    {
      "cell_type": "code",
      "source": [
        "# Creating a list of the reviews_ columns\n",
        "\n",
        "review_list = [column for column in listings_df.columns if 'review_score' in column.strip()]\n",
        "review_list"
      ],
      "metadata": {
        "colab": {
          "base_uri": "https://localhost:8080/"
        },
        "id": "UwEgF7EePLVw",
        "outputId": "a1036747-3d80-4c88-a691-88f562e55887"
      },
      "execution_count": 15,
      "outputs": [
        {
          "output_type": "execute_result",
          "data": {
            "text/plain": [
              "['review_scores_rating',\n",
              " 'review_scores_accuracy',\n",
              " 'review_scores_cleanliness',\n",
              " 'review_scores_checkin',\n",
              " 'review_scores_communication',\n",
              " 'review_scores_location']"
            ]
          },
          "metadata": {},
          "execution_count": 15
        }
      ]
    },
    {
      "cell_type": "code",
      "source": [
        "review_cols_df = listings_df[review_list].copy() # subsetting a dataframe of review list\n",
        "\n",
        "review_cols_df.isna().sum() # checking sum of nan values"
      ],
      "metadata": {
        "colab": {
          "base_uri": "https://localhost:8080/"
        },
        "id": "wy7jgxwRPLfN",
        "outputId": "398bc057-8198-41b4-b327-93a45a22627f"
      },
      "execution_count": 16,
      "outputs": [
        {
          "output_type": "execute_result",
          "data": {
            "text/plain": [
              "review_scores_rating           5143\n",
              "review_scores_accuracy         5296\n",
              "review_scores_cleanliness      5295\n",
              "review_scores_checkin          5299\n",
              "review_scores_communication    5296\n",
              "review_scores_location         5299\n",
              "dtype: int64"
            ]
          },
          "metadata": {},
          "execution_count": 16
        }
      ]
    },
    {
      "cell_type": "code",
      "source": [
        "review_cols_df.tail().T # Check tail of subset"
      ],
      "metadata": {
        "colab": {
          "base_uri": "https://localhost:8080/",
          "height": 237
        },
        "id": "1hg1f1R_UHGE",
        "outputId": "ff783a99-9211-4f9a-b907-ed663b5d3318"
      },
      "execution_count": 17,
      "outputs": [
        {
          "output_type": "execute_result",
          "data": {
            "text/plain": [
              "                             18898  18899  18900  18901  18902\n",
              "review_scores_rating          4.79    5.0    4.8    5.0   4.59\n",
              "review_scores_accuracy        4.95    5.0    4.8    5.0   4.77\n",
              "review_scores_cleanliness     4.95    5.0    4.7    5.0   4.77\n",
              "review_scores_checkin         4.89    5.0    4.8    5.0   4.55\n",
              "review_scores_communication   4.89    4.0    4.7    5.0   4.73\n",
              "review_scores_location        5.00    5.0    4.4    5.0   4.95"
            ],
            "text/html": [
              "\n",
              "  <div id=\"df-b042a431-1bf1-49fc-a1fa-8a00303634ad\">\n",
              "    <div class=\"colab-df-container\">\n",
              "      <div>\n",
              "<style scoped>\n",
              "    .dataframe tbody tr th:only-of-type {\n",
              "        vertical-align: middle;\n",
              "    }\n",
              "\n",
              "    .dataframe tbody tr th {\n",
              "        vertical-align: top;\n",
              "    }\n",
              "\n",
              "    .dataframe thead th {\n",
              "        text-align: right;\n",
              "    }\n",
              "</style>\n",
              "<table border=\"1\" class=\"dataframe\">\n",
              "  <thead>\n",
              "    <tr style=\"text-align: right;\">\n",
              "      <th></th>\n",
              "      <th>18898</th>\n",
              "      <th>18899</th>\n",
              "      <th>18900</th>\n",
              "      <th>18901</th>\n",
              "      <th>18902</th>\n",
              "    </tr>\n",
              "  </thead>\n",
              "  <tbody>\n",
              "    <tr>\n",
              "      <th>review_scores_rating</th>\n",
              "      <td>4.79</td>\n",
              "      <td>5.0</td>\n",
              "      <td>4.8</td>\n",
              "      <td>5.0</td>\n",
              "      <td>4.59</td>\n",
              "    </tr>\n",
              "    <tr>\n",
              "      <th>review_scores_accuracy</th>\n",
              "      <td>4.95</td>\n",
              "      <td>5.0</td>\n",
              "      <td>4.8</td>\n",
              "      <td>5.0</td>\n",
              "      <td>4.77</td>\n",
              "    </tr>\n",
              "    <tr>\n",
              "      <th>review_scores_cleanliness</th>\n",
              "      <td>4.95</td>\n",
              "      <td>5.0</td>\n",
              "      <td>4.7</td>\n",
              "      <td>5.0</td>\n",
              "      <td>4.77</td>\n",
              "    </tr>\n",
              "    <tr>\n",
              "      <th>review_scores_checkin</th>\n",
              "      <td>4.89</td>\n",
              "      <td>5.0</td>\n",
              "      <td>4.8</td>\n",
              "      <td>5.0</td>\n",
              "      <td>4.55</td>\n",
              "    </tr>\n",
              "    <tr>\n",
              "      <th>review_scores_communication</th>\n",
              "      <td>4.89</td>\n",
              "      <td>4.0</td>\n",
              "      <td>4.7</td>\n",
              "      <td>5.0</td>\n",
              "      <td>4.73</td>\n",
              "    </tr>\n",
              "    <tr>\n",
              "      <th>review_scores_location</th>\n",
              "      <td>5.00</td>\n",
              "      <td>5.0</td>\n",
              "      <td>4.4</td>\n",
              "      <td>5.0</td>\n",
              "      <td>4.95</td>\n",
              "    </tr>\n",
              "  </tbody>\n",
              "</table>\n",
              "</div>\n",
              "      <button class=\"colab-df-convert\" onclick=\"convertToInteractive('df-b042a431-1bf1-49fc-a1fa-8a00303634ad')\"\n",
              "              title=\"Convert this dataframe to an interactive table.\"\n",
              "              style=\"display:none;\">\n",
              "        \n",
              "  <svg xmlns=\"http://www.w3.org/2000/svg\" height=\"24px\"viewBox=\"0 0 24 24\"\n",
              "       width=\"24px\">\n",
              "    <path d=\"M0 0h24v24H0V0z\" fill=\"none\"/>\n",
              "    <path d=\"M18.56 5.44l.94 2.06.94-2.06 2.06-.94-2.06-.94-.94-2.06-.94 2.06-2.06.94zm-11 1L8.5 8.5l.94-2.06 2.06-.94-2.06-.94L8.5 2.5l-.94 2.06-2.06.94zm10 10l.94 2.06.94-2.06 2.06-.94-2.06-.94-.94-2.06-.94 2.06-2.06.94z\"/><path d=\"M17.41 7.96l-1.37-1.37c-.4-.4-.92-.59-1.43-.59-.52 0-1.04.2-1.43.59L10.3 9.45l-7.72 7.72c-.78.78-.78 2.05 0 2.83L4 21.41c.39.39.9.59 1.41.59.51 0 1.02-.2 1.41-.59l7.78-7.78 2.81-2.81c.8-.78.8-2.07 0-2.86zM5.41 20L4 18.59l7.72-7.72 1.47 1.35L5.41 20z\"/>\n",
              "  </svg>\n",
              "      </button>\n",
              "      \n",
              "  <style>\n",
              "    .colab-df-container {\n",
              "      display:flex;\n",
              "      flex-wrap:wrap;\n",
              "      gap: 12px;\n",
              "    }\n",
              "\n",
              "    .colab-df-convert {\n",
              "      background-color: #E8F0FE;\n",
              "      border: none;\n",
              "      border-radius: 50%;\n",
              "      cursor: pointer;\n",
              "      display: none;\n",
              "      fill: #1967D2;\n",
              "      height: 32px;\n",
              "      padding: 0 0 0 0;\n",
              "      width: 32px;\n",
              "    }\n",
              "\n",
              "    .colab-df-convert:hover {\n",
              "      background-color: #E2EBFA;\n",
              "      box-shadow: 0px 1px 2px rgba(60, 64, 67, 0.3), 0px 1px 3px 1px rgba(60, 64, 67, 0.15);\n",
              "      fill: #174EA6;\n",
              "    }\n",
              "\n",
              "    [theme=dark] .colab-df-convert {\n",
              "      background-color: #3B4455;\n",
              "      fill: #D2E3FC;\n",
              "    }\n",
              "\n",
              "    [theme=dark] .colab-df-convert:hover {\n",
              "      background-color: #434B5C;\n",
              "      box-shadow: 0px 1px 3px 1px rgba(0, 0, 0, 0.15);\n",
              "      filter: drop-shadow(0px 1px 2px rgba(0, 0, 0, 0.3));\n",
              "      fill: #FFFFFF;\n",
              "    }\n",
              "  </style>\n",
              "\n",
              "      <script>\n",
              "        const buttonEl =\n",
              "          document.querySelector('#df-b042a431-1bf1-49fc-a1fa-8a00303634ad button.colab-df-convert');\n",
              "        buttonEl.style.display =\n",
              "          google.colab.kernel.accessAllowed ? 'block' : 'none';\n",
              "\n",
              "        async function convertToInteractive(key) {\n",
              "          const element = document.querySelector('#df-b042a431-1bf1-49fc-a1fa-8a00303634ad');\n",
              "          const dataTable =\n",
              "            await google.colab.kernel.invokeFunction('convertToInteractive',\n",
              "                                                     [key], {});\n",
              "          if (!dataTable) return;\n",
              "\n",
              "          const docLinkHtml = 'Like what you see? Visit the ' +\n",
              "            '<a target=\"_blank\" href=https://colab.research.google.com/notebooks/data_table.ipynb>data table notebook</a>'\n",
              "            + ' to learn more about interactive tables.';\n",
              "          element.innerHTML = '';\n",
              "          dataTable['output_type'] = 'display_data';\n",
              "          await google.colab.output.renderOutput(dataTable, element);\n",
              "          const docLink = document.createElement('div');\n",
              "          docLink.innerHTML = docLinkHtml;\n",
              "          element.appendChild(docLink);\n",
              "        }\n",
              "      </script>\n",
              "    </div>\n",
              "  </div>\n",
              "  "
            ]
          },
          "metadata": {},
          "execution_count": 17
        }
      ]
    },
    {
      "cell_type": "markdown",
      "source": [
        "All columns are of numeric type."
      ],
      "metadata": {
        "id": "Xaz1WtenXAZr"
      }
    },
    {
      "cell_type": "code",
      "source": [
        "review_cols_df.describe().T # checking the column descriptions"
      ],
      "metadata": {
        "colab": {
          "base_uri": "https://localhost:8080/",
          "height": 237
        },
        "id": "Ecxsez7lTAeA",
        "outputId": "ac9161fb-8cab-4ed2-d2b3-37541dfff7db"
      },
      "execution_count": 18,
      "outputs": [
        {
          "output_type": "execute_result",
          "data": {
            "text/plain": [
              "                               count      mean       std  min   25%   50%  \\\n",
              "review_scores_rating         13760.0  4.666231  0.684017  0.0  4.64  4.86   \n",
              "review_scores_accuracy       13607.0  4.757262  0.490736  0.0  4.73  4.91   \n",
              "review_scores_cleanliness    13608.0  4.730264  0.492878  0.0  4.67  4.89   \n",
              "review_scores_checkin        13604.0  4.808905  0.462444  0.0  4.81  4.97   \n",
              "review_scores_communication  13607.0  4.802807  0.479074  0.0  4.81  4.97   \n",
              "review_scores_location       13604.0  4.803673  0.414366  0.0  4.78  4.93   \n",
              "\n",
              "                             75%  max  \n",
              "review_scores_rating         5.0  5.0  \n",
              "review_scores_accuracy       5.0  5.0  \n",
              "review_scores_cleanliness    5.0  5.0  \n",
              "review_scores_checkin        5.0  5.0  \n",
              "review_scores_communication  5.0  5.0  \n",
              "review_scores_location       5.0  5.0  "
            ],
            "text/html": [
              "\n",
              "  <div id=\"df-de0e8109-8906-40e1-a7ab-a339729418aa\">\n",
              "    <div class=\"colab-df-container\">\n",
              "      <div>\n",
              "<style scoped>\n",
              "    .dataframe tbody tr th:only-of-type {\n",
              "        vertical-align: middle;\n",
              "    }\n",
              "\n",
              "    .dataframe tbody tr th {\n",
              "        vertical-align: top;\n",
              "    }\n",
              "\n",
              "    .dataframe thead th {\n",
              "        text-align: right;\n",
              "    }\n",
              "</style>\n",
              "<table border=\"1\" class=\"dataframe\">\n",
              "  <thead>\n",
              "    <tr style=\"text-align: right;\">\n",
              "      <th></th>\n",
              "      <th>count</th>\n",
              "      <th>mean</th>\n",
              "      <th>std</th>\n",
              "      <th>min</th>\n",
              "      <th>25%</th>\n",
              "      <th>50%</th>\n",
              "      <th>75%</th>\n",
              "      <th>max</th>\n",
              "    </tr>\n",
              "  </thead>\n",
              "  <tbody>\n",
              "    <tr>\n",
              "      <th>review_scores_rating</th>\n",
              "      <td>13760.0</td>\n",
              "      <td>4.666231</td>\n",
              "      <td>0.684017</td>\n",
              "      <td>0.0</td>\n",
              "      <td>4.64</td>\n",
              "      <td>4.86</td>\n",
              "      <td>5.0</td>\n",
              "      <td>5.0</td>\n",
              "    </tr>\n",
              "    <tr>\n",
              "      <th>review_scores_accuracy</th>\n",
              "      <td>13607.0</td>\n",
              "      <td>4.757262</td>\n",
              "      <td>0.490736</td>\n",
              "      <td>0.0</td>\n",
              "      <td>4.73</td>\n",
              "      <td>4.91</td>\n",
              "      <td>5.0</td>\n",
              "      <td>5.0</td>\n",
              "    </tr>\n",
              "    <tr>\n",
              "      <th>review_scores_cleanliness</th>\n",
              "      <td>13608.0</td>\n",
              "      <td>4.730264</td>\n",
              "      <td>0.492878</td>\n",
              "      <td>0.0</td>\n",
              "      <td>4.67</td>\n",
              "      <td>4.89</td>\n",
              "      <td>5.0</td>\n",
              "      <td>5.0</td>\n",
              "    </tr>\n",
              "    <tr>\n",
              "      <th>review_scores_checkin</th>\n",
              "      <td>13604.0</td>\n",
              "      <td>4.808905</td>\n",
              "      <td>0.462444</td>\n",
              "      <td>0.0</td>\n",
              "      <td>4.81</td>\n",
              "      <td>4.97</td>\n",
              "      <td>5.0</td>\n",
              "      <td>5.0</td>\n",
              "    </tr>\n",
              "    <tr>\n",
              "      <th>review_scores_communication</th>\n",
              "      <td>13607.0</td>\n",
              "      <td>4.802807</td>\n",
              "      <td>0.479074</td>\n",
              "      <td>0.0</td>\n",
              "      <td>4.81</td>\n",
              "      <td>4.97</td>\n",
              "      <td>5.0</td>\n",
              "      <td>5.0</td>\n",
              "    </tr>\n",
              "    <tr>\n",
              "      <th>review_scores_location</th>\n",
              "      <td>13604.0</td>\n",
              "      <td>4.803673</td>\n",
              "      <td>0.414366</td>\n",
              "      <td>0.0</td>\n",
              "      <td>4.78</td>\n",
              "      <td>4.93</td>\n",
              "      <td>5.0</td>\n",
              "      <td>5.0</td>\n",
              "    </tr>\n",
              "  </tbody>\n",
              "</table>\n",
              "</div>\n",
              "      <button class=\"colab-df-convert\" onclick=\"convertToInteractive('df-de0e8109-8906-40e1-a7ab-a339729418aa')\"\n",
              "              title=\"Convert this dataframe to an interactive table.\"\n",
              "              style=\"display:none;\">\n",
              "        \n",
              "  <svg xmlns=\"http://www.w3.org/2000/svg\" height=\"24px\"viewBox=\"0 0 24 24\"\n",
              "       width=\"24px\">\n",
              "    <path d=\"M0 0h24v24H0V0z\" fill=\"none\"/>\n",
              "    <path d=\"M18.56 5.44l.94 2.06.94-2.06 2.06-.94-2.06-.94-.94-2.06-.94 2.06-2.06.94zm-11 1L8.5 8.5l.94-2.06 2.06-.94-2.06-.94L8.5 2.5l-.94 2.06-2.06.94zm10 10l.94 2.06.94-2.06 2.06-.94-2.06-.94-.94-2.06-.94 2.06-2.06.94z\"/><path d=\"M17.41 7.96l-1.37-1.37c-.4-.4-.92-.59-1.43-.59-.52 0-1.04.2-1.43.59L10.3 9.45l-7.72 7.72c-.78.78-.78 2.05 0 2.83L4 21.41c.39.39.9.59 1.41.59.51 0 1.02-.2 1.41-.59l7.78-7.78 2.81-2.81c.8-.78.8-2.07 0-2.86zM5.41 20L4 18.59l7.72-7.72 1.47 1.35L5.41 20z\"/>\n",
              "  </svg>\n",
              "      </button>\n",
              "      \n",
              "  <style>\n",
              "    .colab-df-container {\n",
              "      display:flex;\n",
              "      flex-wrap:wrap;\n",
              "      gap: 12px;\n",
              "    }\n",
              "\n",
              "    .colab-df-convert {\n",
              "      background-color: #E8F0FE;\n",
              "      border: none;\n",
              "      border-radius: 50%;\n",
              "      cursor: pointer;\n",
              "      display: none;\n",
              "      fill: #1967D2;\n",
              "      height: 32px;\n",
              "      padding: 0 0 0 0;\n",
              "      width: 32px;\n",
              "    }\n",
              "\n",
              "    .colab-df-convert:hover {\n",
              "      background-color: #E2EBFA;\n",
              "      box-shadow: 0px 1px 2px rgba(60, 64, 67, 0.3), 0px 1px 3px 1px rgba(60, 64, 67, 0.15);\n",
              "      fill: #174EA6;\n",
              "    }\n",
              "\n",
              "    [theme=dark] .colab-df-convert {\n",
              "      background-color: #3B4455;\n",
              "      fill: #D2E3FC;\n",
              "    }\n",
              "\n",
              "    [theme=dark] .colab-df-convert:hover {\n",
              "      background-color: #434B5C;\n",
              "      box-shadow: 0px 1px 3px 1px rgba(0, 0, 0, 0.15);\n",
              "      filter: drop-shadow(0px 1px 2px rgba(0, 0, 0, 0.3));\n",
              "      fill: #FFFFFF;\n",
              "    }\n",
              "  </style>\n",
              "\n",
              "      <script>\n",
              "        const buttonEl =\n",
              "          document.querySelector('#df-de0e8109-8906-40e1-a7ab-a339729418aa button.colab-df-convert');\n",
              "        buttonEl.style.display =\n",
              "          google.colab.kernel.accessAllowed ? 'block' : 'none';\n",
              "\n",
              "        async function convertToInteractive(key) {\n",
              "          const element = document.querySelector('#df-de0e8109-8906-40e1-a7ab-a339729418aa');\n",
              "          const dataTable =\n",
              "            await google.colab.kernel.invokeFunction('convertToInteractive',\n",
              "                                                     [key], {});\n",
              "          if (!dataTable) return;\n",
              "\n",
              "          const docLinkHtml = 'Like what you see? Visit the ' +\n",
              "            '<a target=\"_blank\" href=https://colab.research.google.com/notebooks/data_table.ipynb>data table notebook</a>'\n",
              "            + ' to learn more about interactive tables.';\n",
              "          element.innerHTML = '';\n",
              "          dataTable['output_type'] = 'display_data';\n",
              "          await google.colab.output.renderOutput(dataTable, element);\n",
              "          const docLink = document.createElement('div');\n",
              "          docLink.innerHTML = docLinkHtml;\n",
              "          element.appendChild(docLink);\n",
              "        }\n",
              "      </script>\n",
              "    </div>\n",
              "  </div>\n",
              "  "
            ]
          },
          "metadata": {},
          "execution_count": 18
        }
      ]
    },
    {
      "cell_type": "markdown",
      "source": [
        "There is a significant percentage of missing values in some of the 'review' columns. The missing values will be filled with the median of the respective column."
      ],
      "metadata": {
        "id": "WIjht-nbVd8_"
      }
    },
    {
      "cell_type": "code",
      "source": [
        "# imputing missing values with median\n",
        "\n",
        "listings_df[review_list] = listings_df[review_list].fillna(listings_df[review_list].median())"
      ],
      "metadata": {
        "id": "mDp7laNoUVvp"
      },
      "execution_count": 19,
      "outputs": []
    },
    {
      "cell_type": "code",
      "source": [
        "listings_df[review_list].isna().sum() # checking if it worked"
      ],
      "metadata": {
        "colab": {
          "base_uri": "https://localhost:8080/"
        },
        "id": "ItfAsTRmUVsR",
        "outputId": "a3c016aa-cc63-484c-ad2b-03ca50268142"
      },
      "execution_count": 20,
      "outputs": [
        {
          "output_type": "execute_result",
          "data": {
            "text/plain": [
              "review_scores_rating           0\n",
              "review_scores_accuracy         0\n",
              "review_scores_cleanliness      0\n",
              "review_scores_checkin          0\n",
              "review_scores_communication    0\n",
              "review_scores_location         0\n",
              "dtype: int64"
            ]
          },
          "metadata": {},
          "execution_count": 20
        }
      ]
    },
    {
      "cell_type": "code",
      "source": [
        "# rounding off ratings values \n",
        "listings_df[review_list] = listings_df[review_list].round(0)"
      ],
      "metadata": {
        "id": "zWp0MKMfSi21"
      },
      "execution_count": 21,
      "outputs": []
    },
    {
      "cell_type": "code",
      "source": [
        "# checking value counts\n",
        "\n",
        "for feature in review_list:\n",
        "    print(value_count(listings_df, feature))\n",
        "    break # limiting long output"
      ],
      "metadata": {
        "colab": {
          "base_uri": "https://localhost:8080/"
        },
        "id": "HnO4PnOJYAYB",
        "outputId": "92bae147-963e-4706-d273-edc051218ed1"
      },
      "execution_count": 22,
      "outputs": [
        {
          "output_type": "stream",
          "name": "stdout",
          "text": [
            "     Count(s)\n",
            "5.0     16284\n",
            "4.0      2140\n",
            "3.0       190\n",
            "0.0       138\n",
            "1.0       102\n",
            "2.0        49\n"
          ]
        }
      ]
    },
    {
      "cell_type": "markdown",
      "source": [
        "The number of rating scores that equal 0 are negligible compared to the size of the dataset. Though a zero ratin gis hard to read, channging them to 1 is more sensible.\n",
        "\n",
        "They should also be a category data type"
      ],
      "metadata": {
        "id": "r4eqWEeehTpl"
      }
    },
    {
      "cell_type": "code",
      "source": [
        "# replacing 0 values with 1\n",
        "\n",
        "for feature in review_list:\n",
        "    listings_df[feature] = listings_df[feature].replace(to_replace=0, value=1) # replacing\n",
        "    # listings_df[feature] = listings_df[feature].astype('category') # changing to category type"
      ],
      "metadata": {
        "id": "IJjwljhBh0Jo"
      },
      "execution_count": 23,
      "outputs": []
    },
    {
      "cell_type": "markdown",
      "source": [
        "**Questions?**\n",
        "\n",
        "1. What is the distribution of review scores?\n",
        "2. what is the relationship between review scores and superhosts?\n",
        "3. Do reviews influence price?"
      ],
      "metadata": {
        "id": "bTvHi59WX9lG"
      }
    },
    {
      "cell_type": "markdown",
      "source": [
        "##### bedrooms & beds"
      ],
      "metadata": {
        "id": "5_mmuxlJH1Q0"
      }
    },
    {
      "cell_type": "code",
      "source": [
        "# beds and bedrooms completeness\n",
        "\n",
        "bed_options = ['bedrooms', 'beds']\n",
        "\n",
        "listings_completeness[listings_completeness['Feature'].isin(bed_options)]"
      ],
      "metadata": {
        "colab": {
          "base_uri": "https://localhost:8080/",
          "height": 112
        },
        "id": "3Yw2hIlGCnhK",
        "outputId": "d5ec587f-abba-4284-d74e-ddc30c7cab84"
      },
      "execution_count": 24,
      "outputs": [
        {
          "output_type": "execute_result",
          "data": {
            "text/plain": [
              "     Feature  %_completeness\n",
              "9   bedrooms           93.71\n",
              "10      beds           98.50"
            ],
            "text/html": [
              "\n",
              "  <div id=\"df-68f0714e-b9e5-41dc-b8eb-25f52b14edab\">\n",
              "    <div class=\"colab-df-container\">\n",
              "      <div>\n",
              "<style scoped>\n",
              "    .dataframe tbody tr th:only-of-type {\n",
              "        vertical-align: middle;\n",
              "    }\n",
              "\n",
              "    .dataframe tbody tr th {\n",
              "        vertical-align: top;\n",
              "    }\n",
              "\n",
              "    .dataframe thead th {\n",
              "        text-align: right;\n",
              "    }\n",
              "</style>\n",
              "<table border=\"1\" class=\"dataframe\">\n",
              "  <thead>\n",
              "    <tr style=\"text-align: right;\">\n",
              "      <th></th>\n",
              "      <th>Feature</th>\n",
              "      <th>%_completeness</th>\n",
              "    </tr>\n",
              "  </thead>\n",
              "  <tbody>\n",
              "    <tr>\n",
              "      <th>9</th>\n",
              "      <td>bedrooms</td>\n",
              "      <td>93.71</td>\n",
              "    </tr>\n",
              "    <tr>\n",
              "      <th>10</th>\n",
              "      <td>beds</td>\n",
              "      <td>98.50</td>\n",
              "    </tr>\n",
              "  </tbody>\n",
              "</table>\n",
              "</div>\n",
              "      <button class=\"colab-df-convert\" onclick=\"convertToInteractive('df-68f0714e-b9e5-41dc-b8eb-25f52b14edab')\"\n",
              "              title=\"Convert this dataframe to an interactive table.\"\n",
              "              style=\"display:none;\">\n",
              "        \n",
              "  <svg xmlns=\"http://www.w3.org/2000/svg\" height=\"24px\"viewBox=\"0 0 24 24\"\n",
              "       width=\"24px\">\n",
              "    <path d=\"M0 0h24v24H0V0z\" fill=\"none\"/>\n",
              "    <path d=\"M18.56 5.44l.94 2.06.94-2.06 2.06-.94-2.06-.94-.94-2.06-.94 2.06-2.06.94zm-11 1L8.5 8.5l.94-2.06 2.06-.94-2.06-.94L8.5 2.5l-.94 2.06-2.06.94zm10 10l.94 2.06.94-2.06 2.06-.94-2.06-.94-.94-2.06-.94 2.06-2.06.94z\"/><path d=\"M17.41 7.96l-1.37-1.37c-.4-.4-.92-.59-1.43-.59-.52 0-1.04.2-1.43.59L10.3 9.45l-7.72 7.72c-.78.78-.78 2.05 0 2.83L4 21.41c.39.39.9.59 1.41.59.51 0 1.02-.2 1.41-.59l7.78-7.78 2.81-2.81c.8-.78.8-2.07 0-2.86zM5.41 20L4 18.59l7.72-7.72 1.47 1.35L5.41 20z\"/>\n",
              "  </svg>\n",
              "      </button>\n",
              "      \n",
              "  <style>\n",
              "    .colab-df-container {\n",
              "      display:flex;\n",
              "      flex-wrap:wrap;\n",
              "      gap: 12px;\n",
              "    }\n",
              "\n",
              "    .colab-df-convert {\n",
              "      background-color: #E8F0FE;\n",
              "      border: none;\n",
              "      border-radius: 50%;\n",
              "      cursor: pointer;\n",
              "      display: none;\n",
              "      fill: #1967D2;\n",
              "      height: 32px;\n",
              "      padding: 0 0 0 0;\n",
              "      width: 32px;\n",
              "    }\n",
              "\n",
              "    .colab-df-convert:hover {\n",
              "      background-color: #E2EBFA;\n",
              "      box-shadow: 0px 1px 2px rgba(60, 64, 67, 0.3), 0px 1px 3px 1px rgba(60, 64, 67, 0.15);\n",
              "      fill: #174EA6;\n",
              "    }\n",
              "\n",
              "    [theme=dark] .colab-df-convert {\n",
              "      background-color: #3B4455;\n",
              "      fill: #D2E3FC;\n",
              "    }\n",
              "\n",
              "    [theme=dark] .colab-df-convert:hover {\n",
              "      background-color: #434B5C;\n",
              "      box-shadow: 0px 1px 3px 1px rgba(0, 0, 0, 0.15);\n",
              "      filter: drop-shadow(0px 1px 2px rgba(0, 0, 0, 0.3));\n",
              "      fill: #FFFFFF;\n",
              "    }\n",
              "  </style>\n",
              "\n",
              "      <script>\n",
              "        const buttonEl =\n",
              "          document.querySelector('#df-68f0714e-b9e5-41dc-b8eb-25f52b14edab button.colab-df-convert');\n",
              "        buttonEl.style.display =\n",
              "          google.colab.kernel.accessAllowed ? 'block' : 'none';\n",
              "\n",
              "        async function convertToInteractive(key) {\n",
              "          const element = document.querySelector('#df-68f0714e-b9e5-41dc-b8eb-25f52b14edab');\n",
              "          const dataTable =\n",
              "            await google.colab.kernel.invokeFunction('convertToInteractive',\n",
              "                                                     [key], {});\n",
              "          if (!dataTable) return;\n",
              "\n",
              "          const docLinkHtml = 'Like what you see? Visit the ' +\n",
              "            '<a target=\"_blank\" href=https://colab.research.google.com/notebooks/data_table.ipynb>data table notebook</a>'\n",
              "            + ' to learn more about interactive tables.';\n",
              "          element.innerHTML = '';\n",
              "          dataTable['output_type'] = 'display_data';\n",
              "          await google.colab.output.renderOutput(dataTable, element);\n",
              "          const docLink = document.createElement('div');\n",
              "          docLink.innerHTML = docLinkHtml;\n",
              "          element.appendChild(docLink);\n",
              "        }\n",
              "      </script>\n",
              "    </div>\n",
              "  </div>\n",
              "  "
            ]
          },
          "metadata": {},
          "execution_count": 24
        }
      ]
    },
    {
      "cell_type": "markdown",
      "source": [
        "Approx 6% of data is missing from bedrooms column."
      ],
      "metadata": {
        "id": "qO-THCM64iNK"
      }
    },
    {
      "cell_type": "code",
      "source": [
        "# bedrooms unique values\n",
        "\n",
        "print('bedrooms unique counts are:', listings_df['bedrooms'].nunique())\n",
        "print()\n",
        "print(listings_df['bedrooms'].unique()[:23])"
      ],
      "metadata": {
        "colab": {
          "base_uri": "https://localhost:8080/"
        },
        "id": "utxKvSf9_sBO",
        "outputId": "3d57d372-4fca-4114-c0dc-4d7a4675d428"
      },
      "execution_count": 25,
      "outputs": [
        {
          "output_type": "stream",
          "name": "stdout",
          "text": [
            "bedrooms unique counts are: 22\n",
            "\n",
            "[ 1.  2.  5.  3. nan  6.  4. 10.  7.  8.  9. 12. 16. 19. 41. 40. 11. 14.\n",
            " 13. 18. 17. 15. 20.]\n"
          ]
        }
      ]
    },
    {
      "cell_type": "markdown",
      "source": [
        "Aprox 2% of data is missing in beds column."
      ],
      "metadata": {
        "id": "JogCtQ1n5F2r"
      }
    },
    {
      "cell_type": "code",
      "source": [
        "# # beds unique values\n",
        "\n",
        "print('beds unique counts are:', listings_df['beds'].nunique())\n",
        "print()\n",
        "print(listings_df['beds'].unique()[:10])\n",
        "print()\n",
        "print(type(listings_df['beds'][0]))"
      ],
      "metadata": {
        "colab": {
          "base_uri": "https://localhost:8080/"
        },
        "id": "0IzkDMktNJ7s",
        "outputId": "658052fd-ce8f-4149-db26-da101b17db9e"
      },
      "execution_count": 26,
      "outputs": [
        {
          "output_type": "stream",
          "name": "stdout",
          "text": [
            "beds unique counts are: 25\n",
            "\n",
            "[ 1.  3.  2.  4.  5.  6.  8. nan  7. 49.]\n",
            "\n",
            "<class 'numpy.float64'>\n"
          ]
        }
      ]
    },
    {
      "cell_type": "markdown",
      "source": [
        "Categorising these columns would be a better way of representation. Also, there seems to be outliers in these columns. "
      ],
      "metadata": {
        "id": "rMun0I3qkBHu"
      }
    },
    {
      "cell_type": "code",
      "source": [
        "box_plot(listings_df['bedrooms']) # checking if there are outliers in the bedrooms column"
      ],
      "metadata": {
        "colab": {
          "base_uri": "https://localhost:8080/",
          "height": 674
        },
        "id": "ei4JdnuC5QnL",
        "outputId": "9a2e2b36-1835-4c1d-8894-e050f8fa152b"
      },
      "execution_count": 27,
      "outputs": [
        {
          "output_type": "display_data",
          "data": {
            "text/plain": [
              "<Figure size 1440x720 with 1 Axes>"
            ],
            "image/png": "[encoded data removed]"
          },
          "metadata": {
            "needs_background": "light"
          }
        }
      ]
    },
    {
      "cell_type": "code",
      "source": [
        "box_plot(listings_df['beds']) # checking if there are outliers in the bed column"
      ],
      "metadata": {
        "id": "Eov7mD3DVIYh",
        "colab": {
          "base_uri": "https://localhost:8080/",
          "height": 674
        },
        "outputId": "0f3e4e00-728f-4739-f454-d432bcb0efef"
      },
      "execution_count": 28,
      "outputs": [
        {
          "output_type": "display_data",
          "data": {
            "text/plain": [
              "<Figure size 1440x720 with 1 Axes>"
            ],
            "image/png": "[encoded data removed]"
          },
          "metadata": {
            "needs_background": "light"
          }
        }
      ]
    },
    {
      "cell_type": "code",
      "source": [
        "# subsetting bedrooms extreme outliers\n",
        "\n",
        "listings_df[listings_df['bedrooms'] >= 24][['bedrooms', 'beds', 'price', 'bathrooms_text']]"
      ],
      "metadata": {
        "id": "eB4mXpg5VYHp",
        "colab": {
          "base_uri": "https://localhost:8080/",
          "height": 112
        },
        "outputId": "36bc4551-f67d-4cef-b5b2-6e7c5f395648"
      },
      "execution_count": 29,
      "outputs": [
        {
          "output_type": "execute_result",
          "data": {
            "text/plain": [
              "      bedrooms  beds      price bathrooms_text\n",
              "8401      41.0  50.0  $1,689.00         1 bath\n",
              "8966      40.0  50.0    $807.00       42 baths"
            ],
            "text/html": [
              "\n",
              "  <div id=\"df-2b479f85-b09b-4b6c-8cbc-b10629a3d33e\">\n",
              "    <div class=\"colab-df-container\">\n",
              "      <div>\n",
              "<style scoped>\n",
              "    .dataframe tbody tr th:only-of-type {\n",
              "        vertical-align: middle;\n",
              "    }\n",
              "\n",
              "    .dataframe tbody tr th {\n",
              "        vertical-align: top;\n",
              "    }\n",
              "\n",
              "    .dataframe thead th {\n",
              "        text-align: right;\n",
              "    }\n",
              "</style>\n",
              "<table border=\"1\" class=\"dataframe\">\n",
              "  <thead>\n",
              "    <tr style=\"text-align: right;\">\n",
              "      <th></th>\n",
              "      <th>bedrooms</th>\n",
              "      <th>beds</th>\n",
              "      <th>price</th>\n",
              "      <th>bathrooms_text</th>\n",
              "    </tr>\n",
              "  </thead>\n",
              "  <tbody>\n",
              "    <tr>\n",
              "      <th>8401</th>\n",
              "      <td>41.0</td>\n",
              "      <td>50.0</td>\n",
              "      <td>$1,689.00</td>\n",
              "      <td>1 bath</td>\n",
              "    </tr>\n",
              "    <tr>\n",
              "      <th>8966</th>\n",
              "      <td>40.0</td>\n",
              "      <td>50.0</td>\n",
              "      <td>$807.00</td>\n",
              "      <td>42 baths</td>\n",
              "    </tr>\n",
              "  </tbody>\n",
              "</table>\n",
              "</div>\n",
              "      <button class=\"colab-df-convert\" onclick=\"convertToInteractive('df-2b479f85-b09b-4b6c-8cbc-b10629a3d33e')\"\n",
              "              title=\"Convert this dataframe to an interactive table.\"\n",
              "              style=\"display:none;\">\n",
              "        \n",
              "  <svg xmlns=\"http://www.w3.org/2000/svg\" height=\"24px\"viewBox=\"0 0 24 24\"\n",
              "       width=\"24px\">\n",
              "    <path d=\"M0 0h24v24H0V0z\" fill=\"none\"/>\n",
              "    <path d=\"M18.56 5.44l.94 2.06.94-2.06 2.06-.94-2.06-.94-.94-2.06-.94 2.06-2.06.94zm-11 1L8.5 8.5l.94-2.06 2.06-.94-2.06-.94L8.5 2.5l-.94 2.06-2.06.94zm10 10l.94 2.06.94-2.06 2.06-.94-2.06-.94-.94-2.06-.94 2.06-2.06.94z\"/><path d=\"M17.41 7.96l-1.37-1.37c-.4-.4-.92-.59-1.43-.59-.52 0-1.04.2-1.43.59L10.3 9.45l-7.72 7.72c-.78.78-.78 2.05 0 2.83L4 21.41c.39.39.9.59 1.41.59.51 0 1.02-.2 1.41-.59l7.78-7.78 2.81-2.81c.8-.78.8-2.07 0-2.86zM5.41 20L4 18.59l7.72-7.72 1.47 1.35L5.41 20z\"/>\n",
              "  </svg>\n",
              "      </button>\n",
              "      \n",
              "  <style>\n",
              "    .colab-df-container {\n",
              "      display:flex;\n",
              "      flex-wrap:wrap;\n",
              "      gap: 12px;\n",
              "    }\n",
              "\n",
              "    .colab-df-convert {\n",
              "      background-color: #E8F0FE;\n",
              "      border: none;\n",
              "      border-radius: 50%;\n",
              "      cursor: pointer;\n",
              "      display: none;\n",
              "      fill: #1967D2;\n",
              "      height: 32px;\n",
              "      padding: 0 0 0 0;\n",
              "      width: 32px;\n",
              "    }\n",
              "\n",
              "    .colab-df-convert:hover {\n",
              "      background-color: #E2EBFA;\n",
              "      box-shadow: 0px 1px 2px rgba(60, 64, 67, 0.3), 0px 1px 3px 1px rgba(60, 64, 67, 0.15);\n",
              "      fill: #174EA6;\n",
              "    }\n",
              "\n",
              "    [theme=dark] .colab-df-convert {\n",
              "      background-color: #3B4455;\n",
              "      fill: #D2E3FC;\n",
              "    }\n",
              "\n",
              "    [theme=dark] .colab-df-convert:hover {\n",
              "      background-color: #434B5C;\n",
              "      box-shadow: 0px 1px 3px 1px rgba(0, 0, 0, 0.15);\n",
              "      filter: drop-shadow(0px 1px 2px rgba(0, 0, 0, 0.3));\n",
              "      fill: #FFFFFF;\n",
              "    }\n",
              "  </style>\n",
              "\n",
              "      <script>\n",
              "        const buttonEl =\n",
              "          document.querySelector('#df-2b479f85-b09b-4b6c-8cbc-b10629a3d33e button.colab-df-convert');\n",
              "        buttonEl.style.display =\n",
              "          google.colab.kernel.accessAllowed ? 'block' : 'none';\n",
              "\n",
              "        async function convertToInteractive(key) {\n",
              "          const element = document.querySelector('#df-2b479f85-b09b-4b6c-8cbc-b10629a3d33e');\n",
              "          const dataTable =\n",
              "            await google.colab.kernel.invokeFunction('convertToInteractive',\n",
              "                                                     [key], {});\n",
              "          if (!dataTable) return;\n",
              "\n",
              "          const docLinkHtml = 'Like what you see? Visit the ' +\n",
              "            '<a target=\"_blank\" href=https://colab.research.google.com/notebooks/data_table.ipynb>data table notebook</a>'\n",
              "            + ' to learn more about interactive tables.';\n",
              "          element.innerHTML = '';\n",
              "          dataTable['output_type'] = 'display_data';\n",
              "          await google.colab.output.renderOutput(dataTable, element);\n",
              "          const docLink = document.createElement('div');\n",
              "          docLink.innerHTML = docLinkHtml;\n",
              "          element.appendChild(docLink);\n",
              "        }\n",
              "      </script>\n",
              "    </div>\n",
              "  </div>\n",
              "  "
            ]
          },
          "metadata": {},
          "execution_count": 29
        }
      ]
    },
    {
      "cell_type": "code",
      "source": [
        "# subsetting beds extreme outliers\n",
        "\n",
        "listings_df[listings_df['beds'] >= 24][['bedrooms', 'beds', 'price', 'bathrooms_text']]"
      ],
      "metadata": {
        "colab": {
          "base_uri": "https://localhost:8080/",
          "height": 300
        },
        "id": "Ex9l1ns7K45j",
        "outputId": "0e143290-d856-4ed3-d655-ac6cba096cbe"
      },
      "execution_count": 30,
      "outputs": [
        {
          "output_type": "execute_result",
          "data": {
            "text/plain": [
              "       bedrooms  beds      price  bathrooms_text\n",
              "148        10.0  49.0    $840.00        32 baths\n",
              "1742       12.0  24.0  $3,361.00         2 baths\n",
              "7064       12.0  24.0  $9,800.00         6 baths\n",
              "8401       41.0  50.0  $1,689.00          1 bath\n",
              "8966       40.0  50.0    $807.00        42 baths\n",
              "12250       1.0  24.0    $350.00   1 shared bath\n",
              "12517      14.0  24.0    $400.00  2 shared baths\n",
              "12518      13.0  40.0    $686.00         9 baths"
            ],
            "text/html": [
              "\n",
              "  <div id=\"df-89d71384-4279-44a1-a15a-765f395269de\">\n",
              "    <div class=\"colab-df-container\">\n",
              "      <div>\n",
              "<style scoped>\n",
              "    .dataframe tbody tr th:only-of-type {\n",
              "        vertical-align: middle;\n",
              "    }\n",
              "\n",
              "    .dataframe tbody tr th {\n",
              "        vertical-align: top;\n",
              "    }\n",
              "\n",
              "    .dataframe thead th {\n",
              "        text-align: right;\n",
              "    }\n",
              "</style>\n",
              "<table border=\"1\" class=\"dataframe\">\n",
              "  <thead>\n",
              "    <tr style=\"text-align: right;\">\n",
              "      <th></th>\n",
              "      <th>bedrooms</th>\n",
              "      <th>beds</th>\n",
              "      <th>price</th>\n",
              "      <th>bathrooms_text</th>\n",
              "    </tr>\n",
              "  </thead>\n",
              "  <tbody>\n",
              "    <tr>\n",
              "      <th>148</th>\n",
              "      <td>10.0</td>\n",
              "      <td>49.0</td>\n",
              "      <td>$840.00</td>\n",
              "      <td>32 baths</td>\n",
              "    </tr>\n",
              "    <tr>\n",
              "      <th>1742</th>\n",
              "      <td>12.0</td>\n",
              "      <td>24.0</td>\n",
              "      <td>$3,361.00</td>\n",
              "      <td>2 baths</td>\n",
              "    </tr>\n",
              "    <tr>\n",
              "      <th>7064</th>\n",
              "      <td>12.0</td>\n",
              "      <td>24.0</td>\n",
              "      <td>$9,800.00</td>\n",
              "      <td>6 baths</td>\n",
              "    </tr>\n",
              "    <tr>\n",
              "      <th>8401</th>\n",
              "      <td>41.0</td>\n",
              "      <td>50.0</td>\n",
              "      <td>$1,689.00</td>\n",
              "      <td>1 bath</td>\n",
              "    </tr>\n",
              "    <tr>\n",
              "      <th>8966</th>\n",
              "      <td>40.0</td>\n",
              "      <td>50.0</td>\n",
              "      <td>$807.00</td>\n",
              "      <td>42 baths</td>\n",
              "    </tr>\n",
              "    <tr>\n",
              "      <th>12250</th>\n",
              "      <td>1.0</td>\n",
              "      <td>24.0</td>\n",
              "      <td>$350.00</td>\n",
              "      <td>1 shared bath</td>\n",
              "    </tr>\n",
              "    <tr>\n",
              "      <th>12517</th>\n",
              "      <td>14.0</td>\n",
              "      <td>24.0</td>\n",
              "      <td>$400.00</td>\n",
              "      <td>2 shared baths</td>\n",
              "    </tr>\n",
              "    <tr>\n",
              "      <th>12518</th>\n",
              "      <td>13.0</td>\n",
              "      <td>40.0</td>\n",
              "      <td>$686.00</td>\n",
              "      <td>9 baths</td>\n",
              "    </tr>\n",
              "  </tbody>\n",
              "</table>\n",
              "</div>\n",
              "      <button class=\"colab-df-convert\" onclick=\"convertToInteractive('df-89d71384-4279-44a1-a15a-765f395269de')\"\n",
              "              title=\"Convert this dataframe to an interactive table.\"\n",
              "              style=\"display:none;\">\n",
              "        \n",
              "  <svg xmlns=\"http://www.w3.org/2000/svg\" height=\"24px\"viewBox=\"0 0 24 24\"\n",
              "       width=\"24px\">\n",
              "    <path d=\"M0 0h24v24H0V0z\" fill=\"none\"/>\n",
              "    <path d=\"M18.56 5.44l.94 2.06.94-2.06 2.06-.94-2.06-.94-.94-2.06-.94 2.06-2.06.94zm-11 1L8.5 8.5l.94-2.06 2.06-.94-2.06-.94L8.5 2.5l-.94 2.06-2.06.94zm10 10l.94 2.06.94-2.06 2.06-.94-2.06-.94-.94-2.06-.94 2.06-2.06.94z\"/><path d=\"M17.41 7.96l-1.37-1.37c-.4-.4-.92-.59-1.43-.59-.52 0-1.04.2-1.43.59L10.3 9.45l-7.72 7.72c-.78.78-.78 2.05 0 2.83L4 21.41c.39.39.9.59 1.41.59.51 0 1.02-.2 1.41-.59l7.78-7.78 2.81-2.81c.8-.78.8-2.07 0-2.86zM5.41 20L4 18.59l7.72-7.72 1.47 1.35L5.41 20z\"/>\n",
              "  </svg>\n",
              "      </button>\n",
              "      \n",
              "  <style>\n",
              "    .colab-df-container {\n",
              "      display:flex;\n",
              "      flex-wrap:wrap;\n",
              "      gap: 12px;\n",
              "    }\n",
              "\n",
              "    .colab-df-convert {\n",
              "      background-color: #E8F0FE;\n",
              "      border: none;\n",
              "      border-radius: 50%;\n",
              "      cursor: pointer;\n",
              "      display: none;\n",
              "      fill: #1967D2;\n",
              "      height: 32px;\n",
              "      padding: 0 0 0 0;\n",
              "      width: 32px;\n",
              "    }\n",
              "\n",
              "    .colab-df-convert:hover {\n",
              "      background-color: #E2EBFA;\n",
              "      box-shadow: 0px 1px 2px rgba(60, 64, 67, 0.3), 0px 1px 3px 1px rgba(60, 64, 67, 0.15);\n",
              "      fill: #174EA6;\n",
              "    }\n",
              "\n",
              "    [theme=dark] .colab-df-convert {\n",
              "      background-color: #3B4455;\n",
              "      fill: #D2E3FC;\n",
              "    }\n",
              "\n",
              "    [theme=dark] .colab-df-convert:hover {\n",
              "      background-color: #434B5C;\n",
              "      box-shadow: 0px 1px 3px 1px rgba(0, 0, 0, 0.15);\n",
              "      filter: drop-shadow(0px 1px 2px rgba(0, 0, 0, 0.3));\n",
              "      fill: #FFFFFF;\n",
              "    }\n",
              "  </style>\n",
              "\n",
              "      <script>\n",
              "        const buttonEl =\n",
              "          document.querySelector('#df-89d71384-4279-44a1-a15a-765f395269de button.colab-df-convert');\n",
              "        buttonEl.style.display =\n",
              "          google.colab.kernel.accessAllowed ? 'block' : 'none';\n",
              "\n",
              "        async function convertToInteractive(key) {\n",
              "          const element = document.querySelector('#df-89d71384-4279-44a1-a15a-765f395269de');\n",
              "          const dataTable =\n",
              "            await google.colab.kernel.invokeFunction('convertToInteractive',\n",
              "                                                     [key], {});\n",
              "          if (!dataTable) return;\n",
              "\n",
              "          const docLinkHtml = 'Like what you see? Visit the ' +\n",
              "            '<a target=\"_blank\" href=https://colab.research.google.com/notebooks/data_table.ipynb>data table notebook</a>'\n",
              "            + ' to learn more about interactive tables.';\n",
              "          element.innerHTML = '';\n",
              "          dataTable['output_type'] = 'display_data';\n",
              "          await google.colab.output.renderOutput(dataTable, element);\n",
              "          const docLink = document.createElement('div');\n",
              "          docLink.innerHTML = docLinkHtml;\n",
              "          element.appendChild(docLink);\n",
              "        }\n",
              "      </script>\n",
              "    </div>\n",
              "  </div>\n",
              "  "
            ]
          },
          "metadata": {},
          "execution_count": 30
        }
      ]
    },
    {
      "cell_type": "code",
      "source": [
        "# dropping the extreme values in bedrooms and beds columns\n",
        "\n",
        "print('Shape Before:', np.shape(listings_df))\n",
        "\n",
        "listings_df = listings_df[listings_df['beds'] < 24].copy()\n",
        "listings_df = listings_df[listings_df['bedrooms'] < 24].copy()\n",
        "\n",
        "print('Shape After:', np.shape(listings_df))"
      ],
      "metadata": {
        "id": "Fd2GVnwa5QiH",
        "colab": {
          "base_uri": "https://localhost:8080/"
        },
        "outputId": "b49da337-6da4-4cf8-ea6b-f41ddaedc137"
      },
      "execution_count": 31,
      "outputs": [
        {
          "output_type": "stream",
          "name": "stdout",
          "text": [
            "Shape Before: (18903, 29)\n",
            "Shape After: (17475, 29)\n"
          ]
        }
      ]
    },
    {
      "cell_type": "code",
      "source": [
        "print(listings_df['bedrooms'].median()) # Checking the bedrooms median\n",
        "\n",
        "listings_df['bedrooms'].fillna(value=listings_df['bedrooms'].median(), inplace=True) # fill missing values"
      ],
      "metadata": {
        "colab": {
          "base_uri": "https://localhost:8080/"
        },
        "id": "paIEVaQeC7UX",
        "outputId": "927a922b-f32b-438e-9ad3-17c9e227c07d"
      },
      "execution_count": 32,
      "outputs": [
        {
          "output_type": "stream",
          "name": "stdout",
          "text": [
            "1.0\n"
          ]
        }
      ]
    },
    {
      "cell_type": "code",
      "source": [
        "print(listings_df['beds'].median()) # Checking the beds median\n",
        "\n",
        "listings_df['beds'].fillna(value=listings_df['beds'].median(), inplace=True) # fill missing values"
      ],
      "metadata": {
        "colab": {
          "base_uri": "https://localhost:8080/"
        },
        "id": "H9MoS38Taydy",
        "outputId": "fa4999e9-be62-4425-ac2e-1c3db7f27dfe"
      },
      "execution_count": 33,
      "outputs": [
        {
          "output_type": "stream",
          "name": "stdout",
          "text": [
            "2.0\n"
          ]
        }
      ]
    },
    {
      "cell_type": "markdown",
      "source": [
        "##### bathrooms_text "
      ],
      "metadata": {
        "id": "rlK4N8VtSywA"
      }
    },
    {
      "cell_type": "code",
      "source": [
        "listings_completeness[listings_completeness['Feature'] == 'beds'] # checkings bathrooms_text completeness"
      ],
      "metadata": {
        "id": "1Dlvcv60Ui9H",
        "colab": {
          "base_uri": "https://localhost:8080/",
          "height": 81
        },
        "outputId": "ba58d8e4-fae4-4cd1-9dd6-2c633a0e7375"
      },
      "execution_count": 34,
      "outputs": [
        {
          "output_type": "execute_result",
          "data": {
            "text/plain": [
              "   Feature  %_completeness\n",
              "10    beds            98.5"
            ],
            "text/html": [
              "\n",
              "  <div id=\"df-d437fe43-47d4-4db0-afa5-55e2bb5790fd\">\n",
              "    <div class=\"colab-df-container\">\n",
              "      <div>\n",
              "<style scoped>\n",
              "    .dataframe tbody tr th:only-of-type {\n",
              "        vertical-align: middle;\n",
              "    }\n",
              "\n",
              "    .dataframe tbody tr th {\n",
              "        vertical-align: top;\n",
              "    }\n",
              "\n",
              "    .dataframe thead th {\n",
              "        text-align: right;\n",
              "    }\n",
              "</style>\n",
              "<table border=\"1\" class=\"dataframe\">\n",
              "  <thead>\n",
              "    <tr style=\"text-align: right;\">\n",
              "      <th></th>\n",
              "      <th>Feature</th>\n",
              "      <th>%_completeness</th>\n",
              "    </tr>\n",
              "  </thead>\n",
              "  <tbody>\n",
              "    <tr>\n",
              "      <th>10</th>\n",
              "      <td>beds</td>\n",
              "      <td>98.5</td>\n",
              "    </tr>\n",
              "  </tbody>\n",
              "</table>\n",
              "</div>\n",
              "      <button class=\"colab-df-convert\" onclick=\"convertToInteractive('df-d437fe43-47d4-4db0-afa5-55e2bb5790fd')\"\n",
              "              title=\"Convert this dataframe to an interactive table.\"\n",
              "              style=\"display:none;\">\n",
              "        \n",
              "  <svg xmlns=\"http://www.w3.org/2000/svg\" height=\"24px\"viewBox=\"0 0 24 24\"\n",
              "       width=\"24px\">\n",
              "    <path d=\"M0 0h24v24H0V0z\" fill=\"none\"/>\n",
              "    <path d=\"M18.56 5.44l.94 2.06.94-2.06 2.06-.94-2.06-.94-.94-2.06-.94 2.06-2.06.94zm-11 1L8.5 8.5l.94-2.06 2.06-.94-2.06-.94L8.5 2.5l-.94 2.06-2.06.94zm10 10l.94 2.06.94-2.06 2.06-.94-2.06-.94-.94-2.06-.94 2.06-2.06.94z\"/><path d=\"M17.41 7.96l-1.37-1.37c-.4-.4-.92-.59-1.43-.59-.52 0-1.04.2-1.43.59L10.3 9.45l-7.72 7.72c-.78.78-.78 2.05 0 2.83L4 21.41c.39.39.9.59 1.41.59.51 0 1.02-.2 1.41-.59l7.78-7.78 2.81-2.81c.8-.78.8-2.07 0-2.86zM5.41 20L4 18.59l7.72-7.72 1.47 1.35L5.41 20z\"/>\n",
              "  </svg>\n",
              "      </button>\n",
              "      \n",
              "  <style>\n",
              "    .colab-df-container {\n",
              "      display:flex;\n",
              "      flex-wrap:wrap;\n",
              "      gap: 12px;\n",
              "    }\n",
              "\n",
              "    .colab-df-convert {\n",
              "      background-color: #E8F0FE;\n",
              "      border: none;\n",
              "      border-radius: 50%;\n",
              "      cursor: pointer;\n",
              "      display: none;\n",
              "      fill: #1967D2;\n",
              "      height: 32px;\n",
              "      padding: 0 0 0 0;\n",
              "      width: 32px;\n",
              "    }\n",
              "\n",
              "    .colab-df-convert:hover {\n",
              "      background-color: #E2EBFA;\n",
              "      box-shadow: 0px 1px 2px rgba(60, 64, 67, 0.3), 0px 1px 3px 1px rgba(60, 64, 67, 0.15);\n",
              "      fill: #174EA6;\n",
              "    }\n",
              "\n",
              "    [theme=dark] .colab-df-convert {\n",
              "      background-color: #3B4455;\n",
              "      fill: #D2E3FC;\n",
              "    }\n",
              "\n",
              "    [theme=dark] .colab-df-convert:hover {\n",
              "      background-color: #434B5C;\n",
              "      box-shadow: 0px 1px 3px 1px rgba(0, 0, 0, 0.15);\n",
              "      filter: drop-shadow(0px 1px 2px rgba(0, 0, 0, 0.3));\n",
              "      fill: #FFFFFF;\n",
              "    }\n",
              "  </style>\n",
              "\n",
              "      <script>\n",
              "        const buttonEl =\n",
              "          document.querySelector('#df-d437fe43-47d4-4db0-afa5-55e2bb5790fd button.colab-df-convert');\n",
              "        buttonEl.style.display =\n",
              "          google.colab.kernel.accessAllowed ? 'block' : 'none';\n",
              "\n",
              "        async function convertToInteractive(key) {\n",
              "          const element = document.querySelector('#df-d437fe43-47d4-4db0-afa5-55e2bb5790fd');\n",
              "          const dataTable =\n",
              "            await google.colab.kernel.invokeFunction('convertToInteractive',\n",
              "                                                     [key], {});\n",
              "          if (!dataTable) return;\n",
              "\n",
              "          const docLinkHtml = 'Like what you see? Visit the ' +\n",
              "            '<a target=\"_blank\" href=https://colab.research.google.com/notebooks/data_table.ipynb>data table notebook</a>'\n",
              "            + ' to learn more about interactive tables.';\n",
              "          element.innerHTML = '';\n",
              "          dataTable['output_type'] = 'display_data';\n",
              "          await google.colab.output.renderOutput(dataTable, element);\n",
              "          const docLink = document.createElement('div');\n",
              "          docLink.innerHTML = docLinkHtml;\n",
              "          element.appendChild(docLink);\n",
              "        }\n",
              "      </script>\n",
              "    </div>\n",
              "  </div>\n",
              "  "
            ]
          },
          "metadata": {},
          "execution_count": 34
        }
      ]
    },
    {
      "cell_type": "code",
      "source": [
        "listings_df['bathrooms_text'].head() # viewing bathrooms_text"
      ],
      "metadata": {
        "colab": {
          "base_uri": "https://localhost:8080/"
        },
        "outputId": "0ac51134-d75e-480f-d01d-59f468ce3b6a",
        "id": "nMDqUvMESywC"
      },
      "execution_count": 35,
      "outputs": [
        {
          "output_type": "execute_result",
          "data": {
            "text/plain": [
              "0     1 bath\n",
              "1     1 bath\n",
              "2     1 bath\n",
              "3     1 bath\n",
              "4    2 baths\n",
              "Name: bathrooms_text, dtype: object"
            ]
          },
          "metadata": {},
          "execution_count": 35
        }
      ]
    },
    {
      "cell_type": "code",
      "source": [
        "listings_df['bathrooms_text'].unique()[:10] # checking bathrooms unique values"
      ],
      "metadata": {
        "colab": {
          "base_uri": "https://localhost:8080/"
        },
        "outputId": "dff9cd19-d580-4a2e-9182-8a779e04a0cd",
        "id": "RmSQ-c1NSywD"
      },
      "execution_count": 36,
      "outputs": [
        {
          "output_type": "execute_result",
          "data": {
            "text/plain": [
              "array(['1 bath', '2 baths', '1.5 baths', '5 baths', '3 baths',\n",
              "       '3.5 baths', '1 private bath', '6.5 baths', '2.5 baths',\n",
              "       '4.5 baths'], dtype=object)"
            ]
          },
          "metadata": {},
          "execution_count": 36
        }
      ]
    },
    {
      "cell_type": "markdown",
      "source": [
        "This should be a categorical column."
      ],
      "metadata": {
        "id": "2tbYydITbL6j"
      }
    },
    {
      "cell_type": "code",
      "source": [
        "# strip the substring alphabets, changing column to float\n",
        "\n",
        "listings_df['bathrooms_text'] = listings_df['bathrooms_text'].str.extract('(\\d+\\.?\\d*)')\n",
        "\n",
        "listings_df['bathrooms_text'] = listings_df['bathrooms_text'].astype('float') # changing data type\n",
        "\n",
        "listings_df['bathrooms_text'].value_counts()[:5]"
      ],
      "metadata": {
        "colab": {
          "base_uri": "https://localhost:8080/"
        },
        "outputId": "334c55f3-044d-415e-8acf-f3d9565badee",
        "id": "p_OFlsINSywE"
      },
      "execution_count": 37,
      "outputs": [
        {
          "output_type": "execute_result",
          "data": {
            "text/plain": [
              "1.0    8978\n",
              "2.0    3574\n",
              "1.5    1405\n",
              "3.0     892\n",
              "2.5     852\n",
              "3.5     558\n",
              "4.0     330\n",
              "4.5     282\n",
              "5.0     144\n",
              "Name: bathrooms_text, dtype: int64"
            ]
          },
          "metadata": {},
          "execution_count": 37
        }
      ]
    },
    {
      "cell_type": "code",
      "source": [
        "box_plot(listings_df['bathrooms_text']) # checking if there are outliers in bathrooms_text"
      ],
      "metadata": {
        "colab": {
          "base_uri": "https://localhost:8080/",
          "height": 675
        },
        "id": "vGCIK3JxTGAa",
        "outputId": "28ded976-73c0-4304-9d14-0e58f9af789d"
      },
      "execution_count": 38,
      "outputs": [
        {
          "output_type": "display_data",
          "data": {
            "text/plain": [
              "<Figure size 1440x720 with 1 Axes>"
            ],
            "image/png": "[encoded data removed]"
          },
          "metadata": {
            "needs_background": "light"
          }
        }
      ]
    },
    {
      "cell_type": "code",
      "source": [
        "print(listings_df['bathrooms_text'].median()) # Checking the bedrooms median\n",
        "\n",
        "listings_df['bathrooms_text'].fillna(value=listings_df['bathrooms_text'].median(), inplace=True) # fill missing values"
      ],
      "metadata": {
        "colab": {
          "base_uri": "https://localhost:8080/"
        },
        "id": "VRNerXnFAeUp",
        "outputId": "8af5f691-4262-4da4-ae3c-5b7894189df6"
      },
      "execution_count": 39,
      "outputs": [
        {
          "output_type": "stream",
          "name": "stdout",
          "text": [
            "1.0\n"
          ]
        }
      ]
    },
    {
      "cell_type": "code",
      "source": [
        "# changing column name \n",
        "listings_df.rename(columns={'bathrooms_text': 'bathrooms'}, inplace=True)"
      ],
      "metadata": {
        "id": "91kIUZt6AeJu"
      },
      "execution_count": 40,
      "outputs": []
    },
    {
      "cell_type": "markdown",
      "source": [
        "##### host_location"
      ],
      "metadata": {
        "id": "63x9dINSbxH8"
      }
    },
    {
      "cell_type": "code",
      "source": [
        "listings_completeness[listings_completeness['Feature'] == 'host_location'] # checking completeness"
      ],
      "metadata": {
        "colab": {
          "base_uri": "https://localhost:8080/",
          "height": 81
        },
        "id": "gAywaDVmb83F",
        "outputId": "4378a0d6-ee3f-4767-acfc-991710245212"
      },
      "execution_count": 41,
      "outputs": [
        {
          "output_type": "execute_result",
          "data": {
            "text/plain": [
              "          Feature  %_completeness\n",
              "11  host_location           99.52"
            ],
            "text/html": [
              "\n",
              "  <div id=\"df-f3938f41-754e-4b33-b165-171663f19ec6\">\n",
              "    <div class=\"colab-df-container\">\n",
              "      <div>\n",
              "<style scoped>\n",
              "    .dataframe tbody tr th:only-of-type {\n",
              "        vertical-align: middle;\n",
              "    }\n",
              "\n",
              "    .dataframe tbody tr th {\n",
              "        vertical-align: top;\n",
              "    }\n",
              "\n",
              "    .dataframe thead th {\n",
              "        text-align: right;\n",
              "    }\n",
              "</style>\n",
              "<table border=\"1\" class=\"dataframe\">\n",
              "  <thead>\n",
              "    <tr style=\"text-align: right;\">\n",
              "      <th></th>\n",
              "      <th>Feature</th>\n",
              "      <th>%_completeness</th>\n",
              "    </tr>\n",
              "  </thead>\n",
              "  <tbody>\n",
              "    <tr>\n",
              "      <th>11</th>\n",
              "      <td>host_location</td>\n",
              "      <td>99.52</td>\n",
              "    </tr>\n",
              "  </tbody>\n",
              "</table>\n",
              "</div>\n",
              "      <button class=\"colab-df-convert\" onclick=\"convertToInteractive('df-f3938f41-754e-4b33-b165-171663f19ec6')\"\n",
              "              title=\"Convert this dataframe to an interactive table.\"\n",
              "              style=\"display:none;\">\n",
              "        \n",
              "  <svg xmlns=\"http://www.w3.org/2000/svg\" height=\"24px\"viewBox=\"0 0 24 24\"\n",
              "       width=\"24px\">\n",
              "    <path d=\"M0 0h24v24H0V0z\" fill=\"none\"/>\n",
              "    <path d=\"M18.56 5.44l.94 2.06.94-2.06 2.06-.94-2.06-.94-.94-2.06-.94 2.06-2.06.94zm-11 1L8.5 8.5l.94-2.06 2.06-.94-2.06-.94L8.5 2.5l-.94 2.06-2.06.94zm10 10l.94 2.06.94-2.06 2.06-.94-2.06-.94-.94-2.06-.94 2.06-2.06.94z\"/><path d=\"M17.41 7.96l-1.37-1.37c-.4-.4-.92-.59-1.43-.59-.52 0-1.04.2-1.43.59L10.3 9.45l-7.72 7.72c-.78.78-.78 2.05 0 2.83L4 21.41c.39.39.9.59 1.41.59.51 0 1.02-.2 1.41-.59l7.78-7.78 2.81-2.81c.8-.78.8-2.07 0-2.86zM5.41 20L4 18.59l7.72-7.72 1.47 1.35L5.41 20z\"/>\n",
              "  </svg>\n",
              "      </button>\n",
              "      \n",
              "  <style>\n",
              "    .colab-df-container {\n",
              "      display:flex;\n",
              "      flex-wrap:wrap;\n",
              "      gap: 12px;\n",
              "    }\n",
              "\n",
              "    .colab-df-convert {\n",
              "      background-color: #E8F0FE;\n",
              "      border: none;\n",
              "      border-radius: 50%;\n",
              "      cursor: pointer;\n",
              "      display: none;\n",
              "      fill: #1967D2;\n",
              "      height: 32px;\n",
              "      padding: 0 0 0 0;\n",
              "      width: 32px;\n",
              "    }\n",
              "\n",
              "    .colab-df-convert:hover {\n",
              "      background-color: #E2EBFA;\n",
              "      box-shadow: 0px 1px 2px rgba(60, 64, 67, 0.3), 0px 1px 3px 1px rgba(60, 64, 67, 0.15);\n",
              "      fill: #174EA6;\n",
              "    }\n",
              "\n",
              "    [theme=dark] .colab-df-convert {\n",
              "      background-color: #3B4455;\n",
              "      fill: #D2E3FC;\n",
              "    }\n",
              "\n",
              "    [theme=dark] .colab-df-convert:hover {\n",
              "      background-color: #434B5C;\n",
              "      box-shadow: 0px 1px 3px 1px rgba(0, 0, 0, 0.15);\n",
              "      filter: drop-shadow(0px 1px 2px rgba(0, 0, 0, 0.3));\n",
              "      fill: #FFFFFF;\n",
              "    }\n",
              "  </style>\n",
              "\n",
              "      <script>\n",
              "        const buttonEl =\n",
              "          document.querySelector('#df-f3938f41-754e-4b33-b165-171663f19ec6 button.colab-df-convert');\n",
              "        buttonEl.style.display =\n",
              "          google.colab.kernel.accessAllowed ? 'block' : 'none';\n",
              "\n",
              "        async function convertToInteractive(key) {\n",
              "          const element = document.querySelector('#df-f3938f41-754e-4b33-b165-171663f19ec6');\n",
              "          const dataTable =\n",
              "            await google.colab.kernel.invokeFunction('convertToInteractive',\n",
              "                                                     [key], {});\n",
              "          if (!dataTable) return;\n",
              "\n",
              "          const docLinkHtml = 'Like what you see? Visit the ' +\n",
              "            '<a target=\"_blank\" href=https://colab.research.google.com/notebooks/data_table.ipynb>data table notebook</a>'\n",
              "            + ' to learn more about interactive tables.';\n",
              "          element.innerHTML = '';\n",
              "          dataTable['output_type'] = 'display_data';\n",
              "          await google.colab.output.renderOutput(dataTable, element);\n",
              "          const docLink = document.createElement('div');\n",
              "          docLink.innerHTML = docLinkHtml;\n",
              "          element.appendChild(docLink);\n",
              "        }\n",
              "      </script>\n",
              "    </div>\n",
              "  </div>\n",
              "  "
            ]
          },
          "metadata": {},
          "execution_count": 41
        }
      ]
    },
    {
      "cell_type": "code",
      "source": [
        "# checking unique values\n",
        "\n",
        "print('host_location unique counts are:', listings_df['host_location'].nunique())\n",
        "print()\n",
        "print(listings_df['host_location'].unique()[:10])"
      ],
      "metadata": {
        "colab": {
          "base_uri": "https://localhost:8080/"
        },
        "id": "8LW15yhzb8q5",
        "outputId": "90dc1951-15bc-47d7-bd00-6b4929f21420"
      },
      "execution_count": 42,
      "outputs": [
        {
          "output_type": "stream",
          "name": "stdout",
          "text": [
            "host_location unique counts are: 614\n",
            "\n",
            "['Cape Town, Western Cape, South Africa'\n",
            " 'Stellenbosch, Western Cape, South Africa' 'Western Cape, South Africa'\n",
            " 'Windmeul, Western Cape, South Africa' 'ZA'\n",
            " 'Johannesburg, Gauteng, South Africa' 'Sandton, Gauteng, South Africa'\n",
            " 'Gibraltar' 'Las Vegas, Nevada, United States'\n",
            " \"Betty's Bay, Western Cape, South Africa\"]\n"
          ]
        }
      ]
    },
    {
      "cell_type": "markdown",
      "source": [
        "This column is contains names of locations of the host. Areas outside Western Cape are, South Africa are present in it. \n",
        "\n",
        "From the data dictionary, this column contains locations of hosts as self reported. \n",
        "\n",
        "This can be used to analyse if there is a relation between host_location(proximity) to response_rate."
      ],
      "metadata": {
        "id": "GZ0RgFCDiBUX"
      }
    },
    {
      "cell_type": "code",
      "source": [],
      "metadata": {
        "id": "0cMmOWnylH6d"
      },
      "execution_count": 42,
      "outputs": []
    },
    {
      "cell_type": "code",
      "source": [],
      "metadata": {
        "id": "aUaZXON8lH0v"
      },
      "execution_count": 42,
      "outputs": []
    },
    {
      "cell_type": "markdown",
      "source": [
        "##### some 'host' columns\n",
        "\n",
        "Dealing with host_response_time, host_response_rate & host_acceptance_rate columns."
      ],
      "metadata": {
        "id": "HJC9qHut34_l"
      }
    },
    {
      "cell_type": "code",
      "source": [
        "# host_response_time\n",
        "listings_completeness[listings_completeness['Feature'] == 'host_response_time'] # checking completeness"
      ],
      "metadata": {
        "id": "qHDf7xdsWmGz",
        "colab": {
          "base_uri": "https://localhost:8080/",
          "height": 81
        },
        "outputId": "2e6c928d-4a99-4eb3-8342-65c47bae6e14"
      },
      "execution_count": 43,
      "outputs": [
        {
          "output_type": "execute_result",
          "data": {
            "text/plain": [
              "              Feature  %_completeness\n",
              "7  host_response_time           77.82"
            ],
            "text/html": [
              "\n",
              "  <div id=\"df-813d033f-111d-4823-95d6-9a0d96f6b385\">\n",
              "    <div class=\"colab-df-container\">\n",
              "      <div>\n",
              "<style scoped>\n",
              "    .dataframe tbody tr th:only-of-type {\n",
              "        vertical-align: middle;\n",
              "    }\n",
              "\n",
              "    .dataframe tbody tr th {\n",
              "        vertical-align: top;\n",
              "    }\n",
              "\n",
              "    .dataframe thead th {\n",
              "        text-align: right;\n",
              "    }\n",
              "</style>\n",
              "<table border=\"1\" class=\"dataframe\">\n",
              "  <thead>\n",
              "    <tr style=\"text-align: right;\">\n",
              "      <th></th>\n",
              "      <th>Feature</th>\n",
              "      <th>%_completeness</th>\n",
              "    </tr>\n",
              "  </thead>\n",
              "  <tbody>\n",
              "    <tr>\n",
              "      <th>7</th>\n",
              "      <td>host_response_time</td>\n",
              "      <td>77.82</td>\n",
              "    </tr>\n",
              "  </tbody>\n",
              "</table>\n",
              "</div>\n",
              "      <button class=\"colab-df-convert\" onclick=\"convertToInteractive('df-813d033f-111d-4823-95d6-9a0d96f6b385')\"\n",
              "              title=\"Convert this dataframe to an interactive table.\"\n",
              "              style=\"display:none;\">\n",
              "        \n",
              "  <svg xmlns=\"http://www.w3.org/2000/svg\" height=\"24px\"viewBox=\"0 0 24 24\"\n",
              "       width=\"24px\">\n",
              "    <path d=\"M0 0h24v24H0V0z\" fill=\"none\"/>\n",
              "    <path d=\"M18.56 5.44l.94 2.06.94-2.06 2.06-.94-2.06-.94-.94-2.06-.94 2.06-2.06.94zm-11 1L8.5 8.5l.94-2.06 2.06-.94-2.06-.94L8.5 2.5l-.94 2.06-2.06.94zm10 10l.94 2.06.94-2.06 2.06-.94-2.06-.94-.94-2.06-.94 2.06-2.06.94z\"/><path d=\"M17.41 7.96l-1.37-1.37c-.4-.4-.92-.59-1.43-.59-.52 0-1.04.2-1.43.59L10.3 9.45l-7.72 7.72c-.78.78-.78 2.05 0 2.83L4 21.41c.39.39.9.59 1.41.59.51 0 1.02-.2 1.41-.59l7.78-7.78 2.81-2.81c.8-.78.8-2.07 0-2.86zM5.41 20L4 18.59l7.72-7.72 1.47 1.35L5.41 20z\"/>\n",
              "  </svg>\n",
              "      </button>\n",
              "      \n",
              "  <style>\n",
              "    .colab-df-container {\n",
              "      display:flex;\n",
              "      flex-wrap:wrap;\n",
              "      gap: 12px;\n",
              "    }\n",
              "\n",
              "    .colab-df-convert {\n",
              "      background-color: #E8F0FE;\n",
              "      border: none;\n",
              "      border-radius: 50%;\n",
              "      cursor: pointer;\n",
              "      display: none;\n",
              "      fill: #1967D2;\n",
              "      height: 32px;\n",
              "      padding: 0 0 0 0;\n",
              "      width: 32px;\n",
              "    }\n",
              "\n",
              "    .colab-df-convert:hover {\n",
              "      background-color: #E2EBFA;\n",
              "      box-shadow: 0px 1px 2px rgba(60, 64, 67, 0.3), 0px 1px 3px 1px rgba(60, 64, 67, 0.15);\n",
              "      fill: #174EA6;\n",
              "    }\n",
              "\n",
              "    [theme=dark] .colab-df-convert {\n",
              "      background-color: #3B4455;\n",
              "      fill: #D2E3FC;\n",
              "    }\n",
              "\n",
              "    [theme=dark] .colab-df-convert:hover {\n",
              "      background-color: #434B5C;\n",
              "      box-shadow: 0px 1px 3px 1px rgba(0, 0, 0, 0.15);\n",
              "      filter: drop-shadow(0px 1px 2px rgba(0, 0, 0, 0.3));\n",
              "      fill: #FFFFFF;\n",
              "    }\n",
              "  </style>\n",
              "\n",
              "      <script>\n",
              "        const buttonEl =\n",
              "          document.querySelector('#df-813d033f-111d-4823-95d6-9a0d96f6b385 button.colab-df-convert');\n",
              "        buttonEl.style.display =\n",
              "          google.colab.kernel.accessAllowed ? 'block' : 'none';\n",
              "\n",
              "        async function convertToInteractive(key) {\n",
              "          const element = document.querySelector('#df-813d033f-111d-4823-95d6-9a0d96f6b385');\n",
              "          const dataTable =\n",
              "            await google.colab.kernel.invokeFunction('convertToInteractive',\n",
              "                                                     [key], {});\n",
              "          if (!dataTable) return;\n",
              "\n",
              "          const docLinkHtml = 'Like what you see? Visit the ' +\n",
              "            '<a target=\"_blank\" href=https://colab.research.google.com/notebooks/data_table.ipynb>data table notebook</a>'\n",
              "            + ' to learn more about interactive tables.';\n",
              "          element.innerHTML = '';\n",
              "          dataTable['output_type'] = 'display_data';\n",
              "          await google.colab.output.renderOutput(dataTable, element);\n",
              "          const docLink = document.createElement('div');\n",
              "          docLink.innerHTML = docLinkHtml;\n",
              "          element.appendChild(docLink);\n",
              "        }\n",
              "      </script>\n",
              "    </div>\n",
              "  </div>\n",
              "  "
            ]
          },
          "metadata": {},
          "execution_count": 43
        }
      ]
    },
    {
      "cell_type": "code",
      "source": [
        "# checking unique counts\n",
        "\n",
        "print('host_response_time unique counts are:', listings_df['host_response_time'].nunique())\n",
        "print()\n",
        "print(listings_df['host_response_time'].unique())"
      ],
      "metadata": {
        "colab": {
          "base_uri": "https://localhost:8080/"
        },
        "id": "ZQRI54Xn4XrD",
        "outputId": "9caa04ae-a5dd-4956-e847-29a938c08f38"
      },
      "execution_count": 44,
      "outputs": [
        {
          "output_type": "stream",
          "name": "stdout",
          "text": [
            "host_response_time unique counts are: 4\n",
            "\n",
            "['within an hour' 'within a few hours' nan 'within a day'\n",
            " 'a few days or more']\n"
          ]
        }
      ]
    },
    {
      "cell_type": "markdown",
      "source": [
        "We see that the host_response_time is a categorical column. It also has missing values. We will impute 'unknown' category as a category in this column."
      ],
      "metadata": {
        "id": "20hx2waP49zx"
      }
    },
    {
      "cell_type": "code",
      "source": [
        "listings_df['host_response_time'] = listings_df['host_response_time'].fillna('unknown') # filling nan values with unknown"
      ],
      "metadata": {
        "id": "8n5HBFDv4XPk"
      },
      "execution_count": 45,
      "outputs": []
    },
    {
      "cell_type": "code",
      "source": [
        "# host_response_rate\n",
        "listings_completeness[listings_completeness['Feature'] == 'host_response_rate'] # viewing host response rate completeness"
      ],
      "metadata": {
        "colab": {
          "base_uri": "https://localhost:8080/",
          "height": 81
        },
        "id": "Ch8OmhA653Js",
        "outputId": "0db9c312-69b4-4091-89b0-382c8da61160"
      },
      "execution_count": 46,
      "outputs": [
        {
          "output_type": "execute_result",
          "data": {
            "text/plain": [
              "              Feature  %_completeness\n",
              "6  host_response_rate           77.82"
            ],
            "text/html": [
              "\n",
              "  <div id=\"df-2ac938c6-06e5-4bb1-a8f3-1b60998ab5fa\">\n",
              "    <div class=\"colab-df-container\">\n",
              "      <div>\n",
              "<style scoped>\n",
              "    .dataframe tbody tr th:only-of-type {\n",
              "        vertical-align: middle;\n",
              "    }\n",
              "\n",
              "    .dataframe tbody tr th {\n",
              "        vertical-align: top;\n",
              "    }\n",
              "\n",
              "    .dataframe thead th {\n",
              "        text-align: right;\n",
              "    }\n",
              "</style>\n",
              "<table border=\"1\" class=\"dataframe\">\n",
              "  <thead>\n",
              "    <tr style=\"text-align: right;\">\n",
              "      <th></th>\n",
              "      <th>Feature</th>\n",
              "      <th>%_completeness</th>\n",
              "    </tr>\n",
              "  </thead>\n",
              "  <tbody>\n",
              "    <tr>\n",
              "      <th>6</th>\n",
              "      <td>host_response_rate</td>\n",
              "      <td>77.82</td>\n",
              "    </tr>\n",
              "  </tbody>\n",
              "</table>\n",
              "</div>\n",
              "      <button class=\"colab-df-convert\" onclick=\"convertToInteractive('df-2ac938c6-06e5-4bb1-a8f3-1b60998ab5fa')\"\n",
              "              title=\"Convert this dataframe to an interactive table.\"\n",
              "              style=\"display:none;\">\n",
              "        \n",
              "  <svg xmlns=\"http://www.w3.org/2000/svg\" height=\"24px\"viewBox=\"0 0 24 24\"\n",
              "       width=\"24px\">\n",
              "    <path d=\"M0 0h24v24H0V0z\" fill=\"none\"/>\n",
              "    <path d=\"M18.56 5.44l.94 2.06.94-2.06 2.06-.94-2.06-.94-.94-2.06-.94 2.06-2.06.94zm-11 1L8.5 8.5l.94-2.06 2.06-.94-2.06-.94L8.5 2.5l-.94 2.06-2.06.94zm10 10l.94 2.06.94-2.06 2.06-.94-2.06-.94-.94-2.06-.94 2.06-2.06.94z\"/><path d=\"M17.41 7.96l-1.37-1.37c-.4-.4-.92-.59-1.43-.59-.52 0-1.04.2-1.43.59L10.3 9.45l-7.72 7.72c-.78.78-.78 2.05 0 2.83L4 21.41c.39.39.9.59 1.41.59.51 0 1.02-.2 1.41-.59l7.78-7.78 2.81-2.81c.8-.78.8-2.07 0-2.86zM5.41 20L4 18.59l7.72-7.72 1.47 1.35L5.41 20z\"/>\n",
              "  </svg>\n",
              "      </button>\n",
              "      \n",
              "  <style>\n",
              "    .colab-df-container {\n",
              "      display:flex;\n",
              "      flex-wrap:wrap;\n",
              "      gap: 12px;\n",
              "    }\n",
              "\n",
              "    .colab-df-convert {\n",
              "      background-color: #E8F0FE;\n",
              "      border: none;\n",
              "      border-radius: 50%;\n",
              "      cursor: pointer;\n",
              "      display: none;\n",
              "      fill: #1967D2;\n",
              "      height: 32px;\n",
              "      padding: 0 0 0 0;\n",
              "      width: 32px;\n",
              "    }\n",
              "\n",
              "    .colab-df-convert:hover {\n",
              "      background-color: #E2EBFA;\n",
              "      box-shadow: 0px 1px 2px rgba(60, 64, 67, 0.3), 0px 1px 3px 1px rgba(60, 64, 67, 0.15);\n",
              "      fill: #174EA6;\n",
              "    }\n",
              "\n",
              "    [theme=dark] .colab-df-convert {\n",
              "      background-color: #3B4455;\n",
              "      fill: #D2E3FC;\n",
              "    }\n",
              "\n",
              "    [theme=dark] .colab-df-convert:hover {\n",
              "      background-color: #434B5C;\n",
              "      box-shadow: 0px 1px 3px 1px rgba(0, 0, 0, 0.15);\n",
              "      filter: drop-shadow(0px 1px 2px rgba(0, 0, 0, 0.3));\n",
              "      fill: #FFFFFF;\n",
              "    }\n",
              "  </style>\n",
              "\n",
              "      <script>\n",
              "        const buttonEl =\n",
              "          document.querySelector('#df-2ac938c6-06e5-4bb1-a8f3-1b60998ab5fa button.colab-df-convert');\n",
              "        buttonEl.style.display =\n",
              "          google.colab.kernel.accessAllowed ? 'block' : 'none';\n",
              "\n",
              "        async function convertToInteractive(key) {\n",
              "          const element = document.querySelector('#df-2ac938c6-06e5-4bb1-a8f3-1b60998ab5fa');\n",
              "          const dataTable =\n",
              "            await google.colab.kernel.invokeFunction('convertToInteractive',\n",
              "                                                     [key], {});\n",
              "          if (!dataTable) return;\n",
              "\n",
              "          const docLinkHtml = 'Like what you see? Visit the ' +\n",
              "            '<a target=\"_blank\" href=https://colab.research.google.com/notebooks/data_table.ipynb>data table notebook</a>'\n",
              "            + ' to learn more about interactive tables.';\n",
              "          element.innerHTML = '';\n",
              "          dataTable['output_type'] = 'display_data';\n",
              "          await google.colab.output.renderOutput(dataTable, element);\n",
              "          const docLink = document.createElement('div');\n",
              "          docLink.innerHTML = docLinkHtml;\n",
              "          element.appendChild(docLink);\n",
              "        }\n",
              "      </script>\n",
              "    </div>\n",
              "  </div>\n",
              "  "
            ]
          },
          "metadata": {},
          "execution_count": 46
        }
      ]
    },
    {
      "cell_type": "markdown",
      "source": [
        "Approx 22% of data is missing."
      ],
      "metadata": {
        "id": "ISgeQOb8nBHs"
      }
    },
    {
      "cell_type": "code",
      "source": [
        "# creating a series of host response rate\n",
        "\n",
        "host_response_rate = listings_df['host_response_rate'].copy()\n",
        "\n",
        "print('host_response_rate unique counts are:', host_response_rate.nunique())\n",
        "print()\n",
        "print(host_response_rate.unique()[:10]) # checking unique values "
      ],
      "metadata": {
        "colab": {
          "base_uri": "https://localhost:8080/"
        },
        "id": "j3Ngx0W253GL",
        "outputId": "d38cd5b5-1833-4083-ecf6-3947d6dccad4"
      },
      "execution_count": 47,
      "outputs": [
        {
          "output_type": "stream",
          "name": "stdout",
          "text": [
            "host_response_rate unique counts are: 42\n",
            "\n",
            "['100%' nan '50%' '80%' '87%' '67%' '75%' '33%' '90%' '70%']\n"
          ]
        }
      ]
    },
    {
      "cell_type": "code",
      "source": [
        "listings_df['host_response_rate'] = strip_signs(listings_df, 'host_response_rate') # stripping % signs from the column"
      ],
      "metadata": {
        "id": "WgszTA9TzS0s"
      },
      "execution_count": 48,
      "outputs": []
    },
    {
      "cell_type": "code",
      "source": [
        "print(listings_df['host_response_rate'].median()) # checking the median "
      ],
      "metadata": {
        "colab": {
          "base_uri": "https://localhost:8080/"
        },
        "id": "QHvj8ywqy5TI",
        "outputId": "2a809d0e-8f08-4d39-bff4-5b413506bb62"
      },
      "execution_count": 49,
      "outputs": [
        {
          "output_type": "stream",
          "name": "stdout",
          "text": [
            "100.0\n"
          ]
        }
      ]
    },
    {
      "cell_type": "markdown",
      "source": [
        "The median is 100%. Is that the general trend?"
      ],
      "metadata": {
        "id": "E2O90oFgrC1C"
      }
    },
    {
      "cell_type": "code",
      "source": [
        "box_plot(listings_df['host_response_rate']) # boxplot of host_response_rate"
      ],
      "metadata": {
        "colab": {
          "base_uri": "https://localhost:8080/",
          "height": 675
        },
        "id": "cMCgvQq8q2XX",
        "outputId": "305e970e-6873-47f0-92ee-396a8d2663d2"
      },
      "execution_count": 50,
      "outputs": [
        {
          "output_type": "display_data",
          "data": {
            "text/plain": [
              "<Figure size 1440x720 with 1 Axes>"
            ],
            "image/png": "[encoded data removed]"
          },
          "metadata": {
            "needs_background": "light"
          }
        }
      ]
    },
    {
      "cell_type": "markdown",
      "source": [
        "It is okay to fill missing values with the median."
      ],
      "metadata": {
        "id": "cRdQ-4-NvObG"
      }
    },
    {
      "cell_type": "code",
      "source": [
        "listings_df['host_response_rate'].fillna(value=listings_df['host_response_rate'].median(), inplace=True) # filling missing values with median"
      ],
      "metadata": {
        "id": "ubZlJ1SuvNlG"
      },
      "execution_count": 51,
      "outputs": []
    },
    {
      "cell_type": "code",
      "source": [
        "# host_acceptance_rate\n",
        "listings_completeness[listings_completeness['Feature'] == 'host_acceptance_rate'] # host_acceptance_rate"
      ],
      "metadata": {
        "colab": {
          "base_uri": "https://localhost:8080/",
          "height": 81
        },
        "id": "G18k-ZeK7Z8g",
        "outputId": "ae17e16d-e993-4ea1-878b-a39363d05d28"
      },
      "execution_count": 52,
      "outputs": [
        {
          "output_type": "execute_result",
          "data": {
            "text/plain": [
              "                Feature  %_completeness\n",
              "8  host_acceptance_rate           87.51"
            ],
            "text/html": [
              "\n",
              "  <div id=\"df-2c509ed1-109f-4da5-8c0b-b1e894c2d334\">\n",
              "    <div class=\"colab-df-container\">\n",
              "      <div>\n",
              "<style scoped>\n",
              "    .dataframe tbody tr th:only-of-type {\n",
              "        vertical-align: middle;\n",
              "    }\n",
              "\n",
              "    .dataframe tbody tr th {\n",
              "        vertical-align: top;\n",
              "    }\n",
              "\n",
              "    .dataframe thead th {\n",
              "        text-align: right;\n",
              "    }\n",
              "</style>\n",
              "<table border=\"1\" class=\"dataframe\">\n",
              "  <thead>\n",
              "    <tr style=\"text-align: right;\">\n",
              "      <th></th>\n",
              "      <th>Feature</th>\n",
              "      <th>%_completeness</th>\n",
              "    </tr>\n",
              "  </thead>\n",
              "  <tbody>\n",
              "    <tr>\n",
              "      <th>8</th>\n",
              "      <td>host_acceptance_rate</td>\n",
              "      <td>87.51</td>\n",
              "    </tr>\n",
              "  </tbody>\n",
              "</table>\n",
              "</div>\n",
              "      <button class=\"colab-df-convert\" onclick=\"convertToInteractive('df-2c509ed1-109f-4da5-8c0b-b1e894c2d334')\"\n",
              "              title=\"Convert this dataframe to an interactive table.\"\n",
              "              style=\"display:none;\">\n",
              "        \n",
              "  <svg xmlns=\"http://www.w3.org/2000/svg\" height=\"24px\"viewBox=\"0 0 24 24\"\n",
              "       width=\"24px\">\n",
              "    <path d=\"M0 0h24v24H0V0z\" fill=\"none\"/>\n",
              "    <path d=\"M18.56 5.44l.94 2.06.94-2.06 2.06-.94-2.06-.94-.94-2.06-.94 2.06-2.06.94zm-11 1L8.5 8.5l.94-2.06 2.06-.94-2.06-.94L8.5 2.5l-.94 2.06-2.06.94zm10 10l.94 2.06.94-2.06 2.06-.94-2.06-.94-.94-2.06-.94 2.06-2.06.94z\"/><path d=\"M17.41 7.96l-1.37-1.37c-.4-.4-.92-.59-1.43-.59-.52 0-1.04.2-1.43.59L10.3 9.45l-7.72 7.72c-.78.78-.78 2.05 0 2.83L4 21.41c.39.39.9.59 1.41.59.51 0 1.02-.2 1.41-.59l7.78-7.78 2.81-2.81c.8-.78.8-2.07 0-2.86zM5.41 20L4 18.59l7.72-7.72 1.47 1.35L5.41 20z\"/>\n",
              "  </svg>\n",
              "      </button>\n",
              "      \n",
              "  <style>\n",
              "    .colab-df-container {\n",
              "      display:flex;\n",
              "      flex-wrap:wrap;\n",
              "      gap: 12px;\n",
              "    }\n",
              "\n",
              "    .colab-df-convert {\n",
              "      background-color: #E8F0FE;\n",
              "      border: none;\n",
              "      border-radius: 50%;\n",
              "      cursor: pointer;\n",
              "      display: none;\n",
              "      fill: #1967D2;\n",
              "      height: 32px;\n",
              "      padding: 0 0 0 0;\n",
              "      width: 32px;\n",
              "    }\n",
              "\n",
              "    .colab-df-convert:hover {\n",
              "      background-color: #E2EBFA;\n",
              "      box-shadow: 0px 1px 2px rgba(60, 64, 67, 0.3), 0px 1px 3px 1px rgba(60, 64, 67, 0.15);\n",
              "      fill: #174EA6;\n",
              "    }\n",
              "\n",
              "    [theme=dark] .colab-df-convert {\n",
              "      background-color: #3B4455;\n",
              "      fill: #D2E3FC;\n",
              "    }\n",
              "\n",
              "    [theme=dark] .colab-df-convert:hover {\n",
              "      background-color: #434B5C;\n",
              "      box-shadow: 0px 1px 3px 1px rgba(0, 0, 0, 0.15);\n",
              "      filter: drop-shadow(0px 1px 2px rgba(0, 0, 0, 0.3));\n",
              "      fill: #FFFFFF;\n",
              "    }\n",
              "  </style>\n",
              "\n",
              "      <script>\n",
              "        const buttonEl =\n",
              "          document.querySelector('#df-2c509ed1-109f-4da5-8c0b-b1e894c2d334 button.colab-df-convert');\n",
              "        buttonEl.style.display =\n",
              "          google.colab.kernel.accessAllowed ? 'block' : 'none';\n",
              "\n",
              "        async function convertToInteractive(key) {\n",
              "          const element = document.querySelector('#df-2c509ed1-109f-4da5-8c0b-b1e894c2d334');\n",
              "          const dataTable =\n",
              "            await google.colab.kernel.invokeFunction('convertToInteractive',\n",
              "                                                     [key], {});\n",
              "          if (!dataTable) return;\n",
              "\n",
              "          const docLinkHtml = 'Like what you see? Visit the ' +\n",
              "            '<a target=\"_blank\" href=https://colab.research.google.com/notebooks/data_table.ipynb>data table notebook</a>'\n",
              "            + ' to learn more about interactive tables.';\n",
              "          element.innerHTML = '';\n",
              "          dataTable['output_type'] = 'display_data';\n",
              "          await google.colab.output.renderOutput(dataTable, element);\n",
              "          const docLink = document.createElement('div');\n",
              "          docLink.innerHTML = docLinkHtml;\n",
              "          element.appendChild(docLink);\n",
              "        }\n",
              "      </script>\n",
              "    </div>\n",
              "  </div>\n",
              "  "
            ]
          },
          "metadata": {},
          "execution_count": 52
        }
      ]
    },
    {
      "cell_type": "markdown",
      "source": [
        "Approx 13% of data is missing."
      ],
      "metadata": {
        "id": "6gGJFtOcwqSn"
      }
    },
    {
      "cell_type": "code",
      "source": [
        "# checking unique values\n",
        "\n",
        "print('host_acceptance_rate unique counts are:', listings_df['host_acceptance_rate'].nunique())\n",
        "print()\n",
        "print(listings_df['host_acceptance_rate'].unique()[:10])"
      ],
      "metadata": {
        "colab": {
          "base_uri": "https://localhost:8080/"
        },
        "id": "l_Dcd3hX7Z4G",
        "outputId": "4cd45491-facd-4140-96e7-b102f0d64499"
      },
      "execution_count": 53,
      "outputs": [
        {
          "output_type": "stream",
          "name": "stdout",
          "text": [
            "host_acceptance_rate unique counts are: 87\n",
            "\n",
            "['100%' '50%' '67%' '71%' nan '94%' '93%' '11%' '83%' '99%']\n"
          ]
        }
      ]
    },
    {
      "cell_type": "code",
      "source": [
        "listings_df['host_acceptance_rate'] = strip_signs(listings_df, 'host_acceptance_rate') # stripping % signs from the column"
      ],
      "metadata": {
        "id": "yZK9wO4O_sEd"
      },
      "execution_count": 54,
      "outputs": []
    },
    {
      "cell_type": "code",
      "source": [
        "print(listings_df['host_acceptance_rate'].median()) # checking the median "
      ],
      "metadata": {
        "colab": {
          "base_uri": "https://localhost:8080/"
        },
        "outputId": "fad58e41-7476-496e-b8ed-23b1999fea2b",
        "id": "z5Fbkta_4GAP"
      },
      "execution_count": 55,
      "outputs": [
        {
          "output_type": "stream",
          "name": "stdout",
          "text": [
            "95.0\n"
          ]
        }
      ]
    },
    {
      "cell_type": "markdown",
      "source": [
        "The median is 95%. Is that the general trend?"
      ],
      "metadata": {
        "id": "tfFdom_i4GAi"
      }
    },
    {
      "cell_type": "code",
      "source": [
        "box_plot(listings_df['host_acceptance_rate']) # boxplot of host_acceptance rate"
      ],
      "metadata": {
        "colab": {
          "base_uri": "https://localhost:8080/",
          "height": 675
        },
        "outputId": "9433c8f6-e50f-4a6b-cea3-41e23b1ad1c6",
        "id": "DFqR-CHJ4GAj"
      },
      "execution_count": 56,
      "outputs": [
        {
          "output_type": "display_data",
          "data": {
            "text/plain": [
              "<Figure size 1440x720 with 1 Axes>"
            ],
            "image/png": "[encoded data removed]"
          },
          "metadata": {
            "needs_background": "light"
          }
        }
      ]
    },
    {
      "cell_type": "markdown",
      "source": [
        "It is okay to fill missing values with the median."
      ],
      "metadata": {
        "id": "xfi_q-Mb4GAk"
      }
    },
    {
      "cell_type": "code",
      "source": [
        "# filling missing values with median\n",
        "\n",
        "listings_df['host_acceptance_rate'].fillna(value=listings_df['host_acceptance_rate'].median(), inplace=True)"
      ],
      "metadata": {
        "id": "lbbL-1104GAl"
      },
      "execution_count": 57,
      "outputs": []
    },
    {
      "cell_type": "markdown",
      "source": [
        "acceptance rate and response rate need to be transformed to categorical variables. To do that rounding off of the values is to be done."
      ],
      "metadata": {
        "id": "GizvcBIeljT9"
      }
    },
    {
      "cell_type": "code",
      "source": [
        "# rounding off the values\n",
        "listings_df['host_acceptance_rate'] = listings_df['host_acceptance_rate'].apply(lambda x: round(x, -1))\n",
        "listings_df['host_response_rate'] = listings_df['host_response_rate'].apply(lambda x: round(x, -1))"
      ],
      "metadata": {
        "id": "okOjjEBFmBrT"
      },
      "execution_count": 58,
      "outputs": []
    },
    {
      "cell_type": "markdown",
      "source": [
        "##### Other host columns\n",
        "\n",
        "Dealing with host_name, host_since, host_identity_verified, host_is_superhost, host_has_profile_pic, host_picture_url, host_listings_count & host_total_listings_count columns."
      ],
      "metadata": {
        "id": "NaZaHuGxmmiP"
      }
    },
    {
      "cell_type": "code",
      "source": [
        "# making a list of columns containing 'host' in their names, that haven't been dealt with\n",
        "\n",
        "already_dealt = ['host_response_time', 'host_response_rate', 'host_acceptance_rate', 'host_location']\n",
        "\n",
        "rem_host_cols = [column for column in listings_df.columns if 'host' in column.strip() and column not in already_dealt]\n",
        "host_traits = [column for column in rem_host_cols if column in list(listings_completeness['Feature'])]\n",
        "\n",
        "host_traits"
      ],
      "metadata": {
        "id": "N0ksZH_GaBd0",
        "colab": {
          "base_uri": "https://localhost:8080/"
        },
        "outputId": "5b214930-2b33-4c10-b583-707f9a75ef38"
      },
      "execution_count": 59,
      "outputs": [
        {
          "output_type": "execute_result",
          "data": {
            "text/plain": [
              "['host_since', 'host_is_superhost']"
            ]
          },
          "metadata": {},
          "execution_count": 59
        }
      ]
    },
    {
      "cell_type": "code",
      "source": [
        "# host_acceptance_rate\n",
        "listings_completeness[listings_completeness['Feature'].isin(host_traits)] # host_acceptance_rate"
      ],
      "metadata": {
        "colab": {
          "base_uri": "https://localhost:8080/",
          "height": 112
        },
        "id": "NC99wezn-Mxu",
        "outputId": "3e14831a-bc7e-4058-9a0e-6c01887b2b84"
      },
      "execution_count": 60,
      "outputs": [
        {
          "output_type": "execute_result",
          "data": {
            "text/plain": [
              "              Feature  %_completeness\n",
              "13         host_since           99.99\n",
              "14  host_is_superhost           99.99"
            ],
            "text/html": [
              "\n",
              "  <div id=\"df-cfadb424-abbc-4c34-9824-99998e0bab46\">\n",
              "    <div class=\"colab-df-container\">\n",
              "      <div>\n",
              "<style scoped>\n",
              "    .dataframe tbody tr th:only-of-type {\n",
              "        vertical-align: middle;\n",
              "    }\n",
              "\n",
              "    .dataframe tbody tr th {\n",
              "        vertical-align: top;\n",
              "    }\n",
              "\n",
              "    .dataframe thead th {\n",
              "        text-align: right;\n",
              "    }\n",
              "</style>\n",
              "<table border=\"1\" class=\"dataframe\">\n",
              "  <thead>\n",
              "    <tr style=\"text-align: right;\">\n",
              "      <th></th>\n",
              "      <th>Feature</th>\n",
              "      <th>%_completeness</th>\n",
              "    </tr>\n",
              "  </thead>\n",
              "  <tbody>\n",
              "    <tr>\n",
              "      <th>13</th>\n",
              "      <td>host_since</td>\n",
              "      <td>99.99</td>\n",
              "    </tr>\n",
              "    <tr>\n",
              "      <th>14</th>\n",
              "      <td>host_is_superhost</td>\n",
              "      <td>99.99</td>\n",
              "    </tr>\n",
              "  </tbody>\n",
              "</table>\n",
              "</div>\n",
              "      <button class=\"colab-df-convert\" onclick=\"convertToInteractive('df-cfadb424-abbc-4c34-9824-99998e0bab46')\"\n",
              "              title=\"Convert this dataframe to an interactive table.\"\n",
              "              style=\"display:none;\">\n",
              "        \n",
              "  <svg xmlns=\"http://www.w3.org/2000/svg\" height=\"24px\"viewBox=\"0 0 24 24\"\n",
              "       width=\"24px\">\n",
              "    <path d=\"M0 0h24v24H0V0z\" fill=\"none\"/>\n",
              "    <path d=\"M18.56 5.44l.94 2.06.94-2.06 2.06-.94-2.06-.94-.94-2.06-.94 2.06-2.06.94zm-11 1L8.5 8.5l.94-2.06 2.06-.94-2.06-.94L8.5 2.5l-.94 2.06-2.06.94zm10 10l.94 2.06.94-2.06 2.06-.94-2.06-.94-.94-2.06-.94 2.06-2.06.94z\"/><path d=\"M17.41 7.96l-1.37-1.37c-.4-.4-.92-.59-1.43-.59-.52 0-1.04.2-1.43.59L10.3 9.45l-7.72 7.72c-.78.78-.78 2.05 0 2.83L4 21.41c.39.39.9.59 1.41.59.51 0 1.02-.2 1.41-.59l7.78-7.78 2.81-2.81c.8-.78.8-2.07 0-2.86zM5.41 20L4 18.59l7.72-7.72 1.47 1.35L5.41 20z\"/>\n",
              "  </svg>\n",
              "      </button>\n",
              "      \n",
              "  <style>\n",
              "    .colab-df-container {\n",
              "      display:flex;\n",
              "      flex-wrap:wrap;\n",
              "      gap: 12px;\n",
              "    }\n",
              "\n",
              "    .colab-df-convert {\n",
              "      background-color: #E8F0FE;\n",
              "      border: none;\n",
              "      border-radius: 50%;\n",
              "      cursor: pointer;\n",
              "      display: none;\n",
              "      fill: #1967D2;\n",
              "      height: 32px;\n",
              "      padding: 0 0 0 0;\n",
              "      width: 32px;\n",
              "    }\n",
              "\n",
              "    .colab-df-convert:hover {\n",
              "      background-color: #E2EBFA;\n",
              "      box-shadow: 0px 1px 2px rgba(60, 64, 67, 0.3), 0px 1px 3px 1px rgba(60, 64, 67, 0.15);\n",
              "      fill: #174EA6;\n",
              "    }\n",
              "\n",
              "    [theme=dark] .colab-df-convert {\n",
              "      background-color: #3B4455;\n",
              "      fill: #D2E3FC;\n",
              "    }\n",
              "\n",
              "    [theme=dark] .colab-df-convert:hover {\n",
              "      background-color: #434B5C;\n",
              "      box-shadow: 0px 1px 3px 1px rgba(0, 0, 0, 0.15);\n",
              "      filter: drop-shadow(0px 1px 2px rgba(0, 0, 0, 0.3));\n",
              "      fill: #FFFFFF;\n",
              "    }\n",
              "  </style>\n",
              "\n",
              "      <script>\n",
              "        const buttonEl =\n",
              "          document.querySelector('#df-cfadb424-abbc-4c34-9824-99998e0bab46 button.colab-df-convert');\n",
              "        buttonEl.style.display =\n",
              "          google.colab.kernel.accessAllowed ? 'block' : 'none';\n",
              "\n",
              "        async function convertToInteractive(key) {\n",
              "          const element = document.querySelector('#df-cfadb424-abbc-4c34-9824-99998e0bab46');\n",
              "          const dataTable =\n",
              "            await google.colab.kernel.invokeFunction('convertToInteractive',\n",
              "                                                     [key], {});\n",
              "          if (!dataTable) return;\n",
              "\n",
              "          const docLinkHtml = 'Like what you see? Visit the ' +\n",
              "            '<a target=\"_blank\" href=https://colab.research.google.com/notebooks/data_table.ipynb>data table notebook</a>'\n",
              "            + ' to learn more about interactive tables.';\n",
              "          element.innerHTML = '';\n",
              "          dataTable['output_type'] = 'display_data';\n",
              "          await google.colab.output.renderOutput(dataTable, element);\n",
              "          const docLink = document.createElement('div');\n",
              "          docLink.innerHTML = docLinkHtml;\n",
              "          element.appendChild(docLink);\n",
              "        }\n",
              "      </script>\n",
              "    </div>\n",
              "  </div>\n",
              "  "
            ]
          },
          "metadata": {},
          "execution_count": 60
        }
      ]
    },
    {
      "cell_type": "code",
      "source": [
        "listings_df[host_traits].head() # viewing the host columns"
      ],
      "metadata": {
        "colab": {
          "base_uri": "https://localhost:8080/",
          "height": 206
        },
        "id": "GqK7i2qsnwCX",
        "outputId": "0a1dcc2d-0609-40ec-d4a0-daaf59efa14b"
      },
      "execution_count": 61,
      "outputs": [
        {
          "output_type": "execute_result",
          "data": {
            "text/plain": [
              "   host_since host_is_superhost\n",
              "0  2016-10-07                 f\n",
              "1  2012-08-29                 f\n",
              "2  2016-10-07                 f\n",
              "3  2016-02-11                 f\n",
              "4  2016-02-11                 f"
            ],
            "text/html": [
              "\n",
              "  <div id=\"df-641e5429-3956-43e5-b258-31c68dc2a272\">\n",
              "    <div class=\"colab-df-container\">\n",
              "      <div>\n",
              "<style scoped>\n",
              "    .dataframe tbody tr th:only-of-type {\n",
              "        vertical-align: middle;\n",
              "    }\n",
              "\n",
              "    .dataframe tbody tr th {\n",
              "        vertical-align: top;\n",
              "    }\n",
              "\n",
              "    .dataframe thead th {\n",
              "        text-align: right;\n",
              "    }\n",
              "</style>\n",
              "<table border=\"1\" class=\"dataframe\">\n",
              "  <thead>\n",
              "    <tr style=\"text-align: right;\">\n",
              "      <th></th>\n",
              "      <th>host_since</th>\n",
              "      <th>host_is_superhost</th>\n",
              "    </tr>\n",
              "  </thead>\n",
              "  <tbody>\n",
              "    <tr>\n",
              "      <th>0</th>\n",
              "      <td>2016-10-07</td>\n",
              "      <td>f</td>\n",
              "    </tr>\n",
              "    <tr>\n",
              "      <th>1</th>\n",
              "      <td>2012-08-29</td>\n",
              "      <td>f</td>\n",
              "    </tr>\n",
              "    <tr>\n",
              "      <th>2</th>\n",
              "      <td>2016-10-07</td>\n",
              "      <td>f</td>\n",
              "    </tr>\n",
              "    <tr>\n",
              "      <th>3</th>\n",
              "      <td>2016-02-11</td>\n",
              "      <td>f</td>\n",
              "    </tr>\n",
              "    <tr>\n",
              "      <th>4</th>\n",
              "      <td>2016-02-11</td>\n",
              "      <td>f</td>\n",
              "    </tr>\n",
              "  </tbody>\n",
              "</table>\n",
              "</div>\n",
              "      <button class=\"colab-df-convert\" onclick=\"convertToInteractive('df-641e5429-3956-43e5-b258-31c68dc2a272')\"\n",
              "              title=\"Convert this dataframe to an interactive table.\"\n",
              "              style=\"display:none;\">\n",
              "        \n",
              "  <svg xmlns=\"http://www.w3.org/2000/svg\" height=\"24px\"viewBox=\"0 0 24 24\"\n",
              "       width=\"24px\">\n",
              "    <path d=\"M0 0h24v24H0V0z\" fill=\"none\"/>\n",
              "    <path d=\"M18.56 5.44l.94 2.06.94-2.06 2.06-.94-2.06-.94-.94-2.06-.94 2.06-2.06.94zm-11 1L8.5 8.5l.94-2.06 2.06-.94-2.06-.94L8.5 2.5l-.94 2.06-2.06.94zm10 10l.94 2.06.94-2.06 2.06-.94-2.06-.94-.94-2.06-.94 2.06-2.06.94z\"/><path d=\"M17.41 7.96l-1.37-1.37c-.4-.4-.92-.59-1.43-.59-.52 0-1.04.2-1.43.59L10.3 9.45l-7.72 7.72c-.78.78-.78 2.05 0 2.83L4 21.41c.39.39.9.59 1.41.59.51 0 1.02-.2 1.41-.59l7.78-7.78 2.81-2.81c.8-.78.8-2.07 0-2.86zM5.41 20L4 18.59l7.72-7.72 1.47 1.35L5.41 20z\"/>\n",
              "  </svg>\n",
              "      </button>\n",
              "      \n",
              "  <style>\n",
              "    .colab-df-container {\n",
              "      display:flex;\n",
              "      flex-wrap:wrap;\n",
              "      gap: 12px;\n",
              "    }\n",
              "\n",
              "    .colab-df-convert {\n",
              "      background-color: #E8F0FE;\n",
              "      border: none;\n",
              "      border-radius: 50%;\n",
              "      cursor: pointer;\n",
              "      display: none;\n",
              "      fill: #1967D2;\n",
              "      height: 32px;\n",
              "      padding: 0 0 0 0;\n",
              "      width: 32px;\n",
              "    }\n",
              "\n",
              "    .colab-df-convert:hover {\n",
              "      background-color: #E2EBFA;\n",
              "      box-shadow: 0px 1px 2px rgba(60, 64, 67, 0.3), 0px 1px 3px 1px rgba(60, 64, 67, 0.15);\n",
              "      fill: #174EA6;\n",
              "    }\n",
              "\n",
              "    [theme=dark] .colab-df-convert {\n",
              "      background-color: #3B4455;\n",
              "      fill: #D2E3FC;\n",
              "    }\n",
              "\n",
              "    [theme=dark] .colab-df-convert:hover {\n",
              "      background-color: #434B5C;\n",
              "      box-shadow: 0px 1px 3px 1px rgba(0, 0, 0, 0.15);\n",
              "      filter: drop-shadow(0px 1px 2px rgba(0, 0, 0, 0.3));\n",
              "      fill: #FFFFFF;\n",
              "    }\n",
              "  </style>\n",
              "\n",
              "      <script>\n",
              "        const buttonEl =\n",
              "          document.querySelector('#df-641e5429-3956-43e5-b258-31c68dc2a272 button.colab-df-convert');\n",
              "        buttonEl.style.display =\n",
              "          google.colab.kernel.accessAllowed ? 'block' : 'none';\n",
              "\n",
              "        async function convertToInteractive(key) {\n",
              "          const element = document.querySelector('#df-641e5429-3956-43e5-b258-31c68dc2a272');\n",
              "          const dataTable =\n",
              "            await google.colab.kernel.invokeFunction('convertToInteractive',\n",
              "                                                     [key], {});\n",
              "          if (!dataTable) return;\n",
              "\n",
              "          const docLinkHtml = 'Like what you see? Visit the ' +\n",
              "            '<a target=\"_blank\" href=https://colab.research.google.com/notebooks/data_table.ipynb>data table notebook</a>'\n",
              "            + ' to learn more about interactive tables.';\n",
              "          element.innerHTML = '';\n",
              "          dataTable['output_type'] = 'display_data';\n",
              "          await google.colab.output.renderOutput(dataTable, element);\n",
              "          const docLink = document.createElement('div');\n",
              "          docLink.innerHTML = docLinkHtml;\n",
              "          element.appendChild(docLink);\n",
              "        }\n",
              "      </script>\n",
              "    </div>\n",
              "  </div>\n",
              "  "
            ]
          },
          "metadata": {},
          "execution_count": 61
        }
      ]
    },
    {
      "cell_type": "markdown",
      "source": [
        "The host_since column contains dates about the date in which a host has been a host. The values in this column will be sliced, and only the year will be left. The column will also be transformed into a integer data type."
      ],
      "metadata": {
        "id": "1pUdB_edJHRn"
      }
    },
    {
      "cell_type": "code",
      "source": [
        "listings_df['host_since'].isna().sum() # sum of nan values in host_since"
      ],
      "metadata": {
        "colab": {
          "base_uri": "https://localhost:8080/"
        },
        "id": "XrcFqE_6NRMp",
        "outputId": "7f002bc0-7fa0-479e-f1b6-16781dfa09e5"
      },
      "execution_count": 62,
      "outputs": [
        {
          "output_type": "execute_result",
          "data": {
            "text/plain": [
              "1"
            ]
          },
          "metadata": {},
          "execution_count": 62
        }
      ]
    },
    {
      "cell_type": "code",
      "source": [
        "listings_df[listings_df['host_is_superhost'].isna()][host_traits]"
      ],
      "metadata": {
        "colab": {
          "base_uri": "https://localhost:8080/",
          "height": 81
        },
        "id": "5cEMeOS--h-h",
        "outputId": "32d73ecb-15cd-4307-bf2b-db1311817a25"
      },
      "execution_count": 63,
      "outputs": [
        {
          "output_type": "execute_result",
          "data": {
            "text/plain": [
              "     host_since host_is_superhost\n",
              "6909        NaN               NaN"
            ],
            "text/html": [
              "\n",
              "  <div id=\"df-ff0bac1d-02dd-4e4b-85f1-7d12408b7953\">\n",
              "    <div class=\"colab-df-container\">\n",
              "      <div>\n",
              "<style scoped>\n",
              "    .dataframe tbody tr th:only-of-type {\n",
              "        vertical-align: middle;\n",
              "    }\n",
              "\n",
              "    .dataframe tbody tr th {\n",
              "        vertical-align: top;\n",
              "    }\n",
              "\n",
              "    .dataframe thead th {\n",
              "        text-align: right;\n",
              "    }\n",
              "</style>\n",
              "<table border=\"1\" class=\"dataframe\">\n",
              "  <thead>\n",
              "    <tr style=\"text-align: right;\">\n",
              "      <th></th>\n",
              "      <th>host_since</th>\n",
              "      <th>host_is_superhost</th>\n",
              "    </tr>\n",
              "  </thead>\n",
              "  <tbody>\n",
              "    <tr>\n",
              "      <th>6909</th>\n",
              "      <td>NaN</td>\n",
              "      <td>NaN</td>\n",
              "    </tr>\n",
              "  </tbody>\n",
              "</table>\n",
              "</div>\n",
              "      <button class=\"colab-df-convert\" onclick=\"convertToInteractive('df-ff0bac1d-02dd-4e4b-85f1-7d12408b7953')\"\n",
              "              title=\"Convert this dataframe to an interactive table.\"\n",
              "              style=\"display:none;\">\n",
              "        \n",
              "  <svg xmlns=\"http://www.w3.org/2000/svg\" height=\"24px\"viewBox=\"0 0 24 24\"\n",
              "       width=\"24px\">\n",
              "    <path d=\"M0 0h24v24H0V0z\" fill=\"none\"/>\n",
              "    <path d=\"M18.56 5.44l.94 2.06.94-2.06 2.06-.94-2.06-.94-.94-2.06-.94 2.06-2.06.94zm-11 1L8.5 8.5l.94-2.06 2.06-.94-2.06-.94L8.5 2.5l-.94 2.06-2.06.94zm10 10l.94 2.06.94-2.06 2.06-.94-2.06-.94-.94-2.06-.94 2.06-2.06.94z\"/><path d=\"M17.41 7.96l-1.37-1.37c-.4-.4-.92-.59-1.43-.59-.52 0-1.04.2-1.43.59L10.3 9.45l-7.72 7.72c-.78.78-.78 2.05 0 2.83L4 21.41c.39.39.9.59 1.41.59.51 0 1.02-.2 1.41-.59l7.78-7.78 2.81-2.81c.8-.78.8-2.07 0-2.86zM5.41 20L4 18.59l7.72-7.72 1.47 1.35L5.41 20z\"/>\n",
              "  </svg>\n",
              "      </button>\n",
              "      \n",
              "  <style>\n",
              "    .colab-df-container {\n",
              "      display:flex;\n",
              "      flex-wrap:wrap;\n",
              "      gap: 12px;\n",
              "    }\n",
              "\n",
              "    .colab-df-convert {\n",
              "      background-color: #E8F0FE;\n",
              "      border: none;\n",
              "      border-radius: 50%;\n",
              "      cursor: pointer;\n",
              "      display: none;\n",
              "      fill: #1967D2;\n",
              "      height: 32px;\n",
              "      padding: 0 0 0 0;\n",
              "      width: 32px;\n",
              "    }\n",
              "\n",
              "    .colab-df-convert:hover {\n",
              "      background-color: #E2EBFA;\n",
              "      box-shadow: 0px 1px 2px rgba(60, 64, 67, 0.3), 0px 1px 3px 1px rgba(60, 64, 67, 0.15);\n",
              "      fill: #174EA6;\n",
              "    }\n",
              "\n",
              "    [theme=dark] .colab-df-convert {\n",
              "      background-color: #3B4455;\n",
              "      fill: #D2E3FC;\n",
              "    }\n",
              "\n",
              "    [theme=dark] .colab-df-convert:hover {\n",
              "      background-color: #434B5C;\n",
              "      box-shadow: 0px 1px 3px 1px rgba(0, 0, 0, 0.15);\n",
              "      filter: drop-shadow(0px 1px 2px rgba(0, 0, 0, 0.3));\n",
              "      fill: #FFFFFF;\n",
              "    }\n",
              "  </style>\n",
              "\n",
              "      <script>\n",
              "        const buttonEl =\n",
              "          document.querySelector('#df-ff0bac1d-02dd-4e4b-85f1-7d12408b7953 button.colab-df-convert');\n",
              "        buttonEl.style.display =\n",
              "          google.colab.kernel.accessAllowed ? 'block' : 'none';\n",
              "\n",
              "        async function convertToInteractive(key) {\n",
              "          const element = document.querySelector('#df-ff0bac1d-02dd-4e4b-85f1-7d12408b7953');\n",
              "          const dataTable =\n",
              "            await google.colab.kernel.invokeFunction('convertToInteractive',\n",
              "                                                     [key], {});\n",
              "          if (!dataTable) return;\n",
              "\n",
              "          const docLinkHtml = 'Like what you see? Visit the ' +\n",
              "            '<a target=\"_blank\" href=https://colab.research.google.com/notebooks/data_table.ipynb>data table notebook</a>'\n",
              "            + ' to learn more about interactive tables.';\n",
              "          element.innerHTML = '';\n",
              "          dataTable['output_type'] = 'display_data';\n",
              "          await google.colab.output.renderOutput(dataTable, element);\n",
              "          const docLink = document.createElement('div');\n",
              "          docLink.innerHTML = docLinkHtml;\n",
              "          element.appendChild(docLink);\n",
              "        }\n",
              "      </script>\n",
              "    </div>\n",
              "  </div>\n",
              "  "
            ]
          },
          "metadata": {},
          "execution_count": 63
        }
      ]
    },
    {
      "cell_type": "code",
      "source": [
        "listings_df.dropna(subset= [\"host_since\"], inplace= True) # Dropping null row \n",
        "\n",
        "listings_df['host_since'] = listings_df['host_since'].apply(lambda x: x[:4]) # slicing the column\n",
        "\n",
        "listings_df['host_since'] = listings_df['host_since'].astype(int) # changing column to int"
      ],
      "metadata": {
        "id": "Q_239ooyI08z"
      },
      "execution_count": 64,
      "outputs": []
    },
    {
      "cell_type": "markdown",
      "source": [
        "host is superhost needs to be transformed into a boolean data type"
      ],
      "metadata": {
        "id": "cPtP232Tm3UZ"
      }
    },
    {
      "cell_type": "code",
      "source": [
        "# listings_df['host_is_superhost'] = listings_df['host_is_superhost'].astype('bool')"
      ],
      "metadata": {
        "id": "j6iHRmt_m3RR"
      },
      "execution_count": 65,
      "outputs": []
    },
    {
      "cell_type": "code",
      "source": [
        "# repacing values to make column a bool dtype\n",
        "listings_df['host_is_superhost'] = listings_df['host_is_superhost'].replace({'t': True, 'f': False})"
      ],
      "metadata": {
        "id": "B6yq-8ySnpXM"
      },
      "execution_count": 66,
      "outputs": []
    },
    {
      "cell_type": "markdown",
      "source": [
        "##### Current dataframe info after cleaning is:**"
      ],
      "metadata": {
        "id": "TKIDlgOtMPOE"
      }
    },
    {
      "cell_type": "code",
      "source": [
        "percentage_completeness(listings_df)[:3] # current completeness"
      ],
      "metadata": {
        "id": "6Jy8BN1FMYIE",
        "colab": {
          "base_uri": "https://localhost:8080/",
          "height": 143
        },
        "outputId": "c73747ff-af3a-4a05-d1bb-7d4317ea7849"
      },
      "execution_count": 67,
      "outputs": [
        {
          "output_type": "execute_result",
          "data": {
            "text/plain": [
              "                  Feature  %_completeness\n",
              "0           host_location           99.51\n",
              "1                      id          100.00\n",
              "2  review_scores_location          100.00"
            ],
            "text/html": [
              "\n",
              "  <div id=\"df-b66c8ff0-34c7-420b-a69d-d96293337f56\">\n",
              "    <div class=\"colab-df-container\">\n",
              "      <div>\n",
              "<style scoped>\n",
              "    .dataframe tbody tr th:only-of-type {\n",
              "        vertical-align: middle;\n",
              "    }\n",
              "\n",
              "    .dataframe tbody tr th {\n",
              "        vertical-align: top;\n",
              "    }\n",
              "\n",
              "    .dataframe thead th {\n",
              "        text-align: right;\n",
              "    }\n",
              "</style>\n",
              "<table border=\"1\" class=\"dataframe\">\n",
              "  <thead>\n",
              "    <tr style=\"text-align: right;\">\n",
              "      <th></th>\n",
              "      <th>Feature</th>\n",
              "      <th>%_completeness</th>\n",
              "    </tr>\n",
              "  </thead>\n",
              "  <tbody>\n",
              "    <tr>\n",
              "      <th>0</th>\n",
              "      <td>host_location</td>\n",
              "      <td>99.51</td>\n",
              "    </tr>\n",
              "    <tr>\n",
              "      <th>1</th>\n",
              "      <td>id</td>\n",
              "      <td>100.00</td>\n",
              "    </tr>\n",
              "    <tr>\n",
              "      <th>2</th>\n",
              "      <td>review_scores_location</td>\n",
              "      <td>100.00</td>\n",
              "    </tr>\n",
              "  </tbody>\n",
              "</table>\n",
              "</div>\n",
              "      <button class=\"colab-df-convert\" onclick=\"convertToInteractive('df-b66c8ff0-34c7-420b-a69d-d96293337f56')\"\n",
              "              title=\"Convert this dataframe to an interactive table.\"\n",
              "              style=\"display:none;\">\n",
              "        \n",
              "  <svg xmlns=\"http://www.w3.org/2000/svg\" height=\"24px\"viewBox=\"0 0 24 24\"\n",
              "       width=\"24px\">\n",
              "    <path d=\"M0 0h24v24H0V0z\" fill=\"none\"/>\n",
              "    <path d=\"M18.56 5.44l.94 2.06.94-2.06 2.06-.94-2.06-.94-.94-2.06-.94 2.06-2.06.94zm-11 1L8.5 8.5l.94-2.06 2.06-.94-2.06-.94L8.5 2.5l-.94 2.06-2.06.94zm10 10l.94 2.06.94-2.06 2.06-.94-2.06-.94-.94-2.06-.94 2.06-2.06.94z\"/><path d=\"M17.41 7.96l-1.37-1.37c-.4-.4-.92-.59-1.43-.59-.52 0-1.04.2-1.43.59L10.3 9.45l-7.72 7.72c-.78.78-.78 2.05 0 2.83L4 21.41c.39.39.9.59 1.41.59.51 0 1.02-.2 1.41-.59l7.78-7.78 2.81-2.81c.8-.78.8-2.07 0-2.86zM5.41 20L4 18.59l7.72-7.72 1.47 1.35L5.41 20z\"/>\n",
              "  </svg>\n",
              "      </button>\n",
              "      \n",
              "  <style>\n",
              "    .colab-df-container {\n",
              "      display:flex;\n",
              "      flex-wrap:wrap;\n",
              "      gap: 12px;\n",
              "    }\n",
              "\n",
              "    .colab-df-convert {\n",
              "      background-color: #E8F0FE;\n",
              "      border: none;\n",
              "      border-radius: 50%;\n",
              "      cursor: pointer;\n",
              "      display: none;\n",
              "      fill: #1967D2;\n",
              "      height: 32px;\n",
              "      padding: 0 0 0 0;\n",
              "      width: 32px;\n",
              "    }\n",
              "\n",
              "    .colab-df-convert:hover {\n",
              "      background-color: #E2EBFA;\n",
              "      box-shadow: 0px 1px 2px rgba(60, 64, 67, 0.3), 0px 1px 3px 1px rgba(60, 64, 67, 0.15);\n",
              "      fill: #174EA6;\n",
              "    }\n",
              "\n",
              "    [theme=dark] .colab-df-convert {\n",
              "      background-color: #3B4455;\n",
              "      fill: #D2E3FC;\n",
              "    }\n",
              "\n",
              "    [theme=dark] .colab-df-convert:hover {\n",
              "      background-color: #434B5C;\n",
              "      box-shadow: 0px 1px 3px 1px rgba(0, 0, 0, 0.15);\n",
              "      filter: drop-shadow(0px 1px 2px rgba(0, 0, 0, 0.3));\n",
              "      fill: #FFFFFF;\n",
              "    }\n",
              "  </style>\n",
              "\n",
              "      <script>\n",
              "        const buttonEl =\n",
              "          document.querySelector('#df-b66c8ff0-34c7-420b-a69d-d96293337f56 button.colab-df-convert');\n",
              "        buttonEl.style.display =\n",
              "          google.colab.kernel.accessAllowed ? 'block' : 'none';\n",
              "\n",
              "        async function convertToInteractive(key) {\n",
              "          const element = document.querySelector('#df-b66c8ff0-34c7-420b-a69d-d96293337f56');\n",
              "          const dataTable =\n",
              "            await google.colab.kernel.invokeFunction('convertToInteractive',\n",
              "                                                     [key], {});\n",
              "          if (!dataTable) return;\n",
              "\n",
              "          const docLinkHtml = 'Like what you see? Visit the ' +\n",
              "            '<a target=\"_blank\" href=https://colab.research.google.com/notebooks/data_table.ipynb>data table notebook</a>'\n",
              "            + ' to learn more about interactive tables.';\n",
              "          element.innerHTML = '';\n",
              "          dataTable['output_type'] = 'display_data';\n",
              "          await google.colab.output.renderOutput(dataTable, element);\n",
              "          const docLink = document.createElement('div');\n",
              "          docLink.innerHTML = docLinkHtml;\n",
              "          element.appendChild(docLink);\n",
              "        }\n",
              "      </script>\n",
              "    </div>\n",
              "  </div>\n",
              "  "
            ]
          },
          "metadata": {},
          "execution_count": 67
        }
      ]
    },
    {
      "cell_type": "code",
      "source": [
        "# pd.DataFrame(listings_df.groupby('host_response_time')['host_response_rate'].nunique())"
      ],
      "metadata": {
        "id": "oj--Ze-YgF39"
      },
      "execution_count": 68,
      "outputs": []
    },
    {
      "cell_type": "markdown",
      "source": [
        "#### 4.1.1.2 Remaining columns"
      ],
      "metadata": {
        "id": "9bSlUEC1dekP"
      }
    },
    {
      "cell_type": "markdown",
      "source": [
        "##### amenities"
      ],
      "metadata": {
        "id": "MkyTQdPNzsAo"
      }
    },
    {
      "cell_type": "code",
      "source": [
        "listings_df['amenities'].head() # viewing amenities column"
      ],
      "metadata": {
        "id": "Bst7uw38y1YO",
        "colab": {
          "base_uri": "https://localhost:8080/"
        },
        "outputId": "a9e84093-e968-42b2-81dc-d73163469357"
      },
      "execution_count": 69,
      "outputs": [
        {
          "output_type": "execute_result",
          "data": {
            "text/plain": [
              "0    [\"Hot water\", \"Cooking basics\", \"Iron\", \"Free ...\n",
              "1    [\"Hot water\", \"Cooking basics\", \"Iron\", \"Dryin...\n",
              "2    [\"TV\", \"Long term stays allowed\", \"Cooking bas...\n",
              "3    [\"TV\", \"Gym\", \"Long term stays allowed\", \"Heat...\n",
              "4    [\"TV\", \"Long term stays allowed\", \"Heating\", \"...\n",
              "Name: amenities, dtype: object"
            ]
          },
          "metadata": {},
          "execution_count": 69
        }
      ]
    },
    {
      "cell_type": "code",
      "source": [
        "# Splitting amenities column and get amenities count words\n",
        "# then creating a new column \"amenities_count\"\n",
        "\n",
        "# listings_df['amenities_count'] = listings_df['amenities'].str.split(',').str.len()\n",
        "# # tramsform amenities records from list to string type\n",
        "# # listings_df.amenities = listings_df['amenities'].str.replace(\"[{}]\", \"\").str.replace('\"', \"\").str.replace('[',\"\").str.replace(']',\"\")\n",
        " \n",
        "letters = string.ascii_letters\n",
        "\n",
        "amenities_split = listings_df['amenities'].apply(lambda x: x.split('\"'))\n",
        "new_amenities = []\n",
        "\n",
        "for split in amenities_split:\n",
        "    res = [x for x in split if x[0] in letters]\n",
        "    new_amenities.append(res)\n",
        "\n",
        "listings_df['amenities'] = new_amenities\n",
        "listings_df['amenities_count'] = listings_df['amenities'].apply(lambda x: len(x))"
      ],
      "metadata": {
        "id": "O6GGR121kmmP"
      },
      "execution_count": 70,
      "outputs": []
    },
    {
      "cell_type": "code",
      "source": [
        "listings_df['amenities'][2]"
      ],
      "metadata": {
        "colab": {
          "base_uri": "https://localhost:8080/"
        },
        "id": "X4kZfN_T4XEU",
        "outputId": "63634e8e-feeb-43e4-cbe7-2d2243ebb0cf"
      },
      "execution_count": 105,
      "outputs": [
        {
          "output_type": "execute_result",
          "data": {
            "text/plain": [
              "['TV',\n",
              " 'Long term stays allowed',\n",
              " 'Cooking basics',\n",
              " 'Kitchen',\n",
              " 'Iron',\n",
              " 'Essentials',\n",
              " 'Free parking on premises',\n",
              " 'Pool',\n",
              " 'Wifi',\n",
              " 'Hair dryer']"
            ]
          },
          "metadata": {},
          "execution_count": 105
        }
      ]
    },
    {
      "cell_type": "code",
      "source": [
        "listings_df['amenities_count'].nunique()"
      ],
      "metadata": {
        "colab": {
          "base_uri": "https://localhost:8080/"
        },
        "id": "9E6POHW-pJw5",
        "outputId": "78fd8c95-c57c-47b7-be0d-28341814f8e5"
      },
      "execution_count": 103,
      "outputs": [
        {
          "output_type": "execute_result",
          "data": {
            "text/plain": [
              "81"
            ]
          },
          "metadata": {},
          "execution_count": 103
        }
      ]
    },
    {
      "cell_type": "markdown",
      "source": [
        "##### location columns\n",
        "\n",
        "Dealing with latitude & longitude "
      ],
      "metadata": {
        "id": "1zrjZJ1Hpvw0"
      }
    },
    {
      "cell_type": "code",
      "source": [
        "# To DO!!!"
      ],
      "metadata": {
        "id": "6m6D3F7RjPED"
      },
      "execution_count": 73,
      "outputs": []
    },
    {
      "cell_type": "code",
      "source": [],
      "metadata": {
        "id": "JKmA2yZIGnGv"
      },
      "execution_count": 73,
      "outputs": []
    },
    {
      "cell_type": "markdown",
      "source": [
        "**Testing location filler.**"
      ],
      "metadata": {
        "id": "ufhTTkIqMM8A"
      }
    },
    {
      "cell_type": "code",
      "source": [
        "# listings_df[['longitude', 'latitude']].head()"
      ],
      "metadata": {
        "id": "V0ieQdteTFTv"
      },
      "execution_count": 74,
      "outputs": []
    },
    {
      "cell_type": "code",
      "source": [
        "# v= rg.search((-34.03149, 18.82689))"
      ],
      "metadata": {
        "id": "qWcsumT6CSaN"
      },
      "execution_count": 75,
      "outputs": []
    },
    {
      "cell_type": "code",
      "source": [
        "# type(v)"
      ],
      "metadata": {
        "id": "pVlThYx1CxIG"
      },
      "execution_count": 76,
      "outputs": []
    },
    {
      "cell_type": "code",
      "source": [
        "# v[0][\"admin2\"]"
      ],
      "metadata": {
        "id": "ypUScOwTFwZs"
      },
      "execution_count": 77,
      "outputs": []
    },
    {
      "cell_type": "code",
      "source": [
        "# test[\"municipal\"] = rg.search((test.latitude, test.longitude))\n",
        "# test.head()"
      ],
      "metadata": {
        "id": "dMp9LG1QHQLC"
      },
      "execution_count": 78,
      "outputs": []
    },
    {
      "cell_type": "code",
      "source": [
        "# location_df = listings_df[['latitude', 'longitude']]\n",
        "\n",
        "# # def locate(test, \"latitude\", \"longitude\"):\n",
        "# #   location = rg.search((test[\"latitude\"][0], test[\"longitude\"][0]))\n",
        "# #   return location[0][\"admin2\"]\n",
        "\n",
        "# location_df.head()"
      ],
      "metadata": {
        "id": "lU_H7tpJFy2c"
      },
      "execution_count": 79,
      "outputs": []
    },
    {
      "cell_type": "markdown",
      "source": [
        "##### last_scraped & hosting_age feature engineering"
      ],
      "metadata": {
        "id": "N0Ty0x9IeS2V"
      }
    },
    {
      "cell_type": "code",
      "source": [
        "# viewing 'scrape' columns\n",
        "listings_df['last_scraped'].head() "
      ],
      "metadata": {
        "id": "C_ASBwp1oS9w",
        "colab": {
          "base_uri": "https://localhost:8080/"
        },
        "outputId": "1e591040-b4dd-4fcc-dcc3-c1101a8dd01f"
      },
      "execution_count": 80,
      "outputs": [
        {
          "output_type": "execute_result",
          "data": {
            "text/plain": [
              "0    2022-06-22\n",
              "1    2022-06-22\n",
              "2    2022-06-22\n",
              "3    2022-06-22\n",
              "4    2022-06-22\n",
              "Name: last_scraped, dtype: object"
            ]
          },
          "metadata": {},
          "execution_count": 80
        }
      ]
    },
    {
      "cell_type": "code",
      "source": [
        "# slicing the year from last scraped\n",
        "listings_df['last_scraped'] = listings_df['last_scraped'].apply(lambda x: x[:4]) \n",
        "# changing column data type\n",
        "listings_df['last_scraped'] = listings_df['last_scraped'].astype(int) "
      ],
      "metadata": {
        "id": "btBpwvyqeYXA"
      },
      "execution_count": 81,
      "outputs": []
    },
    {
      "cell_type": "code",
      "source": [
        "# creating a column to show age of the host\n",
        "listings_df['hosting_age'] = listings_df['last_scraped'] - listings_df['host_since']\n",
        "# dropping last_scrapped and host_since columns\n",
        "listings_df.drop(columns= ['last_scraped', 'host_since'], inplace= True) "
      ],
      "metadata": {
        "id": "0H39_ECyeYON"
      },
      "execution_count": 82,
      "outputs": []
    },
    {
      "cell_type": "markdown",
      "source": [
        "##### room_type & accomodates columns"
      ],
      "metadata": {
        "id": "mMWe1q16ruuB"
      }
    },
    {
      "cell_type": "code",
      "source": [
        "# viewing the columns\n",
        "listings_df[['room_type', 'accommodates']].head() "
      ],
      "metadata": {
        "colab": {
          "base_uri": "https://localhost:8080/",
          "height": 206
        },
        "id": "d7y8IW33mKK5",
        "outputId": "976c2b0c-5723-4ab2-e36f-a10a3ac7d4ba"
      },
      "execution_count": 83,
      "outputs": [
        {
          "output_type": "execute_result",
          "data": {
            "text/plain": [
              "         room_type  accommodates\n",
              "0  Entire home/apt             2\n",
              "1  Entire home/apt             4\n",
              "2  Entire home/apt             2\n",
              "3  Entire home/apt             2\n",
              "4  Entire home/apt             4"
            ],
            "text/html": [
              "\n",
              "  <div id=\"df-9110f3d2-de78-4bf5-8fcb-e0beb0263e8c\">\n",
              "    <div class=\"colab-df-container\">\n",
              "      <div>\n",
              "<style scoped>\n",
              "    .dataframe tbody tr th:only-of-type {\n",
              "        vertical-align: middle;\n",
              "    }\n",
              "\n",
              "    .dataframe tbody tr th {\n",
              "        vertical-align: top;\n",
              "    }\n",
              "\n",
              "    .dataframe thead th {\n",
              "        text-align: right;\n",
              "    }\n",
              "</style>\n",
              "<table border=\"1\" class=\"dataframe\">\n",
              "  <thead>\n",
              "    <tr style=\"text-align: right;\">\n",
              "      <th></th>\n",
              "      <th>room_type</th>\n",
              "      <th>accommodates</th>\n",
              "    </tr>\n",
              "  </thead>\n",
              "  <tbody>\n",
              "    <tr>\n",
              "      <th>0</th>\n",
              "      <td>Entire home/apt</td>\n",
              "      <td>2</td>\n",
              "    </tr>\n",
              "    <tr>\n",
              "      <th>1</th>\n",
              "      <td>Entire home/apt</td>\n",
              "      <td>4</td>\n",
              "    </tr>\n",
              "    <tr>\n",
              "      <th>2</th>\n",
              "      <td>Entire home/apt</td>\n",
              "      <td>2</td>\n",
              "    </tr>\n",
              "    <tr>\n",
              "      <th>3</th>\n",
              "      <td>Entire home/apt</td>\n",
              "      <td>2</td>\n",
              "    </tr>\n",
              "    <tr>\n",
              "      <th>4</th>\n",
              "      <td>Entire home/apt</td>\n",
              "      <td>4</td>\n",
              "    </tr>\n",
              "  </tbody>\n",
              "</table>\n",
              "</div>\n",
              "      <button class=\"colab-df-convert\" onclick=\"convertToInteractive('df-9110f3d2-de78-4bf5-8fcb-e0beb0263e8c')\"\n",
              "              title=\"Convert this dataframe to an interactive table.\"\n",
              "              style=\"display:none;\">\n",
              "        \n",
              "  <svg xmlns=\"http://www.w3.org/2000/svg\" height=\"24px\"viewBox=\"0 0 24 24\"\n",
              "       width=\"24px\">\n",
              "    <path d=\"M0 0h24v24H0V0z\" fill=\"none\"/>\n",
              "    <path d=\"M18.56 5.44l.94 2.06.94-2.06 2.06-.94-2.06-.94-.94-2.06-.94 2.06-2.06.94zm-11 1L8.5 8.5l.94-2.06 2.06-.94-2.06-.94L8.5 2.5l-.94 2.06-2.06.94zm10 10l.94 2.06.94-2.06 2.06-.94-2.06-.94-.94-2.06-.94 2.06-2.06.94z\"/><path d=\"M17.41 7.96l-1.37-1.37c-.4-.4-.92-.59-1.43-.59-.52 0-1.04.2-1.43.59L10.3 9.45l-7.72 7.72c-.78.78-.78 2.05 0 2.83L4 21.41c.39.39.9.59 1.41.59.51 0 1.02-.2 1.41-.59l7.78-7.78 2.81-2.81c.8-.78.8-2.07 0-2.86zM5.41 20L4 18.59l7.72-7.72 1.47 1.35L5.41 20z\"/>\n",
              "  </svg>\n",
              "      </button>\n",
              "      \n",
              "  <style>\n",
              "    .colab-df-container {\n",
              "      display:flex;\n",
              "      flex-wrap:wrap;\n",
              "      gap: 12px;\n",
              "    }\n",
              "\n",
              "    .colab-df-convert {\n",
              "      background-color: #E8F0FE;\n",
              "      border: none;\n",
              "      border-radius: 50%;\n",
              "      cursor: pointer;\n",
              "      display: none;\n",
              "      fill: #1967D2;\n",
              "      height: 32px;\n",
              "      padding: 0 0 0 0;\n",
              "      width: 32px;\n",
              "    }\n",
              "\n",
              "    .colab-df-convert:hover {\n",
              "      background-color: #E2EBFA;\n",
              "      box-shadow: 0px 1px 2px rgba(60, 64, 67, 0.3), 0px 1px 3px 1px rgba(60, 64, 67, 0.15);\n",
              "      fill: #174EA6;\n",
              "    }\n",
              "\n",
              "    [theme=dark] .colab-df-convert {\n",
              "      background-color: #3B4455;\n",
              "      fill: #D2E3FC;\n",
              "    }\n",
              "\n",
              "    [theme=dark] .colab-df-convert:hover {\n",
              "      background-color: #434B5C;\n",
              "      box-shadow: 0px 1px 3px 1px rgba(0, 0, 0, 0.15);\n",
              "      filter: drop-shadow(0px 1px 2px rgba(0, 0, 0, 0.3));\n",
              "      fill: #FFFFFF;\n",
              "    }\n",
              "  </style>\n",
              "\n",
              "      <script>\n",
              "        const buttonEl =\n",
              "          document.querySelector('#df-9110f3d2-de78-4bf5-8fcb-e0beb0263e8c button.colab-df-convert');\n",
              "        buttonEl.style.display =\n",
              "          google.colab.kernel.accessAllowed ? 'block' : 'none';\n",
              "\n",
              "        async function convertToInteractive(key) {\n",
              "          const element = document.querySelector('#df-9110f3d2-de78-4bf5-8fcb-e0beb0263e8c');\n",
              "          const dataTable =\n",
              "            await google.colab.kernel.invokeFunction('convertToInteractive',\n",
              "                                                     [key], {});\n",
              "          if (!dataTable) return;\n",
              "\n",
              "          const docLinkHtml = 'Like what you see? Visit the ' +\n",
              "            '<a target=\"_blank\" href=https://colab.research.google.com/notebooks/data_table.ipynb>data table notebook</a>'\n",
              "            + ' to learn more about interactive tables.';\n",
              "          element.innerHTML = '';\n",
              "          dataTable['output_type'] = 'display_data';\n",
              "          await google.colab.output.renderOutput(dataTable, element);\n",
              "          const docLink = document.createElement('div');\n",
              "          docLink.innerHTML = docLinkHtml;\n",
              "          element.appendChild(docLink);\n",
              "        }\n",
              "      </script>\n",
              "    </div>\n",
              "  </div>\n",
              "  "
            ]
          },
          "metadata": {},
          "execution_count": 83
        }
      ]
    },
    {
      "cell_type": "code",
      "source": [
        "# checking unique values in room type column\n",
        "\n",
        "print('The unique values in room_type column ', listings_df['room_type'].nunique())\n",
        "print('-'*100)\n",
        "listings_df['room_type'].unique()[:5]"
      ],
      "metadata": {
        "colab": {
          "base_uri": "https://localhost:8080/"
        },
        "id": "q5BVUSZ6jO9r",
        "outputId": "823d686e-5c73-4f25-9070-4cb7b6f3abf4"
      },
      "execution_count": 84,
      "outputs": [
        {
          "output_type": "stream",
          "name": "stdout",
          "text": [
            "The unique values in room_type column  4\n",
            "----------------------------------------------------------------------------------------------------\n"
          ]
        },
        {
          "output_type": "execute_result",
          "data": {
            "text/plain": [
              "array(['Entire home/apt', 'Private room', 'Shared room', 'Hotel room'],\n",
              "      dtype=object)"
            ]
          },
          "metadata": {},
          "execution_count": 84
        }
      ]
    },
    {
      "cell_type": "code",
      "source": [
        "# checking unique values in room type column\n",
        "\n",
        "print('The unique values in accommodates column ', listings_df['accommodates'].nunique())\n",
        "print('-'*100)\n",
        "listings_df['accommodates'].unique()[:5]"
      ],
      "metadata": {
        "colab": {
          "base_uri": "https://localhost:8080/"
        },
        "id": "ANcqCXb7HaJa",
        "outputId": "8e8403fa-ed64-4655-a75b-598f82895082"
      },
      "execution_count": 85,
      "outputs": [
        {
          "output_type": "stream",
          "name": "stdout",
          "text": [
            "The unique values in accommodates column  16\n",
            "----------------------------------------------------------------------------------------------------\n"
          ]
        },
        {
          "output_type": "execute_result",
          "data": {
            "text/plain": [
              "array([ 2,  4, 10,  6,  5])"
            ]
          },
          "metadata": {},
          "execution_count": 85
        }
      ]
    },
    {
      "cell_type": "code",
      "source": [
        "print('The max number a listing can accommodate ', listings_df['accommodates'].max()) # maximum accommodates \n",
        "print('The min number a listing can accommodate ', listings_df['accommodates'].min()) # minimum accommodates"
      ],
      "metadata": {
        "colab": {
          "base_uri": "https://localhost:8080/"
        },
        "id": "hLZQB5OZjOzG",
        "outputId": "cb867705-4592-4a6e-bafe-f9d08873a59f"
      },
      "execution_count": 86,
      "outputs": [
        {
          "output_type": "stream",
          "name": "stdout",
          "text": [
            "The max number a listing can accommodate  16\n",
            "The min number a listing can accommodate  1\n"
          ]
        }
      ]
    },
    {
      "cell_type": "markdown",
      "source": [
        "##### instant_bookable"
      ],
      "metadata": {
        "id": "YdT8IzbhEzJk"
      }
    },
    {
      "cell_type": "code",
      "source": [
        "listings_df['instant_bookable'].value_counts()"
      ],
      "metadata": {
        "colab": {
          "base_uri": "https://localhost:8080/"
        },
        "id": "Lc2Tslaa7M6G",
        "outputId": "990c89c2-7d3e-41cf-a965-55fe58ee9e5b"
      },
      "execution_count": 101,
      "outputs": [
        {
          "output_type": "execute_result",
          "data": {
            "text/plain": [
              "False    9805\n",
              "True     7669\n",
              "Name: instant_bookable, dtype: int64"
            ]
          },
          "metadata": {},
          "execution_count": 101
        }
      ]
    },
    {
      "cell_type": "code",
      "source": [
        "# repacing values to make column a bool dtype\n",
        "listings_df['instant_bookable'] = listings_df['instant_bookable'].replace({'t': True, 'f': False})"
      ],
      "metadata": {
        "id": "m9LJftBA7n-b"
      },
      "execution_count": 88,
      "outputs": []
    },
    {
      "cell_type": "code",
      "source": [
        "# checking the unique counts of the features in the dataframe\n",
        "unique_count = []\n",
        "\n",
        "for column in list(listings_df.columns):\n",
        "    if column != 'amenities': # because list type is not hashable\n",
        "        unique_val = listings_df[column].nunique()\n",
        "        unique_count.append(unique_val)\n",
        "\n",
        "    else: \n",
        "        unique_count.append('list_type')\n",
        "\n",
        "pd.DataFrame(list(zip(list(listings_df.columns), unique_count)), columns=['feature', 'unique_count'])"
      ],
      "metadata": {
        "colab": {
          "base_uri": "https://localhost:8080/",
          "height": 959
        },
        "id": "-gfnvT6_98k5",
        "outputId": "a82ae8bc-0c31-4dc4-93bc-4ab92d5a8c07"
      },
      "execution_count": 130,
      "outputs": [
        {
          "output_type": "execute_result",
          "data": {
            "text/plain": [
              "                           feature unique_count\n",
              "0                               id        17474\n",
              "1                      listing_url        17474\n",
              "2                         host_url         9429\n",
              "3                    host_location          614\n",
              "4           neighbourhood_cleansed           91\n",
              "5               host_response_time            5\n",
              "6               host_response_rate           11\n",
              "7             host_acceptance_rate           11\n",
              "8                host_is_superhost            2\n",
              "9                         latitude        12181\n",
              "10                       longitude        11878\n",
              "11                       room_type            4\n",
              "12                    accommodates           16\n",
              "13                       bathrooms           30\n",
              "14                        bedrooms           20\n",
              "15                            beds           21\n",
              "16                       amenities    list_type\n",
              "17                           price         2639\n",
              "18               number_of_reviews          278\n",
              "19            review_scores_rating            5\n",
              "20          review_scores_accuracy            5\n",
              "21       review_scores_cleanliness            5\n",
              "22           review_scores_checkin            5\n",
              "23     review_scores_communication            5\n",
              "24          review_scores_location            5\n",
              "25                instant_bookable            2\n",
              "26  calculated_host_listings_count           53\n",
              "27                 amenities_count           81\n",
              "28                     hosting_age           15"
            ],
            "text/html": [
              "\n",
              "  <div id=\"df-8bba736b-2a55-472b-ac92-bfda653c5977\">\n",
              "    <div class=\"colab-df-container\">\n",
              "      <div>\n",
              "<style scoped>\n",
              "    .dataframe tbody tr th:only-of-type {\n",
              "        vertical-align: middle;\n",
              "    }\n",
              "\n",
              "    .dataframe tbody tr th {\n",
              "        vertical-align: top;\n",
              "    }\n",
              "\n",
              "    .dataframe thead th {\n",
              "        text-align: right;\n",
              "    }\n",
              "</style>\n",
              "<table border=\"1\" class=\"dataframe\">\n",
              "  <thead>\n",
              "    <tr style=\"text-align: right;\">\n",
              "      <th></th>\n",
              "      <th>feature</th>\n",
              "      <th>unique_count</th>\n",
              "    </tr>\n",
              "  </thead>\n",
              "  <tbody>\n",
              "    <tr>\n",
              "      <th>0</th>\n",
              "      <td>id</td>\n",
              "      <td>17474</td>\n",
              "    </tr>\n",
              "    <tr>\n",
              "      <th>1</th>\n",
              "      <td>listing_url</td>\n",
              "      <td>17474</td>\n",
              "    </tr>\n",
              "    <tr>\n",
              "      <th>2</th>\n",
              "      <td>host_url</td>\n",
              "      <td>9429</td>\n",
              "    </tr>\n",
              "    <tr>\n",
              "      <th>3</th>\n",
              "      <td>host_location</td>\n",
              "      <td>614</td>\n",
              "    </tr>\n",
              "    <tr>\n",
              "      <th>4</th>\n",
              "      <td>neighbourhood_cleansed</td>\n",
              "      <td>91</td>\n",
              "    </tr>\n",
              "    <tr>\n",
              "      <th>5</th>\n",
              "      <td>host_response_time</td>\n",
              "      <td>5</td>\n",
              "    </tr>\n",
              "    <tr>\n",
              "      <th>6</th>\n",
              "      <td>host_response_rate</td>\n",
              "      <td>11</td>\n",
              "    </tr>\n",
              "    <tr>\n",
              "      <th>7</th>\n",
              "      <td>host_acceptance_rate</td>\n",
              "      <td>11</td>\n",
              "    </tr>\n",
              "    <tr>\n",
              "      <th>8</th>\n",
              "      <td>host_is_superhost</td>\n",
              "      <td>2</td>\n",
              "    </tr>\n",
              "    <tr>\n",
              "      <th>9</th>\n",
              "      <td>latitude</td>\n",
              "      <td>12181</td>\n",
              "    </tr>\n",
              "    <tr>\n",
              "      <th>10</th>\n",
              "      <td>longitude</td>\n",
              "      <td>11878</td>\n",
              "    </tr>\n",
              "    <tr>\n",
              "      <th>11</th>\n",
              "      <td>room_type</td>\n",
              "      <td>4</td>\n",
              "    </tr>\n",
              "    <tr>\n",
              "      <th>12</th>\n",
              "      <td>accommodates</td>\n",
              "      <td>16</td>\n",
              "    </tr>\n",
              "    <tr>\n",
              "      <th>13</th>\n",
              "      <td>bathrooms</td>\n",
              "      <td>30</td>\n",
              "    </tr>\n",
              "    <tr>\n",
              "      <th>14</th>\n",
              "      <td>bedrooms</td>\n",
              "      <td>20</td>\n",
              "    </tr>\n",
              "    <tr>\n",
              "      <th>15</th>\n",
              "      <td>beds</td>\n",
              "      <td>21</td>\n",
              "    </tr>\n",
              "    <tr>\n",
              "      <th>16</th>\n",
              "      <td>amenities</td>\n",
              "      <td>list_type</td>\n",
              "    </tr>\n",
              "    <tr>\n",
              "      <th>17</th>\n",
              "      <td>price</td>\n",
              "      <td>2639</td>\n",
              "    </tr>\n",
              "    <tr>\n",
              "      <th>18</th>\n",
              "      <td>number_of_reviews</td>\n",
              "      <td>278</td>\n",
              "    </tr>\n",
              "    <tr>\n",
              "      <th>19</th>\n",
              "      <td>review_scores_rating</td>\n",
              "      <td>5</td>\n",
              "    </tr>\n",
              "    <tr>\n",
              "      <th>20</th>\n",
              "      <td>review_scores_accuracy</td>\n",
              "      <td>5</td>\n",
              "    </tr>\n",
              "    <tr>\n",
              "      <th>21</th>\n",
              "      <td>review_scores_cleanliness</td>\n",
              "      <td>5</td>\n",
              "    </tr>\n",
              "    <tr>\n",
              "      <th>22</th>\n",
              "      <td>review_scores_checkin</td>\n",
              "      <td>5</td>\n",
              "    </tr>\n",
              "    <tr>\n",
              "      <th>23</th>\n",
              "      <td>review_scores_communication</td>\n",
              "      <td>5</td>\n",
              "    </tr>\n",
              "    <tr>\n",
              "      <th>24</th>\n",
              "      <td>review_scores_location</td>\n",
              "      <td>5</td>\n",
              "    </tr>\n",
              "    <tr>\n",
              "      <th>25</th>\n",
              "      <td>instant_bookable</td>\n",
              "      <td>2</td>\n",
              "    </tr>\n",
              "    <tr>\n",
              "      <th>26</th>\n",
              "      <td>calculated_host_listings_count</td>\n",
              "      <td>53</td>\n",
              "    </tr>\n",
              "    <tr>\n",
              "      <th>27</th>\n",
              "      <td>amenities_count</td>\n",
              "      <td>81</td>\n",
              "    </tr>\n",
              "    <tr>\n",
              "      <th>28</th>\n",
              "      <td>hosting_age</td>\n",
              "      <td>15</td>\n",
              "    </tr>\n",
              "  </tbody>\n",
              "</table>\n",
              "</div>\n",
              "      <button class=\"colab-df-convert\" onclick=\"convertToInteractive('df-8bba736b-2a55-472b-ac92-bfda653c5977')\"\n",
              "              title=\"Convert this dataframe to an interactive table.\"\n",
              "              style=\"display:none;\">\n",
              "        \n",
              "  <svg xmlns=\"http://www.w3.org/2000/svg\" height=\"24px\"viewBox=\"0 0 24 24\"\n",
              "       width=\"24px\">\n",
              "    <path d=\"M0 0h24v24H0V0z\" fill=\"none\"/>\n",
              "    <path d=\"M18.56 5.44l.94 2.06.94-2.06 2.06-.94-2.06-.94-.94-2.06-.94 2.06-2.06.94zm-11 1L8.5 8.5l.94-2.06 2.06-.94-2.06-.94L8.5 2.5l-.94 2.06-2.06.94zm10 10l.94 2.06.94-2.06 2.06-.94-2.06-.94-.94-2.06-.94 2.06-2.06.94z\"/><path d=\"M17.41 7.96l-1.37-1.37c-.4-.4-.92-.59-1.43-.59-.52 0-1.04.2-1.43.59L10.3 9.45l-7.72 7.72c-.78.78-.78 2.05 0 2.83L4 21.41c.39.39.9.59 1.41.59.51 0 1.02-.2 1.41-.59l7.78-7.78 2.81-2.81c.8-.78.8-2.07 0-2.86zM5.41 20L4 18.59l7.72-7.72 1.47 1.35L5.41 20z\"/>\n",
              "  </svg>\n",
              "      </button>\n",
              "      \n",
              "  <style>\n",
              "    .colab-df-container {\n",
              "      display:flex;\n",
              "      flex-wrap:wrap;\n",
              "      gap: 12px;\n",
              "    }\n",
              "\n",
              "    .colab-df-convert {\n",
              "      background-color: #E8F0FE;\n",
              "      border: none;\n",
              "      border-radius: 50%;\n",
              "      cursor: pointer;\n",
              "      display: none;\n",
              "      fill: #1967D2;\n",
              "      height: 32px;\n",
              "      padding: 0 0 0 0;\n",
              "      width: 32px;\n",
              "    }\n",
              "\n",
              "    .colab-df-convert:hover {\n",
              "      background-color: #E2EBFA;\n",
              "      box-shadow: 0px 1px 2px rgba(60, 64, 67, 0.3), 0px 1px 3px 1px rgba(60, 64, 67, 0.15);\n",
              "      fill: #174EA6;\n",
              "    }\n",
              "\n",
              "    [theme=dark] .colab-df-convert {\n",
              "      background-color: #3B4455;\n",
              "      fill: #D2E3FC;\n",
              "    }\n",
              "\n",
              "    [theme=dark] .colab-df-convert:hover {\n",
              "      background-color: #434B5C;\n",
              "      box-shadow: 0px 1px 3px 1px rgba(0, 0, 0, 0.15);\n",
              "      filter: drop-shadow(0px 1px 2px rgba(0, 0, 0, 0.3));\n",
              "      fill: #FFFFFF;\n",
              "    }\n",
              "  </style>\n",
              "\n",
              "      <script>\n",
              "        const buttonEl =\n",
              "          document.querySelector('#df-8bba736b-2a55-472b-ac92-bfda653c5977 button.colab-df-convert');\n",
              "        buttonEl.style.display =\n",
              "          google.colab.kernel.accessAllowed ? 'block' : 'none';\n",
              "\n",
              "        async function convertToInteractive(key) {\n",
              "          const element = document.querySelector('#df-8bba736b-2a55-472b-ac92-bfda653c5977');\n",
              "          const dataTable =\n",
              "            await google.colab.kernel.invokeFunction('convertToInteractive',\n",
              "                                                     [key], {});\n",
              "          if (!dataTable) return;\n",
              "\n",
              "          const docLinkHtml = 'Like what you see? Visit the ' +\n",
              "            '<a target=\"_blank\" href=https://colab.research.google.com/notebooks/data_table.ipynb>data table notebook</a>'\n",
              "            + ' to learn more about interactive tables.';\n",
              "          element.innerHTML = '';\n",
              "          dataTable['output_type'] = 'display_data';\n",
              "          await google.colab.output.renderOutput(dataTable, element);\n",
              "          const docLink = document.createElement('div');\n",
              "          docLink.innerHTML = docLinkHtml;\n",
              "          element.appendChild(docLink);\n",
              "        }\n",
              "      </script>\n",
              "    </div>\n",
              "  </div>\n",
              "  "
            ]
          },
          "metadata": {},
          "execution_count": 130
        }
      ]
    },
    {
      "cell_type": "markdown",
      "source": [
        "With cleaning finished. A reset of the dataframe index is needed."
      ],
      "metadata": {
        "id": "cSlUUpPeBrUO"
      }
    },
    {
      "cell_type": "code",
      "source": [
        "listings_df.reset_index(drop=True, inplace=True)"
      ],
      "metadata": {
        "id": "MZxjSelSBqbx"
      },
      "execution_count": 128,
      "outputs": []
    }
  ]
}