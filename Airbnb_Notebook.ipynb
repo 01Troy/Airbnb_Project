{
  "nbformat": 4,
  "nbformat_minor": 0,
  "metadata": {
    "colab": {
      "provenance": [],
      "collapsed_sections": [],
      "toc_visible": true,
      "include_colab_link": true
    },
    "kernelspec": {
      "name": "python3",
      "display_name": "Python 3"
    },
    "language_info": {
      "name": "python"
    },
    "accelerator": "GPU",
    "gpuClass": "standard"
  },
  "cells": [
    {
      "cell_type": "markdown",
      "metadata": {
        "id": "view-in-github",
        "colab_type": "text"
      },
      "source": [
        "<a href=\"https://colab.research.google.com/github/Nickimani/Airbnb_Project/blob/master/Airbnb_Notebook.ipynb\" target=\"_parent\"><img src=\"https://colab.research.google.com/assets/colab-badge.svg\" alt=\"Open In Colab\"/></a>"
      ]
    },
    {
      "cell_type": "markdown",
      "source": [
        "# Airbnb Project"
      ],
      "metadata": {
        "id": "Ij50iGmRqp-j"
      }
    },
    {
      "cell_type": "markdown",
      "source": [
        "# 1. Business Understanding "
      ],
      "metadata": {
        "id": "DaXGDxsYqsPu"
      }
    },
    {
      "cell_type": "markdown",
      "source": [
        "# 2. Data Understanding"
      ],
      "metadata": {
        "id": "cQelEUY0q3sY"
      }
    },
    {
      "cell_type": "markdown",
      "source": [
        "# 3. Loading Data"
      ],
      "metadata": {
        "id": "aaKNPkdRriNQ"
      }
    },
    {
      "cell_type": "markdown",
      "source": [
        "## 3.1 Importing Libraries"
      ],
      "metadata": {
        "id": "oyVywQ4GtME7"
      }
    },
    {
      "cell_type": "code",
      "source": [
        "# connecting to drive\n",
        "from google.colab import drive\n",
        "drive.mount('/content/drive', timeout_ms=900000) # timeout = 15 min"
      ],
      "metadata": {
        "colab": {
          "base_uri": "https://localhost:8080/"
        },
        "id": "J-f17zv8O17l",
        "outputId": "977b6995-f0ef-4c6d-97e2-36bb105132af"
      },
      "execution_count": 1,
      "outputs": [
        {
          "output_type": "stream",
          "name": "stdout",
          "text": [
            "Mounted at /content/drive\n"
          ]
        }
      ]
    },
    {
      "cell_type": "code",
      "source": [
        "# installing necessary libraries\n",
        "# Reverse geoencoder\n",
        "!pip install reverse_geocoder \n",
        "# pandas profiling\n",
        "!pip install pandas_profiling"
      ],
      "metadata": {
        "id": "BXJgSQ2a6Em4",
        "colab": {
          "base_uri": "https://localhost:8080/"
        },
        "outputId": "e7838d6b-bf53-4f1e-c052-49120bf58a67"
      },
      "execution_count": 2,
      "outputs": [
        {
          "output_type": "stream",
          "name": "stdout",
          "text": [
            "Looking in indexes: https://pypi.org/simple, https://us-python.pkg.dev/colab-wheels/public/simple/\n",
            "Collecting reverse_geocoder\n",
            "  Downloading reverse_geocoder-1.5.1.tar.gz (2.2 MB)\n",
            "\u001b[K     |████████████████████████████████| 2.2 MB 5.2 MB/s \n",
            "\u001b[?25hRequirement already satisfied: numpy>=1.11.0 in /usr/local/lib/python3.7/dist-packages (from reverse_geocoder) (1.21.6)\n",
            "Requirement already satisfied: scipy>=0.17.1 in /usr/local/lib/python3.7/dist-packages (from reverse_geocoder) (1.7.3)\n",
            "Building wheels for collected packages: reverse-geocoder\n",
            "  Building wheel for reverse-geocoder (setup.py) ... \u001b[?25l\u001b[?25hdone\n",
            "  Created wheel for reverse-geocoder: filename=reverse_geocoder-1.5.1-py3-none-any.whl size=2268088 sha256=66f1c3999585a89a1415583b8a4c351d02e67973d291c75a80a8aeba77f68275\n",
            "  Stored in directory: /root/.cache/pip/wheels/34/6e/70/5423639428a2cac8ea7eb467214a4254b549b381f306a9c790\n",
            "Successfully built reverse-geocoder\n",
            "Installing collected packages: reverse-geocoder\n",
            "Successfully installed reverse-geocoder-1.5.1\n",
            "Looking in indexes: https://pypi.org/simple, https://us-python.pkg.dev/colab-wheels/public/simple/\n",
            "Requirement already satisfied: pandas_profiling in /usr/local/lib/python3.7/dist-packages (1.4.1)\n",
            "Requirement already satisfied: matplotlib>=1.4 in /usr/local/lib/python3.7/dist-packages (from pandas_profiling) (3.2.2)\n",
            "Requirement already satisfied: jinja2>=2.8 in /usr/local/lib/python3.7/dist-packages (from pandas_profiling) (2.11.3)\n",
            "Requirement already satisfied: six>=1.9 in /usr/local/lib/python3.7/dist-packages (from pandas_profiling) (1.15.0)\n",
            "Requirement already satisfied: pandas>=0.19 in /usr/local/lib/python3.7/dist-packages (from pandas_profiling) (1.3.5)\n",
            "Requirement already satisfied: MarkupSafe>=0.23 in /usr/local/lib/python3.7/dist-packages (from jinja2>=2.8->pandas_profiling) (2.0.1)\n",
            "Requirement already satisfied: pyparsing!=2.0.4,!=2.1.2,!=2.1.6,>=2.0.1 in /usr/local/lib/python3.7/dist-packages (from matplotlib>=1.4->pandas_profiling) (3.0.9)\n",
            "Requirement already satisfied: python-dateutil>=2.1 in /usr/local/lib/python3.7/dist-packages (from matplotlib>=1.4->pandas_profiling) (2.8.2)\n",
            "Requirement already satisfied: numpy>=1.11 in /usr/local/lib/python3.7/dist-packages (from matplotlib>=1.4->pandas_profiling) (1.21.6)\n",
            "Requirement already satisfied: cycler>=0.10 in /usr/local/lib/python3.7/dist-packages (from matplotlib>=1.4->pandas_profiling) (0.11.0)\n",
            "Requirement already satisfied: kiwisolver>=1.0.1 in /usr/local/lib/python3.7/dist-packages (from matplotlib>=1.4->pandas_profiling) (1.4.4)\n",
            "Requirement already satisfied: typing-extensions in /usr/local/lib/python3.7/dist-packages (from kiwisolver>=1.0.1->matplotlib>=1.4->pandas_profiling) (4.1.1)\n",
            "Requirement already satisfied: pytz>=2017.3 in /usr/local/lib/python3.7/dist-packages (from pandas>=0.19->pandas_profiling) (2022.2.1)\n"
          ]
        }
      ]
    },
    {
      "cell_type": "code",
      "execution_count": 51,
      "metadata": {
        "id": "Y_1um1JfK6CJ"
      },
      "outputs": [],
      "source": [
        "# importing libraries\n",
        "\n",
        "import string\n",
        "import time\n",
        "import re\n",
        "import pickle\n",
        "import pandas as pd\n",
        "import pandas_profiling as pp\n",
        "import numpy as np\n",
        "import seaborn as sns\n",
        "import matplotlib.pyplot as plt\n",
        "%matplotlib inline\n",
        "\n",
        "import reverse_geocoder as rg"
      ]
    },
    {
      "cell_type": "markdown",
      "source": [
        "## 3.2 Loading The DataFrames"
      ],
      "metadata": {
        "id": "t-v0y1u8tWId"
      }
    },
    {
      "cell_type": "code",
      "source": [
        "# loading the DataFrames\n",
        "listings_df = pd.read_csv('/content/drive/Shareddrives/CapStone/Data/listings.csv')\n",
        "reviews_df = pd.read_csv('/content/drive/Shareddrives/CapStone/Data/reviews.csv')\n",
        "metadata_df = pd.read_csv('/content/drive/Shareddrives/CapStone/Data/data_dictionary.csv')"
      ],
      "metadata": {
        "id": "WnbKzUxZQPPH"
      },
      "execution_count": 4,
      "outputs": []
    },
    {
      "cell_type": "code",
      "source": [
        "# a function returning the datastructure of a the input dataframe\n",
        "def data_structure(dataframe, data_name):\n",
        "    \"\"\" \n",
        "    Returns datashape and data info. \n",
        "    \"\"\"\n",
        "    print(f'{data_name} dataframe shape:', dataframe.shape)\n",
        "    print('-'*120)\n",
        "    print(dataframe.info())\n",
        "\n",
        "# a function returning a dataframe of the completeness of the features in the input dataframe\n",
        "def percentage_completeness(dataframe):\n",
        "    \"\"\"\n",
        "    Returns a dataframe showcasing the percentage completeness of the columns in a dataframe    \n",
        "    \"\"\"\n",
        "    # length of dataframe\n",
        "    tot_entries = len(dataframe) \n",
        "    # name of columns list\n",
        "    columns = list(dataframe.columns) \n",
        "    perc_completeness = [] \n",
        "\n",
        "    for column in columns:\n",
        "        # taking number of missing records\n",
        "        missing = dataframe[column].isna().sum() \n",
        "        # calculating percentage of completeness in column\n",
        "        perc_null_counts = (1 - (missing / tot_entries)) * 100 \n",
        "        perc_completeness.append(round(perc_null_counts, 2)) \n",
        "    # creating dataframe of column and completeness\n",
        "    output = pd.DataFrame(list(zip(columns, perc_completeness)), \n",
        "                          columns=['Feature', '%_completeness']) \n",
        "    # sorting the values\n",
        "    output = output.sort_values(by='%_completeness', ascending=True) \n",
        "    output.reset_index(inplace=True, drop=True)\n",
        "\n",
        "    return output\n",
        "\n",
        "# a function that pulls valuecounts from a column\n",
        "def value_count(dataframe, column):\n",
        "    \"\"\"\n",
        "    Returns the value counts for unique value in the column specified\n",
        "    \"\"\"\n",
        "    # getting the value counts\n",
        "    val_count = dataframe[column].value_counts() \n",
        "    # converting list output to dataframe\n",
        "    result = val_count.to_frame(name='Count(s)') \n",
        "\n",
        "    return result\n",
        "\n",
        "# a funtion for removing the % sign from the strings    \n",
        "def strip_signs(dataframe, column):\n",
        "    \"\"\"\n",
        "    Takes in a dataframe and the column to be cleaned. \n",
        "    The column should have a prefix of suffix that if removed,would make the column convertible to a numeric datatype\n",
        "    Returns a replacement of the input column cleaned and converted to float dtype.\n",
        "    \"\"\"\n",
        "    # making sure its a series\n",
        "    feature = pd.Series(dataframe[column]) \n",
        "    # striping % sign from string\n",
        "    feature = feature.str.strip(to_strip='%') \n",
        "    # converting datatype\n",
        "    final_feature = feature.astype('float') \n",
        "\n",
        "    return final_feature\n",
        "\n",
        "\n",
        "# a function for plotting a boxplot for a series\n",
        "def box_plot(series):\n",
        "    \"\"\"\n",
        "    Returns a boxplot of the column specified    \n",
        "    \"\"\"\n",
        "    fig, ax = plt.subplots(figsize=(20,10))\n",
        "    # creating the boxplot\n",
        "    ax = sns.boxplot(x=series, linewidth=1, palette='Set2') \n",
        "    # Give the plot a main title\n",
        "    ax.set_title(f'{series.name}, Airbnb Cape town', fontsize=30,pad=30) \n",
        "    # Set text for the x axis,\n",
        "    ax.set_xlabel(series.name, fontsize=20, labelpad=15)\n",
        "    sns.despine(offset=5, left=True);\n",
        "\n",
        "# Build a function for regex stripping maybe linked to strip signs"
      ],
      "metadata": {
        "id": "Fy8YE2R3t9xR"
      },
      "execution_count": 5,
      "outputs": []
    },
    {
      "cell_type": "markdown",
      "source": [
        "### Data Structure"
      ],
      "metadata": {
        "id": "ibu663NGyq9f"
      }
    },
    {
      "cell_type": "code",
      "source": [
        "# data_structure(listings_df, 'listing_df') # listings df structure"
      ],
      "metadata": {
        "id": "3Ttlb-ZoS3Fg"
      },
      "execution_count": 6,
      "outputs": []
    },
    {
      "cell_type": "markdown",
      "source": [
        "The listings dataFrame has 18903 rows with 74 columns. 41 of the columns are of numeric type and The remaining 33 are of object type."
      ],
      "metadata": {
        "id": "CxcLu9pF24XI"
      }
    },
    {
      "cell_type": "code",
      "source": [
        "# selecting important columns as per the business problem\n",
        "relevant_cols = ['id', 'listing_url', 'host_url', 'last_scraped', 'host_since', 'neighbourhood_cleansed', \n",
        "                 'host_response_time', 'host_response_rate', 'host_acceptance_rate', 'host_is_superhost', \n",
        "                 'latitude', 'longitude', 'room_type', 'accommodates', 'bathrooms_text', 'bedrooms', 'beds',\n",
        "                 'amenities', 'price', 'number_of_reviews', 'review_scores_rating', 'review_scores_accuracy',\n",
        "                 'review_scores_cleanliness', 'review_scores_checkin', 'review_scores_communication', 'review_scores_location',\n",
        "                 'instant_bookable', 'calculated_host_listings_count'\n",
        "                 ]\n",
        "# subsetting a dataframe of the relevant columns\n",
        "listings_df = listings_df[relevant_cols]"
      ],
      "metadata": {
        "id": "9WyFb2Lzy7rO"
      },
      "execution_count": 7,
      "outputs": []
    },
    {
      "cell_type": "code",
      "source": [
        "# new_listings df structure\n",
        "data_structure(listings_df, 'listing_df') "
      ],
      "metadata": {
        "id": "EBnnlRAv3nLu",
        "colab": {
          "base_uri": "https://localhost:8080/"
        },
        "outputId": "7444af3c-bbcf-4ba4-dc4a-d7e8c9985513"
      },
      "execution_count": 8,
      "outputs": [
        {
          "output_type": "stream",
          "name": "stdout",
          "text": [
            "listing_df dataframe shape: (18903, 28)\n",
            "------------------------------------------------------------------------------------------------------------------------\n",
            "<class 'pandas.core.frame.DataFrame'>\n",
            "RangeIndex: 18903 entries, 0 to 18902\n",
            "Data columns (total 28 columns):\n",
            " #   Column                          Non-Null Count  Dtype  \n",
            "---  ------                          --------------  -----  \n",
            " 0   id                              18903 non-null  int64  \n",
            " 1   listing_url                     18903 non-null  object \n",
            " 2   host_url                        18903 non-null  object \n",
            " 3   last_scraped                    18903 non-null  object \n",
            " 4   host_since                      18902 non-null  object \n",
            " 5   neighbourhood_cleansed          18903 non-null  object \n",
            " 6   host_response_time              14710 non-null  object \n",
            " 7   host_response_rate              14710 non-null  object \n",
            " 8   host_acceptance_rate            16542 non-null  object \n",
            " 9   host_is_superhost               18902 non-null  object \n",
            " 10  latitude                        18903 non-null  float64\n",
            " 11  longitude                       18903 non-null  float64\n",
            " 12  room_type                       18903 non-null  object \n",
            " 13  accommodates                    18903 non-null  int64  \n",
            " 14  bathrooms_text                  18862 non-null  object \n",
            " 15  bedrooms                        17714 non-null  float64\n",
            " 16  beds                            18619 non-null  float64\n",
            " 17  amenities                       18903 non-null  object \n",
            " 18  price                           18903 non-null  object \n",
            " 19  number_of_reviews               18903 non-null  int64  \n",
            " 20  review_scores_rating            13760 non-null  float64\n",
            " 21  review_scores_accuracy          13607 non-null  float64\n",
            " 22  review_scores_cleanliness       13608 non-null  float64\n",
            " 23  review_scores_checkin           13604 non-null  float64\n",
            " 24  review_scores_communication     13607 non-null  float64\n",
            " 25  review_scores_location          13604 non-null  float64\n",
            " 26  instant_bookable                18903 non-null  object \n",
            " 27  calculated_host_listings_count  18903 non-null  int64  \n",
            "dtypes: float64(10), int64(4), object(14)\n",
            "memory usage: 4.0+ MB\n",
            "None\n"
          ]
        }
      ]
    },
    {
      "cell_type": "code",
      "source": [
        "# viewing listings df\n",
        "listings_df.head(3) "
      ],
      "metadata": {
        "id": "yOnUsIrhB4P6",
        "colab": {
          "base_uri": "https://localhost:8080/",
          "height": 237
        },
        "outputId": "3067e557-7d9d-44c2-e7bc-040f9d3b7441"
      },
      "execution_count": 9,
      "outputs": [
        {
          "output_type": "execute_result",
          "data": {
            "text/plain": [
              "         id                            listing_url  \\\n",
              "0  30332317  https://www.airbnb.com/rooms/30332317   \n",
              "1   9126484   https://www.airbnb.com/rooms/9126484   \n",
              "2  44482125  https://www.airbnb.com/rooms/44482125   \n",
              "\n",
              "                                     host_url last_scraped  host_since  \\\n",
              "0  https://www.airbnb.com/users/show/98554302   2022-06-22  2016-10-07   \n",
              "1   https://www.airbnb.com/users/show/3410651   2022-06-22  2012-08-29   \n",
              "2  https://www.airbnb.com/users/show/98554302   2022-06-22  2016-10-07   \n",
              "\n",
              "  neighbourhood_cleansed  host_response_time host_response_rate  \\\n",
              "0                Ward 15      within an hour               100%   \n",
              "1                Ward 61  within a few hours               100%   \n",
              "2                Ward 15      within an hour               100%   \n",
              "\n",
              "  host_acceptance_rate host_is_superhost  ...      price  number_of_reviews  \\\n",
              "0                 100%                 f  ...  $1,350.00                  2   \n",
              "1                  50%                 f  ...  $1,750.00                 15   \n",
              "2                 100%                 f  ...  $1,350.00                  0   \n",
              "\n",
              "  review_scores_rating  review_scores_accuracy review_scores_cleanliness  \\\n",
              "0                 5.00                     5.0                       5.0   \n",
              "1                 4.87                     5.0                       5.0   \n",
              "2                  NaN                     NaN                       NaN   \n",
              "\n",
              "   review_scores_checkin  review_scores_communication review_scores_location  \\\n",
              "0                    5.0                          5.0                   5.00   \n",
              "1                    5.0                          5.0                   4.93   \n",
              "2                    NaN                          NaN                    NaN   \n",
              "\n",
              "  instant_bookable  calculated_host_listings_count  \n",
              "0                t                               7  \n",
              "1                f                               1  \n",
              "2                t                               7  \n",
              "\n",
              "[3 rows x 28 columns]"
            ],
            "text/html": [
              "\n",
              "  <div id=\"df-08f9fb87-8648-45c9-bd41-461b3ba473ae\">\n",
              "    <div class=\"colab-df-container\">\n",
              "      <div>\n",
              "<style scoped>\n",
              "    .dataframe tbody tr th:only-of-type {\n",
              "        vertical-align: middle;\n",
              "    }\n",
              "\n",
              "    .dataframe tbody tr th {\n",
              "        vertical-align: top;\n",
              "    }\n",
              "\n",
              "    .dataframe thead th {\n",
              "        text-align: right;\n",
              "    }\n",
              "</style>\n",
              "<table border=\"1\" class=\"dataframe\">\n",
              "  <thead>\n",
              "    <tr style=\"text-align: right;\">\n",
              "      <th></th>\n",
              "      <th>id</th>\n",
              "      <th>listing_url</th>\n",
              "      <th>host_url</th>\n",
              "      <th>last_scraped</th>\n",
              "      <th>host_since</th>\n",
              "      <th>neighbourhood_cleansed</th>\n",
              "      <th>host_response_time</th>\n",
              "      <th>host_response_rate</th>\n",
              "      <th>host_acceptance_rate</th>\n",
              "      <th>host_is_superhost</th>\n",
              "      <th>...</th>\n",
              "      <th>price</th>\n",
              "      <th>number_of_reviews</th>\n",
              "      <th>review_scores_rating</th>\n",
              "      <th>review_scores_accuracy</th>\n",
              "      <th>review_scores_cleanliness</th>\n",
              "      <th>review_scores_checkin</th>\n",
              "      <th>review_scores_communication</th>\n",
              "      <th>review_scores_location</th>\n",
              "      <th>instant_bookable</th>\n",
              "      <th>calculated_host_listings_count</th>\n",
              "    </tr>\n",
              "  </thead>\n",
              "  <tbody>\n",
              "    <tr>\n",
              "      <th>0</th>\n",
              "      <td>30332317</td>\n",
              "      <td>https://www.airbnb.com/rooms/30332317</td>\n",
              "      <td>https://www.airbnb.com/users/show/98554302</td>\n",
              "      <td>2022-06-22</td>\n",
              "      <td>2016-10-07</td>\n",
              "      <td>Ward 15</td>\n",
              "      <td>within an hour</td>\n",
              "      <td>100%</td>\n",
              "      <td>100%</td>\n",
              "      <td>f</td>\n",
              "      <td>...</td>\n",
              "      <td>$1,350.00</td>\n",
              "      <td>2</td>\n",
              "      <td>5.00</td>\n",
              "      <td>5.0</td>\n",
              "      <td>5.0</td>\n",
              "      <td>5.0</td>\n",
              "      <td>5.0</td>\n",
              "      <td>5.00</td>\n",
              "      <td>t</td>\n",
              "      <td>7</td>\n",
              "    </tr>\n",
              "    <tr>\n",
              "      <th>1</th>\n",
              "      <td>9126484</td>\n",
              "      <td>https://www.airbnb.com/rooms/9126484</td>\n",
              "      <td>https://www.airbnb.com/users/show/3410651</td>\n",
              "      <td>2022-06-22</td>\n",
              "      <td>2012-08-29</td>\n",
              "      <td>Ward 61</td>\n",
              "      <td>within a few hours</td>\n",
              "      <td>100%</td>\n",
              "      <td>50%</td>\n",
              "      <td>f</td>\n",
              "      <td>...</td>\n",
              "      <td>$1,750.00</td>\n",
              "      <td>15</td>\n",
              "      <td>4.87</td>\n",
              "      <td>5.0</td>\n",
              "      <td>5.0</td>\n",
              "      <td>5.0</td>\n",
              "      <td>5.0</td>\n",
              "      <td>4.93</td>\n",
              "      <td>f</td>\n",
              "      <td>1</td>\n",
              "    </tr>\n",
              "    <tr>\n",
              "      <th>2</th>\n",
              "      <td>44482125</td>\n",
              "      <td>https://www.airbnb.com/rooms/44482125</td>\n",
              "      <td>https://www.airbnb.com/users/show/98554302</td>\n",
              "      <td>2022-06-22</td>\n",
              "      <td>2016-10-07</td>\n",
              "      <td>Ward 15</td>\n",
              "      <td>within an hour</td>\n",
              "      <td>100%</td>\n",
              "      <td>100%</td>\n",
              "      <td>f</td>\n",
              "      <td>...</td>\n",
              "      <td>$1,350.00</td>\n",
              "      <td>0</td>\n",
              "      <td>NaN</td>\n",
              "      <td>NaN</td>\n",
              "      <td>NaN</td>\n",
              "      <td>NaN</td>\n",
              "      <td>NaN</td>\n",
              "      <td>NaN</td>\n",
              "      <td>t</td>\n",
              "      <td>7</td>\n",
              "    </tr>\n",
              "  </tbody>\n",
              "</table>\n",
              "<p>3 rows × 28 columns</p>\n",
              "</div>\n",
              "      <button class=\"colab-df-convert\" onclick=\"convertToInteractive('df-08f9fb87-8648-45c9-bd41-461b3ba473ae')\"\n",
              "              title=\"Convert this dataframe to an interactive table.\"\n",
              "              style=\"display:none;\">\n",
              "        \n",
              "  <svg xmlns=\"http://www.w3.org/2000/svg\" height=\"24px\"viewBox=\"0 0 24 24\"\n",
              "       width=\"24px\">\n",
              "    <path d=\"M0 0h24v24H0V0z\" fill=\"none\"/>\n",
              "    <path d=\"M18.56 5.44l.94 2.06.94-2.06 2.06-.94-2.06-.94-.94-2.06-.94 2.06-2.06.94zm-11 1L8.5 8.5l.94-2.06 2.06-.94-2.06-.94L8.5 2.5l-.94 2.06-2.06.94zm10 10l.94 2.06.94-2.06 2.06-.94-2.06-.94-.94-2.06-.94 2.06-2.06.94z\"/><path d=\"M17.41 7.96l-1.37-1.37c-.4-.4-.92-.59-1.43-.59-.52 0-1.04.2-1.43.59L10.3 9.45l-7.72 7.72c-.78.78-.78 2.05 0 2.83L4 21.41c.39.39.9.59 1.41.59.51 0 1.02-.2 1.41-.59l7.78-7.78 2.81-2.81c.8-.78.8-2.07 0-2.86zM5.41 20L4 18.59l7.72-7.72 1.47 1.35L5.41 20z\"/>\n",
              "  </svg>\n",
              "      </button>\n",
              "      \n",
              "  <style>\n",
              "    .colab-df-container {\n",
              "      display:flex;\n",
              "      flex-wrap:wrap;\n",
              "      gap: 12px;\n",
              "    }\n",
              "\n",
              "    .colab-df-convert {\n",
              "      background-color: #E8F0FE;\n",
              "      border: none;\n",
              "      border-radius: 50%;\n",
              "      cursor: pointer;\n",
              "      display: none;\n",
              "      fill: #1967D2;\n",
              "      height: 32px;\n",
              "      padding: 0 0 0 0;\n",
              "      width: 32px;\n",
              "    }\n",
              "\n",
              "    .colab-df-convert:hover {\n",
              "      background-color: #E2EBFA;\n",
              "      box-shadow: 0px 1px 2px rgba(60, 64, 67, 0.3), 0px 1px 3px 1px rgba(60, 64, 67, 0.15);\n",
              "      fill: #174EA6;\n",
              "    }\n",
              "\n",
              "    [theme=dark] .colab-df-convert {\n",
              "      background-color: #3B4455;\n",
              "      fill: #D2E3FC;\n",
              "    }\n",
              "\n",
              "    [theme=dark] .colab-df-convert:hover {\n",
              "      background-color: #434B5C;\n",
              "      box-shadow: 0px 1px 3px 1px rgba(0, 0, 0, 0.15);\n",
              "      filter: drop-shadow(0px 1px 2px rgba(0, 0, 0, 0.3));\n",
              "      fill: #FFFFFF;\n",
              "    }\n",
              "  </style>\n",
              "\n",
              "      <script>\n",
              "        const buttonEl =\n",
              "          document.querySelector('#df-08f9fb87-8648-45c9-bd41-461b3ba473ae button.colab-df-convert');\n",
              "        buttonEl.style.display =\n",
              "          google.colab.kernel.accessAllowed ? 'block' : 'none';\n",
              "\n",
              "        async function convertToInteractive(key) {\n",
              "          const element = document.querySelector('#df-08f9fb87-8648-45c9-bd41-461b3ba473ae');\n",
              "          const dataTable =\n",
              "            await google.colab.kernel.invokeFunction('convertToInteractive',\n",
              "                                                     [key], {});\n",
              "          if (!dataTable) return;\n",
              "\n",
              "          const docLinkHtml = 'Like what you see? Visit the ' +\n",
              "            '<a target=\"_blank\" href=https://colab.research.google.com/notebooks/data_table.ipynb>data table notebook</a>'\n",
              "            + ' to learn more about interactive tables.';\n",
              "          element.innerHTML = '';\n",
              "          dataTable['output_type'] = 'display_data';\n",
              "          await google.colab.output.renderOutput(dataTable, element);\n",
              "          const docLink = document.createElement('div');\n",
              "          docLink.innerHTML = docLinkHtml;\n",
              "          element.appendChild(docLink);\n",
              "        }\n",
              "      </script>\n",
              "    </div>\n",
              "  </div>\n",
              "  "
            ]
          },
          "metadata": {},
          "execution_count": 9
        }
      ]
    },
    {
      "cell_type": "code",
      "source": [
        "# reviews_df structure\n",
        "data_structure(reviews_df, 'reviews_df') "
      ],
      "metadata": {
        "id": "mtxkTzakVlTf",
        "colab": {
          "base_uri": "https://localhost:8080/"
        },
        "outputId": "f6fa1f09-4e48-49c6-8f01-162e1e7e137f"
      },
      "execution_count": 10,
      "outputs": [
        {
          "output_type": "stream",
          "name": "stdout",
          "text": [
            "reviews_df dataframe shape: (363065, 6)\n",
            "------------------------------------------------------------------------------------------------------------------------\n",
            "<class 'pandas.core.frame.DataFrame'>\n",
            "RangeIndex: 363065 entries, 0 to 363064\n",
            "Data columns (total 6 columns):\n",
            " #   Column         Non-Null Count   Dtype \n",
            "---  ------         --------------   ----- \n",
            " 0   listing_id     363065 non-null  int64 \n",
            " 1   id             363065 non-null  int64 \n",
            " 2   date           363065 non-null  object\n",
            " 3   reviewer_id    363065 non-null  int64 \n",
            " 4   reviewer_name  363065 non-null  object\n",
            " 5   comments       363018 non-null  object\n",
            "dtypes: int64(3), object(3)\n",
            "memory usage: 16.6+ MB\n",
            "None\n"
          ]
        }
      ]
    },
    {
      "cell_type": "markdown",
      "source": [
        "Reviews dataframe has only 1 column with nan values.\n",
        "The nature of the comments column makes it difficult to fill the nan values."
      ],
      "metadata": {
        "id": "2KNpcv7hyyh0"
      }
    },
    {
      "cell_type": "code",
      "source": [
        "# dropping nan values in reviews_df\n",
        "reviews_df.dropna(inplace=True)\n",
        "\n",
        "# viewing reviews df\n",
        "reviews_df.head(3) "
      ],
      "metadata": {
        "id": "dA5JhGD5jKOt",
        "colab": {
          "base_uri": "https://localhost:8080/",
          "height": 187
        },
        "outputId": "44ecc257-0294-4e5b-e9c8-d826025ac8e1"
      },
      "execution_count": 11,
      "outputs": [
        {
          "output_type": "execute_result",
          "data": {
            "text/plain": [
              "   listing_id                  id        date  reviewer_id reviewer_name  \\\n",
              "0    30332317           597314314  2020-01-25      7812767          Alan   \n",
              "1    30332317  532436007654450454  2022-01-04    367340518      Courtney   \n",
              "2     9126484            63063726  2016-02-20     50272994         Carla   \n",
              "\n",
              "                                            comments  \n",
              "0  Lovely rustic accommodation in a picturesque r...  \n",
              "1  The hosts are friendly and takes good care of ...  \n",
              "2  6 St Georges Building was lovely in every way....  "
            ],
            "text/html": [
              "\n",
              "  <div id=\"df-94135204-01b2-4135-9b02-c8096d4acc3b\">\n",
              "    <div class=\"colab-df-container\">\n",
              "      <div>\n",
              "<style scoped>\n",
              "    .dataframe tbody tr th:only-of-type {\n",
              "        vertical-align: middle;\n",
              "    }\n",
              "\n",
              "    .dataframe tbody tr th {\n",
              "        vertical-align: top;\n",
              "    }\n",
              "\n",
              "    .dataframe thead th {\n",
              "        text-align: right;\n",
              "    }\n",
              "</style>\n",
              "<table border=\"1\" class=\"dataframe\">\n",
              "  <thead>\n",
              "    <tr style=\"text-align: right;\">\n",
              "      <th></th>\n",
              "      <th>listing_id</th>\n",
              "      <th>id</th>\n",
              "      <th>date</th>\n",
              "      <th>reviewer_id</th>\n",
              "      <th>reviewer_name</th>\n",
              "      <th>comments</th>\n",
              "    </tr>\n",
              "  </thead>\n",
              "  <tbody>\n",
              "    <tr>\n",
              "      <th>0</th>\n",
              "      <td>30332317</td>\n",
              "      <td>597314314</td>\n",
              "      <td>2020-01-25</td>\n",
              "      <td>7812767</td>\n",
              "      <td>Alan</td>\n",
              "      <td>Lovely rustic accommodation in a picturesque r...</td>\n",
              "    </tr>\n",
              "    <tr>\n",
              "      <th>1</th>\n",
              "      <td>30332317</td>\n",
              "      <td>532436007654450454</td>\n",
              "      <td>2022-01-04</td>\n",
              "      <td>367340518</td>\n",
              "      <td>Courtney</td>\n",
              "      <td>The hosts are friendly and takes good care of ...</td>\n",
              "    </tr>\n",
              "    <tr>\n",
              "      <th>2</th>\n",
              "      <td>9126484</td>\n",
              "      <td>63063726</td>\n",
              "      <td>2016-02-20</td>\n",
              "      <td>50272994</td>\n",
              "      <td>Carla</td>\n",
              "      <td>6 St Georges Building was lovely in every way....</td>\n",
              "    </tr>\n",
              "  </tbody>\n",
              "</table>\n",
              "</div>\n",
              "      <button class=\"colab-df-convert\" onclick=\"convertToInteractive('df-94135204-01b2-4135-9b02-c8096d4acc3b')\"\n",
              "              title=\"Convert this dataframe to an interactive table.\"\n",
              "              style=\"display:none;\">\n",
              "        \n",
              "  <svg xmlns=\"http://www.w3.org/2000/svg\" height=\"24px\"viewBox=\"0 0 24 24\"\n",
              "       width=\"24px\">\n",
              "    <path d=\"M0 0h24v24H0V0z\" fill=\"none\"/>\n",
              "    <path d=\"M18.56 5.44l.94 2.06.94-2.06 2.06-.94-2.06-.94-.94-2.06-.94 2.06-2.06.94zm-11 1L8.5 8.5l.94-2.06 2.06-.94-2.06-.94L8.5 2.5l-.94 2.06-2.06.94zm10 10l.94 2.06.94-2.06 2.06-.94-2.06-.94-.94-2.06-.94 2.06-2.06.94z\"/><path d=\"M17.41 7.96l-1.37-1.37c-.4-.4-.92-.59-1.43-.59-.52 0-1.04.2-1.43.59L10.3 9.45l-7.72 7.72c-.78.78-.78 2.05 0 2.83L4 21.41c.39.39.9.59 1.41.59.51 0 1.02-.2 1.41-.59l7.78-7.78 2.81-2.81c.8-.78.8-2.07 0-2.86zM5.41 20L4 18.59l7.72-7.72 1.47 1.35L5.41 20z\"/>\n",
              "  </svg>\n",
              "      </button>\n",
              "      \n",
              "  <style>\n",
              "    .colab-df-container {\n",
              "      display:flex;\n",
              "      flex-wrap:wrap;\n",
              "      gap: 12px;\n",
              "    }\n",
              "\n",
              "    .colab-df-convert {\n",
              "      background-color: #E8F0FE;\n",
              "      border: none;\n",
              "      border-radius: 50%;\n",
              "      cursor: pointer;\n",
              "      display: none;\n",
              "      fill: #1967D2;\n",
              "      height: 32px;\n",
              "      padding: 0 0 0 0;\n",
              "      width: 32px;\n",
              "    }\n",
              "\n",
              "    .colab-df-convert:hover {\n",
              "      background-color: #E2EBFA;\n",
              "      box-shadow: 0px 1px 2px rgba(60, 64, 67, 0.3), 0px 1px 3px 1px rgba(60, 64, 67, 0.15);\n",
              "      fill: #174EA6;\n",
              "    }\n",
              "\n",
              "    [theme=dark] .colab-df-convert {\n",
              "      background-color: #3B4455;\n",
              "      fill: #D2E3FC;\n",
              "    }\n",
              "\n",
              "    [theme=dark] .colab-df-convert:hover {\n",
              "      background-color: #434B5C;\n",
              "      box-shadow: 0px 1px 3px 1px rgba(0, 0, 0, 0.15);\n",
              "      filter: drop-shadow(0px 1px 2px rgba(0, 0, 0, 0.3));\n",
              "      fill: #FFFFFF;\n",
              "    }\n",
              "  </style>\n",
              "\n",
              "      <script>\n",
              "        const buttonEl =\n",
              "          document.querySelector('#df-94135204-01b2-4135-9b02-c8096d4acc3b button.colab-df-convert');\n",
              "        buttonEl.style.display =\n",
              "          google.colab.kernel.accessAllowed ? 'block' : 'none';\n",
              "\n",
              "        async function convertToInteractive(key) {\n",
              "          const element = document.querySelector('#df-94135204-01b2-4135-9b02-c8096d4acc3b');\n",
              "          const dataTable =\n",
              "            await google.colab.kernel.invokeFunction('convertToInteractive',\n",
              "                                                     [key], {});\n",
              "          if (!dataTable) return;\n",
              "\n",
              "          const docLinkHtml = 'Like what you see? Visit the ' +\n",
              "            '<a target=\"_blank\" href=https://colab.research.google.com/notebooks/data_table.ipynb>data table notebook</a>'\n",
              "            + ' to learn more about interactive tables.';\n",
              "          element.innerHTML = '';\n",
              "          dataTable['output_type'] = 'display_data';\n",
              "          await google.colab.output.renderOutput(dataTable, element);\n",
              "          const docLink = document.createElement('div');\n",
              "          docLink.innerHTML = docLinkHtml;\n",
              "          element.appendChild(docLink);\n",
              "        }\n",
              "      </script>\n",
              "    </div>\n",
              "  </div>\n",
              "  "
            ]
          },
          "metadata": {},
          "execution_count": 11
        }
      ]
    },
    {
      "cell_type": "markdown",
      "source": [
        "# 4. Exploratory Data Analysis"
      ],
      "metadata": {
        "id": "80y8n49I9JhI"
      }
    },
    {
      "cell_type": "markdown",
      "source": [
        "## 4.1 Completeness"
      ],
      "metadata": {
        "id": "HWQYbVRHX3rg"
      }
    },
    {
      "cell_type": "code",
      "source": [
        "# checking percentage null value counts in listings \n",
        "listings_completeness = percentage_completeness(listings_df) \n",
        "# filtering out columns with complete records\n",
        "listings_completeness = listings_completeness[listings_completeness['%_completeness'] < 100] \n",
        "listings_completeness"
      ],
      "metadata": {
        "id": "zM3qVcsfGOgZ",
        "colab": {
          "base_uri": "https://localhost:8080/",
          "height": 488
        },
        "outputId": "b581a801-6ecb-4c5f-bef5-48e3385cab0f"
      },
      "execution_count": 12,
      "outputs": [
        {
          "output_type": "execute_result",
          "data": {
            "text/plain": [
              "                        Feature  %_completeness\n",
              "0        review_scores_location           71.97\n",
              "1         review_scores_checkin           71.97\n",
              "2   review_scores_communication           71.98\n",
              "3        review_scores_accuracy           71.98\n",
              "4     review_scores_cleanliness           71.99\n",
              "5          review_scores_rating           72.79\n",
              "6            host_response_time           77.82\n",
              "7            host_response_rate           77.82\n",
              "8          host_acceptance_rate           87.51\n",
              "9                      bedrooms           93.71\n",
              "10                         beds           98.50\n",
              "11               bathrooms_text           99.78\n",
              "12                   host_since           99.99\n",
              "13            host_is_superhost           99.99"
            ],
            "text/html": [
              "\n",
              "  <div id=\"df-60d3fe1c-8e6b-4d05-94bd-8f944a858913\">\n",
              "    <div class=\"colab-df-container\">\n",
              "      <div>\n",
              "<style scoped>\n",
              "    .dataframe tbody tr th:only-of-type {\n",
              "        vertical-align: middle;\n",
              "    }\n",
              "\n",
              "    .dataframe tbody tr th {\n",
              "        vertical-align: top;\n",
              "    }\n",
              "\n",
              "    .dataframe thead th {\n",
              "        text-align: right;\n",
              "    }\n",
              "</style>\n",
              "<table border=\"1\" class=\"dataframe\">\n",
              "  <thead>\n",
              "    <tr style=\"text-align: right;\">\n",
              "      <th></th>\n",
              "      <th>Feature</th>\n",
              "      <th>%_completeness</th>\n",
              "    </tr>\n",
              "  </thead>\n",
              "  <tbody>\n",
              "    <tr>\n",
              "      <th>0</th>\n",
              "      <td>review_scores_location</td>\n",
              "      <td>71.97</td>\n",
              "    </tr>\n",
              "    <tr>\n",
              "      <th>1</th>\n",
              "      <td>review_scores_checkin</td>\n",
              "      <td>71.97</td>\n",
              "    </tr>\n",
              "    <tr>\n",
              "      <th>2</th>\n",
              "      <td>review_scores_communication</td>\n",
              "      <td>71.98</td>\n",
              "    </tr>\n",
              "    <tr>\n",
              "      <th>3</th>\n",
              "      <td>review_scores_accuracy</td>\n",
              "      <td>71.98</td>\n",
              "    </tr>\n",
              "    <tr>\n",
              "      <th>4</th>\n",
              "      <td>review_scores_cleanliness</td>\n",
              "      <td>71.99</td>\n",
              "    </tr>\n",
              "    <tr>\n",
              "      <th>5</th>\n",
              "      <td>review_scores_rating</td>\n",
              "      <td>72.79</td>\n",
              "    </tr>\n",
              "    <tr>\n",
              "      <th>6</th>\n",
              "      <td>host_response_time</td>\n",
              "      <td>77.82</td>\n",
              "    </tr>\n",
              "    <tr>\n",
              "      <th>7</th>\n",
              "      <td>host_response_rate</td>\n",
              "      <td>77.82</td>\n",
              "    </tr>\n",
              "    <tr>\n",
              "      <th>8</th>\n",
              "      <td>host_acceptance_rate</td>\n",
              "      <td>87.51</td>\n",
              "    </tr>\n",
              "    <tr>\n",
              "      <th>9</th>\n",
              "      <td>bedrooms</td>\n",
              "      <td>93.71</td>\n",
              "    </tr>\n",
              "    <tr>\n",
              "      <th>10</th>\n",
              "      <td>beds</td>\n",
              "      <td>98.50</td>\n",
              "    </tr>\n",
              "    <tr>\n",
              "      <th>11</th>\n",
              "      <td>bathrooms_text</td>\n",
              "      <td>99.78</td>\n",
              "    </tr>\n",
              "    <tr>\n",
              "      <th>12</th>\n",
              "      <td>host_since</td>\n",
              "      <td>99.99</td>\n",
              "    </tr>\n",
              "    <tr>\n",
              "      <th>13</th>\n",
              "      <td>host_is_superhost</td>\n",
              "      <td>99.99</td>\n",
              "    </tr>\n",
              "  </tbody>\n",
              "</table>\n",
              "</div>\n",
              "      <button class=\"colab-df-convert\" onclick=\"convertToInteractive('df-60d3fe1c-8e6b-4d05-94bd-8f944a858913')\"\n",
              "              title=\"Convert this dataframe to an interactive table.\"\n",
              "              style=\"display:none;\">\n",
              "        \n",
              "  <svg xmlns=\"http://www.w3.org/2000/svg\" height=\"24px\"viewBox=\"0 0 24 24\"\n",
              "       width=\"24px\">\n",
              "    <path d=\"M0 0h24v24H0V0z\" fill=\"none\"/>\n",
              "    <path d=\"M18.56 5.44l.94 2.06.94-2.06 2.06-.94-2.06-.94-.94-2.06-.94 2.06-2.06.94zm-11 1L8.5 8.5l.94-2.06 2.06-.94-2.06-.94L8.5 2.5l-.94 2.06-2.06.94zm10 10l.94 2.06.94-2.06 2.06-.94-2.06-.94-.94-2.06-.94 2.06-2.06.94z\"/><path d=\"M17.41 7.96l-1.37-1.37c-.4-.4-.92-.59-1.43-.59-.52 0-1.04.2-1.43.59L10.3 9.45l-7.72 7.72c-.78.78-.78 2.05 0 2.83L4 21.41c.39.39.9.59 1.41.59.51 0 1.02-.2 1.41-.59l7.78-7.78 2.81-2.81c.8-.78.8-2.07 0-2.86zM5.41 20L4 18.59l7.72-7.72 1.47 1.35L5.41 20z\"/>\n",
              "  </svg>\n",
              "      </button>\n",
              "      \n",
              "  <style>\n",
              "    .colab-df-container {\n",
              "      display:flex;\n",
              "      flex-wrap:wrap;\n",
              "      gap: 12px;\n",
              "    }\n",
              "\n",
              "    .colab-df-convert {\n",
              "      background-color: #E8F0FE;\n",
              "      border: none;\n",
              "      border-radius: 50%;\n",
              "      cursor: pointer;\n",
              "      display: none;\n",
              "      fill: #1967D2;\n",
              "      height: 32px;\n",
              "      padding: 0 0 0 0;\n",
              "      width: 32px;\n",
              "    }\n",
              "\n",
              "    .colab-df-convert:hover {\n",
              "      background-color: #E2EBFA;\n",
              "      box-shadow: 0px 1px 2px rgba(60, 64, 67, 0.3), 0px 1px 3px 1px rgba(60, 64, 67, 0.15);\n",
              "      fill: #174EA6;\n",
              "    }\n",
              "\n",
              "    [theme=dark] .colab-df-convert {\n",
              "      background-color: #3B4455;\n",
              "      fill: #D2E3FC;\n",
              "    }\n",
              "\n",
              "    [theme=dark] .colab-df-convert:hover {\n",
              "      background-color: #434B5C;\n",
              "      box-shadow: 0px 1px 3px 1px rgba(0, 0, 0, 0.15);\n",
              "      filter: drop-shadow(0px 1px 2px rgba(0, 0, 0, 0.3));\n",
              "      fill: #FFFFFF;\n",
              "    }\n",
              "  </style>\n",
              "\n",
              "      <script>\n",
              "        const buttonEl =\n",
              "          document.querySelector('#df-60d3fe1c-8e6b-4d05-94bd-8f944a858913 button.colab-df-convert');\n",
              "        buttonEl.style.display =\n",
              "          google.colab.kernel.accessAllowed ? 'block' : 'none';\n",
              "\n",
              "        async function convertToInteractive(key) {\n",
              "          const element = document.querySelector('#df-60d3fe1c-8e6b-4d05-94bd-8f944a858913');\n",
              "          const dataTable =\n",
              "            await google.colab.kernel.invokeFunction('convertToInteractive',\n",
              "                                                     [key], {});\n",
              "          if (!dataTable) return;\n",
              "\n",
              "          const docLinkHtml = 'Like what you see? Visit the ' +\n",
              "            '<a target=\"_blank\" href=https://colab.research.google.com/notebooks/data_table.ipynb>data table notebook</a>'\n",
              "            + ' to learn more about interactive tables.';\n",
              "          element.innerHTML = '';\n",
              "          dataTable['output_type'] = 'display_data';\n",
              "          await google.colab.output.renderOutput(dataTable, element);\n",
              "          const docLink = document.createElement('div');\n",
              "          docLink.innerHTML = docLinkHtml;\n",
              "          element.appendChild(docLink);\n",
              "        }\n",
              "      </script>\n",
              "    </div>\n",
              "  </div>\n",
              "  "
            ]
          },
          "metadata": {},
          "execution_count": 12
        }
      ]
    },
    {
      "cell_type": "code",
      "source": [
        "# checking number of columns with missing values\n",
        "print('The number of columns with missing values are:', len(listings_completeness))"
      ],
      "metadata": {
        "id": "IQ1CtHVx7USy",
        "colab": {
          "base_uri": "https://localhost:8080/"
        },
        "outputId": "949c65d7-d7d3-468c-9ee5-9c6ae8788201"
      },
      "execution_count": 13,
      "outputs": [
        {
          "output_type": "stream",
          "name": "stdout",
          "text": [
            "The number of columns with missing values are: 14\n"
          ]
        }
      ]
    },
    {
      "cell_type": "markdown",
      "source": [
        "### 'review_score' features\n",
        "\n",
        "Dealing with columns that have 'review_score' in their labels. \n",
        "\n",
        "There is ~30% missing values in 'review_score_' columns."
      ],
      "metadata": {
        "id": "2K3wIG6AQccU"
      }
    },
    {
      "cell_type": "code",
      "source": [
        "# Creating a list of the review_score columns\n",
        "review_list = [column for column in listings_df.columns if 'review_score' in column.strip()]\n",
        "# subsetting a dataframe of review list\n",
        "review_cols_df = listings_df[review_list].copy() \n",
        "# checking the datatype for these columns\n",
        "listings_df[review_list].dtypes"
      ],
      "metadata": {
        "id": "UwEgF7EePLVw",
        "colab": {
          "base_uri": "https://localhost:8080/"
        },
        "outputId": "8f6c65d9-6c15-480e-9dff-a6c2ac1d7e51"
      },
      "execution_count": 14,
      "outputs": [
        {
          "output_type": "execute_result",
          "data": {
            "text/plain": [
              "review_scores_rating           float64\n",
              "review_scores_accuracy         float64\n",
              "review_scores_cleanliness      float64\n",
              "review_scores_checkin          float64\n",
              "review_scores_communication    float64\n",
              "review_scores_location         float64\n",
              "dtype: object"
            ]
          },
          "metadata": {},
          "execution_count": 14
        }
      ]
    },
    {
      "cell_type": "markdown",
      "source": [
        "All review_score_ columns are of numeric type."
      ],
      "metadata": {
        "id": "Xaz1WtenXAZr"
      }
    },
    {
      "cell_type": "code",
      "source": [
        "# checking the column descriptions\n",
        "review_cols_df.describe().T "
      ],
      "metadata": {
        "id": "Ecxsez7lTAeA",
        "colab": {
          "base_uri": "https://localhost:8080/",
          "height": 238
        },
        "outputId": "ca502b3d-6f40-4e3e-de57-a01e73e97f28"
      },
      "execution_count": 15,
      "outputs": [
        {
          "output_type": "execute_result",
          "data": {
            "text/plain": [
              "                               count      mean       std  min   25%   50%  \\\n",
              "review_scores_rating         13760.0  4.666231  0.684017  0.0  4.64  4.86   \n",
              "review_scores_accuracy       13607.0  4.757262  0.490736  0.0  4.73  4.91   \n",
              "review_scores_cleanliness    13608.0  4.730264  0.492878  0.0  4.67  4.89   \n",
              "review_scores_checkin        13604.0  4.808905  0.462444  0.0  4.81  4.97   \n",
              "review_scores_communication  13607.0  4.802807  0.479074  0.0  4.81  4.97   \n",
              "review_scores_location       13604.0  4.803673  0.414366  0.0  4.78  4.93   \n",
              "\n",
              "                             75%  max  \n",
              "review_scores_rating         5.0  5.0  \n",
              "review_scores_accuracy       5.0  5.0  \n",
              "review_scores_cleanliness    5.0  5.0  \n",
              "review_scores_checkin        5.0  5.0  \n",
              "review_scores_communication  5.0  5.0  \n",
              "review_scores_location       5.0  5.0  "
            ],
            "text/html": [
              "\n",
              "  <div id=\"df-28931141-711d-4ced-a484-690f348ee213\">\n",
              "    <div class=\"colab-df-container\">\n",
              "      <div>\n",
              "<style scoped>\n",
              "    .dataframe tbody tr th:only-of-type {\n",
              "        vertical-align: middle;\n",
              "    }\n",
              "\n",
              "    .dataframe tbody tr th {\n",
              "        vertical-align: top;\n",
              "    }\n",
              "\n",
              "    .dataframe thead th {\n",
              "        text-align: right;\n",
              "    }\n",
              "</style>\n",
              "<table border=\"1\" class=\"dataframe\">\n",
              "  <thead>\n",
              "    <tr style=\"text-align: right;\">\n",
              "      <th></th>\n",
              "      <th>count</th>\n",
              "      <th>mean</th>\n",
              "      <th>std</th>\n",
              "      <th>min</th>\n",
              "      <th>25%</th>\n",
              "      <th>50%</th>\n",
              "      <th>75%</th>\n",
              "      <th>max</th>\n",
              "    </tr>\n",
              "  </thead>\n",
              "  <tbody>\n",
              "    <tr>\n",
              "      <th>review_scores_rating</th>\n",
              "      <td>13760.0</td>\n",
              "      <td>4.666231</td>\n",
              "      <td>0.684017</td>\n",
              "      <td>0.0</td>\n",
              "      <td>4.64</td>\n",
              "      <td>4.86</td>\n",
              "      <td>5.0</td>\n",
              "      <td>5.0</td>\n",
              "    </tr>\n",
              "    <tr>\n",
              "      <th>review_scores_accuracy</th>\n",
              "      <td>13607.0</td>\n",
              "      <td>4.757262</td>\n",
              "      <td>0.490736</td>\n",
              "      <td>0.0</td>\n",
              "      <td>4.73</td>\n",
              "      <td>4.91</td>\n",
              "      <td>5.0</td>\n",
              "      <td>5.0</td>\n",
              "    </tr>\n",
              "    <tr>\n",
              "      <th>review_scores_cleanliness</th>\n",
              "      <td>13608.0</td>\n",
              "      <td>4.730264</td>\n",
              "      <td>0.492878</td>\n",
              "      <td>0.0</td>\n",
              "      <td>4.67</td>\n",
              "      <td>4.89</td>\n",
              "      <td>5.0</td>\n",
              "      <td>5.0</td>\n",
              "    </tr>\n",
              "    <tr>\n",
              "      <th>review_scores_checkin</th>\n",
              "      <td>13604.0</td>\n",
              "      <td>4.808905</td>\n",
              "      <td>0.462444</td>\n",
              "      <td>0.0</td>\n",
              "      <td>4.81</td>\n",
              "      <td>4.97</td>\n",
              "      <td>5.0</td>\n",
              "      <td>5.0</td>\n",
              "    </tr>\n",
              "    <tr>\n",
              "      <th>review_scores_communication</th>\n",
              "      <td>13607.0</td>\n",
              "      <td>4.802807</td>\n",
              "      <td>0.479074</td>\n",
              "      <td>0.0</td>\n",
              "      <td>4.81</td>\n",
              "      <td>4.97</td>\n",
              "      <td>5.0</td>\n",
              "      <td>5.0</td>\n",
              "    </tr>\n",
              "    <tr>\n",
              "      <th>review_scores_location</th>\n",
              "      <td>13604.0</td>\n",
              "      <td>4.803673</td>\n",
              "      <td>0.414366</td>\n",
              "      <td>0.0</td>\n",
              "      <td>4.78</td>\n",
              "      <td>4.93</td>\n",
              "      <td>5.0</td>\n",
              "      <td>5.0</td>\n",
              "    </tr>\n",
              "  </tbody>\n",
              "</table>\n",
              "</div>\n",
              "      <button class=\"colab-df-convert\" onclick=\"convertToInteractive('df-28931141-711d-4ced-a484-690f348ee213')\"\n",
              "              title=\"Convert this dataframe to an interactive table.\"\n",
              "              style=\"display:none;\">\n",
              "        \n",
              "  <svg xmlns=\"http://www.w3.org/2000/svg\" height=\"24px\"viewBox=\"0 0 24 24\"\n",
              "       width=\"24px\">\n",
              "    <path d=\"M0 0h24v24H0V0z\" fill=\"none\"/>\n",
              "    <path d=\"M18.56 5.44l.94 2.06.94-2.06 2.06-.94-2.06-.94-.94-2.06-.94 2.06-2.06.94zm-11 1L8.5 8.5l.94-2.06 2.06-.94-2.06-.94L8.5 2.5l-.94 2.06-2.06.94zm10 10l.94 2.06.94-2.06 2.06-.94-2.06-.94-.94-2.06-.94 2.06-2.06.94z\"/><path d=\"M17.41 7.96l-1.37-1.37c-.4-.4-.92-.59-1.43-.59-.52 0-1.04.2-1.43.59L10.3 9.45l-7.72 7.72c-.78.78-.78 2.05 0 2.83L4 21.41c.39.39.9.59 1.41.59.51 0 1.02-.2 1.41-.59l7.78-7.78 2.81-2.81c.8-.78.8-2.07 0-2.86zM5.41 20L4 18.59l7.72-7.72 1.47 1.35L5.41 20z\"/>\n",
              "  </svg>\n",
              "      </button>\n",
              "      \n",
              "  <style>\n",
              "    .colab-df-container {\n",
              "      display:flex;\n",
              "      flex-wrap:wrap;\n",
              "      gap: 12px;\n",
              "    }\n",
              "\n",
              "    .colab-df-convert {\n",
              "      background-color: #E8F0FE;\n",
              "      border: none;\n",
              "      border-radius: 50%;\n",
              "      cursor: pointer;\n",
              "      display: none;\n",
              "      fill: #1967D2;\n",
              "      height: 32px;\n",
              "      padding: 0 0 0 0;\n",
              "      width: 32px;\n",
              "    }\n",
              "\n",
              "    .colab-df-convert:hover {\n",
              "      background-color: #E2EBFA;\n",
              "      box-shadow: 0px 1px 2px rgba(60, 64, 67, 0.3), 0px 1px 3px 1px rgba(60, 64, 67, 0.15);\n",
              "      fill: #174EA6;\n",
              "    }\n",
              "\n",
              "    [theme=dark] .colab-df-convert {\n",
              "      background-color: #3B4455;\n",
              "      fill: #D2E3FC;\n",
              "    }\n",
              "\n",
              "    [theme=dark] .colab-df-convert:hover {\n",
              "      background-color: #434B5C;\n",
              "      box-shadow: 0px 1px 3px 1px rgba(0, 0, 0, 0.15);\n",
              "      filter: drop-shadow(0px 1px 2px rgba(0, 0, 0, 0.3));\n",
              "      fill: #FFFFFF;\n",
              "    }\n",
              "  </style>\n",
              "\n",
              "      <script>\n",
              "        const buttonEl =\n",
              "          document.querySelector('#df-28931141-711d-4ced-a484-690f348ee213 button.colab-df-convert');\n",
              "        buttonEl.style.display =\n",
              "          google.colab.kernel.accessAllowed ? 'block' : 'none';\n",
              "\n",
              "        async function convertToInteractive(key) {\n",
              "          const element = document.querySelector('#df-28931141-711d-4ced-a484-690f348ee213');\n",
              "          const dataTable =\n",
              "            await google.colab.kernel.invokeFunction('convertToInteractive',\n",
              "                                                     [key], {});\n",
              "          if (!dataTable) return;\n",
              "\n",
              "          const docLinkHtml = 'Like what you see? Visit the ' +\n",
              "            '<a target=\"_blank\" href=https://colab.research.google.com/notebooks/data_table.ipynb>data table notebook</a>'\n",
              "            + ' to learn more about interactive tables.';\n",
              "          element.innerHTML = '';\n",
              "          dataTable['output_type'] = 'display_data';\n",
              "          await google.colab.output.renderOutput(dataTable, element);\n",
              "          const docLink = document.createElement('div');\n",
              "          docLink.innerHTML = docLinkHtml;\n",
              "          element.appendChild(docLink);\n",
              "        }\n",
              "      </script>\n",
              "    </div>\n",
              "  </div>\n",
              "  "
            ]
          },
          "metadata": {},
          "execution_count": 15
        }
      ]
    },
    {
      "cell_type": "markdown",
      "source": [
        "The missing values will be filled with the median of the respective column."
      ],
      "metadata": {
        "id": "WIjht-nbVd8_"
      }
    },
    {
      "cell_type": "code",
      "source": [
        "# imputing missing values with median\n",
        "listings_df[review_list] = listings_df[review_list].fillna(listings_df[review_list].median())"
      ],
      "metadata": {
        "id": "mDp7laNoUVvp"
      },
      "execution_count": 16,
      "outputs": []
    },
    {
      "cell_type": "code",
      "source": [
        "# rounding off ratings values \n",
        "listings_df[review_list] = listings_df[review_list].round(0)"
      ],
      "metadata": {
        "id": "zWp0MKMfSi21"
      },
      "execution_count": 17,
      "outputs": []
    },
    {
      "cell_type": "code",
      "source": [
        "# checking value counts\n",
        "for feature in review_list:\n",
        "    print(value_count(listings_df, feature))\n",
        "    # limiting long output"
      ],
      "metadata": {
        "id": "HnO4PnOJYAYB",
        "colab": {
          "base_uri": "https://localhost:8080/"
        },
        "outputId": "462956d6-8cd4-4922-bbf8-6a9b4b5f12dc"
      },
      "execution_count": 18,
      "outputs": [
        {
          "output_type": "stream",
          "name": "stdout",
          "text": [
            "     Count(s)\n",
            "5.0     16284\n",
            "4.0      2140\n",
            "3.0       190\n",
            "0.0       138\n",
            "1.0       102\n",
            "2.0        49\n",
            "     Count(s)\n",
            "5.0     17003\n",
            "4.0      1585\n",
            "3.0       165\n",
            "1.0       105\n",
            "2.0        44\n",
            "0.0         1\n",
            "     Count(s)\n",
            "5.0     16621\n",
            "4.0      1932\n",
            "3.0       205\n",
            "1.0        88\n",
            "2.0        56\n",
            "0.0         1\n",
            "     Count(s)\n",
            "5.0     17400\n",
            "4.0      1242\n",
            "3.0       128\n",
            "1.0        99\n",
            "2.0        33\n",
            "0.0         1\n",
            "     Count(s)\n",
            "5.0     17337\n",
            "4.0      1282\n",
            "3.0       132\n",
            "1.0       101\n",
            "2.0        49\n",
            "0.0         2\n",
            "     Count(s)\n",
            "5.0     17424\n",
            "4.0      1280\n",
            "3.0       100\n",
            "1.0        69\n",
            "2.0        29\n",
            "0.0         1\n"
          ]
        }
      ]
    },
    {
      "cell_type": "markdown",
      "source": [
        "The number of rating scores that equal to 0 after rouding off are negligible compared to the size of the dataset and other class couts. A zero rating doesn't make much sense, changing them to 1 is more sensible."
      ],
      "metadata": {
        "id": "r4eqWEeehTpl"
      }
    },
    {
      "cell_type": "code",
      "source": [
        "for feature in review_list:\n",
        "    # replacing 0 values with 1\n",
        "    listings_df[feature] = listings_df[feature].replace(to_replace=0, value=1) "
      ],
      "metadata": {
        "id": "IJjwljhBh0Jo"
      },
      "execution_count": 19,
      "outputs": []
    },
    {
      "cell_type": "markdown",
      "source": [
        "### bedrooms & beds features\n",
        "~6% of data is missing from bedrooms and ~2% is missing from beds columns."
      ],
      "metadata": {
        "id": "qO-THCM64iNK"
      }
    },
    {
      "cell_type": "code",
      "source": [
        "# bedrooms unique values\n",
        "print(listings_df['bedrooms'].unique()[:23])\n",
        "print()\n",
        "# beds unique values\n",
        "print(listings_df['beds'].unique()[:10])"
      ],
      "metadata": {
        "id": "utxKvSf9_sBO",
        "colab": {
          "base_uri": "https://localhost:8080/"
        },
        "outputId": "1f1a8575-3f17-49e8-d6d8-a50711a0ad8a"
      },
      "execution_count": 20,
      "outputs": [
        {
          "output_type": "stream",
          "name": "stdout",
          "text": [
            "[ 1.  2.  5.  3. nan  6.  4. 10.  7.  8.  9. 12. 16. 19. 41. 40. 11. 14.\n",
            " 13. 18. 17. 15. 20.]\n",
            "\n",
            "[ 1.  3.  2.  4.  5.  6.  8. nan  7. 49.]\n"
          ]
        }
      ]
    },
    {
      "cell_type": "markdown",
      "source": [
        "There seems to be outliers in these columns. "
      ],
      "metadata": {
        "id": "rMun0I3qkBHu"
      }
    },
    {
      "cell_type": "code",
      "source": [
        "# checking if there are outliers in the bedrooms column\n",
        "box_plot(listings_df['bedrooms'])"
      ],
      "metadata": {
        "id": "ei4JdnuC5QnL",
        "colab": {
          "base_uri": "https://localhost:8080/",
          "height": 574
        },
        "outputId": "2526d84a-0972-4a27-bcea-87c6bba4c79d"
      },
      "execution_count": 21,
      "outputs": [
        {
          "output_type": "display_data",
          "data": {
            "text/plain": [
              "<Figure size 1440x720 with 1 Axes>"
            ],
            "image/png": "[encoded data removed]"
          },
          "metadata": {
            "needs_background": "light"
          }
        }
      ]
    },
    {
      "cell_type": "code",
      "source": [
        "# checking if there are outliers in the bed column\n",
        "box_plot(listings_df['beds']) "
      ],
      "metadata": {
        "id": "Eov7mD3DVIYh",
        "colab": {
          "base_uri": "https://localhost:8080/",
          "height": 574
        },
        "outputId": "8b65ccc4-fb15-48ad-8fc6-9fad3607067c"
      },
      "execution_count": 22,
      "outputs": [
        {
          "output_type": "display_data",
          "data": {
            "text/plain": [
              "<Figure size 1440x720 with 1 Axes>"
            ],
            "image/png": "[encoded data removed]"
          },
          "metadata": {
            "needs_background": "light"
          }
        }
      ]
    },
    {
      "cell_type": "code",
      "source": [
        "# subsetting extreme outliers in bedrooms and beds columns\n",
        "listings_df[(listings_df['bedrooms'] >= 24) | (listings_df['beds'] >= 24)][['bedrooms', 'beds', 'price', 'bathrooms_text']]"
      ],
      "metadata": {
        "id": "eB4mXpg5VYHp",
        "colab": {
          "base_uri": "https://localhost:8080/",
          "height": 300
        },
        "outputId": "1bf3a3b6-3357-4794-e127-2bd53b511fc8"
      },
      "execution_count": 23,
      "outputs": [
        {
          "output_type": "execute_result",
          "data": {
            "text/plain": [
              "       bedrooms  beds      price  bathrooms_text\n",
              "148        10.0  49.0    $840.00        32 baths\n",
              "1742       12.0  24.0  $3,361.00         2 baths\n",
              "7064       12.0  24.0  $9,800.00         6 baths\n",
              "8401       41.0  50.0  $1,689.00          1 bath\n",
              "8966       40.0  50.0    $807.00        42 baths\n",
              "12250       1.0  24.0    $350.00   1 shared bath\n",
              "12517      14.0  24.0    $400.00  2 shared baths\n",
              "12518      13.0  40.0    $686.00         9 baths"
            ],
            "text/html": [
              "\n",
              "  <div id=\"df-5df5aa31-318b-43e1-895c-2da5c46e2407\">\n",
              "    <div class=\"colab-df-container\">\n",
              "      <div>\n",
              "<style scoped>\n",
              "    .dataframe tbody tr th:only-of-type {\n",
              "        vertical-align: middle;\n",
              "    }\n",
              "\n",
              "    .dataframe tbody tr th {\n",
              "        vertical-align: top;\n",
              "    }\n",
              "\n",
              "    .dataframe thead th {\n",
              "        text-align: right;\n",
              "    }\n",
              "</style>\n",
              "<table border=\"1\" class=\"dataframe\">\n",
              "  <thead>\n",
              "    <tr style=\"text-align: right;\">\n",
              "      <th></th>\n",
              "      <th>bedrooms</th>\n",
              "      <th>beds</th>\n",
              "      <th>price</th>\n",
              "      <th>bathrooms_text</th>\n",
              "    </tr>\n",
              "  </thead>\n",
              "  <tbody>\n",
              "    <tr>\n",
              "      <th>148</th>\n",
              "      <td>10.0</td>\n",
              "      <td>49.0</td>\n",
              "      <td>$840.00</td>\n",
              "      <td>32 baths</td>\n",
              "    </tr>\n",
              "    <tr>\n",
              "      <th>1742</th>\n",
              "      <td>12.0</td>\n",
              "      <td>24.0</td>\n",
              "      <td>$3,361.00</td>\n",
              "      <td>2 baths</td>\n",
              "    </tr>\n",
              "    <tr>\n",
              "      <th>7064</th>\n",
              "      <td>12.0</td>\n",
              "      <td>24.0</td>\n",
              "      <td>$9,800.00</td>\n",
              "      <td>6 baths</td>\n",
              "    </tr>\n",
              "    <tr>\n",
              "      <th>8401</th>\n",
              "      <td>41.0</td>\n",
              "      <td>50.0</td>\n",
              "      <td>$1,689.00</td>\n",
              "      <td>1 bath</td>\n",
              "    </tr>\n",
              "    <tr>\n",
              "      <th>8966</th>\n",
              "      <td>40.0</td>\n",
              "      <td>50.0</td>\n",
              "      <td>$807.00</td>\n",
              "      <td>42 baths</td>\n",
              "    </tr>\n",
              "    <tr>\n",
              "      <th>12250</th>\n",
              "      <td>1.0</td>\n",
              "      <td>24.0</td>\n",
              "      <td>$350.00</td>\n",
              "      <td>1 shared bath</td>\n",
              "    </tr>\n",
              "    <tr>\n",
              "      <th>12517</th>\n",
              "      <td>14.0</td>\n",
              "      <td>24.0</td>\n",
              "      <td>$400.00</td>\n",
              "      <td>2 shared baths</td>\n",
              "    </tr>\n",
              "    <tr>\n",
              "      <th>12518</th>\n",
              "      <td>13.0</td>\n",
              "      <td>40.0</td>\n",
              "      <td>$686.00</td>\n",
              "      <td>9 baths</td>\n",
              "    </tr>\n",
              "  </tbody>\n",
              "</table>\n",
              "</div>\n",
              "      <button class=\"colab-df-convert\" onclick=\"convertToInteractive('df-5df5aa31-318b-43e1-895c-2da5c46e2407')\"\n",
              "              title=\"Convert this dataframe to an interactive table.\"\n",
              "              style=\"display:none;\">\n",
              "        \n",
              "  <svg xmlns=\"http://www.w3.org/2000/svg\" height=\"24px\"viewBox=\"0 0 24 24\"\n",
              "       width=\"24px\">\n",
              "    <path d=\"M0 0h24v24H0V0z\" fill=\"none\"/>\n",
              "    <path d=\"M18.56 5.44l.94 2.06.94-2.06 2.06-.94-2.06-.94-.94-2.06-.94 2.06-2.06.94zm-11 1L8.5 8.5l.94-2.06 2.06-.94-2.06-.94L8.5 2.5l-.94 2.06-2.06.94zm10 10l.94 2.06.94-2.06 2.06-.94-2.06-.94-.94-2.06-.94 2.06-2.06.94z\"/><path d=\"M17.41 7.96l-1.37-1.37c-.4-.4-.92-.59-1.43-.59-.52 0-1.04.2-1.43.59L10.3 9.45l-7.72 7.72c-.78.78-.78 2.05 0 2.83L4 21.41c.39.39.9.59 1.41.59.51 0 1.02-.2 1.41-.59l7.78-7.78 2.81-2.81c.8-.78.8-2.07 0-2.86zM5.41 20L4 18.59l7.72-7.72 1.47 1.35L5.41 20z\"/>\n",
              "  </svg>\n",
              "      </button>\n",
              "      \n",
              "  <style>\n",
              "    .colab-df-container {\n",
              "      display:flex;\n",
              "      flex-wrap:wrap;\n",
              "      gap: 12px;\n",
              "    }\n",
              "\n",
              "    .colab-df-convert {\n",
              "      background-color: #E8F0FE;\n",
              "      border: none;\n",
              "      border-radius: 50%;\n",
              "      cursor: pointer;\n",
              "      display: none;\n",
              "      fill: #1967D2;\n",
              "      height: 32px;\n",
              "      padding: 0 0 0 0;\n",
              "      width: 32px;\n",
              "    }\n",
              "\n",
              "    .colab-df-convert:hover {\n",
              "      background-color: #E2EBFA;\n",
              "      box-shadow: 0px 1px 2px rgba(60, 64, 67, 0.3), 0px 1px 3px 1px rgba(60, 64, 67, 0.15);\n",
              "      fill: #174EA6;\n",
              "    }\n",
              "\n",
              "    [theme=dark] .colab-df-convert {\n",
              "      background-color: #3B4455;\n",
              "      fill: #D2E3FC;\n",
              "    }\n",
              "\n",
              "    [theme=dark] .colab-df-convert:hover {\n",
              "      background-color: #434B5C;\n",
              "      box-shadow: 0px 1px 3px 1px rgba(0, 0, 0, 0.15);\n",
              "      filter: drop-shadow(0px 1px 2px rgba(0, 0, 0, 0.3));\n",
              "      fill: #FFFFFF;\n",
              "    }\n",
              "  </style>\n",
              "\n",
              "      <script>\n",
              "        const buttonEl =\n",
              "          document.querySelector('#df-5df5aa31-318b-43e1-895c-2da5c46e2407 button.colab-df-convert');\n",
              "        buttonEl.style.display =\n",
              "          google.colab.kernel.accessAllowed ? 'block' : 'none';\n",
              "\n",
              "        async function convertToInteractive(key) {\n",
              "          const element = document.querySelector('#df-5df5aa31-318b-43e1-895c-2da5c46e2407');\n",
              "          const dataTable =\n",
              "            await google.colab.kernel.invokeFunction('convertToInteractive',\n",
              "                                                     [key], {});\n",
              "          if (!dataTable) return;\n",
              "\n",
              "          const docLinkHtml = 'Like what you see? Visit the ' +\n",
              "            '<a target=\"_blank\" href=https://colab.research.google.com/notebooks/data_table.ipynb>data table notebook</a>'\n",
              "            + ' to learn more about interactive tables.';\n",
              "          element.innerHTML = '';\n",
              "          dataTable['output_type'] = 'display_data';\n",
              "          await google.colab.output.renderOutput(dataTable, element);\n",
              "          const docLink = document.createElement('div');\n",
              "          docLink.innerHTML = docLinkHtml;\n",
              "          element.appendChild(docLink);\n",
              "        }\n",
              "      </script>\n",
              "    </div>\n",
              "  </div>\n",
              "  "
            ]
          },
          "metadata": {},
          "execution_count": 23
        }
      ]
    },
    {
      "cell_type": "code",
      "source": [
        "# shape before dropping outliers\n",
        "print('Shape Before:', np.shape(listings_df))\n",
        "# dropping outliers\n",
        "listings_df = listings_df[listings_df['beds'] < 24].copy()\n",
        "listings_df = listings_df[listings_df['bedrooms'] < 24].copy()\n",
        "# shape after\n",
        "print('Shape After:', np.shape(listings_df))\n",
        "# values dropped\n",
        "print('Records dropped:', 1428)"
      ],
      "metadata": {
        "id": "Fd2GVnwa5QiH",
        "colab": {
          "base_uri": "https://localhost:8080/"
        },
        "outputId": "9cb9cf89-4629-45eb-d785-19b50f39de32"
      },
      "execution_count": 24,
      "outputs": [
        {
          "output_type": "stream",
          "name": "stdout",
          "text": [
            "Shape Before: (18903, 28)\n",
            "Shape After: (17475, 28)\n",
            "Records dropped: 1428\n"
          ]
        }
      ]
    },
    {
      "cell_type": "markdown",
      "source": [
        "median for bedrooms is 1 and for beds is 2."
      ],
      "metadata": {
        "id": "YWRoZwrDvHuq"
      }
    },
    {
      "cell_type": "code",
      "source": [
        "# fill missing values with the median\n",
        "listings_df['bedrooms'].fillna(value=listings_df['bedrooms'].median(), inplace=True)\n",
        "# fill missing values\n",
        "listings_df['beds'].fillna(value=listings_df['beds'].median(), inplace=True)"
      ],
      "metadata": {
        "id": "paIEVaQeC7UX"
      },
      "execution_count": 25,
      "outputs": []
    },
    {
      "cell_type": "markdown",
      "source": [
        "### bathrooms_text feature\n",
        "~2% of data is missing in bathrooms_text column."
      ],
      "metadata": {
        "id": "g1cT7c9PrIBD"
      }
    },
    {
      "cell_type": "code",
      "source": [
        "# checking bathrooms unique values\n",
        "listings_df['bathrooms_text'].unique()[:10] "
      ],
      "metadata": {
        "id": "RmSQ-c1NSywD",
        "colab": {
          "base_uri": "https://localhost:8080/"
        },
        "outputId": "4bf45958-6d10-4a8b-bcdc-0d507f1ec862"
      },
      "execution_count": 26,
      "outputs": [
        {
          "output_type": "execute_result",
          "data": {
            "text/plain": [
              "array(['1 bath', '2 baths', '1.5 baths', '5 baths', '3 baths',\n",
              "       '3.5 baths', '1 private bath', '6.5 baths', '2.5 baths',\n",
              "       '4.5 baths'], dtype=object)"
            ]
          },
          "metadata": {},
          "execution_count": 26
        }
      ]
    },
    {
      "cell_type": "code",
      "source": [
        "# strip the records to remain with the numerical value strings\n",
        "listings_df['bathrooms_text'] = listings_df['bathrooms_text'].str.extract('(\\d+\\.?\\d*)')\n",
        "# changing column to float\n",
        "listings_df['bathrooms_text'] = listings_df['bathrooms_text'].astype('float')\n",
        "# checking if there are outliers in bathrooms_text\n",
        "box_plot(listings_df['bathrooms_text']) "
      ],
      "metadata": {
        "id": "p_OFlsINSywE",
        "colab": {
          "base_uri": "https://localhost:8080/",
          "height": 574
        },
        "outputId": "3e0a6cf0-062d-4d2c-fee8-8adf427651ad"
      },
      "execution_count": 27,
      "outputs": [
        {
          "output_type": "display_data",
          "data": {
            "text/plain": [
              "<Figure size 1440x720 with 1 Axes>"
            ],
            "image/png": "[encoded data removed]"
          },
          "metadata": {
            "needs_background": "light"
          }
        }
      ]
    },
    {
      "cell_type": "markdown",
      "source": [
        "bathrooms median is 1."
      ],
      "metadata": {
        "id": "LHq12Ifzvz9o"
      }
    },
    {
      "cell_type": "code",
      "source": [
        "# fill missing values with median\n",
        "listings_df['bathrooms_text'].fillna(value=listings_df['bathrooms_text'].median(), inplace=True) \n",
        "# changing column name \n",
        "listings_df.rename(columns={'bathrooms_text': 'bathrooms'}, inplace=True)"
      ],
      "metadata": {
        "id": "VRNerXnFAeUp"
      },
      "execution_count": 28,
      "outputs": []
    },
    {
      "cell_type": "markdown",
      "source": [
        "### some 'host' features\n",
        "\n",
        "Dealing with host_response_time, host_response_rate & host_acceptance_rate columns.\n",
        "\n",
        "host_response_time and host_response_rate have ~23% of missing data, and host_acceptance_rate has ~13% of missing data."
      ],
      "metadata": {
        "id": "S3oK2tzVwQY8"
      }
    },
    {
      "cell_type": "code",
      "source": [
        "# making a list of the columns being tackled\n",
        "host_reactions = ['host_response_time', 'host_response_rate', 'host_acceptance_rate']\n",
        "# checking unique counts\n",
        "print('host_response_time unique counts are:', listings_df[host_reactions[0]].nunique())\n",
        "print()\n",
        "print(listings_df['host_response_time'].unique())\n",
        "print()\n",
        "print('host_response_rate unique counts are:', listings_df[host_reactions[1]].nunique())\n",
        "print()\n",
        "print(listings_df[host_reactions[1]].unique()[:10])\n",
        "print()\n",
        "print('host_acceptance_rate unique counts are:', listings_df[host_reactions[2]].nunique())\n",
        "print()\n",
        "print(listings_df[host_reactions[2]].unique()[:10])"
      ],
      "metadata": {
        "id": "ZQRI54Xn4XrD",
        "colab": {
          "base_uri": "https://localhost:8080/"
        },
        "outputId": "bc4de0e1-5c79-4299-dcc6-2c3b86bac21c"
      },
      "execution_count": 29,
      "outputs": [
        {
          "output_type": "stream",
          "name": "stdout",
          "text": [
            "host_response_time unique counts are: 4\n",
            "\n",
            "['within an hour' 'within a few hours' nan 'within a day'\n",
            " 'a few days or more']\n",
            "\n",
            "host_response_rate unique counts are: 42\n",
            "\n",
            "['100%' nan '50%' '80%' '87%' '67%' '75%' '33%' '90%' '70%']\n",
            "\n",
            "host_acceptance_rate unique counts are: 87\n",
            "\n",
            "['100%' '50%' '67%' '71%' nan '94%' '93%' '11%' '83%' '99%']\n"
          ]
        }
      ]
    },
    {
      "cell_type": "markdown",
      "source": [
        "host_response_time is a categorical column, its missing values will be imputed with 'unknown' as a category. The other 2 columns should be numerical but have been recorded as strings. Some manipulations need to be done to them."
      ],
      "metadata": {
        "id": "20hx2waP49zx"
      }
    },
    {
      "cell_type": "code",
      "source": [
        "# filling nan values with unknown\n",
        "listings_df['host_response_time'] = listings_df['host_response_time'].fillna('unknown') \n",
        "# stripping % signs from the columns\n",
        "listings_df['host_response_rate'] = strip_signs(listings_df, 'host_response_rate')\n",
        "listings_df['host_acceptance_rate'] = strip_signs(listings_df, 'host_acceptance_rate') "
      ],
      "metadata": {
        "id": "8n5HBFDv4XPk"
      },
      "execution_count": 30,
      "outputs": []
    },
    {
      "cell_type": "markdown",
      "source": [
        "host_response_rate median is 100% while host_acceptance median is 95%. Is that the general trend?"
      ],
      "metadata": {
        "id": "E2O90oFgrC1C"
      }
    },
    {
      "cell_type": "code",
      "source": [
        "# boxplot of host_response_rate\n",
        "box_plot(listings_df['host_response_rate'])"
      ],
      "metadata": {
        "id": "cMCgvQq8q2XX",
        "colab": {
          "base_uri": "https://localhost:8080/",
          "height": 574
        },
        "outputId": "19152347-97fd-48cd-c629-c644352a2c65"
      },
      "execution_count": 31,
      "outputs": [
        {
          "output_type": "display_data",
          "data": {
            "text/plain": [
              "<Figure size 1440x720 with 1 Axes>"
            ],
            "image/png": "[encoded data removed]"
          },
          "metadata": {
            "needs_background": "light"
          }
        }
      ]
    },
    {
      "cell_type": "code",
      "source": [
        "# filling missing values with median\n",
        "listings_df['host_response_rate'].fillna(value=listings_df['host_response_rate'].median(), inplace=True) "
      ],
      "metadata": {
        "id": "ubZlJ1SuvNlG"
      },
      "execution_count": 32,
      "outputs": []
    },
    {
      "cell_type": "code",
      "source": [
        "# boxplot of host_acceptance rate\n",
        "box_plot(listings_df['host_acceptance_rate']) "
      ],
      "metadata": {
        "id": "DFqR-CHJ4GAj",
        "colab": {
          "base_uri": "https://localhost:8080/",
          "height": 574
        },
        "outputId": "cc4d8d21-46ae-4b08-e6b5-22bd4230dedc"
      },
      "execution_count": 33,
      "outputs": [
        {
          "output_type": "display_data",
          "data": {
            "text/plain": [
              "<Figure size 1440x720 with 1 Axes>"
            ],
            "image/png": "[encoded data removed]"
          },
          "metadata": {
            "needs_background": "light"
          }
        }
      ]
    },
    {
      "cell_type": "code",
      "source": [
        "# filling missing values with median\n",
        "listings_df['host_acceptance_rate'].fillna(value=listings_df['host_acceptance_rate'].median(), inplace=True)"
      ],
      "metadata": {
        "id": "lbbL-1104GAl"
      },
      "execution_count": 34,
      "outputs": []
    },
    {
      "cell_type": "markdown",
      "source": [
        "acceptance rate and response rate need to be transformed to categorical variables. To do that rounding off of the values required."
      ],
      "metadata": {
        "id": "GizvcBIeljT9"
      }
    },
    {
      "cell_type": "code",
      "source": [
        "# rounding off the values\n",
        "listings_df['host_acceptance_rate'] = listings_df['host_acceptance_rate'].apply(lambda x: round(x, -1))\n",
        "listings_df['host_response_rate'] = listings_df['host_response_rate'].apply(lambda x: round(x, -1))"
      ],
      "metadata": {
        "id": "okOjjEBFmBrT"
      },
      "execution_count": 35,
      "outputs": []
    },
    {
      "cell_type": "markdown",
      "source": [
        "### Other host features\n",
        "\n",
        "Dealing with host_name, host_since, host_identity_verified, host_is_superhost, host_has_profile_pic, host_picture_url, host_listings_count & host_total_listings_count columns."
      ],
      "metadata": {
        "id": "NaZaHuGxmmiP"
      }
    },
    {
      "cell_type": "code",
      "source": [
        "# list of 'host' columns that have been dealt with already\n",
        "already_dealt = ['host_response_time', 'host_response_rate', 'host_acceptance_rate', 'host_location']\n",
        "# making a list of columns containing 'host' in their names but that haven't been dealt with\n",
        "rem_host_cols = [column for column in listings_df.columns if 'host' in column.strip() and column not in already_dealt]\n",
        "# filtering out 'host columns' that are complete\n",
        "host_traits = [column for column in rem_host_cols if column in list(listings_completeness['Feature'])]\n",
        "host_traits"
      ],
      "metadata": {
        "id": "N0ksZH_GaBd0",
        "colab": {
          "base_uri": "https://localhost:8080/"
        },
        "outputId": "cf639311-c2d3-4526-e29e-2e52ee4fa9c5"
      },
      "execution_count": 36,
      "outputs": [
        {
          "output_type": "execute_result",
          "data": {
            "text/plain": [
              "['host_since', 'host_is_superhost']"
            ]
          },
          "metadata": {},
          "execution_count": 36
        }
      ]
    },
    {
      "cell_type": "markdown",
      "source": [
        "both of them have ~0.01% of missing values"
      ],
      "metadata": {
        "id": "UCtr6gBI0Y1o"
      }
    },
    {
      "cell_type": "code",
      "source": [
        "# sum of nan values in host_since\n",
        "print(listings_df['host_since'].isna().sum())\n",
        "# Dropping null row \n",
        "listings_df.dropna(subset= [\"host_since\"], inplace= True) "
      ],
      "metadata": {
        "id": "XrcFqE_6NRMp",
        "colab": {
          "base_uri": "https://localhost:8080/"
        },
        "outputId": "378a5c80-cf0c-40cf-9ad9-5e24621b0d5b"
      },
      "execution_count": 37,
      "outputs": [
        {
          "output_type": "stream",
          "name": "stdout",
          "text": [
            "1\n"
          ]
        }
      ]
    },
    {
      "cell_type": "code",
      "source": [
        "# viewing the host columns\n",
        "listings_df[host_traits].head(3) "
      ],
      "metadata": {
        "id": "GqK7i2qsnwCX",
        "colab": {
          "base_uri": "https://localhost:8080/",
          "height": 143
        },
        "outputId": "02440dba-c01a-4f14-f5f4-89f54be0cadb"
      },
      "execution_count": 38,
      "outputs": [
        {
          "output_type": "execute_result",
          "data": {
            "text/plain": [
              "   host_since host_is_superhost\n",
              "0  2016-10-07                 f\n",
              "1  2012-08-29                 f\n",
              "2  2016-10-07                 f"
            ],
            "text/html": [
              "\n",
              "  <div id=\"df-97c9250e-a61f-4f63-ab25-0dba77ab0617\">\n",
              "    <div class=\"colab-df-container\">\n",
              "      <div>\n",
              "<style scoped>\n",
              "    .dataframe tbody tr th:only-of-type {\n",
              "        vertical-align: middle;\n",
              "    }\n",
              "\n",
              "    .dataframe tbody tr th {\n",
              "        vertical-align: top;\n",
              "    }\n",
              "\n",
              "    .dataframe thead th {\n",
              "        text-align: right;\n",
              "    }\n",
              "</style>\n",
              "<table border=\"1\" class=\"dataframe\">\n",
              "  <thead>\n",
              "    <tr style=\"text-align: right;\">\n",
              "      <th></th>\n",
              "      <th>host_since</th>\n",
              "      <th>host_is_superhost</th>\n",
              "    </tr>\n",
              "  </thead>\n",
              "  <tbody>\n",
              "    <tr>\n",
              "      <th>0</th>\n",
              "      <td>2016-10-07</td>\n",
              "      <td>f</td>\n",
              "    </tr>\n",
              "    <tr>\n",
              "      <th>1</th>\n",
              "      <td>2012-08-29</td>\n",
              "      <td>f</td>\n",
              "    </tr>\n",
              "    <tr>\n",
              "      <th>2</th>\n",
              "      <td>2016-10-07</td>\n",
              "      <td>f</td>\n",
              "    </tr>\n",
              "  </tbody>\n",
              "</table>\n",
              "</div>\n",
              "      <button class=\"colab-df-convert\" onclick=\"convertToInteractive('df-97c9250e-a61f-4f63-ab25-0dba77ab0617')\"\n",
              "              title=\"Convert this dataframe to an interactive table.\"\n",
              "              style=\"display:none;\">\n",
              "        \n",
              "  <svg xmlns=\"http://www.w3.org/2000/svg\" height=\"24px\"viewBox=\"0 0 24 24\"\n",
              "       width=\"24px\">\n",
              "    <path d=\"M0 0h24v24H0V0z\" fill=\"none\"/>\n",
              "    <path d=\"M18.56 5.44l.94 2.06.94-2.06 2.06-.94-2.06-.94-.94-2.06-.94 2.06-2.06.94zm-11 1L8.5 8.5l.94-2.06 2.06-.94-2.06-.94L8.5 2.5l-.94 2.06-2.06.94zm10 10l.94 2.06.94-2.06 2.06-.94-2.06-.94-.94-2.06-.94 2.06-2.06.94z\"/><path d=\"M17.41 7.96l-1.37-1.37c-.4-.4-.92-.59-1.43-.59-.52 0-1.04.2-1.43.59L10.3 9.45l-7.72 7.72c-.78.78-.78 2.05 0 2.83L4 21.41c.39.39.9.59 1.41.59.51 0 1.02-.2 1.41-.59l7.78-7.78 2.81-2.81c.8-.78.8-2.07 0-2.86zM5.41 20L4 18.59l7.72-7.72 1.47 1.35L5.41 20z\"/>\n",
              "  </svg>\n",
              "      </button>\n",
              "      \n",
              "  <style>\n",
              "    .colab-df-container {\n",
              "      display:flex;\n",
              "      flex-wrap:wrap;\n",
              "      gap: 12px;\n",
              "    }\n",
              "\n",
              "    .colab-df-convert {\n",
              "      background-color: #E8F0FE;\n",
              "      border: none;\n",
              "      border-radius: 50%;\n",
              "      cursor: pointer;\n",
              "      display: none;\n",
              "      fill: #1967D2;\n",
              "      height: 32px;\n",
              "      padding: 0 0 0 0;\n",
              "      width: 32px;\n",
              "    }\n",
              "\n",
              "    .colab-df-convert:hover {\n",
              "      background-color: #E2EBFA;\n",
              "      box-shadow: 0px 1px 2px rgba(60, 64, 67, 0.3), 0px 1px 3px 1px rgba(60, 64, 67, 0.15);\n",
              "      fill: #174EA6;\n",
              "    }\n",
              "\n",
              "    [theme=dark] .colab-df-convert {\n",
              "      background-color: #3B4455;\n",
              "      fill: #D2E3FC;\n",
              "    }\n",
              "\n",
              "    [theme=dark] .colab-df-convert:hover {\n",
              "      background-color: #434B5C;\n",
              "      box-shadow: 0px 1px 3px 1px rgba(0, 0, 0, 0.15);\n",
              "      filter: drop-shadow(0px 1px 2px rgba(0, 0, 0, 0.3));\n",
              "      fill: #FFFFFF;\n",
              "    }\n",
              "  </style>\n",
              "\n",
              "      <script>\n",
              "        const buttonEl =\n",
              "          document.querySelector('#df-97c9250e-a61f-4f63-ab25-0dba77ab0617 button.colab-df-convert');\n",
              "        buttonEl.style.display =\n",
              "          google.colab.kernel.accessAllowed ? 'block' : 'none';\n",
              "\n",
              "        async function convertToInteractive(key) {\n",
              "          const element = document.querySelector('#df-97c9250e-a61f-4f63-ab25-0dba77ab0617');\n",
              "          const dataTable =\n",
              "            await google.colab.kernel.invokeFunction('convertToInteractive',\n",
              "                                                     [key], {});\n",
              "          if (!dataTable) return;\n",
              "\n",
              "          const docLinkHtml = 'Like what you see? Visit the ' +\n",
              "            '<a target=\"_blank\" href=https://colab.research.google.com/notebooks/data_table.ipynb>data table notebook</a>'\n",
              "            + ' to learn more about interactive tables.';\n",
              "          element.innerHTML = '';\n",
              "          dataTable['output_type'] = 'display_data';\n",
              "          await google.colab.output.renderOutput(dataTable, element);\n",
              "          const docLink = document.createElement('div');\n",
              "          docLink.innerHTML = docLinkHtml;\n",
              "          element.appendChild(docLink);\n",
              "        }\n",
              "      </script>\n",
              "    </div>\n",
              "  </div>\n",
              "  "
            ]
          },
          "metadata": {},
          "execution_count": 38
        }
      ]
    },
    {
      "cell_type": "markdown",
      "source": [
        "The host_since column contains dates of when a host started being a host. The values in this column will be sliced, and only the year will be left. The column will also be transformed into a integer data type."
      ],
      "metadata": {
        "id": "1pUdB_edJHRn"
      }
    },
    {
      "cell_type": "code",
      "source": [
        "# slicing the year off the records\n",
        "listings_df['host_since'] = listings_df['host_since'].apply(lambda x: x[:4]) \n",
        "# changing column to int\n",
        "listings_df['host_since'] = listings_df['host_since'].astype(int) "
      ],
      "metadata": {
        "id": "Q_239ooyI08z"
      },
      "execution_count": 39,
      "outputs": []
    },
    {
      "cell_type": "markdown",
      "source": [
        "host is superhost needs to be transformed into a better representation for a binary category."
      ],
      "metadata": {
        "id": "cPtP232Tm3UZ"
      }
    },
    {
      "cell_type": "code",
      "source": [
        "# repacing values to make column a bool dtype\n",
        "listings_df['host_is_superhost'] = listings_df['host_is_superhost'].replace({'t': 1, 'f': 0})"
      ],
      "metadata": {
        "id": "B6yq-8ySnpXM"
      },
      "execution_count": 40,
      "outputs": []
    },
    {
      "cell_type": "markdown",
      "source": [
        "## 4.2 uniqueness"
      ],
      "metadata": {
        "id": "RWkc4MlSagc3"
      }
    },
    {
      "cell_type": "code",
      "source": [
        "# checking for duplicates\n",
        "listings_df.drop(columns='amenities').duplicated().sum()"
      ],
      "metadata": {
        "id": "b9LtS87OalfC",
        "colab": {
          "base_uri": "https://localhost:8080/"
        },
        "outputId": "ab398427-4398-4e96-c763-22ffebd87327"
      },
      "execution_count": 41,
      "outputs": [
        {
          "output_type": "execute_result",
          "data": {
            "text/plain": [
              "0"
            ]
          },
          "metadata": {},
          "execution_count": 41
        }
      ]
    },
    {
      "cell_type": "markdown",
      "source": [
        "#### Current dataframe info after cleaning is:"
      ],
      "metadata": {
        "id": "TKIDlgOtMPOE"
      }
    },
    {
      "cell_type": "code",
      "source": [
        "# current completeness\n",
        "percentage_completeness(listings_df)[:4] "
      ],
      "metadata": {
        "id": "6Jy8BN1FMYIE",
        "colab": {
          "base_uri": "https://localhost:8080/",
          "height": 175
        },
        "outputId": "001911fd-24d4-4272-eee6-a1c1f4a185da"
      },
      "execution_count": 42,
      "outputs": [
        {
          "output_type": "execute_result",
          "data": {
            "text/plain": [
              "                       Feature  %_completeness\n",
              "0                           id           100.0\n",
              "1       review_scores_location           100.0\n",
              "2  review_scores_communication           100.0\n",
              "3        review_scores_checkin           100.0"
            ],
            "text/html": [
              "\n",
              "  <div id=\"df-d1ce35aa-8826-4dc6-8a92-8bf056a5ea84\">\n",
              "    <div class=\"colab-df-container\">\n",
              "      <div>\n",
              "<style scoped>\n",
              "    .dataframe tbody tr th:only-of-type {\n",
              "        vertical-align: middle;\n",
              "    }\n",
              "\n",
              "    .dataframe tbody tr th {\n",
              "        vertical-align: top;\n",
              "    }\n",
              "\n",
              "    .dataframe thead th {\n",
              "        text-align: right;\n",
              "    }\n",
              "</style>\n",
              "<table border=\"1\" class=\"dataframe\">\n",
              "  <thead>\n",
              "    <tr style=\"text-align: right;\">\n",
              "      <th></th>\n",
              "      <th>Feature</th>\n",
              "      <th>%_completeness</th>\n",
              "    </tr>\n",
              "  </thead>\n",
              "  <tbody>\n",
              "    <tr>\n",
              "      <th>0</th>\n",
              "      <td>id</td>\n",
              "      <td>100.0</td>\n",
              "    </tr>\n",
              "    <tr>\n",
              "      <th>1</th>\n",
              "      <td>review_scores_location</td>\n",
              "      <td>100.0</td>\n",
              "    </tr>\n",
              "    <tr>\n",
              "      <th>2</th>\n",
              "      <td>review_scores_communication</td>\n",
              "      <td>100.0</td>\n",
              "    </tr>\n",
              "    <tr>\n",
              "      <th>3</th>\n",
              "      <td>review_scores_checkin</td>\n",
              "      <td>100.0</td>\n",
              "    </tr>\n",
              "  </tbody>\n",
              "</table>\n",
              "</div>\n",
              "      <button class=\"colab-df-convert\" onclick=\"convertToInteractive('df-d1ce35aa-8826-4dc6-8a92-8bf056a5ea84')\"\n",
              "              title=\"Convert this dataframe to an interactive table.\"\n",
              "              style=\"display:none;\">\n",
              "        \n",
              "  <svg xmlns=\"http://www.w3.org/2000/svg\" height=\"24px\"viewBox=\"0 0 24 24\"\n",
              "       width=\"24px\">\n",
              "    <path d=\"M0 0h24v24H0V0z\" fill=\"none\"/>\n",
              "    <path d=\"M18.56 5.44l.94 2.06.94-2.06 2.06-.94-2.06-.94-.94-2.06-.94 2.06-2.06.94zm-11 1L8.5 8.5l.94-2.06 2.06-.94-2.06-.94L8.5 2.5l-.94 2.06-2.06.94zm10 10l.94 2.06.94-2.06 2.06-.94-2.06-.94-.94-2.06-.94 2.06-2.06.94z\"/><path d=\"M17.41 7.96l-1.37-1.37c-.4-.4-.92-.59-1.43-.59-.52 0-1.04.2-1.43.59L10.3 9.45l-7.72 7.72c-.78.78-.78 2.05 0 2.83L4 21.41c.39.39.9.59 1.41.59.51 0 1.02-.2 1.41-.59l7.78-7.78 2.81-2.81c.8-.78.8-2.07 0-2.86zM5.41 20L4 18.59l7.72-7.72 1.47 1.35L5.41 20z\"/>\n",
              "  </svg>\n",
              "      </button>\n",
              "      \n",
              "  <style>\n",
              "    .colab-df-container {\n",
              "      display:flex;\n",
              "      flex-wrap:wrap;\n",
              "      gap: 12px;\n",
              "    }\n",
              "\n",
              "    .colab-df-convert {\n",
              "      background-color: #E8F0FE;\n",
              "      border: none;\n",
              "      border-radius: 50%;\n",
              "      cursor: pointer;\n",
              "      display: none;\n",
              "      fill: #1967D2;\n",
              "      height: 32px;\n",
              "      padding: 0 0 0 0;\n",
              "      width: 32px;\n",
              "    }\n",
              "\n",
              "    .colab-df-convert:hover {\n",
              "      background-color: #E2EBFA;\n",
              "      box-shadow: 0px 1px 2px rgba(60, 64, 67, 0.3), 0px 1px 3px 1px rgba(60, 64, 67, 0.15);\n",
              "      fill: #174EA6;\n",
              "    }\n",
              "\n",
              "    [theme=dark] .colab-df-convert {\n",
              "      background-color: #3B4455;\n",
              "      fill: #D2E3FC;\n",
              "    }\n",
              "\n",
              "    [theme=dark] .colab-df-convert:hover {\n",
              "      background-color: #434B5C;\n",
              "      box-shadow: 0px 1px 3px 1px rgba(0, 0, 0, 0.15);\n",
              "      filter: drop-shadow(0px 1px 2px rgba(0, 0, 0, 0.3));\n",
              "      fill: #FFFFFF;\n",
              "    }\n",
              "  </style>\n",
              "\n",
              "      <script>\n",
              "        const buttonEl =\n",
              "          document.querySelector('#df-d1ce35aa-8826-4dc6-8a92-8bf056a5ea84 button.colab-df-convert');\n",
              "        buttonEl.style.display =\n",
              "          google.colab.kernel.accessAllowed ? 'block' : 'none';\n",
              "\n",
              "        async function convertToInteractive(key) {\n",
              "          const element = document.querySelector('#df-d1ce35aa-8826-4dc6-8a92-8bf056a5ea84');\n",
              "          const dataTable =\n",
              "            await google.colab.kernel.invokeFunction('convertToInteractive',\n",
              "                                                     [key], {});\n",
              "          if (!dataTable) return;\n",
              "\n",
              "          const docLinkHtml = 'Like what you see? Visit the ' +\n",
              "            '<a target=\"_blank\" href=https://colab.research.google.com/notebooks/data_table.ipynb>data table notebook</a>'\n",
              "            + ' to learn more about interactive tables.';\n",
              "          element.innerHTML = '';\n",
              "          dataTable['output_type'] = 'display_data';\n",
              "          await google.colab.output.renderOutput(dataTable, element);\n",
              "          const docLink = document.createElement('div');\n",
              "          docLink.innerHTML = docLinkHtml;\n",
              "          element.appendChild(docLink);\n",
              "        }\n",
              "      </script>\n",
              "    </div>\n",
              "  </div>\n",
              "  "
            ]
          },
          "metadata": {},
          "execution_count": 42
        }
      ]
    },
    {
      "cell_type": "markdown",
      "source": [
        "## 4.3 Cleaning remaining features"
      ],
      "metadata": {
        "id": "9bSlUEC1dekP"
      }
    },
    {
      "cell_type": "markdown",
      "source": [
        "### instant_bookable feature"
      ],
      "metadata": {
        "id": "YdT8IzbhEzJk"
      }
    },
    {
      "cell_type": "code",
      "source": [
        "# checking value_counts\n",
        "listings_df['instant_bookable'].value_counts()"
      ],
      "metadata": {
        "id": "Lc2Tslaa7M6G",
        "colab": {
          "base_uri": "https://localhost:8080/"
        },
        "outputId": "d7dfe899-e3c4-47eb-888a-e91a7bda747b"
      },
      "execution_count": 43,
      "outputs": [
        {
          "output_type": "execute_result",
          "data": {
            "text/plain": [
              "f    9805\n",
              "t    7669\n",
              "Name: instant_bookable, dtype: int64"
            ]
          },
          "metadata": {},
          "execution_count": 43
        }
      ]
    },
    {
      "cell_type": "code",
      "source": [
        "# repacing values to make column a bool dtype\n",
        "listings_df['instant_bookable'] = listings_df['instant_bookable'].replace({'t': 1, 'f': 0})"
      ],
      "metadata": {
        "id": "m9LJftBA7n-b"
      },
      "execution_count": 44,
      "outputs": []
    },
    {
      "cell_type": "markdown",
      "source": [
        "### coordinate features\n",
        "\n",
        "Dealing with latitude & longitude "
      ],
      "metadata": {
        "id": "1zrjZJ1Hpvw0"
      }
    },
    {
      "cell_type": "code",
      "source": [
        "test = listings_df[['latitude', 'longitude']].copy()\n",
        "test.head()"
      ],
      "metadata": {
        "colab": {
          "base_uri": "https://localhost:8080/",
          "height": 206
        },
        "id": "7F22NMkmuGg2",
        "outputId": "c4853e73-576a-4fb7-fd9e-c8b7b8da0582"
      },
      "execution_count": 45,
      "outputs": [
        {
          "output_type": "execute_result",
          "data": {
            "text/plain": [
              "   latitude  longitude\n",
              "0 -34.03002   18.82662\n",
              "1 -34.19248   18.43270\n",
              "2 -34.02830   18.82758\n",
              "3 -34.03149   18.82689\n",
              "4 -34.03003   18.82356"
            ],
            "text/html": [
              "\n",
              "  <div id=\"df-cc308d8a-44c2-4bb0-b6f1-524c14edcee4\">\n",
              "    <div class=\"colab-df-container\">\n",
              "      <div>\n",
              "<style scoped>\n",
              "    .dataframe tbody tr th:only-of-type {\n",
              "        vertical-align: middle;\n",
              "    }\n",
              "\n",
              "    .dataframe tbody tr th {\n",
              "        vertical-align: top;\n",
              "    }\n",
              "\n",
              "    .dataframe thead th {\n",
              "        text-align: right;\n",
              "    }\n",
              "</style>\n",
              "<table border=\"1\" class=\"dataframe\">\n",
              "  <thead>\n",
              "    <tr style=\"text-align: right;\">\n",
              "      <th></th>\n",
              "      <th>latitude</th>\n",
              "      <th>longitude</th>\n",
              "    </tr>\n",
              "  </thead>\n",
              "  <tbody>\n",
              "    <tr>\n",
              "      <th>0</th>\n",
              "      <td>-34.03002</td>\n",
              "      <td>18.82662</td>\n",
              "    </tr>\n",
              "    <tr>\n",
              "      <th>1</th>\n",
              "      <td>-34.19248</td>\n",
              "      <td>18.43270</td>\n",
              "    </tr>\n",
              "    <tr>\n",
              "      <th>2</th>\n",
              "      <td>-34.02830</td>\n",
              "      <td>18.82758</td>\n",
              "    </tr>\n",
              "    <tr>\n",
              "      <th>3</th>\n",
              "      <td>-34.03149</td>\n",
              "      <td>18.82689</td>\n",
              "    </tr>\n",
              "    <tr>\n",
              "      <th>4</th>\n",
              "      <td>-34.03003</td>\n",
              "      <td>18.82356</td>\n",
              "    </tr>\n",
              "  </tbody>\n",
              "</table>\n",
              "</div>\n",
              "      <button class=\"colab-df-convert\" onclick=\"convertToInteractive('df-cc308d8a-44c2-4bb0-b6f1-524c14edcee4')\"\n",
              "              title=\"Convert this dataframe to an interactive table.\"\n",
              "              style=\"display:none;\">\n",
              "        \n",
              "  <svg xmlns=\"http://www.w3.org/2000/svg\" height=\"24px\"viewBox=\"0 0 24 24\"\n",
              "       width=\"24px\">\n",
              "    <path d=\"M0 0h24v24H0V0z\" fill=\"none\"/>\n",
              "    <path d=\"M18.56 5.44l.94 2.06.94-2.06 2.06-.94-2.06-.94-.94-2.06-.94 2.06-2.06.94zm-11 1L8.5 8.5l.94-2.06 2.06-.94-2.06-.94L8.5 2.5l-.94 2.06-2.06.94zm10 10l.94 2.06.94-2.06 2.06-.94-2.06-.94-.94-2.06-.94 2.06-2.06.94z\"/><path d=\"M17.41 7.96l-1.37-1.37c-.4-.4-.92-.59-1.43-.59-.52 0-1.04.2-1.43.59L10.3 9.45l-7.72 7.72c-.78.78-.78 2.05 0 2.83L4 21.41c.39.39.9.59 1.41.59.51 0 1.02-.2 1.41-.59l7.78-7.78 2.81-2.81c.8-.78.8-2.07 0-2.86zM5.41 20L4 18.59l7.72-7.72 1.47 1.35L5.41 20z\"/>\n",
              "  </svg>\n",
              "      </button>\n",
              "      \n",
              "  <style>\n",
              "    .colab-df-container {\n",
              "      display:flex;\n",
              "      flex-wrap:wrap;\n",
              "      gap: 12px;\n",
              "    }\n",
              "\n",
              "    .colab-df-convert {\n",
              "      background-color: #E8F0FE;\n",
              "      border: none;\n",
              "      border-radius: 50%;\n",
              "      cursor: pointer;\n",
              "      display: none;\n",
              "      fill: #1967D2;\n",
              "      height: 32px;\n",
              "      padding: 0 0 0 0;\n",
              "      width: 32px;\n",
              "    }\n",
              "\n",
              "    .colab-df-convert:hover {\n",
              "      background-color: #E2EBFA;\n",
              "      box-shadow: 0px 1px 2px rgba(60, 64, 67, 0.3), 0px 1px 3px 1px rgba(60, 64, 67, 0.15);\n",
              "      fill: #174EA6;\n",
              "    }\n",
              "\n",
              "    [theme=dark] .colab-df-convert {\n",
              "      background-color: #3B4455;\n",
              "      fill: #D2E3FC;\n",
              "    }\n",
              "\n",
              "    [theme=dark] .colab-df-convert:hover {\n",
              "      background-color: #434B5C;\n",
              "      box-shadow: 0px 1px 3px 1px rgba(0, 0, 0, 0.15);\n",
              "      filter: drop-shadow(0px 1px 2px rgba(0, 0, 0, 0.3));\n",
              "      fill: #FFFFFF;\n",
              "    }\n",
              "  </style>\n",
              "\n",
              "      <script>\n",
              "        const buttonEl =\n",
              "          document.querySelector('#df-cc308d8a-44c2-4bb0-b6f1-524c14edcee4 button.colab-df-convert');\n",
              "        buttonEl.style.display =\n",
              "          google.colab.kernel.accessAllowed ? 'block' : 'none';\n",
              "\n",
              "        async function convertToInteractive(key) {\n",
              "          const element = document.querySelector('#df-cc308d8a-44c2-4bb0-b6f1-524c14edcee4');\n",
              "          const dataTable =\n",
              "            await google.colab.kernel.invokeFunction('convertToInteractive',\n",
              "                                                     [key], {});\n",
              "          if (!dataTable) return;\n",
              "\n",
              "          const docLinkHtml = 'Like what you see? Visit the ' +\n",
              "            '<a target=\"_blank\" href=https://colab.research.google.com/notebooks/data_table.ipynb>data table notebook</a>'\n",
              "            + ' to learn more about interactive tables.';\n",
              "          element.innerHTML = '';\n",
              "          dataTable['output_type'] = 'display_data';\n",
              "          await google.colab.output.renderOutput(dataTable, element);\n",
              "          const docLink = document.createElement('div');\n",
              "          docLink.innerHTML = docLinkHtml;\n",
              "          element.appendChild(docLink);\n",
              "        }\n",
              "      </script>\n",
              "    </div>\n",
              "  </div>\n",
              "  "
            ]
          },
          "metadata": {},
          "execution_count": 45
        }
      ]
    },
    {
      "cell_type": "code",
      "source": [
        "# reseting index of test\n",
        "test.reset_index(inplace= True)"
      ],
      "metadata": {
        "id": "satdQnuFuGc9"
      },
      "execution_count": 46,
      "outputs": []
    },
    {
      "cell_type": "code",
      "source": [
        "# loop to obtain name of cities\n",
        "cities= []\n",
        "for i in range(len(test)):\n",
        "  coordinates = (test['latitude'][i], test['longitude'][i])\n",
        "  geo_coord = rg.search(coordinates)\n",
        "  city = geo_coord[0]['name']\n",
        "  cities.append(city)\n",
        "  time.sleep(.001)\n",
        "\n",
        "cities[:10]"
      ],
      "metadata": {
        "colab": {
          "base_uri": "https://localhost:8080/"
        },
        "id": "4ry2PisJuGZO",
        "outputId": "d2cdb888-bb87-4815-df57-baaaa550c73a"
      },
      "execution_count": 49,
      "outputs": [
        {
          "output_type": "execute_result",
          "data": {
            "text/plain": [
              "['Stellenbosch',\n",
              " 'Retreat',\n",
              " 'Stellenbosch',\n",
              " 'Stellenbosch',\n",
              " 'Stellenbosch',\n",
              " 'Stellenbosch',\n",
              " 'Stellenbosch',\n",
              " 'Stellenbosch',\n",
              " 'Stellenbosch',\n",
              " 'Stellenbosch']"
            ]
          },
          "metadata": {},
          "execution_count": 49
        }
      ]
    },
    {
      "cell_type": "code",
      "source": [
        "with open('/content/drive/Shareddrives/CapStone/Data/cities.pkl', 'wb') as f:\n",
        "  pickle.dump(cities, f)"
      ],
      "metadata": {
        "id": "uLS7sH06vxQe"
      },
      "execution_count": 54,
      "outputs": []
    },
    {
      "cell_type": "code",
      "source": [
        "with open('/content/drive/Shareddrives/CapStone/Data/cities.pkl', 'rb') as f:\n",
        "  cities = pickle.load(f)"
      ],
      "metadata": {
        "id": "NDaIIC0SxaMO"
      },
      "execution_count": 55,
      "outputs": []
    },
    {
      "cell_type": "code",
      "source": [
        "# merging to the listings dataframe, dropping longitudes and latitude\n",
        "listings_df.reset_index(inplace= True)\n",
        "listings_df['cities'] = cities\n",
        "listings_df.drop(columns= ['latitude', 'longitude'], inplace= True)"
      ],
      "metadata": {
        "id": "28kdhwfZuvvY"
      },
      "execution_count": 56,
      "outputs": []
    },
    {
      "cell_type": "code",
      "source": [
        "fig = plt.figure(figsize= (10, 8))\n",
        "sns.countplot(y= 'cities', data= listings_df, order= listings_df['cities'].value_counts().index);"
      ],
      "metadata": {
        "colab": {
          "base_uri": "https://localhost:8080/",
          "height": 497
        },
        "id": "czbVJ0OUvdez",
        "outputId": "1042e495-e9b8-40ca-c873-059f5b7eb31d"
      },
      "execution_count": 58,
      "outputs": [
        {
          "output_type": "display_data",
          "data": {
            "text/plain": [
              "<Figure size 720x576 with 1 Axes>"
            ],
            "image/png": "[encoded data removed]"
          },
          "metadata": {
            "needs_background": "light"
          }
        }
      ]
    },
    {
      "cell_type": "markdown",
      "source": [
        "Cape Town has the most airbnb homes. Noorder-Paarl has the least airbnb homes. The variation in the number of airbnbs could be attributed to different factors in this dataset, for example, Cape Town is the capital of this province and hence a more attractive investment prospect especially in the hospitality field."
      ],
      "metadata": {
        "id": "nblHB8bo-Qfb"
      }
    },
    {
      "cell_type": "markdown",
      "source": [
        "### room_type & accomodates features"
      ],
      "metadata": {
        "id": "mMWe1q16ruuB"
      }
    },
    {
      "cell_type": "code",
      "source": [
        "# viewing the columns\n",
        "listings_df[['room_type', 'accommodates']].head(3) "
      ],
      "metadata": {
        "id": "d7y8IW33mKK5"
      },
      "execution_count": null,
      "outputs": []
    },
    {
      "cell_type": "code",
      "source": [
        "# checking unique values in room type column\n",
        "print('The unique values in room_type column = ', listings_df['room_type'].nunique())\n",
        "print('-'*100)\n",
        "print(listings_df['room_type'].unique()[:5])\n",
        "print()\n",
        "# checking unique values in room type column\n",
        "print('The unique values in accommodates column = ', listings_df['accommodates'].nunique())\n",
        "print('-'*100)\n",
        "print(listings_df['accommodates'].unique()[:5])\n",
        "print()\n",
        "# maximum accommodates \n",
        "print('The max number a listing can accommodate = ', listings_df['accommodates'].max()) \n",
        "print()\n",
        "# minimum accommodates\n",
        "print('The min number a listing can accommodate ', listings_df['accommodates'].min()) "
      ],
      "metadata": {
        "id": "q5BVUSZ6jO9r"
      },
      "execution_count": null,
      "outputs": []
    },
    {
      "cell_type": "markdown",
      "source": [
        "### amenities feature & amenities_count feature engineering"
      ],
      "metadata": {
        "id": "MkyTQdPNzsAo"
      }
    },
    {
      "cell_type": "code",
      "source": [
        "# viewing amenities column\n",
        "listings_df['amenities'].head() "
      ],
      "metadata": {
        "id": "Bst7uw38y1YO"
      },
      "execution_count": null,
      "outputs": []
    },
    {
      "cell_type": "code",
      "source": [
        "# Splitting amenities column and get amenities count words\n",
        "# then creating a new column \"amenities_count\"\n",
        "\n",
        "# listings_df['amenities_count'] = listings_df['amenities'].str.split(',').str.len()\n",
        "# # tramsform amenities records from list to string type\n",
        "# # listings_df.amenities = listings_df['amenities'].str.replace(\"[{}]\", \"\").str.replace('\"', \"\").str.replace('[',\"\").str.replace(']',\"\")\n",
        "\n",
        "# creating a list of lower and uppercase letters \n",
        "letters = string.ascii_letters\n",
        "# splitting each record to extract the amenities\n",
        "amenities_split = listings_df['amenities'].apply(lambda x: x.split('\"'))\n",
        "new_amenities = []\n",
        "# making a list of lists \n",
        "for split in amenities_split:\n",
        "    res = [x for x in split if x[0] in letters]\n",
        "    new_amenities.append(res)\n",
        "\n",
        "# replacing amenities with the list of lists\n",
        "listings_df['amenities'] = new_amenities\n",
        "# engineering a new column that is the count of amenities per record\n",
        "listings_df['amenities_count'] = listings_df['amenities'].apply(lambda x: len(x))\n",
        "# checking unique counts\n",
        "listings_df['amenities_count'].nunique()"
      ],
      "metadata": {
        "id": "O6GGR121kmmP"
      },
      "execution_count": null,
      "outputs": []
    },
    {
      "cell_type": "code",
      "source": [
        "listings_df['amenities_count'].value_counts().head(40)"
      ],
      "metadata": {
        "id": "sz0dcCQKiw1k"
      },
      "execution_count": null,
      "outputs": []
    },
    {
      "cell_type": "code",
      "source": [
        "listings_df[listings_df['amenities_count'] > 70]['amenities'][403]"
      ],
      "metadata": {
        "id": "Fod4S7MJhlb3"
      },
      "execution_count": null,
      "outputs": []
    },
    {
      "cell_type": "markdown",
      "source": [
        "### last_scraped feature & hosting_age feature engineering"
      ],
      "metadata": {
        "id": "N0Ty0x9IeS2V"
      }
    },
    {
      "cell_type": "code",
      "source": [
        "# viewing 'scrape' columns\n",
        "listings_df['last_scraped'].head(2) "
      ],
      "metadata": {
        "id": "C_ASBwp1oS9w"
      },
      "execution_count": null,
      "outputs": []
    },
    {
      "cell_type": "code",
      "source": [
        "# slicing the year from last scraped\n",
        "listings_df['last_scraped'] = listings_df['last_scraped'].apply(lambda x: x[:4]) \n",
        "# changing column data type\n",
        "listings_df['last_scraped'] = listings_df['last_scraped'].astype(int) \n",
        "# creating a column to show age of the host\n",
        "listings_df['hosting_age'] = listings_df['last_scraped'] - listings_df['host_since']\n",
        "# dropping last_scrapped and host_since columns\n",
        "listings_df.drop(columns= ['last_scraped', 'host_since'], inplace= True) "
      ],
      "metadata": {
        "id": "btBpwvyqeYXA"
      },
      "execution_count": null,
      "outputs": []
    },
    {
      "cell_type": "markdown",
      "source": [
        "#### **We need to decide which features will be categorical.**"
      ],
      "metadata": {
        "id": "-TZlZi20IZGI"
      }
    },
    {
      "cell_type": "code",
      "source": [
        "# checking the unique counts of the features in the dataframe\n",
        "unique_count = []\n",
        "\n",
        "for column in list(listings_df.columns):\n",
        "    # because list type is not hashable\n",
        "    if column != 'amenities': \n",
        "        unique_val = listings_df[column].nunique()\n",
        "        unique_count.append(unique_val)\n",
        "    else: \n",
        "        unique_count.append('list_type')\n",
        "        \n",
        "# creating a dataframe for readability\n",
        "pd.DataFrame(list(zip(list(listings_df.columns), unique_count)), columns=['feature', 'unique_count'])"
      ],
      "metadata": {
        "id": "-gfnvT6_98k5"
      },
      "execution_count": null,
      "outputs": []
    },
    {
      "cell_type": "markdown",
      "source": [
        "With cleaning finished. A reset of the dataframe index is needed."
      ],
      "metadata": {
        "id": "cSlUUpPeBrUO"
      }
    },
    {
      "cell_type": "code",
      "source": [
        "# resetting dataframe index\n",
        "listings_df.reset_index(drop=True, inplace=True)"
      ],
      "metadata": {
        "id": "MZxjSelSBqbx"
      },
      "execution_count": null,
      "outputs": []
    },
    {
      "cell_type": "markdown",
      "source": [
        "## 4.4 Bivariate Analysis"
      ],
      "metadata": {
        "id": "VgOhMTRANVEk"
      }
    },
    {
      "cell_type": "code",
      "source": [
        "# dataframe of continuous variables in the dataframe\n",
        "continuous_var_df = listings_df[['price','number_of_reviews']]\n",
        "# dataframe of categorical variables in the dataframe\n",
        "categorical_var_df = listings_df[['host_response_time', 'host_response_rate','host_acceptance_rate', 'host_is_superhost', 'room_type',\n",
        "                              'accommodates', 'bathrooms', 'bedrooms', 'beds', 'hosting_age', 'review_scores_rating', \n",
        "                              'review_scores_accuracy', 'review_scores_cleanliness', 'review_scores_checkin', 'review_scores_communication',\n",
        "                              'review_scores_location', 'instant_bookable', 'calculated_host_listings_count', 'amenities_count'\n",
        "                              ]]"
      ],
      "metadata": {
        "id": "C9HlcrM6jbgF"
      },
      "execution_count": null,
      "outputs": []
    },
    {
      "cell_type": "markdown",
      "source": [
        "### price vs other features"
      ],
      "metadata": {
        "id": "PCPcxgHf0O5D"
      }
    },
    {
      "cell_type": "code",
      "source": [
        "# viewing price column\n",
        "listings_df['price'].head(2) "
      ],
      "metadata": {
        "id": "Q2W3F2AD0NlH"
      },
      "execution_count": null,
      "outputs": []
    },
    {
      "cell_type": "code",
      "source": [
        "# picking numeric values from the records\n",
        "listings_df['price'] = listings_df['price'].apply(lambda x: re.sub('[^0-9]', '', x)) \n",
        "# changing price column data type\n",
        "listings_df['price'] = listings_df['price'].astype(float) \n",
        "# creating a correlation matrix\n",
        "continuous_var_df.corr().round(2)"
      ],
      "metadata": {
        "id": "Z7Hops670Yob"
      },
      "execution_count": null,
      "outputs": []
    },
    {
      "cell_type": "code",
      "source": [
        "# setting plotstyle\n",
        "sns.set(style=\"whitegrid\") \n",
        "# price vs. number_of_reviews\n",
        "sns.jointplot(x='number_of_reviews',y='price', data=listings_df, kind=\"reg\", truncate=False)\n",
        "plt.show()"
      ],
      "metadata": {
        "id": "HcFcEZkaNYL6"
      },
      "execution_count": null,
      "outputs": []
    },
    {
      "cell_type": "code",
      "source": [
        "fig, ax = plt.subplots(6,1,figsize = (10,40))\n",
        "\n",
        "sns.boxplot(x = 'bedrooms', y = 'price', data = listings_df, ax = ax[0], color = 'purple')\n",
        "ax[0].set_xlim(0,14)\n",
        "\n",
        "sns.boxplot(x = 'room_type', y = 'price', data = listings_df, ax = ax[1], color = 'red')\n",
        "\n",
        "sns.boxplot(y = 'price', x = 'instant_bookable', data = listings_df, ax = ax[2], color='orange')\n",
        "\n",
        "sns.boxplot(y = 'price', x = 'host_is_superhost', data = listings_df, ax = ax[3],color='yellow')\n",
        "\n",
        "sns.boxplot(y = 'price', x = 'accommodates', data = listings_df, ax = ax[4],color='green')\n",
        "sns.boxplot(y = 'price', x = 'bathrooms', data = listings_df, ax = ax[5])\n",
        "ax[5].set_xlim(0,22.5)\n"
      ],
      "metadata": {
        "id": "3_bLGpgHj7hc"
      },
      "execution_count": null,
      "outputs": []
    },
    {
      "cell_type": "markdown",
      "source": [
        "### superhost tags vs other features"
      ],
      "metadata": {
        "id": "yCbz_9VkPAkw"
      }
    },
    {
      "cell_type": "code",
      "source": [
        "listings_df['host_is_superhost'].value_counts(normalize=True)"
      ],
      "metadata": {
        "id": "rrBeGS8PldB4"
      },
      "execution_count": null,
      "outputs": []
    },
    {
      "cell_type": "code",
      "source": [
        "# 'host_is_superhost' category\n",
        "# setting plotstyle\n",
        "sns.set(style=\"whitegrid\") \n",
        "fig = plt.figure(figsize = (6,6))\n",
        "# count plot of superhost\n",
        "sns.countplot(x=listings_df['host_is_superhost']); "
      ],
      "metadata": {
        "id": "h01AtpYdSLfS"
      },
      "execution_count": null,
      "outputs": []
    },
    {
      "cell_type": "markdown",
      "source": [
        "There is a class imbance in the superhost column."
      ],
      "metadata": {
        "id": "2uGL4KzErvbn"
      }
    },
    {
      "cell_type": "code",
      "source": [
        "# Barplot to check the relationship between host is superhost and number of accommodates\n",
        "fig, ax = plt.subplots()\n",
        "fig.set_size_inches(10, 15)\n",
        "ax.axes.set_title(\"accommodates, Airbnb \",fontsize=40, pad=40)\n",
        "ax = sns.barplot(x='host_is_superhost', y='price',data=listings_df, palette='Set3')\n",
        "ax.set_xlabel('host_is_superhost',fontsize=30,labelpad=30)\n",
        "ax.set_ylabel('accommodates',fontsize=30,labelpad=30)\n",
        "ax.xaxis.set_tick_params(labelsize=20)\n",
        "ax.yaxis.set_tick_params(labelsize=20)"
      ],
      "metadata": {
        "id": "L5cb7AnIa0N_"
      },
      "execution_count": null,
      "outputs": []
    },
    {
      "cell_type": "code",
      "source": [
        " fig,ax = plt.subplots(figsize = (10,40))\n",
        " pd.crosstab(listings_df['bedrooms'], listings_df['host_is_superhost']).plot(kind='bar',bins='auto')\n",
        " pd.crosstab(listings_df['accommodates'], listings_df['host_is_superhost']).plot(kind='bar', stacked=True)\n",
        " pd.crosstab(listings_df['bathrooms'], listings_df['host_is_superhost']).plot(kind='bar', stacked=True)\n",
        " pd.crosstab(listings_df['host_response_time'], listings_df['host_is_superhost']).plot(kind='bar', stacked=True)\n",
        " pd.crosstab(listings_df['amenities_count'], listings_df['host_is_superhost']).plot(kind='bar', stacked=True)\n",
        " pd.crosstab(listings_df['host_response_rate'], listings_df['host_is_superhost']).plot(kind='bar', stacked=True)\n",
        " pd.crosstab(listings_df['host_acceptance_rate'], listings_df['host_is_superhost']).plot(kind='bar', stacked=True)\n",
        " pd.crosstab(listings_df['hosting_age'], listings_df['host_is_superhost']).plot(kind='bar', stacked=True)"
      ],
      "metadata": {
        "id": "t-EAr27kA-1Q"
      },
      "execution_count": null,
      "outputs": []
    },
    {
      "cell_type": "code",
      "source": [
        "plt.figure(figsize = (15,6))\n",
        "sns.barplot(x = 'bedrooms',y = 'calculated_host_listings_count',hue = 'host_is_superhost', data = listings_df, color='purple');\n",
        "plt.grid()"
      ],
      "metadata": {
        "id": "K9gn9yVfDRzn"
      },
      "execution_count": null,
      "outputs": []
    },
    {
      "cell_type": "code",
      "source": [
        "# Average rating per room type\n",
        "\n",
        "property_ratings = listings_df.groupby('room_type')['review_scores_rating'].mean()\n",
        "plt.figure(figsize=(10,6))\n",
        "property_ratings.plot(kind='bar', ylim = [0,5])\n",
        "plt.title('Average Rating per Room Type', fontsize=18)\n",
        "plt.ylabel('Average Rating', fontsize=16)\n",
        "plt.xlabel('Room Type', fontsize=16);"
      ],
      "metadata": {
        "id": "57qYZMgXJsEU"
      },
      "execution_count": null,
      "outputs": []
    },
    {
      "cell_type": "code",
      "source": [
        "pd.crosstab(listings_df['accommodates'], listings_df['host_is_superhost']).plot(kind='bar', stacked=True);"
      ],
      "metadata": {
        "id": "QGHK-c-3KEiy"
      },
      "execution_count": null,
      "outputs": []
    },
    {
      "cell_type": "code",
      "source": [],
      "metadata": {
        "id": "PC-LaN4IR9nx"
      },
      "execution_count": null,
      "outputs": []
    },
    {
      "cell_type": "markdown",
      "source": [
        "### review scores vs other features"
      ],
      "metadata": {
        "id": "GuswtfiqWK4-"
      }
    },
    {
      "cell_type": "markdown",
      "source": [
        "**Questions?**\n",
        "\n",
        "1. What factors, if any influence price?(Regression question)\n",
        "2. What is the difference between a superhost and a non-superhost? (Classification question)\n",
        "3. What are the factors unique to listings with above average ratings?"
      ],
      "metadata": {
        "id": "bLd7H7TjM4Ic"
      }
    },
    {
      "cell_type": "markdown",
      "source": [
        "**Questions?**\n",
        "\n",
        "1. What is the distribution of review scores?\n",
        "2. what is the relationship between review scores and superhosts?\n",
        "3. Do reviews influence price?"
      ],
      "metadata": {
        "id": "bTvHi59WX9lG"
      }
    },
    {
      "cell_type": "code",
      "source": [
        ","
      ],
      "metadata": {
        "id": "vgmU9QlyWVuk"
      },
      "execution_count": null,
      "outputs": []
    }
  ]
}